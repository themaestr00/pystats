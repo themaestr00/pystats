{
 "cells": [
  {
   "cell_type": "markdown",
   "id": "25eff5e3",
   "metadata": {
    "papermill": {
     "duration": 0.152784,
     "end_time": "2023-10-25T14:10:29.231156",
     "exception": false,
     "start_time": "2023-10-25T14:10:29.078372",
     "status": "completed"
    },
    "tags": []
   },
   "source": [
    "# Pandas\n",
    "**Pandas** is a powerful and popular open-source Python library for data manipulation and analysis. It is built on top of NumPy and provides easy-to-use data structures and functions for working with structured data, making it an essential tool in the data science and data analysis toolkit. Here's a more detailed explanation of what pandas is and what it offers:\n",
    "\n",
    "1. **Data Structures:**\n",
    "   - **DataFrame:** The primary data structure in pandas is the DataFrame, which is a 2-dimensional, size-mutable, and tabular data structure. Think of it as a table or spreadsheet where you can store and manipulate data. Each column in a DataFrame is a Series, which is a one-dimensional labeled array with data of any type.\n",
    "   \n",
    "2. **Key Features:**\n",
    "   - **Data Loading:** Pandas can read data from various sources, including CSV files, Excel spreadsheets, SQL databases, and more. It can also connect to online data sources, making it versatile for data ingestion.\n",
    "   - **Data Cleaning:** It provides powerful tools for handling missing data, transforming data, and dealing with outliers.\n",
    "   - **Data Indexing and Selection:** Pandas offers flexible indexing methods, including label-based, integer-based, and Boolean-based indexing, allowing you to select and filter data easily.\n",
    "   - **Data Aggregation and Grouping:** You can group and aggregate data based on certain criteria using pandas, which is essential for performing summary statistics and analysis.\n",
    "   - **Merging and Joining:** Pandas can merge and join datasets similar to SQL databases, enabling you to combine data from multiple sources.\n",
    "   - **Time Series Analysis:** It has built-in support for time series data, making it suitable for financial and temporal data analysis.\n",
    "   - **Data Visualization:** While pandas is primarily a data manipulation library, it can also work seamlessly with data visualization libraries like Matplotlib and Seaborn for creating charts and plots.\n",
    "\n",
    "3. **Use Cases:**\n",
    "   - **Data Analysis:** Pandas is widely used for data exploration and analysis, allowing data scientists and analysts to perform tasks like data cleaning, transformation, and statistical analysis.\n",
    "   - **Data Preparation:** Before feeding data into machine learning models, you often need to preprocess and structure it correctly. Pandas is invaluable for this purpose.\n",
    "   - **Data Wrangling:** When working with real-world data, it's common to have data in messy formats. Pandas helps clean and prepare this data for analysis.\n",
    "   - **Data Reporting and Visualization:** While not a data visualization library in itself, pandas can be combined with libraries like Matplotlib and Seaborn to create informative visualizations.\n",
    "\n",
    "4. **Community and Documentation:**\n",
    "   - Pandas has a large and active community, which means that there is plenty of support, documentation, and online resources available. This makes it easy to find solutions to common data-related problems.\n",
    "\n",
    "In summary, pandas is an indispensable tool for data manipulation and analysis in Python. It simplifies the handling of structured data, making it more accessible for users to perform various data-related tasks, from basic data cleaning to complex data analysis.\n"
   ]
  },
  {
   "cell_type": "markdown",
   "id": "d7997fb3",
   "metadata": {
    "papermill": {
     "duration": 0.093407,
     "end_time": "2023-10-25T14:10:29.391488",
     "exception": false,
     "start_time": "2023-10-25T14:10:29.298081",
     "status": "completed"
    },
    "tags": []
   },
   "source": [
    "Pandas provides a wide range of functions and methods for data manipulation and analysis. Here's a list of some of the most commonly used basic functions and methods in pandas:\n",
    "\n",
    "**DataFrame and Series Creation:**\n",
    "1. `pd.DataFrame(data)`: Create a new DataFrame from data (e.g., a dictionary or a 2D array).\n",
    "2. `pd.Series(data)`: Create a new Series from data.\n",
    "\n",
    "**Data Loading and Input/Output:**\n",
    "\n",
    "3. `pd.read_csv(filename)`: Read data from a CSV file.\n",
    "4. `pd.read_excel(filename)`: Read data from an Excel file.\n",
    "5. `pd.read_sql(query, connection)`: Read data from a SQL database.\n",
    "6. `df.to_csv(filename)`: Write data to a CSV file.\n",
    "7. `df.to_excel(filename)`: Write data to an Excel file.\n",
    "\n",
    "**Data Exploration and Information:**\n",
    "\n",
    "8. `df.head(n)`: Display the first n rows of the DataFrame.\n",
    "9. `df.tail(n)`: Display the last n rows of the DataFrame.\n",
    "10. `df.info()`: Display information about the DataFrame, including data types and missing values.\n",
    "11. `df.describe()`: Generate summary statistics of the DataFrame.\n",
    "12. `df.shape`: Get the dimensions (rows, columns) of the DataFrame.\n",
    "\n",
    "**Indexing and Selection:**\n",
    "\n",
    "13. `df[column]`: Select a single column by name.\n",
    "14. `df[[column1, column2]]`: Select multiple columns by name.\n",
    "15. `df.iloc[row, column]`: Select data by integer-based location.\n",
    "16. `df.loc[row_label, column_label]`: Select data by label-based location.\n",
    "\n",
    "**Data Cleaning and Transformation:**\n",
    "\n",
    "17. `df.drop(labels, axis)`: Remove rows or columns.\n",
    "18. `df.fillna(value)`: Fill missing values with a specified value.\n",
    "19. `df.dropna()`: Remove rows with missing values.\n",
    "20. `df.rename(columns)`: Rename columns.\n",
    "21. `df.sort_values(by)`: Sort DataFrame by column(s).\n",
    "22. `df.groupby(column)`: Group data based on a column.\n",
    "23. `df.pivot_table()`: Create a pivot table.\n",
    "\n",
    "**Filtering and Querying:**\n",
    "\n",
    "24. `df[df['column'] > value]`: Filter data based on a condition.\n",
    "25. `df.query('condition')`: Query data using a SQL-like syntax.\n",
    "\n",
    "**Aggregation and Statistics:**\n",
    "\n",
    "26. `df.mean()`, `df.median()`, `df.sum()`, `df.min()`, `df.max()`: Compute various statistics.\n",
    "27. `df.groupby(column).agg(func)`: Perform custom aggregation.\n",
    "\n",
    "**Data Visualization:**\n",
    "\n",
    "28. `df.plot()`: Create basic plots using Matplotlib.\n",
    "29. `df.hist()`, `df.plot.hist()`: Create histograms.\n",
    "30. `df.plot.scatter()`: Create scatter plots.\n",
    "\n",
    "**Merging and Joining:**\n",
    "\n",
    "31. `pd.concat([df1, df2])`: Concatenate DataFrames.\n",
    "32. `df1.merge(df2, on='key')`: Perform SQL-like joins.\n",
    "\n",
    "**Time Series and Datetime Handling:**\n",
    "\n",
    "33. `pd.to_datetime(series)`: Convert a series to datetime.\n",
    "34. `df.resample('D').sum()`: Resample time series data.\n",
    "\n",
    "**Serialization:**\n",
    "\n",
    "35. `df.to_pickle(filename)`: Serialize the DataFrame to a pickle file.\n",
    "36. `pd.read_pickle(filename)`: Deserialize a pickle file to a DataFrame.\n",
    "\n",
    "These are some of the basic functions and methods in pandas. The library offers many more functions for specialized data operations, so be sure to consult the official pandas documentation for more detailed information and examples."
   ]
  },
  {
   "cell_type": "code",
   "execution_count": null,
   "id": "d3bf5c77",
   "metadata": {},
   "outputs": [],
   "source": [
    "# !pip3 install kagglehub"
   ]
  },
  {
   "cell_type": "code",
   "execution_count": 2,
   "id": "1882f0c1",
   "metadata": {},
   "outputs": [],
   "source": [
    "import pandas as pd\n",
    "import kagglehub\n",
    "import random\n",
    "from datetime import datetime, time, timedelta\n",
    "import string"
   ]
  },
  {
   "cell_type": "markdown",
   "id": "bfaf30b6",
   "metadata": {
    "papermill": {
     "duration": 0.077901,
     "end_time": "2023-10-25T14:10:29.553712",
     "exception": false,
     "start_time": "2023-10-25T14:10:29.475811",
     "status": "completed"
    },
    "tags": []
   },
   "source": [
    "# Создание DataFrame и Series:\n",
    "#### **1.Из листа:**"
   ]
  },
  {
   "cell_type": "code",
   "execution_count": 3,
   "id": "eb4d49e3",
   "metadata": {
    "execution": {
     "iopub.execute_input": "2023-10-25T14:10:29.704593Z",
     "iopub.status.busy": "2023-10-25T14:10:29.703501Z",
     "iopub.status.idle": "2023-10-25T14:10:30.095699Z",
     "shell.execute_reply": "2023-10-25T14:10:30.094466Z"
    },
    "papermill": {
     "duration": 0.459879,
     "end_time": "2023-10-25T14:10:30.098460",
     "exception": false,
     "start_time": "2023-10-25T14:10:29.638581",
     "status": "completed"
    },
    "tags": []
   },
   "outputs": [
    {
     "name": "stdout",
     "output_type": "stream",
     "text": [
      "0    1\n",
      "1    2\n",
      "2    3\n",
      "3    4\n",
      "4    5\n",
      "dtype: int64\n"
     ]
    }
   ],
   "source": [
    "data_list = [1, 2, 3, 4, 5]\n",
    "series_from_list = pd.Series(data_list)\n",
    "print(series_from_list)"
   ]
  },
  {
   "cell_type": "code",
   "execution_count": 4,
   "id": "f39ce063",
   "metadata": {
    "execution": {
     "iopub.execute_input": "2023-10-25T14:10:30.234811Z",
     "iopub.status.busy": "2023-10-25T14:10:30.234100Z",
     "iopub.status.idle": "2023-10-25T14:10:30.241308Z",
     "shell.execute_reply": "2023-10-25T14:10:30.240264Z"
    },
    "papermill": {
     "duration": 0.07958,
     "end_time": "2023-10-25T14:10:30.243567",
     "exception": false,
     "start_time": "2023-10-25T14:10:30.163987",
     "status": "completed"
    },
    "tags": []
   },
   "outputs": [
    {
     "data": {
      "text/plain": [
       "(5,)"
      ]
     },
     "execution_count": 4,
     "metadata": {},
     "output_type": "execute_result"
    }
   ],
   "source": [
    "series_from_list.shape"
   ]
  },
  {
   "cell_type": "code",
   "execution_count": 5,
   "id": "a3bc334a",
   "metadata": {
    "execution": {
     "iopub.execute_input": "2023-10-25T14:10:30.373487Z",
     "iopub.status.busy": "2023-10-25T14:10:30.373102Z",
     "iopub.status.idle": "2023-10-25T14:10:30.379665Z",
     "shell.execute_reply": "2023-10-25T14:10:30.378601Z"
    },
    "papermill": {
     "duration": 0.074844,
     "end_time": "2023-10-25T14:10:30.381810",
     "exception": false,
     "start_time": "2023-10-25T14:10:30.306966",
     "status": "completed"
    },
    "tags": []
   },
   "outputs": [
    {
     "data": {
      "text/plain": [
       "pandas.core.series.Series"
      ]
     },
     "execution_count": 5,
     "metadata": {},
     "output_type": "execute_result"
    }
   ],
   "source": [
    "type(series_from_list)"
   ]
  },
  {
   "cell_type": "markdown",
   "id": "fec8d6ff",
   "metadata": {
    "papermill": {
     "duration": 0.064018,
     "end_time": "2023-10-25T14:10:30.509620",
     "exception": false,
     "start_time": "2023-10-25T14:10:30.445602",
     "status": "completed"
    },
    "tags": []
   },
   "source": [
    "#### **2. Из tuple:**"
   ]
  },
  {
   "cell_type": "code",
   "execution_count": 6,
   "id": "331c2d24",
   "metadata": {
    "execution": {
     "iopub.execute_input": "2023-10-25T14:10:30.640136Z",
     "iopub.status.busy": "2023-10-25T14:10:30.639749Z",
     "iopub.status.idle": "2023-10-25T14:10:30.646022Z",
     "shell.execute_reply": "2023-10-25T14:10:30.644975Z"
    },
    "papermill": {
     "duration": 0.072645,
     "end_time": "2023-10-25T14:10:30.648174",
     "exception": false,
     "start_time": "2023-10-25T14:10:30.575529",
     "status": "completed"
    },
    "tags": []
   },
   "outputs": [
    {
     "name": "stdout",
     "output_type": "stream",
     "text": [
      "0    1\n",
      "1    2\n",
      "2    3\n",
      "3    4\n",
      "4    5\n",
      "dtype: int64\n"
     ]
    }
   ],
   "source": [
    "data_tuple = (1, 2, 3, 4, 5)\n",
    "series_from_tuple = pd.Series(data_tuple)\n",
    "print(series_from_tuple)"
   ]
  },
  {
   "cell_type": "markdown",
   "id": "1f01bb6e",
   "metadata": {
    "papermill": {
     "duration": 0.065242,
     "end_time": "2023-10-25T14:10:30.776636",
     "exception": false,
     "start_time": "2023-10-25T14:10:30.711394",
     "status": "completed"
    },
    "tags": []
   },
   "source": [
    "#### **3. Из словаря:**"
   ]
  },
  {
   "cell_type": "code",
   "execution_count": 7,
   "id": "4e1b7192",
   "metadata": {
    "execution": {
     "iopub.execute_input": "2023-10-25T14:10:30.906654Z",
     "iopub.status.busy": "2023-10-25T14:10:30.905813Z",
     "iopub.status.idle": "2023-10-25T14:10:30.912980Z",
     "shell.execute_reply": "2023-10-25T14:10:30.911615Z"
    },
    "papermill": {
     "duration": 0.074509,
     "end_time": "2023-10-25T14:10:30.915369",
     "exception": false,
     "start_time": "2023-10-25T14:10:30.840860",
     "status": "completed"
    },
    "tags": []
   },
   "outputs": [
    {
     "name": "stdout",
     "output_type": "stream",
     "text": [
      "A    10\n",
      "B    20\n",
      "C    30\n",
      "D    40\n",
      "E    50\n",
      "dtype: int64\n"
     ]
    }
   ],
   "source": [
    "data_dict = {'A': 10, 'B': 20, 'C': 30, 'D': 40, 'E': 50}\n",
    "series_from_dict = pd.Series(data_dict)\n",
    "print(series_from_dict)"
   ]
  },
  {
   "cell_type": "markdown",
   "id": "4bf007b6",
   "metadata": {
    "papermill": {
     "duration": 0.065509,
     "end_time": "2023-10-25T14:10:31.981166",
     "exception": false,
     "start_time": "2023-10-25T14:10:31.915657",
     "status": "completed"
    },
    "tags": []
   },
   "source": [
    "### 2. Создание DataFrame\n",
    "\n",
    "#### **1. Из листа:**"
   ]
  },
  {
   "cell_type": "code",
   "execution_count": 8,
   "id": "1751603b",
   "metadata": {
    "execution": {
     "iopub.execute_input": "2023-10-25T14:10:32.110382Z",
     "iopub.status.busy": "2023-10-25T14:10:32.109933Z",
     "iopub.status.idle": "2023-10-25T14:10:32.136518Z",
     "shell.execute_reply": "2023-10-25T14:10:32.135323Z"
    },
    "papermill": {
     "duration": 0.093773,
     "end_time": "2023-10-25T14:10:32.139066",
     "exception": false,
     "start_time": "2023-10-25T14:10:32.045293",
     "status": "completed"
    },
    "tags": []
   },
   "outputs": [
    {
     "name": "stdout",
     "output_type": "stream",
     "text": [
      "      Name  Age  Height (inches)  Is Student  Scores\n",
      "0     John   30             68.5        True    95.5\n",
      "1    Alice   25             63.2       False    88.0\n",
      "2      Bob   35             71.0        True    76.5\n",
      "3      Eve   28             65.8       False    92.0\n",
      "4  Charlie   40             72.3       False    87.5\n"
     ]
    }
   ],
   "source": [
    "data_list = [\n",
    "    ['John', 30, 68.5, True, 95.5],\n",
    "    ['Alice', 25, 63.2, False, 88.0],\n",
    "    ['Bob', 35, 71.0, True, 76.5],\n",
    "    ['Eve', 28, 65.8, False, 92.0],\n",
    "    ['Charlie', 40, 72.3, False, 87.5]\n",
    "]\n",
    "column_names = ['Name', 'Age', 'Height (inches)', 'Is Student', 'Scores']\n",
    "df = pd.DataFrame(data_list, columns=column_names)\n",
    "print(df)"
   ]
  },
  {
   "cell_type": "code",
   "execution_count": 9,
   "id": "8e2eaa83",
   "metadata": {},
   "outputs": [
    {
     "data": {
      "text/html": [
       "<div>\n",
       "<style scoped>\n",
       "    .dataframe tbody tr th:only-of-type {\n",
       "        vertical-align: middle;\n",
       "    }\n",
       "\n",
       "    .dataframe tbody tr th {\n",
       "        vertical-align: top;\n",
       "    }\n",
       "\n",
       "    .dataframe thead th {\n",
       "        text-align: right;\n",
       "    }\n",
       "</style>\n",
       "<table border=\"1\" class=\"dataframe\">\n",
       "  <thead>\n",
       "    <tr style=\"text-align: right;\">\n",
       "      <th></th>\n",
       "      <th>Name</th>\n",
       "      <th>Age</th>\n",
       "      <th>Is Student</th>\n",
       "      <th>Scores</th>\n",
       "      <th>Heigth in cm</th>\n",
       "    </tr>\n",
       "  </thead>\n",
       "  <tbody>\n",
       "    <tr>\n",
       "      <th>0</th>\n",
       "      <td>John</td>\n",
       "      <td>30</td>\n",
       "      <td>True</td>\n",
       "      <td>95.5</td>\n",
       "      <td>173.990</td>\n",
       "    </tr>\n",
       "    <tr>\n",
       "      <th>1</th>\n",
       "      <td>Alice</td>\n",
       "      <td>25</td>\n",
       "      <td>False</td>\n",
       "      <td>88.0</td>\n",
       "      <td>160.528</td>\n",
       "    </tr>\n",
       "    <tr>\n",
       "      <th>2</th>\n",
       "      <td>Bob</td>\n",
       "      <td>35</td>\n",
       "      <td>True</td>\n",
       "      <td>76.5</td>\n",
       "      <td>180.340</td>\n",
       "    </tr>\n",
       "    <tr>\n",
       "      <th>3</th>\n",
       "      <td>Eve</td>\n",
       "      <td>28</td>\n",
       "      <td>False</td>\n",
       "      <td>92.0</td>\n",
       "      <td>167.132</td>\n",
       "    </tr>\n",
       "    <tr>\n",
       "      <th>4</th>\n",
       "      <td>Charlie</td>\n",
       "      <td>40</td>\n",
       "      <td>False</td>\n",
       "      <td>87.5</td>\n",
       "      <td>183.642</td>\n",
       "    </tr>\n",
       "  </tbody>\n",
       "</table>\n",
       "</div>"
      ],
      "text/plain": [
       "      Name  Age  Is Student  Scores  Heigth in cm\n",
       "0     John   30        True    95.5       173.990\n",
       "1    Alice   25       False    88.0       160.528\n",
       "2      Bob   35        True    76.5       180.340\n",
       "3      Eve   28       False    92.0       167.132\n",
       "4  Charlie   40       False    87.5       183.642"
      ]
     },
     "execution_count": 9,
     "metadata": {},
     "output_type": "execute_result"
    }
   ],
   "source": [
    "# Преобразование столбца\n",
    "df['Heigth in cm'] = df['Height (inches)']*2.54\n",
    "df = df.drop(columns=['Height (inches)'])\n",
    "df"
   ]
  },
  {
   "cell_type": "markdown",
   "id": "15113dd4",
   "metadata": {
    "papermill": {
     "duration": 0.064876,
     "end_time": "2023-10-25T14:10:32.270834",
     "exception": false,
     "start_time": "2023-10-25T14:10:32.205958",
     "status": "completed"
    },
    "tags": []
   },
   "source": [
    "#### **2. Из tuple:**"
   ]
  },
  {
   "cell_type": "code",
   "execution_count": null,
   "id": "26fa25b7",
   "metadata": {
    "execution": {
     "iopub.execute_input": "2023-10-25T14:10:32.403738Z",
     "iopub.status.busy": "2023-10-25T14:10:32.403025Z",
     "iopub.status.idle": "2023-10-25T14:10:32.418366Z",
     "shell.execute_reply": "2023-10-25T14:10:32.417175Z"
    },
    "papermill": {
     "duration": 0.084345,
     "end_time": "2023-10-25T14:10:32.420581",
     "exception": false,
     "start_time": "2023-10-25T14:10:32.336236",
     "status": "completed"
    },
    "tags": []
   },
   "outputs": [],
   "source": [
    "data_tuple = (\n",
    "    ('John', 30, 68.5, True, 95.5),\n",
    "    ('Alice', 25, 63.2, False, 88.0),\n",
    "    ('Bob', 35, 71.0, True, 76.5),\n",
    "    ('Eve', 28, 65.8, False, 92.0),\n",
    "    ('Charlie', 40, 72.3, False, 87.5)\n",
    ")\n",
    "\n",
    "column_names = ['Name', 'Age', 'Height (inches)', 'Is Student', 'Scores']\n",
    "\n",
    "df = pd.DataFrame(data_tuple, columns=column_names)\n",
    "\n",
    "df"
   ]
  },
  {
   "cell_type": "markdown",
   "id": "b7074624",
   "metadata": {
    "papermill": {
     "duration": 0.067118,
     "end_time": "2023-10-25T14:10:32.554245",
     "exception": false,
     "start_time": "2023-10-25T14:10:32.487127",
     "status": "completed"
    },
    "tags": []
   },
   "source": [
    "#### **3.Из словаря:**"
   ]
  },
  {
   "cell_type": "code",
   "execution_count": 10,
   "id": "c814156a",
   "metadata": {
    "execution": {
     "iopub.execute_input": "2023-10-25T14:10:32.688013Z",
     "iopub.status.busy": "2023-10-25T14:10:32.687214Z",
     "iopub.status.idle": "2023-10-25T14:10:32.702647Z",
     "shell.execute_reply": "2023-10-25T14:10:32.701414Z"
    },
    "papermill": {
     "duration": 0.085797,
     "end_time": "2023-10-25T14:10:32.704980",
     "exception": false,
     "start_time": "2023-10-25T14:10:32.619183",
     "status": "completed"
    },
    "tags": []
   },
   "outputs": [
    {
     "data": {
      "text/html": [
       "<div>\n",
       "<style scoped>\n",
       "    .dataframe tbody tr th:only-of-type {\n",
       "        vertical-align: middle;\n",
       "    }\n",
       "\n",
       "    .dataframe tbody tr th {\n",
       "        vertical-align: top;\n",
       "    }\n",
       "\n",
       "    .dataframe thead th {\n",
       "        text-align: right;\n",
       "    }\n",
       "</style>\n",
       "<table border=\"1\" class=\"dataframe\">\n",
       "  <thead>\n",
       "    <tr style=\"text-align: right;\">\n",
       "      <th></th>\n",
       "      <th>Name</th>\n",
       "      <th>Age</th>\n",
       "      <th>Height (inches)</th>\n",
       "      <th>Is Student</th>\n",
       "      <th>Scores</th>\n",
       "    </tr>\n",
       "  </thead>\n",
       "  <tbody>\n",
       "    <tr>\n",
       "      <th>0</th>\n",
       "      <td>John</td>\n",
       "      <td>30</td>\n",
       "      <td>68.5</td>\n",
       "      <td>True</td>\n",
       "      <td>95.5</td>\n",
       "    </tr>\n",
       "    <tr>\n",
       "      <th>1</th>\n",
       "      <td>Alice</td>\n",
       "      <td>25</td>\n",
       "      <td>63.2</td>\n",
       "      <td>False</td>\n",
       "      <td>88.0</td>\n",
       "    </tr>\n",
       "    <tr>\n",
       "      <th>2</th>\n",
       "      <td>Bob</td>\n",
       "      <td>35</td>\n",
       "      <td>71.0</td>\n",
       "      <td>True</td>\n",
       "      <td>76.5</td>\n",
       "    </tr>\n",
       "    <tr>\n",
       "      <th>3</th>\n",
       "      <td>Eve</td>\n",
       "      <td>28</td>\n",
       "      <td>65.8</td>\n",
       "      <td>False</td>\n",
       "      <td>92.0</td>\n",
       "    </tr>\n",
       "    <tr>\n",
       "      <th>4</th>\n",
       "      <td>Charlie</td>\n",
       "      <td>40</td>\n",
       "      <td>72.3</td>\n",
       "      <td>False</td>\n",
       "      <td>87.5</td>\n",
       "    </tr>\n",
       "  </tbody>\n",
       "</table>\n",
       "</div>"
      ],
      "text/plain": [
       "      Name  Age  Height (inches)  Is Student  Scores\n",
       "0     John   30             68.5        True    95.5\n",
       "1    Alice   25             63.2       False    88.0\n",
       "2      Bob   35             71.0        True    76.5\n",
       "3      Eve   28             65.8       False    92.0\n",
       "4  Charlie   40             72.3       False    87.5"
      ]
     },
     "execution_count": 10,
     "metadata": {},
     "output_type": "execute_result"
    }
   ],
   "source": [
    "data_dict = {\n",
    "    'Name': ['John', 'Alice', 'Bob', 'Eve', 'Charlie'],\n",
    "    'Age': [30, 25, 35, 28, 40],\n",
    "    'Height (inches)': [68.5, 63.2, 71.0, 65.8, 72.3],\n",
    "    'Is Student': [True, False, True, False, False],\n",
    "    'Scores': [95.5, 88.0, 76.5, 92.0, 87.5]\n",
    "}\n",
    "\n",
    "df = pd.DataFrame(data_dict)\n",
    "\n",
    "# Display the DataFrame\n",
    "df"
   ]
  },
  {
   "cell_type": "markdown",
   "id": "d81a75ca",
   "metadata": {
    "papermill": {
     "duration": 0.066476,
     "end_time": "2023-10-25T14:10:33.858528",
     "exception": false,
     "start_time": "2023-10-25T14:10:33.792052",
     "status": "completed"
    },
    "tags": []
   },
   "source": [
    "# Считывание из файлов и запись в файлы определенных типов"
   ]
  },
  {
   "cell_type": "code",
   "execution_count": 11,
   "id": "47bde078",
   "metadata": {},
   "outputs": [
    {
     "name": "stdout",
     "output_type": "stream",
     "text": [
      "Warning: Looks like you're using an outdated `kagglehub` version, please consider updating (latest version: 0.3.8)\n",
      "Downloading from https://www.kaggle.com/api/v1/datasets/download/datascientistanna/customers-dataset?dataset_version_number=1...\n"
     ]
    },
    {
     "name": "stderr",
     "output_type": "stream",
     "text": [
      "100%|██████████| 23.2k/23.2k [00:00<00:00, 38.4kB/s]"
     ]
    },
    {
     "name": "stdout",
     "output_type": "stream",
     "text": [
      "Extracting model files...\n",
      "Path to dataset files: /home/maestro/.cache/kagglehub/datasets/datascientistanna/customers-dataset/versions/1\n"
     ]
    },
    {
     "name": "stderr",
     "output_type": "stream",
     "text": [
      "\n"
     ]
    }
   ],
   "source": [
    "path = kagglehub.dataset_download(\"datascientistanna/customers-dataset\")\n",
    "print(\"Path to dataset files:\", path)"
   ]
  },
  {
   "cell_type": "code",
   "execution_count": 69,
   "id": "822ab689",
   "metadata": {},
   "outputs": [
    {
     "data": {
      "text/html": [
       "<div>\n",
       "<style scoped>\n",
       "    .dataframe tbody tr th:only-of-type {\n",
       "        vertical-align: middle;\n",
       "    }\n",
       "\n",
       "    .dataframe tbody tr th {\n",
       "        vertical-align: top;\n",
       "    }\n",
       "\n",
       "    .dataframe thead th {\n",
       "        text-align: right;\n",
       "    }\n",
       "</style>\n",
       "<table border=\"1\" class=\"dataframe\">\n",
       "  <thead>\n",
       "    <tr style=\"text-align: right;\">\n",
       "      <th></th>\n",
       "      <th>CustomerID</th>\n",
       "      <th>Gender</th>\n",
       "      <th>Age</th>\n",
       "      <th>Annual Income ($)</th>\n",
       "      <th>Spending Score (1-100)</th>\n",
       "      <th>Profession</th>\n",
       "      <th>Work Experience</th>\n",
       "      <th>Family Size</th>\n",
       "    </tr>\n",
       "  </thead>\n",
       "  <tbody>\n",
       "    <tr>\n",
       "      <th>0</th>\n",
       "      <td>1</td>\n",
       "      <td>Male</td>\n",
       "      <td>19</td>\n",
       "      <td>15000</td>\n",
       "      <td>39</td>\n",
       "      <td>Healthcare</td>\n",
       "      <td>1</td>\n",
       "      <td>4</td>\n",
       "    </tr>\n",
       "    <tr>\n",
       "      <th>1</th>\n",
       "      <td>2</td>\n",
       "      <td>Male</td>\n",
       "      <td>21</td>\n",
       "      <td>35000</td>\n",
       "      <td>81</td>\n",
       "      <td>Engineer</td>\n",
       "      <td>3</td>\n",
       "      <td>3</td>\n",
       "    </tr>\n",
       "    <tr>\n",
       "      <th>2</th>\n",
       "      <td>3</td>\n",
       "      <td>Female</td>\n",
       "      <td>20</td>\n",
       "      <td>86000</td>\n",
       "      <td>6</td>\n",
       "      <td>Engineer</td>\n",
       "      <td>1</td>\n",
       "      <td>1</td>\n",
       "    </tr>\n",
       "    <tr>\n",
       "      <th>3</th>\n",
       "      <td>4</td>\n",
       "      <td>Female</td>\n",
       "      <td>23</td>\n",
       "      <td>59000</td>\n",
       "      <td>77</td>\n",
       "      <td>Lawyer</td>\n",
       "      <td>0</td>\n",
       "      <td>2</td>\n",
       "    </tr>\n",
       "    <tr>\n",
       "      <th>4</th>\n",
       "      <td>5</td>\n",
       "      <td>Female</td>\n",
       "      <td>31</td>\n",
       "      <td>38000</td>\n",
       "      <td>40</td>\n",
       "      <td>Entertainment</td>\n",
       "      <td>2</td>\n",
       "      <td>6</td>\n",
       "    </tr>\n",
       "    <tr>\n",
       "      <th>...</th>\n",
       "      <td>...</td>\n",
       "      <td>...</td>\n",
       "      <td>...</td>\n",
       "      <td>...</td>\n",
       "      <td>...</td>\n",
       "      <td>...</td>\n",
       "      <td>...</td>\n",
       "      <td>...</td>\n",
       "    </tr>\n",
       "    <tr>\n",
       "      <th>1995</th>\n",
       "      <td>1996</td>\n",
       "      <td>Female</td>\n",
       "      <td>71</td>\n",
       "      <td>184387</td>\n",
       "      <td>40</td>\n",
       "      <td>Artist</td>\n",
       "      <td>8</td>\n",
       "      <td>7</td>\n",
       "    </tr>\n",
       "    <tr>\n",
       "      <th>1996</th>\n",
       "      <td>1997</td>\n",
       "      <td>Female</td>\n",
       "      <td>91</td>\n",
       "      <td>73158</td>\n",
       "      <td>32</td>\n",
       "      <td>Doctor</td>\n",
       "      <td>7</td>\n",
       "      <td>7</td>\n",
       "    </tr>\n",
       "    <tr>\n",
       "      <th>1997</th>\n",
       "      <td>1998</td>\n",
       "      <td>Male</td>\n",
       "      <td>87</td>\n",
       "      <td>90961</td>\n",
       "      <td>14</td>\n",
       "      <td>Healthcare</td>\n",
       "      <td>9</td>\n",
       "      <td>2</td>\n",
       "    </tr>\n",
       "    <tr>\n",
       "      <th>1998</th>\n",
       "      <td>1999</td>\n",
       "      <td>Male</td>\n",
       "      <td>77</td>\n",
       "      <td>182109</td>\n",
       "      <td>4</td>\n",
       "      <td>Executive</td>\n",
       "      <td>7</td>\n",
       "      <td>2</td>\n",
       "    </tr>\n",
       "    <tr>\n",
       "      <th>1999</th>\n",
       "      <td>2000</td>\n",
       "      <td>Male</td>\n",
       "      <td>90</td>\n",
       "      <td>110610</td>\n",
       "      <td>52</td>\n",
       "      <td>Entertainment</td>\n",
       "      <td>5</td>\n",
       "      <td>2</td>\n",
       "    </tr>\n",
       "  </tbody>\n",
       "</table>\n",
       "<p>2000 rows × 8 columns</p>\n",
       "</div>"
      ],
      "text/plain": [
       "      CustomerID  Gender  Age  Annual Income ($)  Spending Score (1-100)  \\\n",
       "0              1    Male   19              15000                      39   \n",
       "1              2    Male   21              35000                      81   \n",
       "2              3  Female   20              86000                       6   \n",
       "3              4  Female   23              59000                      77   \n",
       "4              5  Female   31              38000                      40   \n",
       "...          ...     ...  ...                ...                     ...   \n",
       "1995        1996  Female   71             184387                      40   \n",
       "1996        1997  Female   91              73158                      32   \n",
       "1997        1998    Male   87              90961                      14   \n",
       "1998        1999    Male   77             182109                       4   \n",
       "1999        2000    Male   90             110610                      52   \n",
       "\n",
       "         Profession  Work Experience  Family Size  \n",
       "0        Healthcare                1            4  \n",
       "1          Engineer                3            3  \n",
       "2          Engineer                1            1  \n",
       "3            Lawyer                0            2  \n",
       "4     Entertainment                2            6  \n",
       "...             ...              ...          ...  \n",
       "1995         Artist                8            7  \n",
       "1996         Doctor                7            7  \n",
       "1997     Healthcare                9            2  \n",
       "1998      Executive                7            2  \n",
       "1999  Entertainment                5            2  \n",
       "\n",
       "[2000 rows x 8 columns]"
      ]
     },
     "execution_count": 69,
     "metadata": {},
     "output_type": "execute_result"
    }
   ],
   "source": [
    "df = pd.read_csv(f'{path}/Customers.csv')\n",
    "df"
   ]
  },
  {
   "cell_type": "code",
   "execution_count": null,
   "id": "4fc41d3a",
   "metadata": {
    "execution": {
     "iopub.execute_input": "2023-10-25T14:10:33.994144Z",
     "iopub.status.busy": "2023-10-25T14:10:33.993338Z",
     "iopub.status.idle": "2023-10-25T14:10:34.558935Z",
     "shell.execute_reply": "2023-10-25T14:10:34.557874Z"
    },
    "papermill": {
     "duration": 0.637119,
     "end_time": "2023-10-25T14:10:34.562235",
     "exception": false,
     "start_time": "2023-10-25T14:10:33.925116",
     "status": "completed"
    },
    "tags": []
   },
   "outputs": [],
   "source": [
    "df = df[:100]\n",
    "df.to_html(\"sample_dataset.html\")\n",
    "df.to_csv('sample_dataset.csv', sep=',', index=False)\n",
    "df.to_excel('sample_dataset.xlsx', index=False)"
   ]
  },
  {
   "cell_type": "code",
   "execution_count": null,
   "id": "1bb42f85",
   "metadata": {
    "execution": {
     "iopub.execute_input": "2023-10-25T14:10:34.900515Z",
     "iopub.status.busy": "2023-10-25T14:10:34.900106Z",
     "iopub.status.idle": "2023-10-25T14:10:35.019885Z",
     "shell.execute_reply": "2023-10-25T14:10:35.018575Z"
    },
    "papermill": {
     "duration": 0.190915,
     "end_time": "2023-10-25T14:10:35.022221",
     "exception": false,
     "start_time": "2023-10-25T14:10:34.831306",
     "status": "completed"
    },
    "tags": []
   },
   "outputs": [],
   "source": [
    "df = pd.read_csv(f'{path}/Customers.csv')\n",
    "df"
   ]
  },
  {
   "cell_type": "code",
   "execution_count": 15,
   "id": "bbf99e79",
   "metadata": {
    "execution": {
     "iopub.execute_input": "2023-10-25T14:10:35.160327Z",
     "iopub.status.busy": "2023-10-25T14:10:35.159312Z",
     "iopub.status.idle": "2023-10-25T14:10:35.165051Z",
     "shell.execute_reply": "2023-10-25T14:10:35.164345Z"
    },
    "papermill": {
     "duration": 0.07495,
     "end_time": "2023-10-25T14:10:35.167079",
     "exception": false,
     "start_time": "2023-10-25T14:10:35.092129",
     "status": "completed"
    },
    "tags": []
   },
   "outputs": [
    {
     "data": {
      "text/plain": [
       "(100, 8)"
      ]
     },
     "execution_count": 15,
     "metadata": {},
     "output_type": "execute_result"
    }
   ],
   "source": [
    "df.shape"
   ]
  },
  {
   "cell_type": "code",
   "execution_count": 14,
   "id": "c200edea",
   "metadata": {
    "execution": {
     "iopub.execute_input": "2023-10-25T14:10:35.306407Z",
     "iopub.status.busy": "2023-10-25T14:10:35.305710Z",
     "iopub.status.idle": "2023-10-25T14:10:35.319950Z",
     "shell.execute_reply": "2023-10-25T14:10:35.318987Z"
    },
    "papermill": {
     "duration": 0.086678,
     "end_time": "2023-10-25T14:10:35.322097",
     "exception": false,
     "start_time": "2023-10-25T14:10:35.235419",
     "status": "completed"
    },
    "tags": []
   },
   "outputs": [
    {
     "data": {
      "text/html": [
       "<div>\n",
       "<style scoped>\n",
       "    .dataframe tbody tr th:only-of-type {\n",
       "        vertical-align: middle;\n",
       "    }\n",
       "\n",
       "    .dataframe tbody tr th {\n",
       "        vertical-align: top;\n",
       "    }\n",
       "\n",
       "    .dataframe thead th {\n",
       "        text-align: right;\n",
       "    }\n",
       "</style>\n",
       "<table border=\"1\" class=\"dataframe\">\n",
       "  <thead>\n",
       "    <tr style=\"text-align: right;\">\n",
       "      <th></th>\n",
       "      <th>CustomerID</th>\n",
       "      <th>Gender</th>\n",
       "      <th>Age</th>\n",
       "      <th>Annual Income ($)</th>\n",
       "      <th>Spending Score (1-100)</th>\n",
       "      <th>Profession</th>\n",
       "      <th>Work Experience</th>\n",
       "      <th>Family Size</th>\n",
       "    </tr>\n",
       "  </thead>\n",
       "  <tbody>\n",
       "    <tr>\n",
       "      <th>0</th>\n",
       "      <td>1</td>\n",
       "      <td>Male</td>\n",
       "      <td>19</td>\n",
       "      <td>15000</td>\n",
       "      <td>39</td>\n",
       "      <td>Healthcare</td>\n",
       "      <td>1</td>\n",
       "      <td>4</td>\n",
       "    </tr>\n",
       "    <tr>\n",
       "      <th>1</th>\n",
       "      <td>2</td>\n",
       "      <td>Male</td>\n",
       "      <td>21</td>\n",
       "      <td>35000</td>\n",
       "      <td>81</td>\n",
       "      <td>Engineer</td>\n",
       "      <td>3</td>\n",
       "      <td>3</td>\n",
       "    </tr>\n",
       "    <tr>\n",
       "      <th>2</th>\n",
       "      <td>3</td>\n",
       "      <td>Female</td>\n",
       "      <td>20</td>\n",
       "      <td>86000</td>\n",
       "      <td>6</td>\n",
       "      <td>Engineer</td>\n",
       "      <td>1</td>\n",
       "      <td>1</td>\n",
       "    </tr>\n",
       "    <tr>\n",
       "      <th>3</th>\n",
       "      <td>4</td>\n",
       "      <td>Female</td>\n",
       "      <td>23</td>\n",
       "      <td>59000</td>\n",
       "      <td>77</td>\n",
       "      <td>Lawyer</td>\n",
       "      <td>0</td>\n",
       "      <td>2</td>\n",
       "    </tr>\n",
       "    <tr>\n",
       "      <th>4</th>\n",
       "      <td>5</td>\n",
       "      <td>Female</td>\n",
       "      <td>31</td>\n",
       "      <td>38000</td>\n",
       "      <td>40</td>\n",
       "      <td>Entertainment</td>\n",
       "      <td>2</td>\n",
       "      <td>6</td>\n",
       "    </tr>\n",
       "  </tbody>\n",
       "</table>\n",
       "</div>"
      ],
      "text/plain": [
       "   CustomerID  Gender  Age  Annual Income ($)  Spending Score (1-100)  \\\n",
       "0           1    Male   19              15000                      39   \n",
       "1           2    Male   21              35000                      81   \n",
       "2           3  Female   20              86000                       6   \n",
       "3           4  Female   23              59000                      77   \n",
       "4           5  Female   31              38000                      40   \n",
       "\n",
       "      Profession  Work Experience  Family Size  \n",
       "0     Healthcare                1            4  \n",
       "1       Engineer                3            3  \n",
       "2       Engineer                1            1  \n",
       "3         Lawyer                0            2  \n",
       "4  Entertainment                2            6  "
      ]
     },
     "execution_count": 14,
     "metadata": {},
     "output_type": "execute_result"
    }
   ],
   "source": [
    "df.head()"
   ]
  },
  {
   "cell_type": "code",
   "execution_count": 16,
   "id": "16c411f4",
   "metadata": {},
   "outputs": [
    {
     "data": {
      "text/html": [
       "<div>\n",
       "<style scoped>\n",
       "    .dataframe tbody tr th:only-of-type {\n",
       "        vertical-align: middle;\n",
       "    }\n",
       "\n",
       "    .dataframe tbody tr th {\n",
       "        vertical-align: top;\n",
       "    }\n",
       "\n",
       "    .dataframe thead th {\n",
       "        text-align: right;\n",
       "    }\n",
       "</style>\n",
       "<table border=\"1\" class=\"dataframe\">\n",
       "  <thead>\n",
       "    <tr style=\"text-align: right;\">\n",
       "      <th></th>\n",
       "      <th>CustomerID</th>\n",
       "      <th>Gender</th>\n",
       "      <th>Age</th>\n",
       "      <th>Annual Income ($)</th>\n",
       "      <th>Spending Score (1-100)</th>\n",
       "      <th>Profession</th>\n",
       "      <th>Work Experience</th>\n",
       "      <th>Family Size</th>\n",
       "    </tr>\n",
       "  </thead>\n",
       "  <tbody>\n",
       "    <tr>\n",
       "      <th>95</th>\n",
       "      <td>96</td>\n",
       "      <td>Male</td>\n",
       "      <td>24</td>\n",
       "      <td>80000</td>\n",
       "      <td>52</td>\n",
       "      <td>Artist</td>\n",
       "      <td>10</td>\n",
       "      <td>1</td>\n",
       "    </tr>\n",
       "    <tr>\n",
       "      <th>96</th>\n",
       "      <td>97</td>\n",
       "      <td>Female</td>\n",
       "      <td>47</td>\n",
       "      <td>2000</td>\n",
       "      <td>47</td>\n",
       "      <td>Artist</td>\n",
       "      <td>0</td>\n",
       "      <td>1</td>\n",
       "    </tr>\n",
       "    <tr>\n",
       "      <th>97</th>\n",
       "      <td>98</td>\n",
       "      <td>Female</td>\n",
       "      <td>27</td>\n",
       "      <td>67000</td>\n",
       "      <td>50</td>\n",
       "      <td>Artist</td>\n",
       "      <td>0</td>\n",
       "      <td>2</td>\n",
       "    </tr>\n",
       "    <tr>\n",
       "      <th>98</th>\n",
       "      <td>99</td>\n",
       "      <td>Male</td>\n",
       "      <td>48</td>\n",
       "      <td>58000</td>\n",
       "      <td>42</td>\n",
       "      <td>Doctor</td>\n",
       "      <td>1</td>\n",
       "      <td>2</td>\n",
       "    </tr>\n",
       "    <tr>\n",
       "      <th>99</th>\n",
       "      <td>100</td>\n",
       "      <td>Male</td>\n",
       "      <td>20</td>\n",
       "      <td>80000</td>\n",
       "      <td>49</td>\n",
       "      <td>Engineer</td>\n",
       "      <td>3</td>\n",
       "      <td>3</td>\n",
       "    </tr>\n",
       "  </tbody>\n",
       "</table>\n",
       "</div>"
      ],
      "text/plain": [
       "    CustomerID  Gender  Age  Annual Income ($)  Spending Score (1-100)  \\\n",
       "95          96    Male   24              80000                      52   \n",
       "96          97  Female   47               2000                      47   \n",
       "97          98  Female   27              67000                      50   \n",
       "98          99    Male   48              58000                      42   \n",
       "99         100    Male   20              80000                      49   \n",
       "\n",
       "   Profession  Work Experience  Family Size  \n",
       "95     Artist               10            1  \n",
       "96     Artist                0            1  \n",
       "97     Artist                0            2  \n",
       "98     Doctor                1            2  \n",
       "99   Engineer                3            3  "
      ]
     },
     "execution_count": 16,
     "metadata": {},
     "output_type": "execute_result"
    }
   ],
   "source": [
    "df.tail()"
   ]
  },
  {
   "cell_type": "markdown",
   "id": "a816d2cb",
   "metadata": {
    "papermill": {
     "duration": 0.0664,
     "end_time": "2023-10-25T14:10:35.455808",
     "exception": false,
     "start_time": "2023-10-25T14:10:35.389408",
     "status": "completed"
    },
    "tags": []
   },
   "source": [
    "#### 2. **Excel:**"
   ]
  },
  {
   "cell_type": "code",
   "execution_count": null,
   "id": "09229961",
   "metadata": {
    "execution": {
     "iopub.execute_input": "2023-10-25T14:10:35.613294Z",
     "iopub.status.busy": "2023-10-25T14:10:35.612489Z",
     "iopub.status.idle": "2023-10-25T14:10:36.049918Z",
     "shell.execute_reply": "2023-10-25T14:10:36.048990Z"
    },
    "papermill": {
     "duration": 0.528272,
     "end_time": "2023-10-25T14:10:36.052916",
     "exception": false,
     "start_time": "2023-10-25T14:10:35.524644",
     "status": "completed"
    },
    "tags": []
   },
   "outputs": [],
   "source": [
    "excel_df = pd.read_excel('sample_dataset.xlsx')"
   ]
  },
  {
   "cell_type": "code",
   "execution_count": null,
   "id": "ae2be8ae",
   "metadata": {
    "execution": {
     "iopub.execute_input": "2023-10-25T14:10:36.197160Z",
     "iopub.status.busy": "2023-10-25T14:10:36.195815Z",
     "iopub.status.idle": "2023-10-25T14:10:36.202258Z",
     "shell.execute_reply": "2023-10-25T14:10:36.201462Z"
    },
    "papermill": {
     "duration": 0.08222,
     "end_time": "2023-10-25T14:10:36.204309",
     "exception": false,
     "start_time": "2023-10-25T14:10:36.122089",
     "status": "completed"
    },
    "tags": []
   },
   "outputs": [],
   "source": [
    "excel_df.shape"
   ]
  },
  {
   "cell_type": "code",
   "execution_count": null,
   "id": "029b27f0",
   "metadata": {
    "execution": {
     "iopub.execute_input": "2023-10-25T14:10:36.343686Z",
     "iopub.status.busy": "2023-10-25T14:10:36.342990Z",
     "iopub.status.idle": "2023-10-25T14:10:36.358491Z",
     "shell.execute_reply": "2023-10-25T14:10:36.357346Z"
    },
    "papermill": {
     "duration": 0.085923,
     "end_time": "2023-10-25T14:10:36.360987",
     "exception": false,
     "start_time": "2023-10-25T14:10:36.275064",
     "status": "completed"
    },
    "tags": []
   },
   "outputs": [],
   "source": [
    "excel_df.head()"
   ]
  },
  {
   "cell_type": "markdown",
   "id": "6420fbbb",
   "metadata": {
    "papermill": {
     "duration": 0.068672,
     "end_time": "2023-10-25T14:10:41.095995",
     "exception": false,
     "start_time": "2023-10-25T14:10:41.027323",
     "status": "completed"
    },
    "tags": []
   },
   "source": [
    "# Базовые функции для работы с данными \n",
    "\n",
    "1. **`head(n)` and `tail(n)`**:\n",
    "   - `df.head(n)`: Returns the first `n` rows of the DataFrame (default is 5).\n",
    "   - `df.tail(n)`: Returns the last `n` rows of the DataFrame (default is 5).\n",
    "\n",
    "2. **`info()`**:\n",
    "   - `df.info()`: Provides a summary of the DataFrame, including the data types of columns and the count of non-null values. Useful for understanding the data's structure.\n",
    "\n",
    "3. **`describe()`**:\n",
    "   - `df.describe()`: Generates descriptive statistics (count, mean, std, min, 25%, 50%, 75%, max) for numerical columns.\n",
    "\n",
    "4. **`shape`**:\n",
    "   - `df.shape`: Returns a tuple representing the dimensions of the DataFrame (number of rows, number of columns).\n",
    "\n",
    "5. **`dtypes`**:\n",
    "   - `df.dtypes`: Returns a Series with the data types of each column.\n",
    "\n",
    "6. **`columns`**:\n",
    "   - `df.columns`: Returns a list of column names.\n",
    "\n",
    "7. **`nunique()` and `unique()`**:\n",
    "   - `df['column_name'].nunique()`: Returns the number of unique values in a specific column.\n",
    "   - `df['column_name'].unique()`: Returns an array of unique values in a specific column.\n",
    "\n",
    "8. **`value_counts()`**:\n",
    "   - `df['column_name'].value_counts()`: Counts the frequency of each unique value in a specific column.\n",
    "\n",
    "9. **`isna()` and `isnull()`**:\n",
    "   - `df.isna()`: Returns a DataFrame of the same shape with `True` for missing values and `False` for non-missing values.\n",
    "   - `df.isnull()`: Same as `isna()`.\n",
    "\n",
    "10. **`notna()` and `notnull()`**:\n",
    "   - `df.notna()`: Returns a DataFrame of the same shape with `True` for non-missing values and `False` for missing values.\n",
    "   - `df.notnull()`: Same as `notna()`.\n",
    "\n",
    "11. **`corr()`**:\n",
    "   - `df.corr()`: Calculates the pairwise correlation of numerical columns in the DataFrame.\n",
    "\n",
    "12. **`cov()`**:\n",
    "   - `df.cov()`: Calculates the covariance matrix of numerical columns.\n",
    "\n",
    "13. **`mean()`, `median()`, `std()`, `min()`, and `max()`**:\n",
    "   - `df.mean()`: Computes the mean of each numerical column.\n",
    "   - `df.median()`: Computes the median of each numerical column.\n",
    "   - `df.std()`: Computes the standard deviation of each numerical column.\n",
    "   - `df.min()`: Returns the minimum value of each column.\n",
    "   - `df.max()`: Returns the maximum value of each column.\n",
    "\n",
    "These functions are valuable for understanding your data, identifying missing values, finding summary statistics, and performing initial data exploration and cleaning before more in-depth analysis."
   ]
  },
  {
   "cell_type": "code",
   "execution_count": null,
   "id": "431ec376",
   "metadata": {
    "execution": {
     "iopub.execute_input": "2023-10-25T14:10:41.868112Z",
     "iopub.status.busy": "2023-10-25T14:10:41.867758Z",
     "iopub.status.idle": "2023-10-25T14:10:41.882626Z",
     "shell.execute_reply": "2023-10-25T14:10:41.881361Z"
    },
    "papermill": {
     "duration": 0.087734,
     "end_time": "2023-10-25T14:10:41.884607",
     "exception": false,
     "start_time": "2023-10-25T14:10:41.796873",
     "status": "completed"
    },
    "tags": []
   },
   "outputs": [],
   "source": [
    "df.sample(10)"
   ]
  },
  {
   "cell_type": "code",
   "execution_count": 17,
   "id": "c266d7dc",
   "metadata": {
    "execution": {
     "iopub.execute_input": "2023-10-25T14:10:42.031147Z",
     "iopub.status.busy": "2023-10-25T14:10:42.030785Z",
     "iopub.status.idle": "2023-10-25T14:10:42.052259Z",
     "shell.execute_reply": "2023-10-25T14:10:42.051029Z"
    },
    "papermill": {
     "duration": 0.09797,
     "end_time": "2023-10-25T14:10:42.054537",
     "exception": false,
     "start_time": "2023-10-25T14:10:41.956567",
     "status": "completed"
    },
    "tags": []
   },
   "outputs": [
    {
     "name": "stdout",
     "output_type": "stream",
     "text": [
      "<class 'pandas.core.frame.DataFrame'>\n",
      "RangeIndex: 100 entries, 0 to 99\n",
      "Data columns (total 8 columns):\n",
      " #   Column                  Non-Null Count  Dtype \n",
      "---  ------                  --------------  ----- \n",
      " 0   CustomerID              100 non-null    int64 \n",
      " 1   Gender                  100 non-null    object\n",
      " 2   Age                     100 non-null    int64 \n",
      " 3   Annual Income ($)       100 non-null    int64 \n",
      " 4   Spending Score (1-100)  100 non-null    int64 \n",
      " 5   Profession              99 non-null     object\n",
      " 6   Work Experience         100 non-null    int64 \n",
      " 7   Family Size             100 non-null    int64 \n",
      "dtypes: int64(6), object(2)\n",
      "memory usage: 6.4+ KB\n"
     ]
    }
   ],
   "source": [
    "df.info()"
   ]
  },
  {
   "cell_type": "code",
   "execution_count": 18,
   "id": "6a653fc1",
   "metadata": {
    "execution": {
     "iopub.execute_input": "2023-10-25T14:10:42.203591Z",
     "iopub.status.busy": "2023-10-25T14:10:42.202904Z",
     "iopub.status.idle": "2023-10-25T14:10:42.220942Z",
     "shell.execute_reply": "2023-10-25T14:10:42.219734Z"
    },
    "papermill": {
     "duration": 0.094964,
     "end_time": "2023-10-25T14:10:42.223111",
     "exception": false,
     "start_time": "2023-10-25T14:10:42.128147",
     "status": "completed"
    },
    "tags": []
   },
   "outputs": [
    {
     "data": {
      "text/html": [
       "<div>\n",
       "<style scoped>\n",
       "    .dataframe tbody tr th:only-of-type {\n",
       "        vertical-align: middle;\n",
       "    }\n",
       "\n",
       "    .dataframe tbody tr th {\n",
       "        vertical-align: top;\n",
       "    }\n",
       "\n",
       "    .dataframe thead th {\n",
       "        text-align: right;\n",
       "    }\n",
       "</style>\n",
       "<table border=\"1\" class=\"dataframe\">\n",
       "  <thead>\n",
       "    <tr style=\"text-align: right;\">\n",
       "      <th></th>\n",
       "      <th>CustomerID</th>\n",
       "      <th>Age</th>\n",
       "      <th>Annual Income ($)</th>\n",
       "      <th>Spending Score (1-100)</th>\n",
       "      <th>Work Experience</th>\n",
       "      <th>Family Size</th>\n",
       "    </tr>\n",
       "  </thead>\n",
       "  <tbody>\n",
       "    <tr>\n",
       "      <th>count</th>\n",
       "      <td>100.000000</td>\n",
       "      <td>100.000000</td>\n",
       "      <td>100.000000</td>\n",
       "      <td>100.000000</td>\n",
       "      <td>100.000000</td>\n",
       "      <td>100.000000</td>\n",
       "    </tr>\n",
       "    <tr>\n",
       "      <th>mean</th>\n",
       "      <td>50.500000</td>\n",
       "      <td>39.750000</td>\n",
       "      <td>55750.000000</td>\n",
       "      <td>49.930000</td>\n",
       "      <td>3.130000</td>\n",
       "      <td>2.750000</td>\n",
       "    </tr>\n",
       "    <tr>\n",
       "      <th>std</th>\n",
       "      <td>29.011492</td>\n",
       "      <td>15.626561</td>\n",
       "      <td>30078.474803</td>\n",
       "      <td>21.656294</td>\n",
       "      <td>3.815585</td>\n",
       "      <td>1.438117</td>\n",
       "    </tr>\n",
       "    <tr>\n",
       "      <th>min</th>\n",
       "      <td>1.000000</td>\n",
       "      <td>18.000000</td>\n",
       "      <td>2000.000000</td>\n",
       "      <td>3.000000</td>\n",
       "      <td>0.000000</td>\n",
       "      <td>1.000000</td>\n",
       "    </tr>\n",
       "    <tr>\n",
       "      <th>25%</th>\n",
       "      <td>25.750000</td>\n",
       "      <td>24.750000</td>\n",
       "      <td>31000.000000</td>\n",
       "      <td>41.000000</td>\n",
       "      <td>0.000000</td>\n",
       "      <td>2.000000</td>\n",
       "    </tr>\n",
       "    <tr>\n",
       "      <th>50%</th>\n",
       "      <td>50.500000</td>\n",
       "      <td>36.500000</td>\n",
       "      <td>58500.000000</td>\n",
       "      <td>50.000000</td>\n",
       "      <td>1.000000</td>\n",
       "      <td>2.000000</td>\n",
       "    </tr>\n",
       "    <tr>\n",
       "      <th>75%</th>\n",
       "      <td>75.250000</td>\n",
       "      <td>50.250000</td>\n",
       "      <td>81250.000000</td>\n",
       "      <td>60.000000</td>\n",
       "      <td>5.250000</td>\n",
       "      <td>4.000000</td>\n",
       "    </tr>\n",
       "    <tr>\n",
       "      <th>max</th>\n",
       "      <td>100.000000</td>\n",
       "      <td>70.000000</td>\n",
       "      <td>120000.000000</td>\n",
       "      <td>99.000000</td>\n",
       "      <td>14.000000</td>\n",
       "      <td>8.000000</td>\n",
       "    </tr>\n",
       "  </tbody>\n",
       "</table>\n",
       "</div>"
      ],
      "text/plain": [
       "       CustomerID         Age  Annual Income ($)  Spending Score (1-100)  \\\n",
       "count  100.000000  100.000000         100.000000              100.000000   \n",
       "mean    50.500000   39.750000       55750.000000               49.930000   \n",
       "std     29.011492   15.626561       30078.474803               21.656294   \n",
       "min      1.000000   18.000000        2000.000000                3.000000   \n",
       "25%     25.750000   24.750000       31000.000000               41.000000   \n",
       "50%     50.500000   36.500000       58500.000000               50.000000   \n",
       "75%     75.250000   50.250000       81250.000000               60.000000   \n",
       "max    100.000000   70.000000      120000.000000               99.000000   \n",
       "\n",
       "       Work Experience  Family Size  \n",
       "count       100.000000   100.000000  \n",
       "mean          3.130000     2.750000  \n",
       "std           3.815585     1.438117  \n",
       "min           0.000000     1.000000  \n",
       "25%           0.000000     2.000000  \n",
       "50%           1.000000     2.000000  \n",
       "75%           5.250000     4.000000  \n",
       "max          14.000000     8.000000  "
      ]
     },
     "execution_count": 18,
     "metadata": {},
     "output_type": "execute_result"
    }
   ],
   "source": [
    "df.describe()"
   ]
  },
  {
   "cell_type": "code",
   "execution_count": null,
   "id": "fc73c635",
   "metadata": {
    "execution": {
     "iopub.execute_input": "2023-10-25T14:10:42.369384Z",
     "iopub.status.busy": "2023-10-25T14:10:42.368968Z",
     "iopub.status.idle": "2023-10-25T14:10:42.377045Z",
     "shell.execute_reply": "2023-10-25T14:10:42.375995Z"
    },
    "papermill": {
     "duration": 0.083432,
     "end_time": "2023-10-25T14:10:42.379134",
     "exception": false,
     "start_time": "2023-10-25T14:10:42.295702",
     "status": "completed"
    },
    "tags": []
   },
   "outputs": [],
   "source": [
    "df.dtypes"
   ]
  },
  {
   "cell_type": "code",
   "execution_count": 19,
   "id": "1ec43393",
   "metadata": {
    "execution": {
     "iopub.execute_input": "2023-10-25T14:10:42.525703Z",
     "iopub.status.busy": "2023-10-25T14:10:42.525303Z",
     "iopub.status.idle": "2023-10-25T14:10:42.531695Z",
     "shell.execute_reply": "2023-10-25T14:10:42.530888Z"
    },
    "papermill": {
     "duration": 0.08161,
     "end_time": "2023-10-25T14:10:42.533692",
     "exception": false,
     "start_time": "2023-10-25T14:10:42.452082",
     "status": "completed"
    },
    "tags": []
   },
   "outputs": [
    {
     "data": {
      "text/plain": [
       "Index(['CustomerID', 'Gender', 'Age', 'Annual Income ($)',\n",
       "       'Spending Score (1-100)', 'Profession', 'Work Experience',\n",
       "       'Family Size'],\n",
       "      dtype='object')"
      ]
     },
     "execution_count": 19,
     "metadata": {},
     "output_type": "execute_result"
    }
   ],
   "source": [
    "df.columns"
   ]
  },
  {
   "cell_type": "code",
   "execution_count": 20,
   "id": "e6c0b523",
   "metadata": {
    "execution": {
     "iopub.execute_input": "2023-10-25T14:10:42.679406Z",
     "iopub.status.busy": "2023-10-25T14:10:42.678628Z",
     "iopub.status.idle": "2023-10-25T14:10:42.685958Z",
     "shell.execute_reply": "2023-10-25T14:10:42.684983Z"
    },
    "papermill": {
     "duration": 0.081865,
     "end_time": "2023-10-25T14:10:42.688194",
     "exception": false,
     "start_time": "2023-10-25T14:10:42.606329",
     "status": "completed"
    },
    "tags": []
   },
   "outputs": [
    {
     "data": {
      "text/plain": [
       "['CustomerID',\n",
       " 'Gender',\n",
       " 'Age',\n",
       " 'Annual Income ($)',\n",
       " 'Spending Score (1-100)',\n",
       " 'Profession',\n",
       " 'Work Experience',\n",
       " 'Family Size']"
      ]
     },
     "execution_count": 20,
     "metadata": {},
     "output_type": "execute_result"
    }
   ],
   "source": [
    "df.columns.to_list()"
   ]
  },
  {
   "cell_type": "code",
   "execution_count": 21,
   "id": "fc31ec01",
   "metadata": {
    "execution": {
     "iopub.execute_input": "2023-10-25T14:10:42.832427Z",
     "iopub.status.busy": "2023-10-25T14:10:42.831964Z",
     "iopub.status.idle": "2023-10-25T14:10:42.839387Z",
     "shell.execute_reply": "2023-10-25T14:10:42.838263Z"
    },
    "papermill": {
     "duration": 0.081686,
     "end_time": "2023-10-25T14:10:42.841631",
     "exception": false,
     "start_time": "2023-10-25T14:10:42.759945",
     "status": "completed"
    },
    "tags": []
   },
   "outputs": [
    {
     "data": {
      "text/plain": [
       "array(['Healthcare', 'Engineer', 'Lawyer', 'Entertainment', 'Artist',\n",
       "       'Executive', 'Doctor', 'Homemaker', 'Marketing', nan], dtype=object)"
      ]
     },
     "execution_count": 21,
     "metadata": {},
     "output_type": "execute_result"
    }
   ],
   "source": [
    "df['Profession'].unique()"
   ]
  },
  {
   "cell_type": "code",
   "execution_count": 22,
   "id": "3bd49ffb",
   "metadata": {
    "execution": {
     "iopub.execute_input": "2023-10-25T14:10:43.151242Z",
     "iopub.status.busy": "2023-10-25T14:10:43.150480Z",
     "iopub.status.idle": "2023-10-25T14:10:43.158088Z",
     "shell.execute_reply": "2023-10-25T14:10:43.156963Z"
    },
    "papermill": {
     "duration": 0.086352,
     "end_time": "2023-10-25T14:10:43.160765",
     "exception": false,
     "start_time": "2023-10-25T14:10:43.074413",
     "status": "completed"
    },
    "tags": []
   },
   "outputs": [
    {
     "data": {
      "text/plain": [
       "9"
      ]
     },
     "execution_count": 22,
     "metadata": {},
     "output_type": "execute_result"
    }
   ],
   "source": [
    "df['Profession'].nunique()"
   ]
  },
  {
   "cell_type": "code",
   "execution_count": 24,
   "id": "156485a2",
   "metadata": {
    "execution": {
     "iopub.execute_input": "2023-10-25T14:10:43.475341Z",
     "iopub.status.busy": "2023-10-25T14:10:43.474320Z",
     "iopub.status.idle": "2023-10-25T14:10:43.482716Z",
     "shell.execute_reply": "2023-10-25T14:10:43.481726Z"
    },
    "papermill": {
     "duration": 0.086922,
     "end_time": "2023-10-25T14:10:43.484798",
     "exception": false,
     "start_time": "2023-10-25T14:10:43.397876",
     "status": "completed"
    },
    "tags": []
   },
   "outputs": [
    {
     "name": "stderr",
     "output_type": "stream",
     "text": [
      "Matplotlib is building the font cache; this may take a moment.\n"
     ]
    },
    {
     "data": {
      "text/plain": [
       "<Axes: ylabel='count'>"
      ]
     },
     "execution_count": 24,
     "metadata": {},
     "output_type": "execute_result"
    },
    {
     "data": {
      "image/png": "[encoded data removed]",
      "text/plain": [
       "<Figure size 640x480 with 1 Axes>"
      ]
     },
     "metadata": {},
     "output_type": "display_data"
    }
   ],
   "source": [
    "df['Profession'].value_counts(dropna=False).plot(kind='pie')"
   ]
  },
  {
   "cell_type": "code",
   "execution_count": 27,
   "id": "78940ad6",
   "metadata": {
    "execution": {
     "iopub.execute_input": "2023-10-25T14:10:43.796798Z",
     "iopub.status.busy": "2023-10-25T14:10:43.796055Z",
     "iopub.status.idle": "2023-10-25T14:10:43.803871Z",
     "shell.execute_reply": "2023-10-25T14:10:43.803067Z"
    },
    "papermill": {
     "duration": 0.082496,
     "end_time": "2023-10-25T14:10:43.805995",
     "exception": false,
     "start_time": "2023-10-25T14:10:43.723499",
     "status": "completed"
    },
    "tags": []
   },
   "outputs": [
    {
     "data": {
      "text/plain": [
       "CustomerID                0\n",
       "Gender                    0\n",
       "Age                       0\n",
       "Annual Income ($)         0\n",
       "Spending Score (1-100)    0\n",
       "Profession                1\n",
       "Work Experience           0\n",
       "Family Size               0\n",
       "dtype: int64"
      ]
     },
     "execution_count": 27,
     "metadata": {},
     "output_type": "execute_result"
    }
   ],
   "source": [
    "df.isna().sum()"
   ]
  },
  {
   "cell_type": "code",
   "execution_count": 28,
   "id": "a98dedec",
   "metadata": {},
   "outputs": [
    {
     "data": {
      "text/plain": [
       "np.int64(1)"
      ]
     },
     "execution_count": 28,
     "metadata": {},
     "output_type": "execute_result"
    }
   ],
   "source": [
    "df.isna().sum().sum()"
   ]
  },
  {
   "cell_type": "code",
   "execution_count": 29,
   "id": "fdc85e9d",
   "metadata": {
    "execution": {
     "iopub.execute_input": "2023-10-25T14:10:43.951830Z",
     "iopub.status.busy": "2023-10-25T14:10:43.951113Z",
     "iopub.status.idle": "2023-10-25T14:10:43.958604Z",
     "shell.execute_reply": "2023-10-25T14:10:43.957841Z"
    },
    "papermill": {
     "duration": 0.081699,
     "end_time": "2023-10-25T14:10:43.960570",
     "exception": false,
     "start_time": "2023-10-25T14:10:43.878871",
     "status": "completed"
    },
    "tags": []
   },
   "outputs": [
    {
     "data": {
      "text/plain": [
       "CustomerID                 True\n",
       "Gender                     True\n",
       "Age                        True\n",
       "Annual Income ($)          True\n",
       "Spending Score (1-100)     True\n",
       "Profession                False\n",
       "Work Experience            True\n",
       "Family Size                True\n",
       "dtype: bool"
      ]
     },
     "execution_count": 29,
     "metadata": {},
     "output_type": "execute_result"
    }
   ],
   "source": [
    "df.notna().all()"
   ]
  },
  {
   "cell_type": "code",
   "execution_count": 58,
   "id": "8edf3042",
   "metadata": {},
   "outputs": [
    {
     "data": {
      "text/html": [
       "<div>\n",
       "<style scoped>\n",
       "    .dataframe tbody tr th:only-of-type {\n",
       "        vertical-align: middle;\n",
       "    }\n",
       "\n",
       "    .dataframe tbody tr th {\n",
       "        vertical-align: top;\n",
       "    }\n",
       "\n",
       "    .dataframe thead th {\n",
       "        text-align: right;\n",
       "    }\n",
       "</style>\n",
       "<table border=\"1\" class=\"dataframe\">\n",
       "  <thead>\n",
       "    <tr style=\"text-align: right;\">\n",
       "      <th></th>\n",
       "      <th>CustomerID</th>\n",
       "      <th>Gender</th>\n",
       "      <th>Age</th>\n",
       "      <th>Annual Income ($)</th>\n",
       "      <th>Spending Score (1-100)</th>\n",
       "      <th>Profession</th>\n",
       "      <th>Work Experience</th>\n",
       "      <th>Family Size</th>\n",
       "    </tr>\n",
       "  </thead>\n",
       "  <tbody>\n",
       "    <tr>\n",
       "      <th>0</th>\n",
       "      <td>1</td>\n",
       "      <td>Male</td>\n",
       "      <td>19</td>\n",
       "      <td>15000</td>\n",
       "      <td>39</td>\n",
       "      <td>Healthcare</td>\n",
       "      <td>1</td>\n",
       "      <td>4</td>\n",
       "    </tr>\n",
       "    <tr>\n",
       "      <th>1</th>\n",
       "      <td>2</td>\n",
       "      <td>Male</td>\n",
       "      <td>21</td>\n",
       "      <td>35000</td>\n",
       "      <td>81</td>\n",
       "      <td>Engineer</td>\n",
       "      <td>3</td>\n",
       "      <td>3</td>\n",
       "    </tr>\n",
       "    <tr>\n",
       "      <th>2</th>\n",
       "      <td>3</td>\n",
       "      <td>Female</td>\n",
       "      <td>20</td>\n",
       "      <td>86000</td>\n",
       "      <td>6</td>\n",
       "      <td>Engineer</td>\n",
       "      <td>1</td>\n",
       "      <td>1</td>\n",
       "    </tr>\n",
       "    <tr>\n",
       "      <th>3</th>\n",
       "      <td>4</td>\n",
       "      <td>Female</td>\n",
       "      <td>23</td>\n",
       "      <td>59000</td>\n",
       "      <td>77</td>\n",
       "      <td>Lawyer</td>\n",
       "      <td>0</td>\n",
       "      <td>2</td>\n",
       "    </tr>\n",
       "    <tr>\n",
       "      <th>4</th>\n",
       "      <td>5</td>\n",
       "      <td>Female</td>\n",
       "      <td>31</td>\n",
       "      <td>38000</td>\n",
       "      <td>40</td>\n",
       "      <td>Entertainment</td>\n",
       "      <td>2</td>\n",
       "      <td>6</td>\n",
       "    </tr>\n",
       "    <tr>\n",
       "      <th>...</th>\n",
       "      <td>...</td>\n",
       "      <td>...</td>\n",
       "      <td>...</td>\n",
       "      <td>...</td>\n",
       "      <td>...</td>\n",
       "      <td>...</td>\n",
       "      <td>...</td>\n",
       "      <td>...</td>\n",
       "    </tr>\n",
       "    <tr>\n",
       "      <th>1995</th>\n",
       "      <td>1996</td>\n",
       "      <td>Female</td>\n",
       "      <td>71</td>\n",
       "      <td>184387</td>\n",
       "      <td>40</td>\n",
       "      <td>Artist</td>\n",
       "      <td>8</td>\n",
       "      <td>7</td>\n",
       "    </tr>\n",
       "    <tr>\n",
       "      <th>1996</th>\n",
       "      <td>1997</td>\n",
       "      <td>Female</td>\n",
       "      <td>91</td>\n",
       "      <td>73158</td>\n",
       "      <td>32</td>\n",
       "      <td>Doctor</td>\n",
       "      <td>7</td>\n",
       "      <td>7</td>\n",
       "    </tr>\n",
       "    <tr>\n",
       "      <th>1997</th>\n",
       "      <td>1998</td>\n",
       "      <td>Male</td>\n",
       "      <td>87</td>\n",
       "      <td>90961</td>\n",
       "      <td>14</td>\n",
       "      <td>Healthcare</td>\n",
       "      <td>9</td>\n",
       "      <td>2</td>\n",
       "    </tr>\n",
       "    <tr>\n",
       "      <th>1998</th>\n",
       "      <td>1999</td>\n",
       "      <td>Male</td>\n",
       "      <td>77</td>\n",
       "      <td>182109</td>\n",
       "      <td>4</td>\n",
       "      <td>Executive</td>\n",
       "      <td>7</td>\n",
       "      <td>2</td>\n",
       "    </tr>\n",
       "    <tr>\n",
       "      <th>1999</th>\n",
       "      <td>2000</td>\n",
       "      <td>Male</td>\n",
       "      <td>90</td>\n",
       "      <td>110610</td>\n",
       "      <td>52</td>\n",
       "      <td>Entertainment</td>\n",
       "      <td>5</td>\n",
       "      <td>2</td>\n",
       "    </tr>\n",
       "  </tbody>\n",
       "</table>\n",
       "<p>1965 rows × 8 columns</p>\n",
       "</div>"
      ],
      "text/plain": [
       "      CustomerID  Gender  Age  Annual Income ($)  Spending Score (1-100)  \\\n",
       "0              1    Male   19              15000                      39   \n",
       "1              2    Male   21              35000                      81   \n",
       "2              3  Female   20              86000                       6   \n",
       "3              4  Female   23              59000                      77   \n",
       "4              5  Female   31              38000                      40   \n",
       "...          ...     ...  ...                ...                     ...   \n",
       "1995        1996  Female   71             184387                      40   \n",
       "1996        1997  Female   91              73158                      32   \n",
       "1997        1998    Male   87              90961                      14   \n",
       "1998        1999    Male   77             182109                       4   \n",
       "1999        2000    Male   90             110610                      52   \n",
       "\n",
       "         Profession  Work Experience  Family Size  \n",
       "0        Healthcare                1            4  \n",
       "1          Engineer                3            3  \n",
       "2          Engineer                1            1  \n",
       "3            Lawyer                0            2  \n",
       "4     Entertainment                2            6  \n",
       "...             ...              ...          ...  \n",
       "1995         Artist                8            7  \n",
       "1996         Doctor                7            7  \n",
       "1997     Healthcare                9            2  \n",
       "1998      Executive                7            2  \n",
       "1999  Entertainment                5            2  \n",
       "\n",
       "[1965 rows x 8 columns]"
      ]
     },
     "execution_count": 58,
     "metadata": {},
     "output_type": "execute_result"
    }
   ],
   "source": [
    "#удаляем все с nan\n",
    "df[df.notna().all(axis=1)]"
   ]
  },
  {
   "cell_type": "code",
   "execution_count": 30,
   "id": "3d6b88fd",
   "metadata": {
    "execution": {
     "iopub.execute_input": "2023-10-25T14:10:47.084249Z",
     "iopub.status.busy": "2023-10-25T14:10:47.083873Z",
     "iopub.status.idle": "2023-10-25T14:10:47.111512Z",
     "shell.execute_reply": "2023-10-25T14:10:47.110619Z"
    },
    "papermill": {
     "duration": 0.105321,
     "end_time": "2023-10-25T14:10:47.113959",
     "exception": false,
     "start_time": "2023-10-25T14:10:47.008638",
     "status": "completed"
    },
    "tags": []
   },
   "outputs": [
    {
     "name": "stderr",
     "output_type": "stream",
     "text": [
      "/tmp/ipykernel_6945/955798070.py:1: SettingWithCopyWarning: \n",
      "A value is trying to be set on a copy of a slice from a DataFrame\n",
      "\n",
      "See the caveats in the documentation: https://pandas.pydata.org/pandas-docs/stable/user_guide/indexing.html#returning-a-view-versus-a-copy\n",
      "  df.dropna(inplace=True)\n"
     ]
    },
    {
     "data": {
      "text/html": [
       "<div>\n",
       "<style scoped>\n",
       "    .dataframe tbody tr th:only-of-type {\n",
       "        vertical-align: middle;\n",
       "    }\n",
       "\n",
       "    .dataframe tbody tr th {\n",
       "        vertical-align: top;\n",
       "    }\n",
       "\n",
       "    .dataframe thead th {\n",
       "        text-align: right;\n",
       "    }\n",
       "</style>\n",
       "<table border=\"1\" class=\"dataframe\">\n",
       "  <thead>\n",
       "    <tr style=\"text-align: right;\">\n",
       "      <th></th>\n",
       "      <th>CustomerID</th>\n",
       "      <th>Gender</th>\n",
       "      <th>Age</th>\n",
       "      <th>Annual Income ($)</th>\n",
       "      <th>Spending Score (1-100)</th>\n",
       "      <th>Profession</th>\n",
       "      <th>Work Experience</th>\n",
       "      <th>Family Size</th>\n",
       "    </tr>\n",
       "  </thead>\n",
       "  <tbody>\n",
       "    <tr>\n",
       "      <th>0</th>\n",
       "      <td>1</td>\n",
       "      <td>Male</td>\n",
       "      <td>19</td>\n",
       "      <td>15000</td>\n",
       "      <td>39</td>\n",
       "      <td>Healthcare</td>\n",
       "      <td>1</td>\n",
       "      <td>4</td>\n",
       "    </tr>\n",
       "    <tr>\n",
       "      <th>1</th>\n",
       "      <td>2</td>\n",
       "      <td>Male</td>\n",
       "      <td>21</td>\n",
       "      <td>35000</td>\n",
       "      <td>81</td>\n",
       "      <td>Engineer</td>\n",
       "      <td>3</td>\n",
       "      <td>3</td>\n",
       "    </tr>\n",
       "    <tr>\n",
       "      <th>2</th>\n",
       "      <td>3</td>\n",
       "      <td>Female</td>\n",
       "      <td>20</td>\n",
       "      <td>86000</td>\n",
       "      <td>6</td>\n",
       "      <td>Engineer</td>\n",
       "      <td>1</td>\n",
       "      <td>1</td>\n",
       "    </tr>\n",
       "    <tr>\n",
       "      <th>3</th>\n",
       "      <td>4</td>\n",
       "      <td>Female</td>\n",
       "      <td>23</td>\n",
       "      <td>59000</td>\n",
       "      <td>77</td>\n",
       "      <td>Lawyer</td>\n",
       "      <td>0</td>\n",
       "      <td>2</td>\n",
       "    </tr>\n",
       "    <tr>\n",
       "      <th>4</th>\n",
       "      <td>5</td>\n",
       "      <td>Female</td>\n",
       "      <td>31</td>\n",
       "      <td>38000</td>\n",
       "      <td>40</td>\n",
       "      <td>Entertainment</td>\n",
       "      <td>2</td>\n",
       "      <td>6</td>\n",
       "    </tr>\n",
       "    <tr>\n",
       "      <th>...</th>\n",
       "      <td>...</td>\n",
       "      <td>...</td>\n",
       "      <td>...</td>\n",
       "      <td>...</td>\n",
       "      <td>...</td>\n",
       "      <td>...</td>\n",
       "      <td>...</td>\n",
       "      <td>...</td>\n",
       "    </tr>\n",
       "    <tr>\n",
       "      <th>95</th>\n",
       "      <td>96</td>\n",
       "      <td>Male</td>\n",
       "      <td>24</td>\n",
       "      <td>80000</td>\n",
       "      <td>52</td>\n",
       "      <td>Artist</td>\n",
       "      <td>10</td>\n",
       "      <td>1</td>\n",
       "    </tr>\n",
       "    <tr>\n",
       "      <th>96</th>\n",
       "      <td>97</td>\n",
       "      <td>Female</td>\n",
       "      <td>47</td>\n",
       "      <td>2000</td>\n",
       "      <td>47</td>\n",
       "      <td>Artist</td>\n",
       "      <td>0</td>\n",
       "      <td>1</td>\n",
       "    </tr>\n",
       "    <tr>\n",
       "      <th>97</th>\n",
       "      <td>98</td>\n",
       "      <td>Female</td>\n",
       "      <td>27</td>\n",
       "      <td>67000</td>\n",
       "      <td>50</td>\n",
       "      <td>Artist</td>\n",
       "      <td>0</td>\n",
       "      <td>2</td>\n",
       "    </tr>\n",
       "    <tr>\n",
       "      <th>98</th>\n",
       "      <td>99</td>\n",
       "      <td>Male</td>\n",
       "      <td>48</td>\n",
       "      <td>58000</td>\n",
       "      <td>42</td>\n",
       "      <td>Doctor</td>\n",
       "      <td>1</td>\n",
       "      <td>2</td>\n",
       "    </tr>\n",
       "    <tr>\n",
       "      <th>99</th>\n",
       "      <td>100</td>\n",
       "      <td>Male</td>\n",
       "      <td>20</td>\n",
       "      <td>80000</td>\n",
       "      <td>49</td>\n",
       "      <td>Engineer</td>\n",
       "      <td>3</td>\n",
       "      <td>3</td>\n",
       "    </tr>\n",
       "  </tbody>\n",
       "</table>\n",
       "<p>99 rows × 8 columns</p>\n",
       "</div>"
      ],
      "text/plain": [
       "    CustomerID  Gender  Age  Annual Income ($)  Spending Score (1-100)  \\\n",
       "0            1    Male   19              15000                      39   \n",
       "1            2    Male   21              35000                      81   \n",
       "2            3  Female   20              86000                       6   \n",
       "3            4  Female   23              59000                      77   \n",
       "4            5  Female   31              38000                      40   \n",
       "..         ...     ...  ...                ...                     ...   \n",
       "95          96    Male   24              80000                      52   \n",
       "96          97  Female   47               2000                      47   \n",
       "97          98  Female   27              67000                      50   \n",
       "98          99    Male   48              58000                      42   \n",
       "99         100    Male   20              80000                      49   \n",
       "\n",
       "       Profession  Work Experience  Family Size  \n",
       "0      Healthcare                1            4  \n",
       "1        Engineer                3            3  \n",
       "2        Engineer                1            1  \n",
       "3          Lawyer                0            2  \n",
       "4   Entertainment                2            6  \n",
       "..            ...              ...          ...  \n",
       "95         Artist               10            1  \n",
       "96         Artist                0            1  \n",
       "97         Artist                0            2  \n",
       "98         Doctor                1            2  \n",
       "99       Engineer                3            3  \n",
       "\n",
       "[99 rows x 8 columns]"
      ]
     },
     "execution_count": 30,
     "metadata": {},
     "output_type": "execute_result"
    }
   ],
   "source": [
    "df.dropna(inplace=True)\n",
    "df"
   ]
  },
  {
   "cell_type": "markdown",
   "id": "08687134",
   "metadata": {
    "papermill": {
     "duration": 0.072643,
     "end_time": "2023-10-25T14:10:47.261241",
     "exception": false,
     "start_time": "2023-10-25T14:10:47.188598",
     "status": "completed"
    },
    "tags": []
   },
   "source": [
    "# Индексация, срезы, фильтрация\n",
    "\n",
    "\n",
    "1. **Indexing DataFrames**:\n",
    "\n",
    "   - **By Column Name**:\n",
    "     - To access a specific column, use `df['column_name']`. This returns a Series.\n",
    "     - Example: `df['Age']`.\n",
    "\n",
    "   - **By Attribute**:\n",
    "     - If column names are valid Python variable names, you can access columns using attributes, like `df.column_name`.\n",
    "     - Example: `df.Age`.\n",
    "\n",
    "   - **By Column Index**:\n",
    "     - You can access a column by its position (index) using `df.iloc[:, col_index]`.\n",
    "     - Example: `df.iloc[:, 1]` to access the second column.\n",
    "\n",
    "2. **Slicing DataFrames**:\n",
    "\n",
    "   - **Slicing Rows**:\n",
    "     - To select a range of rows, use `df[start_row:end_row]`. The end row is exclusive.\n",
    "     - Example: `df[1:4]` returns rows 2 to 4.\n",
    "\n",
    "   - **Slicing Columns**:\n",
    "     - To select a subset of columns, use `df[['col1', 'col2']]` to select specific columns.\n",
    "     - Example: `df[['Name', 'Age']]`.\n",
    "\n",
    "3. **Selection by Label**:\n",
    "\n",
    "   - **`.loc[]`**:\n",
    "     - Use `.loc[]` to select data by label. You can specify rows and columns by their labels.\n",
    "     - Example: `df.loc[1:4, 'Name':'Age']` selects rows 2 to 4 and columns 'Name' to 'Age'.\n",
    "\n",
    "4. **Selection by Position**:\n",
    "\n",
    "   - **`.iloc[]`**:\n",
    "     - Use `.iloc[]` to select data by integer position. You can specify rows and columns by their position.\n",
    "     - Example: `df.iloc[1:4, 0:2]` selects rows 2 to 4 and the first two columns.\n",
    "\n",
    "5. **Boolean Indexing**:\n",
    "\n",
    "   - You can create Boolean masks to filter rows based on a condition. For example, `df[df['Age'] > 30]` selects rows where 'Age' is greater than 30.\n",
    "\n",
    "6. **Combining Selections**:\n",
    "\n",
    "   - You can combine selections for complex data extraction.\n",
    "   - Example: `df.loc[df['Age'] > 30, ['Name', 'Age']]` selects the 'Name' and 'Age' columns for rows where 'Age' is greater than 30.\n",
    "\n",
    "7. **`.at[]` and `.iat[]`**:\n",
    "\n",
    "   - These methods provide faster access to single elements by label or position, respectively.\n",
    "   - Example: `df.at[2, 'Age']` returns the value at row 3 and the 'Age' column.\n",
    "\n",
    "8. **Chained Indexing**:\n",
    "\n",
    "   - Avoid using chained indexing, like `df[1:3]['Name']`. Use `.loc[]` or `.iloc[]` for better performance and to avoid setting with copy errors.\n"
   ]
  },
  {
   "cell_type": "code",
   "execution_count": 31,
   "id": "2b8f0936",
   "metadata": {},
   "outputs": [
    {
     "data": {
      "text/html": [
       "<div>\n",
       "<style scoped>\n",
       "    .dataframe tbody tr th:only-of-type {\n",
       "        vertical-align: middle;\n",
       "    }\n",
       "\n",
       "    .dataframe tbody tr th {\n",
       "        vertical-align: top;\n",
       "    }\n",
       "\n",
       "    .dataframe thead th {\n",
       "        text-align: right;\n",
       "    }\n",
       "</style>\n",
       "<table border=\"1\" class=\"dataframe\">\n",
       "  <thead>\n",
       "    <tr style=\"text-align: right;\">\n",
       "      <th></th>\n",
       "      <th>CustomerID</th>\n",
       "      <th>Gender</th>\n",
       "      <th>Age</th>\n",
       "      <th>Annual Income ($)</th>\n",
       "      <th>Spending Score (1-100)</th>\n",
       "      <th>Profession</th>\n",
       "      <th>Work Experience</th>\n",
       "      <th>Family Size</th>\n",
       "    </tr>\n",
       "  </thead>\n",
       "  <tbody>\n",
       "    <tr>\n",
       "      <th>0</th>\n",
       "      <td>1</td>\n",
       "      <td>Male</td>\n",
       "      <td>19</td>\n",
       "      <td>15000</td>\n",
       "      <td>39</td>\n",
       "      <td>Healthcare</td>\n",
       "      <td>1</td>\n",
       "      <td>4</td>\n",
       "    </tr>\n",
       "    <tr>\n",
       "      <th>1</th>\n",
       "      <td>2</td>\n",
       "      <td>Male</td>\n",
       "      <td>21</td>\n",
       "      <td>35000</td>\n",
       "      <td>81</td>\n",
       "      <td>Engineer</td>\n",
       "      <td>3</td>\n",
       "      <td>3</td>\n",
       "    </tr>\n",
       "    <tr>\n",
       "      <th>2</th>\n",
       "      <td>3</td>\n",
       "      <td>Female</td>\n",
       "      <td>20</td>\n",
       "      <td>86000</td>\n",
       "      <td>6</td>\n",
       "      <td>Engineer</td>\n",
       "      <td>1</td>\n",
       "      <td>1</td>\n",
       "    </tr>\n",
       "    <tr>\n",
       "      <th>3</th>\n",
       "      <td>4</td>\n",
       "      <td>Female</td>\n",
       "      <td>23</td>\n",
       "      <td>59000</td>\n",
       "      <td>77</td>\n",
       "      <td>Lawyer</td>\n",
       "      <td>0</td>\n",
       "      <td>2</td>\n",
       "    </tr>\n",
       "    <tr>\n",
       "      <th>4</th>\n",
       "      <td>5</td>\n",
       "      <td>Female</td>\n",
       "      <td>31</td>\n",
       "      <td>38000</td>\n",
       "      <td>40</td>\n",
       "      <td>Entertainment</td>\n",
       "      <td>2</td>\n",
       "      <td>6</td>\n",
       "    </tr>\n",
       "    <tr>\n",
       "      <th>...</th>\n",
       "      <td>...</td>\n",
       "      <td>...</td>\n",
       "      <td>...</td>\n",
       "      <td>...</td>\n",
       "      <td>...</td>\n",
       "      <td>...</td>\n",
       "      <td>...</td>\n",
       "      <td>...</td>\n",
       "    </tr>\n",
       "    <tr>\n",
       "      <th>95</th>\n",
       "      <td>96</td>\n",
       "      <td>Male</td>\n",
       "      <td>24</td>\n",
       "      <td>80000</td>\n",
       "      <td>52</td>\n",
       "      <td>Artist</td>\n",
       "      <td>10</td>\n",
       "      <td>1</td>\n",
       "    </tr>\n",
       "    <tr>\n",
       "      <th>96</th>\n",
       "      <td>97</td>\n",
       "      <td>Female</td>\n",
       "      <td>47</td>\n",
       "      <td>2000</td>\n",
       "      <td>47</td>\n",
       "      <td>Artist</td>\n",
       "      <td>0</td>\n",
       "      <td>1</td>\n",
       "    </tr>\n",
       "    <tr>\n",
       "      <th>97</th>\n",
       "      <td>98</td>\n",
       "      <td>Female</td>\n",
       "      <td>27</td>\n",
       "      <td>67000</td>\n",
       "      <td>50</td>\n",
       "      <td>Artist</td>\n",
       "      <td>0</td>\n",
       "      <td>2</td>\n",
       "    </tr>\n",
       "    <tr>\n",
       "      <th>98</th>\n",
       "      <td>99</td>\n",
       "      <td>Male</td>\n",
       "      <td>48</td>\n",
       "      <td>58000</td>\n",
       "      <td>42</td>\n",
       "      <td>Doctor</td>\n",
       "      <td>1</td>\n",
       "      <td>2</td>\n",
       "    </tr>\n",
       "    <tr>\n",
       "      <th>99</th>\n",
       "      <td>100</td>\n",
       "      <td>Male</td>\n",
       "      <td>20</td>\n",
       "      <td>80000</td>\n",
       "      <td>49</td>\n",
       "      <td>Engineer</td>\n",
       "      <td>3</td>\n",
       "      <td>3</td>\n",
       "    </tr>\n",
       "  </tbody>\n",
       "</table>\n",
       "<p>99 rows × 8 columns</p>\n",
       "</div>"
      ],
      "text/plain": [
       "    CustomerID  Gender  Age  Annual Income ($)  Spending Score (1-100)  \\\n",
       "0            1    Male   19              15000                      39   \n",
       "1            2    Male   21              35000                      81   \n",
       "2            3  Female   20              86000                       6   \n",
       "3            4  Female   23              59000                      77   \n",
       "4            5  Female   31              38000                      40   \n",
       "..         ...     ...  ...                ...                     ...   \n",
       "95          96    Male   24              80000                      52   \n",
       "96          97  Female   47               2000                      47   \n",
       "97          98  Female   27              67000                      50   \n",
       "98          99    Male   48              58000                      42   \n",
       "99         100    Male   20              80000                      49   \n",
       "\n",
       "       Profession  Work Experience  Family Size  \n",
       "0      Healthcare                1            4  \n",
       "1        Engineer                3            3  \n",
       "2        Engineer                1            1  \n",
       "3          Lawyer                0            2  \n",
       "4   Entertainment                2            6  \n",
       "..            ...              ...          ...  \n",
       "95         Artist               10            1  \n",
       "96         Artist                0            1  \n",
       "97         Artist                0            2  \n",
       "98         Doctor                1            2  \n",
       "99       Engineer                3            3  \n",
       "\n",
       "[99 rows x 8 columns]"
      ]
     },
     "execution_count": 31,
     "metadata": {},
     "output_type": "execute_result"
    }
   ],
   "source": [
    "df"
   ]
  },
  {
   "cell_type": "code",
   "execution_count": 32,
   "id": "58cb22c0",
   "metadata": {
    "execution": {
     "iopub.execute_input": "2023-10-25T14:10:47.709588Z",
     "iopub.status.busy": "2023-10-25T14:10:47.709177Z",
     "iopub.status.idle": "2023-10-25T14:10:47.717517Z",
     "shell.execute_reply": "2023-10-25T14:10:47.716340Z"
    },
    "papermill": {
     "duration": 0.085696,
     "end_time": "2023-10-25T14:10:47.719439",
     "exception": false,
     "start_time": "2023-10-25T14:10:47.633743",
     "status": "completed"
    },
    "tags": []
   },
   "outputs": [
    {
     "data": {
      "text/plain": [
       "0     19\n",
       "1     21\n",
       "2     20\n",
       "3     23\n",
       "4     31\n",
       "      ..\n",
       "95    24\n",
       "96    47\n",
       "97    27\n",
       "98    48\n",
       "99    20\n",
       "Name: Age, Length: 99, dtype: int64"
      ]
     },
     "execution_count": 32,
     "metadata": {},
     "output_type": "execute_result"
    }
   ],
   "source": [
    "df.iloc[:,2]"
   ]
  },
  {
   "cell_type": "code",
   "execution_count": 33,
   "id": "1c2e7734",
   "metadata": {
    "execution": {
     "iopub.execute_input": "2023-10-25T14:10:47.867963Z",
     "iopub.status.busy": "2023-10-25T14:10:47.867207Z",
     "iopub.status.idle": "2023-10-25T14:10:47.875130Z",
     "shell.execute_reply": "2023-10-25T14:10:47.874337Z"
    },
    "papermill": {
     "duration": 0.085071,
     "end_time": "2023-10-25T14:10:47.877450",
     "exception": false,
     "start_time": "2023-10-25T14:10:47.792379",
     "status": "completed"
    },
    "tags": []
   },
   "outputs": [
    {
     "data": {
      "text/plain": [
       "0        Healthcare\n",
       "1          Engineer\n",
       "2          Engineer\n",
       "3            Lawyer\n",
       "4     Entertainment\n",
       "          ...      \n",
       "95           Artist\n",
       "96           Artist\n",
       "97           Artist\n",
       "98           Doctor\n",
       "99         Engineer\n",
       "Name: Profession, Length: 99, dtype: object"
      ]
     },
     "execution_count": 33,
     "metadata": {},
     "output_type": "execute_result"
    }
   ],
   "source": [
    "df.Profession"
   ]
  },
  {
   "cell_type": "code",
   "execution_count": 34,
   "id": "5d6b7003",
   "metadata": {
    "execution": {
     "iopub.execute_input": "2023-10-25T14:10:48.190053Z",
     "iopub.status.busy": "2023-10-25T14:10:48.189037Z",
     "iopub.status.idle": "2023-10-25T14:10:48.203856Z",
     "shell.execute_reply": "2023-10-25T14:10:48.202853Z"
    },
    "papermill": {
     "duration": 0.091977,
     "end_time": "2023-10-25T14:10:48.206008",
     "exception": false,
     "start_time": "2023-10-25T14:10:48.114031",
     "status": "completed"
    },
    "tags": []
   },
   "outputs": [
    {
     "data": {
      "text/html": [
       "<div>\n",
       "<style scoped>\n",
       "    .dataframe tbody tr th:only-of-type {\n",
       "        vertical-align: middle;\n",
       "    }\n",
       "\n",
       "    .dataframe tbody tr th {\n",
       "        vertical-align: top;\n",
       "    }\n",
       "\n",
       "    .dataframe thead th {\n",
       "        text-align: right;\n",
       "    }\n",
       "</style>\n",
       "<table border=\"1\" class=\"dataframe\">\n",
       "  <thead>\n",
       "    <tr style=\"text-align: right;\">\n",
       "      <th></th>\n",
       "      <th>Gender</th>\n",
       "      <th>Annual Income ($)</th>\n",
       "    </tr>\n",
       "  </thead>\n",
       "  <tbody>\n",
       "    <tr>\n",
       "      <th>0</th>\n",
       "      <td>Male</td>\n",
       "      <td>15000</td>\n",
       "    </tr>\n",
       "    <tr>\n",
       "      <th>1</th>\n",
       "      <td>Male</td>\n",
       "      <td>35000</td>\n",
       "    </tr>\n",
       "    <tr>\n",
       "      <th>2</th>\n",
       "      <td>Female</td>\n",
       "      <td>86000</td>\n",
       "    </tr>\n",
       "    <tr>\n",
       "      <th>3</th>\n",
       "      <td>Female</td>\n",
       "      <td>59000</td>\n",
       "    </tr>\n",
       "    <tr>\n",
       "      <th>4</th>\n",
       "      <td>Female</td>\n",
       "      <td>38000</td>\n",
       "    </tr>\n",
       "    <tr>\n",
       "      <th>...</th>\n",
       "      <td>...</td>\n",
       "      <td>...</td>\n",
       "    </tr>\n",
       "    <tr>\n",
       "      <th>95</th>\n",
       "      <td>Male</td>\n",
       "      <td>80000</td>\n",
       "    </tr>\n",
       "    <tr>\n",
       "      <th>96</th>\n",
       "      <td>Female</td>\n",
       "      <td>2000</td>\n",
       "    </tr>\n",
       "    <tr>\n",
       "      <th>97</th>\n",
       "      <td>Female</td>\n",
       "      <td>67000</td>\n",
       "    </tr>\n",
       "    <tr>\n",
       "      <th>98</th>\n",
       "      <td>Male</td>\n",
       "      <td>58000</td>\n",
       "    </tr>\n",
       "    <tr>\n",
       "      <th>99</th>\n",
       "      <td>Male</td>\n",
       "      <td>80000</td>\n",
       "    </tr>\n",
       "  </tbody>\n",
       "</table>\n",
       "<p>99 rows × 2 columns</p>\n",
       "</div>"
      ],
      "text/plain": [
       "    Gender  Annual Income ($)\n",
       "0     Male              15000\n",
       "1     Male              35000\n",
       "2   Female              86000\n",
       "3   Female              59000\n",
       "4   Female              38000\n",
       "..     ...                ...\n",
       "95    Male              80000\n",
       "96  Female               2000\n",
       "97  Female              67000\n",
       "98    Male              58000\n",
       "99    Male              80000\n",
       "\n",
       "[99 rows x 2 columns]"
      ]
     },
     "execution_count": 34,
     "metadata": {},
     "output_type": "execute_result"
    }
   ],
   "source": [
    "df.iloc[:,[1,3]]"
   ]
  },
  {
   "cell_type": "code",
   "execution_count": null,
   "id": "92f30393",
   "metadata": {
    "execution": {
     "iopub.execute_input": "2023-10-25T14:10:48.357690Z",
     "iopub.status.busy": "2023-10-25T14:10:48.356942Z",
     "iopub.status.idle": "2023-10-25T14:10:48.370296Z",
     "shell.execute_reply": "2023-10-25T14:10:48.369499Z"
    },
    "papermill": {
     "duration": 0.091716,
     "end_time": "2023-10-25T14:10:48.372335",
     "exception": false,
     "start_time": "2023-10-25T14:10:48.280619",
     "status": "completed"
    },
    "tags": []
   },
   "outputs": [],
   "source": [
    "df.iloc[10:20,[1,3,5]]"
   ]
  },
  {
   "cell_type": "code",
   "execution_count": null,
   "id": "bcac4e95",
   "metadata": {
    "execution": {
     "iopub.execute_input": "2023-10-25T14:10:48.524680Z",
     "iopub.status.busy": "2023-10-25T14:10:48.523991Z",
     "iopub.status.idle": "2023-10-25T14:10:48.542053Z",
     "shell.execute_reply": "2023-10-25T14:10:48.541067Z"
    },
    "papermill": {
     "duration": 0.095684,
     "end_time": "2023-10-25T14:10:48.544205",
     "exception": false,
     "start_time": "2023-10-25T14:10:48.448521",
     "status": "completed"
    },
    "tags": []
   },
   "outputs": [],
   "source": [
    "df.iloc[:,::-1]"
   ]
  },
  {
   "cell_type": "code",
   "execution_count": 35,
   "id": "a02a5ceb",
   "metadata": {
    "execution": {
     "iopub.execute_input": "2023-10-25T14:10:48.868291Z",
     "iopub.status.busy": "2023-10-25T14:10:48.867506Z",
     "iopub.status.idle": "2023-10-25T14:10:48.879734Z",
     "shell.execute_reply": "2023-10-25T14:10:48.878581Z"
    },
    "papermill": {
     "duration": 0.091711,
     "end_time": "2023-10-25T14:10:48.882056",
     "exception": false,
     "start_time": "2023-10-25T14:10:48.790345",
     "status": "completed"
    },
    "tags": []
   },
   "outputs": [
    {
     "data": {
      "text/html": [
       "<div>\n",
       "<style scoped>\n",
       "    .dataframe tbody tr th:only-of-type {\n",
       "        vertical-align: middle;\n",
       "    }\n",
       "\n",
       "    .dataframe tbody tr th {\n",
       "        vertical-align: top;\n",
       "    }\n",
       "\n",
       "    .dataframe thead th {\n",
       "        text-align: right;\n",
       "    }\n",
       "</style>\n",
       "<table border=\"1\" class=\"dataframe\">\n",
       "  <thead>\n",
       "    <tr style=\"text-align: right;\">\n",
       "      <th></th>\n",
       "      <th>CustomerID</th>\n",
       "      <th>Gender</th>\n",
       "      <th>Age</th>\n",
       "      <th>Annual Income ($)</th>\n",
       "      <th>Spending Score (1-100)</th>\n",
       "      <th>Profession</th>\n",
       "      <th>Work Experience</th>\n",
       "      <th>Family Size</th>\n",
       "    </tr>\n",
       "  </thead>\n",
       "  <tbody>\n",
       "    <tr>\n",
       "      <th>0</th>\n",
       "      <td>1</td>\n",
       "      <td>Male</td>\n",
       "      <td>19</td>\n",
       "      <td>15000</td>\n",
       "      <td>39</td>\n",
       "      <td>Healthcare</td>\n",
       "      <td>1</td>\n",
       "      <td>4</td>\n",
       "    </tr>\n",
       "    <tr>\n",
       "      <th>1</th>\n",
       "      <td>2</td>\n",
       "      <td>Male</td>\n",
       "      <td>21</td>\n",
       "      <td>35000</td>\n",
       "      <td>81</td>\n",
       "      <td>Engineer</td>\n",
       "      <td>3</td>\n",
       "      <td>3</td>\n",
       "    </tr>\n",
       "    <tr>\n",
       "      <th>2</th>\n",
       "      <td>3</td>\n",
       "      <td>Female</td>\n",
       "      <td>20</td>\n",
       "      <td>86000</td>\n",
       "      <td>6</td>\n",
       "      <td>Engineer</td>\n",
       "      <td>1</td>\n",
       "      <td>1</td>\n",
       "    </tr>\n",
       "    <tr>\n",
       "      <th>3</th>\n",
       "      <td>4</td>\n",
       "      <td>Female</td>\n",
       "      <td>23</td>\n",
       "      <td>59000</td>\n",
       "      <td>77</td>\n",
       "      <td>Lawyer</td>\n",
       "      <td>0</td>\n",
       "      <td>2</td>\n",
       "    </tr>\n",
       "    <tr>\n",
       "      <th>4</th>\n",
       "      <td>5</td>\n",
       "      <td>Female</td>\n",
       "      <td>31</td>\n",
       "      <td>38000</td>\n",
       "      <td>40</td>\n",
       "      <td>Entertainment</td>\n",
       "      <td>2</td>\n",
       "      <td>6</td>\n",
       "    </tr>\n",
       "    <tr>\n",
       "      <th>5</th>\n",
       "      <td>6</td>\n",
       "      <td>Female</td>\n",
       "      <td>22</td>\n",
       "      <td>58000</td>\n",
       "      <td>76</td>\n",
       "      <td>Artist</td>\n",
       "      <td>0</td>\n",
       "      <td>2</td>\n",
       "    </tr>\n",
       "    <tr>\n",
       "      <th>6</th>\n",
       "      <td>7</td>\n",
       "      <td>Female</td>\n",
       "      <td>35</td>\n",
       "      <td>31000</td>\n",
       "      <td>6</td>\n",
       "      <td>Healthcare</td>\n",
       "      <td>1</td>\n",
       "      <td>3</td>\n",
       "    </tr>\n",
       "    <tr>\n",
       "      <th>7</th>\n",
       "      <td>8</td>\n",
       "      <td>Female</td>\n",
       "      <td>23</td>\n",
       "      <td>84000</td>\n",
       "      <td>94</td>\n",
       "      <td>Healthcare</td>\n",
       "      <td>1</td>\n",
       "      <td>3</td>\n",
       "    </tr>\n",
       "    <tr>\n",
       "      <th>8</th>\n",
       "      <td>9</td>\n",
       "      <td>Male</td>\n",
       "      <td>64</td>\n",
       "      <td>97000</td>\n",
       "      <td>3</td>\n",
       "      <td>Engineer</td>\n",
       "      <td>0</td>\n",
       "      <td>3</td>\n",
       "    </tr>\n",
       "    <tr>\n",
       "      <th>9</th>\n",
       "      <td>10</td>\n",
       "      <td>Female</td>\n",
       "      <td>30</td>\n",
       "      <td>98000</td>\n",
       "      <td>72</td>\n",
       "      <td>Artist</td>\n",
       "      <td>1</td>\n",
       "      <td>4</td>\n",
       "    </tr>\n",
       "  </tbody>\n",
       "</table>\n",
       "</div>"
      ],
      "text/plain": [
       "   CustomerID  Gender  Age  Annual Income ($)  Spending Score (1-100)  \\\n",
       "0           1    Male   19              15000                      39   \n",
       "1           2    Male   21              35000                      81   \n",
       "2           3  Female   20              86000                       6   \n",
       "3           4  Female   23              59000                      77   \n",
       "4           5  Female   31              38000                      40   \n",
       "5           6  Female   22              58000                      76   \n",
       "6           7  Female   35              31000                       6   \n",
       "7           8  Female   23              84000                      94   \n",
       "8           9    Male   64              97000                       3   \n",
       "9          10  Female   30              98000                      72   \n",
       "\n",
       "      Profession  Work Experience  Family Size  \n",
       "0     Healthcare                1            4  \n",
       "1       Engineer                3            3  \n",
       "2       Engineer                1            1  \n",
       "3         Lawyer                0            2  \n",
       "4  Entertainment                2            6  \n",
       "5         Artist                0            2  \n",
       "6     Healthcare                1            3  \n",
       "7     Healthcare                1            3  \n",
       "8       Engineer                0            3  \n",
       "9         Artist                1            4  "
      ]
     },
     "execution_count": 35,
     "metadata": {},
     "output_type": "execute_result"
    }
   ],
   "source": [
    "df[:10]"
   ]
  },
  {
   "cell_type": "code",
   "execution_count": 36,
   "id": "fffe6007",
   "metadata": {
    "execution": {
     "iopub.execute_input": "2023-10-25T14:10:49.370434Z",
     "iopub.status.busy": "2023-10-25T14:10:49.370064Z",
     "iopub.status.idle": "2023-10-25T14:10:49.384301Z",
     "shell.execute_reply": "2023-10-25T14:10:49.383335Z"
    },
    "papermill": {
     "duration": 0.094694,
     "end_time": "2023-10-25T14:10:49.386318",
     "exception": false,
     "start_time": "2023-10-25T14:10:49.291624",
     "status": "completed"
    },
    "tags": []
   },
   "outputs": [
    {
     "data": {
      "text/html": [
       "<div>\n",
       "<style scoped>\n",
       "    .dataframe tbody tr th:only-of-type {\n",
       "        vertical-align: middle;\n",
       "    }\n",
       "\n",
       "    .dataframe tbody tr th {\n",
       "        vertical-align: top;\n",
       "    }\n",
       "\n",
       "    .dataframe thead th {\n",
       "        text-align: right;\n",
       "    }\n",
       "</style>\n",
       "<table border=\"1\" class=\"dataframe\">\n",
       "  <thead>\n",
       "    <tr style=\"text-align: right;\">\n",
       "      <th></th>\n",
       "      <th>Gender</th>\n",
       "      <th>Age</th>\n",
       "    </tr>\n",
       "  </thead>\n",
       "  <tbody>\n",
       "    <tr>\n",
       "      <th>0</th>\n",
       "      <td>Male</td>\n",
       "      <td>19</td>\n",
       "    </tr>\n",
       "    <tr>\n",
       "      <th>1</th>\n",
       "      <td>Male</td>\n",
       "      <td>21</td>\n",
       "    </tr>\n",
       "    <tr>\n",
       "      <th>2</th>\n",
       "      <td>Female</td>\n",
       "      <td>20</td>\n",
       "    </tr>\n",
       "    <tr>\n",
       "      <th>3</th>\n",
       "      <td>Female</td>\n",
       "      <td>23</td>\n",
       "    </tr>\n",
       "    <tr>\n",
       "      <th>4</th>\n",
       "      <td>Female</td>\n",
       "      <td>31</td>\n",
       "    </tr>\n",
       "    <tr>\n",
       "      <th>...</th>\n",
       "      <td>...</td>\n",
       "      <td>...</td>\n",
       "    </tr>\n",
       "    <tr>\n",
       "      <th>95</th>\n",
       "      <td>Male</td>\n",
       "      <td>24</td>\n",
       "    </tr>\n",
       "    <tr>\n",
       "      <th>96</th>\n",
       "      <td>Female</td>\n",
       "      <td>47</td>\n",
       "    </tr>\n",
       "    <tr>\n",
       "      <th>97</th>\n",
       "      <td>Female</td>\n",
       "      <td>27</td>\n",
       "    </tr>\n",
       "    <tr>\n",
       "      <th>98</th>\n",
       "      <td>Male</td>\n",
       "      <td>48</td>\n",
       "    </tr>\n",
       "    <tr>\n",
       "      <th>99</th>\n",
       "      <td>Male</td>\n",
       "      <td>20</td>\n",
       "    </tr>\n",
       "  </tbody>\n",
       "</table>\n",
       "<p>99 rows × 2 columns</p>\n",
       "</div>"
      ],
      "text/plain": [
       "    Gender  Age\n",
       "0     Male   19\n",
       "1     Male   21\n",
       "2   Female   20\n",
       "3   Female   23\n",
       "4   Female   31\n",
       "..     ...  ...\n",
       "95    Male   24\n",
       "96  Female   47\n",
       "97  Female   27\n",
       "98    Male   48\n",
       "99    Male   20\n",
       "\n",
       "[99 rows x 2 columns]"
      ]
     },
     "execution_count": 36,
     "metadata": {},
     "output_type": "execute_result"
    }
   ],
   "source": [
    "df[['Gender','Age']]"
   ]
  },
  {
   "cell_type": "code",
   "execution_count": 37,
   "id": "9a861b37",
   "metadata": {},
   "outputs": [
    {
     "data": {
      "text/html": [
       "<div>\n",
       "<style scoped>\n",
       "    .dataframe tbody tr th:only-of-type {\n",
       "        vertical-align: middle;\n",
       "    }\n",
       "\n",
       "    .dataframe tbody tr th {\n",
       "        vertical-align: top;\n",
       "    }\n",
       "\n",
       "    .dataframe thead th {\n",
       "        text-align: right;\n",
       "    }\n",
       "</style>\n",
       "<table border=\"1\" class=\"dataframe\">\n",
       "  <thead>\n",
       "    <tr style=\"text-align: right;\">\n",
       "      <th></th>\n",
       "      <th>CustomerID</th>\n",
       "      <th>Gender</th>\n",
       "      <th>Age</th>\n",
       "      <th>Annual Income ($)</th>\n",
       "      <th>Spending Score (1-100)</th>\n",
       "      <th>Profession</th>\n",
       "      <th>Work Experience</th>\n",
       "      <th>Family Size</th>\n",
       "    </tr>\n",
       "  </thead>\n",
       "  <tbody>\n",
       "    <tr>\n",
       "      <th>0</th>\n",
       "      <td>1</td>\n",
       "      <td>Male</td>\n",
       "      <td>19</td>\n",
       "      <td>15000</td>\n",
       "      <td>39</td>\n",
       "      <td>Healthcare</td>\n",
       "      <td>1</td>\n",
       "      <td>4</td>\n",
       "    </tr>\n",
       "    <tr>\n",
       "      <th>1</th>\n",
       "      <td>2</td>\n",
       "      <td>Male</td>\n",
       "      <td>21</td>\n",
       "      <td>35000</td>\n",
       "      <td>81</td>\n",
       "      <td>Engineer</td>\n",
       "      <td>3</td>\n",
       "      <td>3</td>\n",
       "    </tr>\n",
       "    <tr>\n",
       "      <th>2</th>\n",
       "      <td>3</td>\n",
       "      <td>Female</td>\n",
       "      <td>20</td>\n",
       "      <td>86000</td>\n",
       "      <td>6</td>\n",
       "      <td>Engineer</td>\n",
       "      <td>1</td>\n",
       "      <td>1</td>\n",
       "    </tr>\n",
       "    <tr>\n",
       "      <th>3</th>\n",
       "      <td>4</td>\n",
       "      <td>Female</td>\n",
       "      <td>23</td>\n",
       "      <td>59000</td>\n",
       "      <td>77</td>\n",
       "      <td>Lawyer</td>\n",
       "      <td>0</td>\n",
       "      <td>2</td>\n",
       "    </tr>\n",
       "    <tr>\n",
       "      <th>4</th>\n",
       "      <td>5</td>\n",
       "      <td>Female</td>\n",
       "      <td>31</td>\n",
       "      <td>38000</td>\n",
       "      <td>40</td>\n",
       "      <td>Entertainment</td>\n",
       "      <td>2</td>\n",
       "      <td>6</td>\n",
       "    </tr>\n",
       "    <tr>\n",
       "      <th>...</th>\n",
       "      <td>...</td>\n",
       "      <td>...</td>\n",
       "      <td>...</td>\n",
       "      <td>...</td>\n",
       "      <td>...</td>\n",
       "      <td>...</td>\n",
       "      <td>...</td>\n",
       "      <td>...</td>\n",
       "    </tr>\n",
       "    <tr>\n",
       "      <th>95</th>\n",
       "      <td>96</td>\n",
       "      <td>Male</td>\n",
       "      <td>24</td>\n",
       "      <td>80000</td>\n",
       "      <td>52</td>\n",
       "      <td>Artist</td>\n",
       "      <td>10</td>\n",
       "      <td>1</td>\n",
       "    </tr>\n",
       "    <tr>\n",
       "      <th>96</th>\n",
       "      <td>97</td>\n",
       "      <td>Female</td>\n",
       "      <td>47</td>\n",
       "      <td>2000</td>\n",
       "      <td>47</td>\n",
       "      <td>Artist</td>\n",
       "      <td>0</td>\n",
       "      <td>1</td>\n",
       "    </tr>\n",
       "    <tr>\n",
       "      <th>97</th>\n",
       "      <td>98</td>\n",
       "      <td>Female</td>\n",
       "      <td>27</td>\n",
       "      <td>67000</td>\n",
       "      <td>50</td>\n",
       "      <td>Artist</td>\n",
       "      <td>0</td>\n",
       "      <td>2</td>\n",
       "    </tr>\n",
       "    <tr>\n",
       "      <th>98</th>\n",
       "      <td>99</td>\n",
       "      <td>Male</td>\n",
       "      <td>48</td>\n",
       "      <td>58000</td>\n",
       "      <td>42</td>\n",
       "      <td>Doctor</td>\n",
       "      <td>1</td>\n",
       "      <td>2</td>\n",
       "    </tr>\n",
       "    <tr>\n",
       "      <th>99</th>\n",
       "      <td>100</td>\n",
       "      <td>Male</td>\n",
       "      <td>20</td>\n",
       "      <td>80000</td>\n",
       "      <td>49</td>\n",
       "      <td>Engineer</td>\n",
       "      <td>3</td>\n",
       "      <td>3</td>\n",
       "    </tr>\n",
       "  </tbody>\n",
       "</table>\n",
       "<p>99 rows × 8 columns</p>\n",
       "</div>"
      ],
      "text/plain": [
       "    CustomerID  Gender  Age  Annual Income ($)  Spending Score (1-100)  \\\n",
       "0            1    Male   19              15000                      39   \n",
       "1            2    Male   21              35000                      81   \n",
       "2            3  Female   20              86000                       6   \n",
       "3            4  Female   23              59000                      77   \n",
       "4            5  Female   31              38000                      40   \n",
       "..         ...     ...  ...                ...                     ...   \n",
       "95          96    Male   24              80000                      52   \n",
       "96          97  Female   47               2000                      47   \n",
       "97          98  Female   27              67000                      50   \n",
       "98          99    Male   48              58000                      42   \n",
       "99         100    Male   20              80000                      49   \n",
       "\n",
       "       Profession  Work Experience  Family Size  \n",
       "0      Healthcare                1            4  \n",
       "1        Engineer                3            3  \n",
       "2        Engineer                1            1  \n",
       "3          Lawyer                0            2  \n",
       "4   Entertainment                2            6  \n",
       "..            ...              ...          ...  \n",
       "95         Artist               10            1  \n",
       "96         Artist                0            1  \n",
       "97         Artist                0            2  \n",
       "98         Doctor                1            2  \n",
       "99       Engineer                3            3  \n",
       "\n",
       "[99 rows x 8 columns]"
      ]
     },
     "execution_count": 37,
     "metadata": {},
     "output_type": "execute_result"
    }
   ],
   "source": [
    "df"
   ]
  },
  {
   "cell_type": "code",
   "execution_count": 38,
   "id": "35139396",
   "metadata": {
    "execution": {
     "iopub.execute_input": "2023-10-25T14:10:50.896467Z",
     "iopub.status.busy": "2023-10-25T14:10:50.896083Z",
     "iopub.status.idle": "2023-10-25T14:10:50.908779Z",
     "shell.execute_reply": "2023-10-25T14:10:50.907833Z"
    },
    "papermill": {
     "duration": 0.097706,
     "end_time": "2023-10-25T14:10:50.910817",
     "exception": false,
     "start_time": "2023-10-25T14:10:50.813111",
     "status": "completed"
    },
    "tags": []
   },
   "outputs": [
    {
     "data": {
      "text/html": [
       "<div>\n",
       "<style scoped>\n",
       "    .dataframe tbody tr th:only-of-type {\n",
       "        vertical-align: middle;\n",
       "    }\n",
       "\n",
       "    .dataframe tbody tr th {\n",
       "        vertical-align: top;\n",
       "    }\n",
       "\n",
       "    .dataframe thead th {\n",
       "        text-align: right;\n",
       "    }\n",
       "</style>\n",
       "<table border=\"1\" class=\"dataframe\">\n",
       "  <thead>\n",
       "    <tr style=\"text-align: right;\">\n",
       "      <th></th>\n",
       "      <th>CustomerID</th>\n",
       "      <th>Gender</th>\n",
       "      <th>Age</th>\n",
       "      <th>Annual Income ($)</th>\n",
       "      <th>Spending Score (1-100)</th>\n",
       "      <th>Profession</th>\n",
       "      <th>Work Experience</th>\n",
       "      <th>Family Size</th>\n",
       "    </tr>\n",
       "  </thead>\n",
       "  <tbody>\n",
       "    <tr>\n",
       "      <th>10</th>\n",
       "      <td>11</td>\n",
       "      <td>Male</td>\n",
       "      <td>67</td>\n",
       "      <td>7000</td>\n",
       "      <td>14</td>\n",
       "      <td>Engineer</td>\n",
       "      <td>1</td>\n",
       "      <td>3</td>\n",
       "    </tr>\n",
       "    <tr>\n",
       "      <th>57</th>\n",
       "      <td>58</td>\n",
       "      <td>Male</td>\n",
       "      <td>69</td>\n",
       "      <td>8000</td>\n",
       "      <td>46</td>\n",
       "      <td>Doctor</td>\n",
       "      <td>8</td>\n",
       "      <td>2</td>\n",
       "    </tr>\n",
       "    <tr>\n",
       "      <th>40</th>\n",
       "      <td>41</td>\n",
       "      <td>Female</td>\n",
       "      <td>65</td>\n",
       "      <td>25000</td>\n",
       "      <td>35</td>\n",
       "      <td>Artist</td>\n",
       "      <td>4</td>\n",
       "      <td>1</td>\n",
       "    </tr>\n",
       "    <tr>\n",
       "      <th>90</th>\n",
       "      <td>91</td>\n",
       "      <td>Female</td>\n",
       "      <td>68</td>\n",
       "      <td>46000</td>\n",
       "      <td>55</td>\n",
       "      <td>Entertainment</td>\n",
       "      <td>0</td>\n",
       "      <td>3</td>\n",
       "    </tr>\n",
       "    <tr>\n",
       "      <th>62</th>\n",
       "      <td>63</td>\n",
       "      <td>Female</td>\n",
       "      <td>67</td>\n",
       "      <td>50000</td>\n",
       "      <td>52</td>\n",
       "      <td>Lawyer</td>\n",
       "      <td>0</td>\n",
       "      <td>3</td>\n",
       "    </tr>\n",
       "    <tr>\n",
       "      <th>64</th>\n",
       "      <td>65</td>\n",
       "      <td>Male</td>\n",
       "      <td>63</td>\n",
       "      <td>63000</td>\n",
       "      <td>51</td>\n",
       "      <td>Lawyer</td>\n",
       "      <td>7</td>\n",
       "      <td>2</td>\n",
       "    </tr>\n",
       "    <tr>\n",
       "      <th>67</th>\n",
       "      <td>68</td>\n",
       "      <td>Female</td>\n",
       "      <td>68</td>\n",
       "      <td>82000</td>\n",
       "      <td>48</td>\n",
       "      <td>Artist</td>\n",
       "      <td>8</td>\n",
       "      <td>4</td>\n",
       "    </tr>\n",
       "    <tr>\n",
       "      <th>60</th>\n",
       "      <td>61</td>\n",
       "      <td>Male</td>\n",
       "      <td>70</td>\n",
       "      <td>84000</td>\n",
       "      <td>56</td>\n",
       "      <td>Artist</td>\n",
       "      <td>0</td>\n",
       "      <td>2</td>\n",
       "    </tr>\n",
       "    <tr>\n",
       "      <th>70</th>\n",
       "      <td>71</td>\n",
       "      <td>Male</td>\n",
       "      <td>70</td>\n",
       "      <td>91000</td>\n",
       "      <td>55</td>\n",
       "      <td>Healthcare</td>\n",
       "      <td>8</td>\n",
       "      <td>2</td>\n",
       "    </tr>\n",
       "    <tr>\n",
       "      <th>8</th>\n",
       "      <td>9</td>\n",
       "      <td>Male</td>\n",
       "      <td>64</td>\n",
       "      <td>97000</td>\n",
       "      <td>3</td>\n",
       "      <td>Engineer</td>\n",
       "      <td>0</td>\n",
       "      <td>3</td>\n",
       "    </tr>\n",
       "    <tr>\n",
       "      <th>82</th>\n",
       "      <td>83</td>\n",
       "      <td>Male</td>\n",
       "      <td>67</td>\n",
       "      <td>120000</td>\n",
       "      <td>41</td>\n",
       "      <td>Artist</td>\n",
       "      <td>8</td>\n",
       "      <td>1</td>\n",
       "    </tr>\n",
       "  </tbody>\n",
       "</table>\n",
       "</div>"
      ],
      "text/plain": [
       "    CustomerID  Gender  Age  Annual Income ($)  Spending Score (1-100)  \\\n",
       "10          11    Male   67               7000                      14   \n",
       "57          58    Male   69               8000                      46   \n",
       "40          41  Female   65              25000                      35   \n",
       "90          91  Female   68              46000                      55   \n",
       "62          63  Female   67              50000                      52   \n",
       "64          65    Male   63              63000                      51   \n",
       "67          68  Female   68              82000                      48   \n",
       "60          61    Male   70              84000                      56   \n",
       "70          71    Male   70              91000                      55   \n",
       "8            9    Male   64              97000                       3   \n",
       "82          83    Male   67             120000                      41   \n",
       "\n",
       "       Profession  Work Experience  Family Size  \n",
       "10       Engineer                1            3  \n",
       "57         Doctor                8            2  \n",
       "40         Artist                4            1  \n",
       "90  Entertainment                0            3  \n",
       "62         Lawyer                0            3  \n",
       "64         Lawyer                7            2  \n",
       "67         Artist                8            4  \n",
       "60         Artist                0            2  \n",
       "70     Healthcare                8            2  \n",
       "8        Engineer                0            3  \n",
       "82         Artist                8            1  "
      ]
     },
     "execution_count": 38,
     "metadata": {},
     "output_type": "execute_result"
    }
   ],
   "source": [
    "df[df['Age']>60].sort_values('Annual Income ($)')"
   ]
  },
  {
   "cell_type": "code",
   "execution_count": 39,
   "id": "40504fb0",
   "metadata": {
    "execution": {
     "iopub.execute_input": "2023-10-25T14:10:51.073152Z",
     "iopub.status.busy": "2023-10-25T14:10:51.072782Z",
     "iopub.status.idle": "2023-10-25T14:10:51.086215Z",
     "shell.execute_reply": "2023-10-25T14:10:51.085069Z"
    },
    "papermill": {
     "duration": 0.09644,
     "end_time": "2023-10-25T14:10:51.088661",
     "exception": false,
     "start_time": "2023-10-25T14:10:50.992221",
     "status": "completed"
    },
    "tags": []
   },
   "outputs": [
    {
     "data": {
      "text/html": [
       "<div>\n",
       "<style scoped>\n",
       "    .dataframe tbody tr th:only-of-type {\n",
       "        vertical-align: middle;\n",
       "    }\n",
       "\n",
       "    .dataframe tbody tr th {\n",
       "        vertical-align: top;\n",
       "    }\n",
       "\n",
       "    .dataframe thead th {\n",
       "        text-align: right;\n",
       "    }\n",
       "</style>\n",
       "<table border=\"1\" class=\"dataframe\">\n",
       "  <thead>\n",
       "    <tr style=\"text-align: right;\">\n",
       "      <th></th>\n",
       "      <th>CustomerID</th>\n",
       "      <th>Gender</th>\n",
       "      <th>Age</th>\n",
       "      <th>Annual Income ($)</th>\n",
       "      <th>Spending Score (1-100)</th>\n",
       "      <th>Profession</th>\n",
       "      <th>Work Experience</th>\n",
       "      <th>Family Size</th>\n",
       "    </tr>\n",
       "  </thead>\n",
       "  <tbody>\n",
       "    <tr>\n",
       "      <th>40</th>\n",
       "      <td>41</td>\n",
       "      <td>Female</td>\n",
       "      <td>65</td>\n",
       "      <td>25000</td>\n",
       "      <td>35</td>\n",
       "      <td>Artist</td>\n",
       "      <td>4</td>\n",
       "      <td>1</td>\n",
       "    </tr>\n",
       "    <tr>\n",
       "      <th>82</th>\n",
       "      <td>83</td>\n",
       "      <td>Male</td>\n",
       "      <td>67</td>\n",
       "      <td>120000</td>\n",
       "      <td>41</td>\n",
       "      <td>Artist</td>\n",
       "      <td>8</td>\n",
       "      <td>1</td>\n",
       "    </tr>\n",
       "    <tr>\n",
       "      <th>64</th>\n",
       "      <td>65</td>\n",
       "      <td>Male</td>\n",
       "      <td>63</td>\n",
       "      <td>63000</td>\n",
       "      <td>51</td>\n",
       "      <td>Lawyer</td>\n",
       "      <td>7</td>\n",
       "      <td>2</td>\n",
       "    </tr>\n",
       "    <tr>\n",
       "      <th>57</th>\n",
       "      <td>58</td>\n",
       "      <td>Male</td>\n",
       "      <td>69</td>\n",
       "      <td>8000</td>\n",
       "      <td>46</td>\n",
       "      <td>Doctor</td>\n",
       "      <td>8</td>\n",
       "      <td>2</td>\n",
       "    </tr>\n",
       "    <tr>\n",
       "      <th>60</th>\n",
       "      <td>61</td>\n",
       "      <td>Male</td>\n",
       "      <td>70</td>\n",
       "      <td>84000</td>\n",
       "      <td>56</td>\n",
       "      <td>Artist</td>\n",
       "      <td>0</td>\n",
       "      <td>2</td>\n",
       "    </tr>\n",
       "    <tr>\n",
       "      <th>70</th>\n",
       "      <td>71</td>\n",
       "      <td>Male</td>\n",
       "      <td>70</td>\n",
       "      <td>91000</td>\n",
       "      <td>55</td>\n",
       "      <td>Healthcare</td>\n",
       "      <td>8</td>\n",
       "      <td>2</td>\n",
       "    </tr>\n",
       "    <tr>\n",
       "      <th>8</th>\n",
       "      <td>9</td>\n",
       "      <td>Male</td>\n",
       "      <td>64</td>\n",
       "      <td>97000</td>\n",
       "      <td>3</td>\n",
       "      <td>Engineer</td>\n",
       "      <td>0</td>\n",
       "      <td>3</td>\n",
       "    </tr>\n",
       "    <tr>\n",
       "      <th>10</th>\n",
       "      <td>11</td>\n",
       "      <td>Male</td>\n",
       "      <td>67</td>\n",
       "      <td>7000</td>\n",
       "      <td>14</td>\n",
       "      <td>Engineer</td>\n",
       "      <td>1</td>\n",
       "      <td>3</td>\n",
       "    </tr>\n",
       "    <tr>\n",
       "      <th>62</th>\n",
       "      <td>63</td>\n",
       "      <td>Female</td>\n",
       "      <td>67</td>\n",
       "      <td>50000</td>\n",
       "      <td>52</td>\n",
       "      <td>Lawyer</td>\n",
       "      <td>0</td>\n",
       "      <td>3</td>\n",
       "    </tr>\n",
       "    <tr>\n",
       "      <th>90</th>\n",
       "      <td>91</td>\n",
       "      <td>Female</td>\n",
       "      <td>68</td>\n",
       "      <td>46000</td>\n",
       "      <td>55</td>\n",
       "      <td>Entertainment</td>\n",
       "      <td>0</td>\n",
       "      <td>3</td>\n",
       "    </tr>\n",
       "    <tr>\n",
       "      <th>67</th>\n",
       "      <td>68</td>\n",
       "      <td>Female</td>\n",
       "      <td>68</td>\n",
       "      <td>82000</td>\n",
       "      <td>48</td>\n",
       "      <td>Artist</td>\n",
       "      <td>8</td>\n",
       "      <td>4</td>\n",
       "    </tr>\n",
       "  </tbody>\n",
       "</table>\n",
       "</div>"
      ],
      "text/plain": [
       "    CustomerID  Gender  Age  Annual Income ($)  Spending Score (1-100)  \\\n",
       "40          41  Female   65              25000                      35   \n",
       "82          83    Male   67             120000                      41   \n",
       "64          65    Male   63              63000                      51   \n",
       "57          58    Male   69               8000                      46   \n",
       "60          61    Male   70              84000                      56   \n",
       "70          71    Male   70              91000                      55   \n",
       "8            9    Male   64              97000                       3   \n",
       "10          11    Male   67               7000                      14   \n",
       "62          63  Female   67              50000                      52   \n",
       "90          91  Female   68              46000                      55   \n",
       "67          68  Female   68              82000                      48   \n",
       "\n",
       "       Profession  Work Experience  Family Size  \n",
       "40         Artist                4            1  \n",
       "82         Artist                8            1  \n",
       "64         Lawyer                7            2  \n",
       "57         Doctor                8            2  \n",
       "60         Artist                0            2  \n",
       "70     Healthcare                8            2  \n",
       "8        Engineer                0            3  \n",
       "10       Engineer                1            3  \n",
       "62         Lawyer                0            3  \n",
       "90  Entertainment                0            3  \n",
       "67         Artist                8            4  "
      ]
     },
     "execution_count": 39,
     "metadata": {},
     "output_type": "execute_result"
    }
   ],
   "source": [
    "df[df['Age']>60].sort_values(['Family Size','Age'])"
   ]
  },
  {
   "cell_type": "code",
   "execution_count": 40,
   "id": "7da6a6d9",
   "metadata": {
    "execution": {
     "iopub.execute_input": "2023-10-25T14:10:52.387456Z",
     "iopub.status.busy": "2023-10-25T14:10:52.387078Z",
     "iopub.status.idle": "2023-10-25T14:10:52.393587Z",
     "shell.execute_reply": "2023-10-25T14:10:52.392549Z"
    },
    "papermill": {
     "duration": 0.091136,
     "end_time": "2023-10-25T14:10:52.395755",
     "exception": false,
     "start_time": "2023-10-25T14:10:52.304619",
     "status": "completed"
    },
    "tags": []
   },
   "outputs": [
    {
     "data": {
      "text/plain": [
       "np.int64(19)"
      ]
     },
     "execution_count": 40,
     "metadata": {},
     "output_type": "execute_result"
    }
   ],
   "source": [
    "df.at[0,'Age'] # возраст в нулевой строке"
   ]
  },
  {
   "cell_type": "code",
   "execution_count": null,
   "id": "d02b5bad",
   "metadata": {
    "execution": {
     "iopub.execute_input": "2023-10-25T14:10:52.727783Z",
     "iopub.status.busy": "2023-10-25T14:10:52.727387Z",
     "iopub.status.idle": "2023-10-25T14:10:52.734248Z",
     "shell.execute_reply": "2023-10-25T14:10:52.732800Z"
    },
    "papermill": {
     "duration": 0.089843,
     "end_time": "2023-10-25T14:10:52.736505",
     "exception": false,
     "start_time": "2023-10-25T14:10:52.646662",
     "status": "completed"
    },
    "tags": []
   },
   "outputs": [],
   "source": [
    "df.iat[0,2] #нулевая строка во втором (третьем) столбце"
   ]
  },
  {
   "cell_type": "code",
   "execution_count": null,
   "id": "da7a8d07",
   "metadata": {
    "execution": {
     "iopub.execute_input": "2023-10-25T14:10:53.073142Z",
     "iopub.status.busy": "2023-10-25T14:10:53.072738Z",
     "iopub.status.idle": "2023-10-25T14:10:53.083317Z",
     "shell.execute_reply": "2023-10-25T14:10:53.082173Z"
    },
    "papermill": {
     "duration": 0.094577,
     "end_time": "2023-10-25T14:10:53.085303",
     "exception": false,
     "start_time": "2023-10-25T14:10:52.990726",
     "status": "completed"
    },
    "tags": []
   },
   "outputs": [],
   "source": [
    "df.iloc[1:5,1:3]"
   ]
  },
  {
   "cell_type": "code",
   "execution_count": null,
   "id": "d31c99f0",
   "metadata": {
    "execution": {
     "iopub.execute_input": "2023-10-25T14:10:53.249825Z",
     "iopub.status.busy": "2023-10-25T14:10:53.249446Z",
     "iopub.status.idle": "2023-10-25T14:10:53.260749Z",
     "shell.execute_reply": "2023-10-25T14:10:53.259644Z"
    },
    "papermill": {
     "duration": 0.096195,
     "end_time": "2023-10-25T14:10:53.262741",
     "exception": false,
     "start_time": "2023-10-25T14:10:53.166546",
     "status": "completed"
    },
    "tags": []
   },
   "outputs": [],
   "source": [
    "df.loc[1:5,['Gender','Age']]"
   ]
  },
  {
   "cell_type": "markdown",
   "id": "0aa32291",
   "metadata": {
    "papermill": {
     "duration": 0.080138,
     "end_time": "2023-10-25T14:10:53.423730",
     "exception": false,
     "start_time": "2023-10-25T14:10:53.343592",
     "status": "completed"
    },
    "tags": []
   },
   "source": [
    "# Очистка и преобразование данных\n",
    "Data cleaning and transformation are crucial steps in the data preprocessing and analysis pipeline. Pandas provides numerous functions for cleaning and transforming data in DataFrames. Here are some common functions and techniques for data cleaning and transformation in Pandas:\n",
    "\n",
    "1. **Handling Missing Values**:\n",
    "\n",
    "   - `df.dropna()`: Removes rows or columns with missing values.\n",
    "   - `df.fillna(value)`: Fills missing values with a specified value.\n",
    "   - `df.interpolate()`: Interpolates missing values based on various methods (e.g., linear or polynomial).\n",
    "\n",
    "2. **Changing Data Types**:\n",
    "\n",
    "   - `df.astype(dtype)`: Converts the data type of one or more columns.\n",
    "   - `pd.to_numeric()`, `pd.to_datetime()`, `pd.to_timedelta()`: Converts data to specific data types.\n",
    "\n",
    "3. **Data Aggregation and Grouping**:\n",
    "\n",
    "   - `df.groupby()`: Groups data based on one or more columns for aggregation.\n",
    "   - `agg()`: Performs aggregation operations (e.g., sum, mean, count) on grouped data.\n",
    "   - `pivot_table()`: Creates pivot tables for summarizing data.\n",
    "\n",
    "4. **Renaming and Reindexing**:\n",
    "\n",
    "   - `df.rename()`: Renames columns or indexes.\n",
    "   - `df.set_index()`: Sets a specific column as the DataFrame's index.\n",
    "   - `df.reset_index()`: Resets the index.\n",
    "\n",
    "5. **Dropping Columns**:\n",
    "\n",
    "   - `df.drop(columns)`: Drops specified columns.\n",
    "   - `df.pop(column)`: Removes and returns a specific column.\n",
    "\n",
    "6. **String Manipulation**:\n",
    "\n",
    "   - `str.lower()`, `str.upper()`, `str.strip()`: Performs string operations on text columns.\n",
    "   - `str.contains()`, `str.replace()`: Searches for and replaces text in columns.\n",
    "\n",
    "7. **Duplicated Data**:\n",
    "\n",
    "   - `df.duplicated()`: Identifies duplicate rows.\n",
    "   - `df.drop_duplicates()`: Removes duplicate rows.\n",
    "\n",
    "8. **Applying Custom Functions**:\n",
    "\n",
    "   - `apply(func)`, `applymap(func)`: Applies a custom function element-wise or row-wise.\n",
    "   - `transform(func)`: Applies a custom function element-wise and retains the DataFrame shape.\n",
    "\n",
    "9.  **Merging and Joining Data**:\n",
    "\n",
    "    - `concat()`, `merge()`: Combines multiple DataFrames.\n",
    "    - `join()`: Joins DataFrames on a common column.\n",
    "\n",
    "10. **Reshaping Data**:\n",
    "\n",
    "    - `melt()`: Unpivots data from wide to long format.\n",
    "    - `pivot()`: Pivots data from long to wide format.\n",
    "\n",
    "11. **Handling Datetime Data**:\n",
    "\n",
    "    - Extracting date, time, and other components from datetime columns.\n",
    "\n",
    "12. **Handling Categorical Data**:\n",
    "\n",
    "    - Encoding categorical variables into numerical format.\n",
    "\n",
    "13. **Mathematical and Statistical Transformations**:\n",
    "\n",
    "    - `df.apply()`: Apply mathematical or statistical functions row-wise or column-wise.\n",
    "\n",
    "14. **Custom Data Cleaning and Transformation**:\n",
    "\n",
    "    - Writing custom functions and transformations to address domain-specific needs.\n",
    "\n",
    "Data cleaning and transformation are highly dependent on the specific dataset and analysis goals. Pandas offers a wide range of functions to support these operations, allowing you to preprocess and manipulate data effectively before analysis."
   ]
  },
  {
   "cell_type": "markdown",
   "id": "c2dde83d",
   "metadata": {
    "papermill": {
     "duration": 0.079191,
     "end_time": "2023-10-25T14:10:53.582535",
     "exception": false,
     "start_time": "2023-10-25T14:10:53.503344",
     "status": "completed"
    },
    "tags": []
   },
   "source": [
    "#### 1. **Базовая работа с пропусками**:\n",
    "\n",
    "   - `df.dropna()`: Removes rows or columns with missing values.\n",
    "   - `df.fillna(value)`: Fills missing values with a specified value.\n",
    "   - `df.interpolate()`: Interpolates missing values based on various methods (e.g., linear or polynomial)."
   ]
  },
  {
   "cell_type": "code",
   "execution_count": 41,
   "id": "dccb6c41",
   "metadata": {
    "execution": {
     "iopub.execute_input": "2023-10-25T14:10:53.747658Z",
     "iopub.status.busy": "2023-10-25T14:10:53.747289Z",
     "iopub.status.idle": "2023-10-25T14:10:53.754026Z",
     "shell.execute_reply": "2023-10-25T14:10:53.752900Z"
    },
    "papermill": {
     "duration": 0.091284,
     "end_time": "2023-10-25T14:10:53.756175",
     "exception": false,
     "start_time": "2023-10-25T14:10:53.664891",
     "status": "completed"
    },
    "tags": []
   },
   "outputs": [],
   "source": [
    "df = pd.read_csv(f'{path}/Customers.csv')"
   ]
  },
  {
   "cell_type": "code",
   "execution_count": null,
   "id": "ba928e4b",
   "metadata": {
    "execution": {
     "iopub.execute_input": "2023-10-25T14:10:54.449646Z",
     "iopub.status.busy": "2023-10-25T14:10:54.448907Z",
     "iopub.status.idle": "2023-10-25T14:10:54.461902Z",
     "shell.execute_reply": "2023-10-25T14:10:54.460846Z"
    },
    "papermill": {
     "duration": 0.098135,
     "end_time": "2023-10-25T14:10:54.464072",
     "exception": false,
     "start_time": "2023-10-25T14:10:54.365937",
     "status": "completed"
    },
    "tags": []
   },
   "outputs": [],
   "source": [
    "df.dropna()"
   ]
  },
  {
   "cell_type": "code",
   "execution_count": 42,
   "id": "544053c6",
   "metadata": {
    "execution": {
     "iopub.execute_input": "2023-10-25T14:10:54.631676Z",
     "iopub.status.busy": "2023-10-25T14:10:54.629421Z",
     "iopub.status.idle": "2023-10-25T14:10:54.643923Z",
     "shell.execute_reply": "2023-10-25T14:10:54.642840Z"
    },
    "papermill": {
     "duration": 0.099615,
     "end_time": "2023-10-25T14:10:54.645948",
     "exception": false,
     "start_time": "2023-10-25T14:10:54.546333",
     "status": "completed"
    },
    "tags": []
   },
   "outputs": [
    {
     "data": {
      "text/html": [
       "<div>\n",
       "<style scoped>\n",
       "    .dataframe tbody tr th:only-of-type {\n",
       "        vertical-align: middle;\n",
       "    }\n",
       "\n",
       "    .dataframe tbody tr th {\n",
       "        vertical-align: top;\n",
       "    }\n",
       "\n",
       "    .dataframe thead th {\n",
       "        text-align: right;\n",
       "    }\n",
       "</style>\n",
       "<table border=\"1\" class=\"dataframe\">\n",
       "  <thead>\n",
       "    <tr style=\"text-align: right;\">\n",
       "      <th></th>\n",
       "      <th>CustomerID</th>\n",
       "      <th>Gender</th>\n",
       "      <th>Age</th>\n",
       "      <th>Annual Income ($)</th>\n",
       "      <th>Spending Score (1-100)</th>\n",
       "      <th>Profession</th>\n",
       "      <th>Work Experience</th>\n",
       "      <th>Family Size</th>\n",
       "    </tr>\n",
       "  </thead>\n",
       "  <tbody>\n",
       "    <tr>\n",
       "      <th>0</th>\n",
       "      <td>1</td>\n",
       "      <td>Male</td>\n",
       "      <td>19</td>\n",
       "      <td>15000</td>\n",
       "      <td>39</td>\n",
       "      <td>Healthcare</td>\n",
       "      <td>1</td>\n",
       "      <td>4</td>\n",
       "    </tr>\n",
       "    <tr>\n",
       "      <th>1</th>\n",
       "      <td>2</td>\n",
       "      <td>Male</td>\n",
       "      <td>21</td>\n",
       "      <td>35000</td>\n",
       "      <td>81</td>\n",
       "      <td>Engineer</td>\n",
       "      <td>3</td>\n",
       "      <td>3</td>\n",
       "    </tr>\n",
       "    <tr>\n",
       "      <th>2</th>\n",
       "      <td>3</td>\n",
       "      <td>Female</td>\n",
       "      <td>20</td>\n",
       "      <td>86000</td>\n",
       "      <td>6</td>\n",
       "      <td>Engineer</td>\n",
       "      <td>1</td>\n",
       "      <td>1</td>\n",
       "    </tr>\n",
       "    <tr>\n",
       "      <th>3</th>\n",
       "      <td>4</td>\n",
       "      <td>Female</td>\n",
       "      <td>23</td>\n",
       "      <td>59000</td>\n",
       "      <td>77</td>\n",
       "      <td>Lawyer</td>\n",
       "      <td>0</td>\n",
       "      <td>2</td>\n",
       "    </tr>\n",
       "    <tr>\n",
       "      <th>4</th>\n",
       "      <td>5</td>\n",
       "      <td>Female</td>\n",
       "      <td>31</td>\n",
       "      <td>38000</td>\n",
       "      <td>40</td>\n",
       "      <td>Entertainment</td>\n",
       "      <td>2</td>\n",
       "      <td>6</td>\n",
       "    </tr>\n",
       "    <tr>\n",
       "      <th>...</th>\n",
       "      <td>...</td>\n",
       "      <td>...</td>\n",
       "      <td>...</td>\n",
       "      <td>...</td>\n",
       "      <td>...</td>\n",
       "      <td>...</td>\n",
       "      <td>...</td>\n",
       "      <td>...</td>\n",
       "    </tr>\n",
       "    <tr>\n",
       "      <th>1995</th>\n",
       "      <td>1996</td>\n",
       "      <td>Female</td>\n",
       "      <td>71</td>\n",
       "      <td>184387</td>\n",
       "      <td>40</td>\n",
       "      <td>Artist</td>\n",
       "      <td>8</td>\n",
       "      <td>7</td>\n",
       "    </tr>\n",
       "    <tr>\n",
       "      <th>1996</th>\n",
       "      <td>1997</td>\n",
       "      <td>Female</td>\n",
       "      <td>91</td>\n",
       "      <td>73158</td>\n",
       "      <td>32</td>\n",
       "      <td>Doctor</td>\n",
       "      <td>7</td>\n",
       "      <td>7</td>\n",
       "    </tr>\n",
       "    <tr>\n",
       "      <th>1997</th>\n",
       "      <td>1998</td>\n",
       "      <td>Male</td>\n",
       "      <td>87</td>\n",
       "      <td>90961</td>\n",
       "      <td>14</td>\n",
       "      <td>Healthcare</td>\n",
       "      <td>9</td>\n",
       "      <td>2</td>\n",
       "    </tr>\n",
       "    <tr>\n",
       "      <th>1998</th>\n",
       "      <td>1999</td>\n",
       "      <td>Male</td>\n",
       "      <td>77</td>\n",
       "      <td>182109</td>\n",
       "      <td>4</td>\n",
       "      <td>Executive</td>\n",
       "      <td>7</td>\n",
       "      <td>2</td>\n",
       "    </tr>\n",
       "    <tr>\n",
       "      <th>1999</th>\n",
       "      <td>2000</td>\n",
       "      <td>Male</td>\n",
       "      <td>90</td>\n",
       "      <td>110610</td>\n",
       "      <td>52</td>\n",
       "      <td>Entertainment</td>\n",
       "      <td>5</td>\n",
       "      <td>2</td>\n",
       "    </tr>\n",
       "  </tbody>\n",
       "</table>\n",
       "<p>2000 rows × 8 columns</p>\n",
       "</div>"
      ],
      "text/plain": [
       "      CustomerID  Gender  Age  Annual Income ($)  Spending Score (1-100)  \\\n",
       "0              1    Male   19              15000                      39   \n",
       "1              2    Male   21              35000                      81   \n",
       "2              3  Female   20              86000                       6   \n",
       "3              4  Female   23              59000                      77   \n",
       "4              5  Female   31              38000                      40   \n",
       "...          ...     ...  ...                ...                     ...   \n",
       "1995        1996  Female   71             184387                      40   \n",
       "1996        1997  Female   91              73158                      32   \n",
       "1997        1998    Male   87              90961                      14   \n",
       "1998        1999    Male   77             182109                       4   \n",
       "1999        2000    Male   90             110610                      52   \n",
       "\n",
       "         Profession  Work Experience  Family Size  \n",
       "0        Healthcare                1            4  \n",
       "1          Engineer                3            3  \n",
       "2          Engineer                1            1  \n",
       "3            Lawyer                0            2  \n",
       "4     Entertainment                2            6  \n",
       "...             ...              ...          ...  \n",
       "1995         Artist                8            7  \n",
       "1996         Doctor                7            7  \n",
       "1997     Healthcare                9            2  \n",
       "1998      Executive                7            2  \n",
       "1999  Entertainment                5            2  \n",
       "\n",
       "[2000 rows x 8 columns]"
      ]
     },
     "execution_count": 42,
     "metadata": {},
     "output_type": "execute_result"
    }
   ],
   "source": [
    "df.fillna(\"Missing\")"
   ]
  },
  {
   "cell_type": "markdown",
   "id": "b3bdaaac",
   "metadata": {
    "papermill": {
     "duration": 0.081867,
     "end_time": "2023-10-25T14:10:54.992190",
     "exception": false,
     "start_time": "2023-10-25T14:10:54.910323",
     "status": "completed"
    },
    "tags": []
   },
   "source": [
    "#### 2. **Изменение типов данных**:\n",
    "\n",
    "   - `df.astype(dtype)`: Converts the data type of one or more columns.\n",
    "   - `pd.to_numeric()`, `pd.to_datetime()`, `pd.to_timedelta()`: Converts data to specific data types."
   ]
  },
  {
   "cell_type": "code",
   "execution_count": 43,
   "id": "de9861bc",
   "metadata": {},
   "outputs": [
    {
     "data": {
      "text/html": [
       "<div>\n",
       "<style scoped>\n",
       "    .dataframe tbody tr th:only-of-type {\n",
       "        vertical-align: middle;\n",
       "    }\n",
       "\n",
       "    .dataframe tbody tr th {\n",
       "        vertical-align: top;\n",
       "    }\n",
       "\n",
       "    .dataframe thead th {\n",
       "        text-align: right;\n",
       "    }\n",
       "</style>\n",
       "<table border=\"1\" class=\"dataframe\">\n",
       "  <thead>\n",
       "    <tr style=\"text-align: right;\">\n",
       "      <th></th>\n",
       "      <th>Math</th>\n",
       "      <th>Science</th>\n",
       "      <th>History</th>\n",
       "      <th>English</th>\n",
       "      <th>Art</th>\n",
       "    </tr>\n",
       "  </thead>\n",
       "  <tbody>\n",
       "    <tr>\n",
       "      <th>Alice</th>\n",
       "      <td>67</td>\n",
       "      <td>27</td>\n",
       "      <td>51</td>\n",
       "      <td>72</td>\n",
       "      <td>23</td>\n",
       "    </tr>\n",
       "    <tr>\n",
       "      <th>Bob</th>\n",
       "      <td>65</td>\n",
       "      <td>98</td>\n",
       "      <td>68</td>\n",
       "      <td>36</td>\n",
       "      <td>54</td>\n",
       "    </tr>\n",
       "    <tr>\n",
       "      <th>Charlie</th>\n",
       "      <td>86</td>\n",
       "      <td>14</td>\n",
       "      <td>62</td>\n",
       "      <td>94</td>\n",
       "      <td>51</td>\n",
       "    </tr>\n",
       "    <tr>\n",
       "      <th>David</th>\n",
       "      <td>17</td>\n",
       "      <td>28</td>\n",
       "      <td>72</td>\n",
       "      <td>54</td>\n",
       "      <td>76</td>\n",
       "    </tr>\n",
       "    <tr>\n",
       "      <th>Eva</th>\n",
       "      <td>1</td>\n",
       "      <td>17</td>\n",
       "      <td>95</td>\n",
       "      <td>71</td>\n",
       "      <td>85</td>\n",
       "    </tr>\n",
       "    <tr>\n",
       "      <th>Frank</th>\n",
       "      <td>21</td>\n",
       "      <td>30</td>\n",
       "      <td>58</td>\n",
       "      <td>93</td>\n",
       "      <td>79</td>\n",
       "    </tr>\n",
       "    <tr>\n",
       "      <th>Grace</th>\n",
       "      <td>1</td>\n",
       "      <td>68</td>\n",
       "      <td>0</td>\n",
       "      <td>77</td>\n",
       "      <td>94</td>\n",
       "    </tr>\n",
       "    <tr>\n",
       "      <th>Henry</th>\n",
       "      <td>83</td>\n",
       "      <td>61</td>\n",
       "      <td>90</td>\n",
       "      <td>85</td>\n",
       "      <td>96</td>\n",
       "    </tr>\n",
       "    <tr>\n",
       "      <th>Ivy</th>\n",
       "      <td>66</td>\n",
       "      <td>95</td>\n",
       "      <td>99</td>\n",
       "      <td>4</td>\n",
       "      <td>89</td>\n",
       "    </tr>\n",
       "    <tr>\n",
       "      <th>Jack</th>\n",
       "      <td>18</td>\n",
       "      <td>96</td>\n",
       "      <td>5</td>\n",
       "      <td>75</td>\n",
       "      <td>92</td>\n",
       "    </tr>\n",
       "  </tbody>\n",
       "</table>\n",
       "</div>"
      ],
      "text/plain": [
       "         Math  Science  History  English  Art\n",
       "Alice      67       27       51       72   23\n",
       "Bob        65       98       68       36   54\n",
       "Charlie    86       14       62       94   51\n",
       "David      17       28       72       54   76\n",
       "Eva         1       17       95       71   85\n",
       "Frank      21       30       58       93   79\n",
       "Grace       1       68        0       77   94\n",
       "Henry      83       61       90       85   96\n",
       "Ivy        66       95       99        4   89\n",
       "Jack       18       96        5       75   92"
      ]
     },
     "execution_count": 43,
     "metadata": {},
     "output_type": "execute_result"
    }
   ],
   "source": [
    "# create a label index dataframe\n",
    "import pandas as pd\n",
    "import random\n",
    "\n",
    "students = student_names = [\"Alice\", \"Bob\", \"Charlie\", \"David\", \"Eva\", \"Frank\", \"Grace\", \"Henry\", \"Ivy\", \"Jack\"]\n",
    "\n",
    "# Create a random marks DataFrame\n",
    "subjects = ['Math', 'Science', 'History', 'English', 'Art']\n",
    "data = {subject: [random.randint(0, 100) for _ in range(10)] for subject in subjects}\n",
    "dummy = pd.DataFrame(data, index=students)\n",
    "dummy"
   ]
  },
  {
   "cell_type": "code",
   "execution_count": 46,
   "id": "d8537eb5",
   "metadata": {
    "execution": {
     "iopub.execute_input": "2023-10-25T14:10:55.157215Z",
     "iopub.status.busy": "2023-10-25T14:10:55.156051Z",
     "iopub.status.idle": "2023-10-25T14:10:55.167739Z",
     "shell.execute_reply": "2023-10-25T14:10:55.166440Z"
    },
    "papermill": {
     "duration": 0.096147,
     "end_time": "2023-10-25T14:10:55.169991",
     "exception": false,
     "start_time": "2023-10-25T14:10:55.073844",
     "status": "completed"
    },
    "tags": []
   },
   "outputs": [
    {
     "name": "stdout",
     "output_type": "stream",
     "text": [
      "<class 'pandas.core.frame.DataFrame'>\n",
      "Index: 10 entries, Alice to Jack\n",
      "Data columns (total 5 columns):\n",
      " #   Column   Non-Null Count  Dtype  \n",
      "---  ------   --------------  -----  \n",
      " 0   Math     10 non-null     float64\n",
      " 1   Science  10 non-null     float64\n",
      " 2   History  10 non-null     float64\n",
      " 3   English  10 non-null     float64\n",
      " 4   Art      10 non-null     float64\n",
      "dtypes: float64(5)\n",
      "memory usage: 480.0+ bytes\n"
     ]
    }
   ],
   "source": [
    "dummy.info()"
   ]
  },
  {
   "cell_type": "code",
   "execution_count": 45,
   "id": "28b445db",
   "metadata": {
    "execution": {
     "iopub.execute_input": "2023-10-25T14:10:55.397401Z",
     "iopub.status.busy": "2023-10-25T14:10:55.396701Z",
     "iopub.status.idle": "2023-10-25T14:10:55.412879Z",
     "shell.execute_reply": "2023-10-25T14:10:55.411616Z"
    },
    "papermill": {
     "duration": 0.164303,
     "end_time": "2023-10-25T14:10:55.415247",
     "exception": false,
     "start_time": "2023-10-25T14:10:55.250944",
     "status": "completed"
    },
    "tags": []
   },
   "outputs": [
    {
     "data": {
      "text/html": [
       "<div>\n",
       "<style scoped>\n",
       "    .dataframe tbody tr th:only-of-type {\n",
       "        vertical-align: middle;\n",
       "    }\n",
       "\n",
       "    .dataframe tbody tr th {\n",
       "        vertical-align: top;\n",
       "    }\n",
       "\n",
       "    .dataframe thead th {\n",
       "        text-align: right;\n",
       "    }\n",
       "</style>\n",
       "<table border=\"1\" class=\"dataframe\">\n",
       "  <thead>\n",
       "    <tr style=\"text-align: right;\">\n",
       "      <th></th>\n",
       "      <th>Math</th>\n",
       "      <th>Science</th>\n",
       "      <th>History</th>\n",
       "      <th>English</th>\n",
       "      <th>Art</th>\n",
       "    </tr>\n",
       "  </thead>\n",
       "  <tbody>\n",
       "    <tr>\n",
       "      <th>Alice</th>\n",
       "      <td>67.0</td>\n",
       "      <td>27.0</td>\n",
       "      <td>51.0</td>\n",
       "      <td>72.0</td>\n",
       "      <td>23.0</td>\n",
       "    </tr>\n",
       "    <tr>\n",
       "      <th>Bob</th>\n",
       "      <td>65.0</td>\n",
       "      <td>98.0</td>\n",
       "      <td>68.0</td>\n",
       "      <td>36.0</td>\n",
       "      <td>54.0</td>\n",
       "    </tr>\n",
       "    <tr>\n",
       "      <th>Charlie</th>\n",
       "      <td>86.0</td>\n",
       "      <td>14.0</td>\n",
       "      <td>62.0</td>\n",
       "      <td>94.0</td>\n",
       "      <td>51.0</td>\n",
       "    </tr>\n",
       "    <tr>\n",
       "      <th>David</th>\n",
       "      <td>17.0</td>\n",
       "      <td>28.0</td>\n",
       "      <td>72.0</td>\n",
       "      <td>54.0</td>\n",
       "      <td>76.0</td>\n",
       "    </tr>\n",
       "    <tr>\n",
       "      <th>Eva</th>\n",
       "      <td>1.0</td>\n",
       "      <td>17.0</td>\n",
       "      <td>95.0</td>\n",
       "      <td>71.0</td>\n",
       "      <td>85.0</td>\n",
       "    </tr>\n",
       "    <tr>\n",
       "      <th>Frank</th>\n",
       "      <td>21.0</td>\n",
       "      <td>30.0</td>\n",
       "      <td>58.0</td>\n",
       "      <td>93.0</td>\n",
       "      <td>79.0</td>\n",
       "    </tr>\n",
       "    <tr>\n",
       "      <th>Grace</th>\n",
       "      <td>1.0</td>\n",
       "      <td>68.0</td>\n",
       "      <td>0.0</td>\n",
       "      <td>77.0</td>\n",
       "      <td>94.0</td>\n",
       "    </tr>\n",
       "    <tr>\n",
       "      <th>Henry</th>\n",
       "      <td>83.0</td>\n",
       "      <td>61.0</td>\n",
       "      <td>90.0</td>\n",
       "      <td>85.0</td>\n",
       "      <td>96.0</td>\n",
       "    </tr>\n",
       "    <tr>\n",
       "      <th>Ivy</th>\n",
       "      <td>66.0</td>\n",
       "      <td>95.0</td>\n",
       "      <td>99.0</td>\n",
       "      <td>4.0</td>\n",
       "      <td>89.0</td>\n",
       "    </tr>\n",
       "    <tr>\n",
       "      <th>Jack</th>\n",
       "      <td>18.0</td>\n",
       "      <td>96.0</td>\n",
       "      <td>5.0</td>\n",
       "      <td>75.0</td>\n",
       "      <td>92.0</td>\n",
       "    </tr>\n",
       "  </tbody>\n",
       "</table>\n",
       "</div>"
      ],
      "text/plain": [
       "         Math  Science  History  English   Art\n",
       "Alice    67.0     27.0     51.0     72.0  23.0\n",
       "Bob      65.0     98.0     68.0     36.0  54.0\n",
       "Charlie  86.0     14.0     62.0     94.0  51.0\n",
       "David    17.0     28.0     72.0     54.0  76.0\n",
       "Eva       1.0     17.0     95.0     71.0  85.0\n",
       "Frank    21.0     30.0     58.0     93.0  79.0\n",
       "Grace     1.0     68.0      0.0     77.0  94.0\n",
       "Henry    83.0     61.0     90.0     85.0  96.0\n",
       "Ivy      66.0     95.0     99.0      4.0  89.0\n",
       "Jack     18.0     96.0      5.0     75.0  92.0"
      ]
     },
     "execution_count": 45,
     "metadata": {},
     "output_type": "execute_result"
    }
   ],
   "source": [
    "dummy = dummy.astype(float)\n",
    "dummy"
   ]
  },
  {
   "cell_type": "markdown",
   "id": "52ec16c3",
   "metadata": {
    "papermill": {
     "duration": 0.084281,
     "end_time": "2023-10-25T14:10:58.854737",
     "exception": false,
     "start_time": "2023-10-25T14:10:58.770456",
     "status": "completed"
    },
    "tags": []
   },
   "source": [
    "#### 3. **Data Aggregation and Grouping**:\n",
    "\n",
    "   - `df.groupby()`: Groups data based on one or more columns for aggregation.\n",
    "   - `agg()`: Performs aggregation operations (e.g., sum, mean, count) on grouped data.\n",
    "   - `pivot_table()`: Creates pivot tables for summarizing data.\n",
    "   "
   ]
  },
  {
   "cell_type": "code",
   "execution_count": 47,
   "id": "68d89892",
   "metadata": {},
   "outputs": [
    {
     "data": {
      "text/html": [
       "<div>\n",
       "<style scoped>\n",
       "    .dataframe tbody tr th:only-of-type {\n",
       "        vertical-align: middle;\n",
       "    }\n",
       "\n",
       "    .dataframe tbody tr th {\n",
       "        vertical-align: top;\n",
       "    }\n",
       "\n",
       "    .dataframe thead th {\n",
       "        text-align: right;\n",
       "    }\n",
       "</style>\n",
       "<table border=\"1\" class=\"dataframe\">\n",
       "  <thead>\n",
       "    <tr style=\"text-align: right;\">\n",
       "      <th></th>\n",
       "      <th>CustomerID</th>\n",
       "      <th>Gender</th>\n",
       "      <th>Age</th>\n",
       "      <th>Annual Income ($)</th>\n",
       "      <th>Spending Score (1-100)</th>\n",
       "      <th>Profession</th>\n",
       "      <th>Work Experience</th>\n",
       "      <th>Family Size</th>\n",
       "    </tr>\n",
       "  </thead>\n",
       "  <tbody>\n",
       "    <tr>\n",
       "      <th>0</th>\n",
       "      <td>1</td>\n",
       "      <td>Male</td>\n",
       "      <td>19</td>\n",
       "      <td>15000</td>\n",
       "      <td>39</td>\n",
       "      <td>Healthcare</td>\n",
       "      <td>1</td>\n",
       "      <td>4</td>\n",
       "    </tr>\n",
       "    <tr>\n",
       "      <th>1</th>\n",
       "      <td>2</td>\n",
       "      <td>Male</td>\n",
       "      <td>21</td>\n",
       "      <td>35000</td>\n",
       "      <td>81</td>\n",
       "      <td>Engineer</td>\n",
       "      <td>3</td>\n",
       "      <td>3</td>\n",
       "    </tr>\n",
       "    <tr>\n",
       "      <th>2</th>\n",
       "      <td>3</td>\n",
       "      <td>Female</td>\n",
       "      <td>20</td>\n",
       "      <td>86000</td>\n",
       "      <td>6</td>\n",
       "      <td>Engineer</td>\n",
       "      <td>1</td>\n",
       "      <td>1</td>\n",
       "    </tr>\n",
       "    <tr>\n",
       "      <th>3</th>\n",
       "      <td>4</td>\n",
       "      <td>Female</td>\n",
       "      <td>23</td>\n",
       "      <td>59000</td>\n",
       "      <td>77</td>\n",
       "      <td>Lawyer</td>\n",
       "      <td>0</td>\n",
       "      <td>2</td>\n",
       "    </tr>\n",
       "    <tr>\n",
       "      <th>4</th>\n",
       "      <td>5</td>\n",
       "      <td>Female</td>\n",
       "      <td>31</td>\n",
       "      <td>38000</td>\n",
       "      <td>40</td>\n",
       "      <td>Entertainment</td>\n",
       "      <td>2</td>\n",
       "      <td>6</td>\n",
       "    </tr>\n",
       "    <tr>\n",
       "      <th>...</th>\n",
       "      <td>...</td>\n",
       "      <td>...</td>\n",
       "      <td>...</td>\n",
       "      <td>...</td>\n",
       "      <td>...</td>\n",
       "      <td>...</td>\n",
       "      <td>...</td>\n",
       "      <td>...</td>\n",
       "    </tr>\n",
       "    <tr>\n",
       "      <th>1995</th>\n",
       "      <td>1996</td>\n",
       "      <td>Female</td>\n",
       "      <td>71</td>\n",
       "      <td>184387</td>\n",
       "      <td>40</td>\n",
       "      <td>Artist</td>\n",
       "      <td>8</td>\n",
       "      <td>7</td>\n",
       "    </tr>\n",
       "    <tr>\n",
       "      <th>1996</th>\n",
       "      <td>1997</td>\n",
       "      <td>Female</td>\n",
       "      <td>91</td>\n",
       "      <td>73158</td>\n",
       "      <td>32</td>\n",
       "      <td>Doctor</td>\n",
       "      <td>7</td>\n",
       "      <td>7</td>\n",
       "    </tr>\n",
       "    <tr>\n",
       "      <th>1997</th>\n",
       "      <td>1998</td>\n",
       "      <td>Male</td>\n",
       "      <td>87</td>\n",
       "      <td>90961</td>\n",
       "      <td>14</td>\n",
       "      <td>Healthcare</td>\n",
       "      <td>9</td>\n",
       "      <td>2</td>\n",
       "    </tr>\n",
       "    <tr>\n",
       "      <th>1998</th>\n",
       "      <td>1999</td>\n",
       "      <td>Male</td>\n",
       "      <td>77</td>\n",
       "      <td>182109</td>\n",
       "      <td>4</td>\n",
       "      <td>Executive</td>\n",
       "      <td>7</td>\n",
       "      <td>2</td>\n",
       "    </tr>\n",
       "    <tr>\n",
       "      <th>1999</th>\n",
       "      <td>2000</td>\n",
       "      <td>Male</td>\n",
       "      <td>90</td>\n",
       "      <td>110610</td>\n",
       "      <td>52</td>\n",
       "      <td>Entertainment</td>\n",
       "      <td>5</td>\n",
       "      <td>2</td>\n",
       "    </tr>\n",
       "  </tbody>\n",
       "</table>\n",
       "<p>2000 rows × 8 columns</p>\n",
       "</div>"
      ],
      "text/plain": [
       "      CustomerID  Gender  Age  Annual Income ($)  Spending Score (1-100)  \\\n",
       "0              1    Male   19              15000                      39   \n",
       "1              2    Male   21              35000                      81   \n",
       "2              3  Female   20              86000                       6   \n",
       "3              4  Female   23              59000                      77   \n",
       "4              5  Female   31              38000                      40   \n",
       "...          ...     ...  ...                ...                     ...   \n",
       "1995        1996  Female   71             184387                      40   \n",
       "1996        1997  Female   91              73158                      32   \n",
       "1997        1998    Male   87              90961                      14   \n",
       "1998        1999    Male   77             182109                       4   \n",
       "1999        2000    Male   90             110610                      52   \n",
       "\n",
       "         Profession  Work Experience  Family Size  \n",
       "0        Healthcare                1            4  \n",
       "1          Engineer                3            3  \n",
       "2          Engineer                1            1  \n",
       "3            Lawyer                0            2  \n",
       "4     Entertainment                2            6  \n",
       "...             ...              ...          ...  \n",
       "1995         Artist                8            7  \n",
       "1996         Doctor                7            7  \n",
       "1997     Healthcare                9            2  \n",
       "1998      Executive                7            2  \n",
       "1999  Entertainment                5            2  \n",
       "\n",
       "[2000 rows x 8 columns]"
      ]
     },
     "execution_count": 47,
     "metadata": {},
     "output_type": "execute_result"
    }
   ],
   "source": [
    "df"
   ]
  },
  {
   "cell_type": "code",
   "execution_count": 49,
   "id": "35df34a8",
   "metadata": {
    "execution": {
     "iopub.execute_input": "2023-10-25T14:10:59.092667Z",
     "iopub.status.busy": "2023-10-25T14:10:59.092055Z",
     "iopub.status.idle": "2023-10-25T14:10:59.107232Z",
     "shell.execute_reply": "2023-10-25T14:10:59.106373Z"
    },
    "papermill": {
     "duration": 0.166912,
     "end_time": "2023-10-25T14:10:59.109680",
     "exception": false,
     "start_time": "2023-10-25T14:10:58.942768",
     "status": "completed"
    },
    "tags": []
   },
   "outputs": [],
   "source": [
    "df_age = df.groupby('Age')"
   ]
  },
  {
   "cell_type": "markdown",
   "id": "ad196222",
   "metadata": {
    "papermill": {
     "duration": 0.083182,
     "end_time": "2023-10-25T14:10:59.277712",
     "exception": false,
     "start_time": "2023-10-25T14:10:59.194530",
     "status": "completed"
    },
    "tags": []
   },
   "source": [
    "`df.groupby()` is a powerful method in Pandas for grouping data in a DataFrame. It returns a `GroupBy` object, which provides various methods and attributes for working with grouped data. Here are some of the commonly used attributes, methods, and variables of a `GroupBy` object:\n",
    "\n",
    "1. **`groups` (attribute)**:\n",
    "   - Returns a dictionary where the keys are the unique group labels, and the values are the corresponding group indices."
   ]
  },
  {
   "cell_type": "code",
   "execution_count": 50,
   "id": "193a1d93",
   "metadata": {
    "execution": {
     "iopub.execute_input": "2023-10-25T14:10:59.449537Z",
     "iopub.status.busy": "2023-10-25T14:10:59.448902Z",
     "iopub.status.idle": "2023-10-25T14:10:59.458308Z",
     "shell.execute_reply": "2023-10-25T14:10:59.457191Z"
    },
    "papermill": {
     "duration": 0.097924,
     "end_time": "2023-10-25T14:10:59.460305",
     "exception": false,
     "start_time": "2023-10-25T14:10:59.362381",
     "status": "completed"
    },
    "tags": []
   },
   "outputs": [
    {
     "data": {
      "text/plain": [
       "{0: [211, 228, 333, 440, 443, 466, 559, 562, 767, 794, 821, 852, 863, 938, 1248, 1271, 1562, 1583, 1603, 1677, 1757, 1917, 1925, 1979], 1: [210, 271, 391, 430, 456, 675, 791, 900, 907, 1021, 1040, 1146, 1160, 1200, 1203, 1218, 1405, 1417, 1511, 1602, 1633, 1636, 1763, 1784, 1890, 1951], 2: [568, 823, 846, 931, 1118, 1272, 1282, 1371, 1399, 1518, 1565, 1644, 1665, 1923, 1984], 3: [441, 504, 506, 605, 654, 662, 688, 690, 726, 756, 834, 899, 1158, 1239, 1337, 1362, 1554, 1926], 4: [234, 331, 344, 502, 709, 761, 826, 917, 1313, 1528, 1551, 1659, 1787, 1908, 1986], 5: [321, 459, 503, 704, 746, 842, 885, 955, 967, 1254, 1267, 1392, 1466, 1471, 1498, 1656, 1715, 1805, 1830, 1851], 6: [230, 439, 543, 833, 1049, 1083, 1325, 1540, 1564, 1581, 1699, 1754, 1789, 1892], 7: [265, 338, 390, 435, 444, 449, 479, 552, 611, 827, 1090, 1208, 1268, 1424, 1454, 1522, 1740, 1825], 8: [380, 397, 454, 698, 731, 1003, 1005, 1008, 1058, 1127, 1212, 1252, 1360, 1599, 1626, 1660, 1700, 1753, 1782, 1794, 1866, 1911], 9: [290, 521, 586, 732, 946, 1438, 1506, 1663, 1667, 1676, 1698, 1864, 1913], 10: [291, 383, 584, 780, 1088, 1170, 1194, 1553, 1614, 1738, 1828, 1980], 11: [292, 450, 474, 532, 722, 799, 853, 1131, 1275, 1374, 1883, 1918, 1955], 12: [256, 311, 314, 448, 497, 608, 764, 862, 929, 957, 960, 973, 986, 1184, 1317, 1409, 1426, 1434, 1742, 1833], 13: [313, 323, 354, 399, 403, 469, 480, 518, 528, 582, 673, 689, 758, 883, 1116, 1122, 1145, 1346, 1388, 1526, 1543, 1586, 1674, 1704, 1762], 14: [239, 493, 677, 753, 920, 922, 925, 1010, 1169, 1251, 1336, 1364, 1433, 1612, 1751, 1786, 1792, 1936, 1974], 15: [229, 455, 576, 596, 606, 668, 718, 878, 903, 1030, 1308, 1515, 1641, 1673, 1694, 1729, 1809, 1872, 1907, 1935], 16: [202, 276, 325, 463, 550, 554, 631, 652, 744, 877, 908, 1174, 1193, 1338, 1398, 1441, 1550, 1576, 1617, 1620, 1877], 17: [298, 309, 359, 509, 558, 561, 680, 717, 754, 906, 989, 996, 1051, 1482, 1608, 1790, 1862], 18: [33, 65, 91, 114, 273, 389, 407, 897, 941, 977, 1162, 1274, 1286, 1296, 1326, 1435, 1532, 1624, 1695, 1703, 1803, 1874, 1915], 19: [0, 61, 68, 111, 113, 115, 138, 162, 206, 566, 738, 776, 778, 781, 819, 911, 1036, 1165, 1483, 1508, 1587, 1835, 1889, 1944, 1994], 20: [2, 17, 39, 99, 134, 357, 386, 473, 505, 522, 725, 944, 1024, 1161, 1189, 1243, 1277, 1396, 1412, 1421, 1476, 1731, 1801, 1829, 1845, 1901, 1947], 21: [1, 31, 35, 84, 105, 200, 288, 392, 408, 457, 857, 910, 936, 1164, 1214, 1222, 1233, 1380, 1437, 1492, 1514, 1590, 1732], 22: [5, 15, 87, 342, 355, 375, 485, 535, 577, 598, 703, 854, 1048, 1225, 1752, 1793, 1861, 1863], 23: [3, 7, 29, 78, 100, 124, 246, 353, 432, 609, 669, 788, 981, 1064, 1071, 1270, 1307, 1331, 1340, 1416, 1487, 1654, 1820, 1932], 24: [13, 41, 45, 95, 312, 330, 348, 436, 916, 988, 998, 1261, 1266, 1292, 1600, 1613, 1671, 1865, 1879], 25: [21, 132, 144, 226, 387, 433, 547, 760, 768, 789, 807, 879, 927, 954, 1018, 1125, 1238, 1258, 1432, 1445, 1470, 1481, 1493, 1557, 1652], 26: [75, 103, 259, 308, 388, 541, 637, 642, 664, 822, 966, 1144, 1207, 1520, 1714, 1847], 27: [47, 58, 97, 120, 155, 177, 251, 319, 653, 721, 1100, 1228, 1323, 1370, 1456, 1544, 1584, 1748, 1985], 28: [142, 145, 171, 187, 245, 372, 429, 475, 512, 665, 769, 828, 1046, 1078, 1141, 1321, 1457, 1491, 1523, 1594], 29: [25, 48, 135, 161, 183, 235, 617, 683, 880, 912, 943, 953, 1137, 1241, 1429, 1521, 1767, 1813, 1816, 1945], 30: [9, 37, 157, 159, 175, 185, 199, 376, 483, 656, 743, 785, 805, 830, 874, 882, 923, 934, 1067, 1108, 1115, 1485, 1512, 1604, 1875, 1897, 1990], 31: [4, 23, 43, 49, 52, 125, 133, 163, 301, 302, 427, 510, 553, 655, 658, 697, 711, 716, 845, 894, 970, 997, 1156, 1206, 1367, 1368, 1443, 1690, 1743, 1807, 1969], 32: [69, 94, 137, 141, 143, 147, 169, 181, 191, 197, 198, 247, 262, 280, 299, 335, 476, 575, 632, 952, 968, 991, 1015, 1173, 1202, 1639, 1761, 1824, 1860, 1910], 33: [51, 167, 192, 284, 423, 544, 581, 634, 736, 797, 1002, 1025, 1093, 1316, 1349, 1497, 1582, 1712, 1749, 1815, 1982], 34: [88, 148, 149, 158, 190, 201, 268, 382, 481, 494, 563, 784, 873, 1059, 1094, 1111, 1154, 1298, 1383, 1395, 1501, 1552, 1606, 1635, 1649, 1724, 1777], 35: [6, 11, 16, 19, 20, 27, 139, 179, 195, 422, 549, 627, 1035, 1283, 1311, 1391, 1661, 1723, 1811, 1855], 36: [38, 165, 168, 172, 173, 189, 320, 369, 417, 507, 650, 720, 729, 985, 1107, 1130, 1281, 1345, 1377, 1688, 1919], 37: [14, 156, 180, 248, 264, 274, 328, 363, 409, 438, 515, 578, 629, 719, 750, 811, 1038, 1427, 1568, 1651, 1869, 1949], 38: [81, 112, 121, 129, 153, 193, 303, 426, 500, 618, 705, 734, 831, 844, 1029, 1054, 1084, 1178, 1236, 1341, 1410, 1510, 1567, 1779], 39: [123, 131, 151, 220, 336, 362, 478, 614, 945, 980, 992, 1312, 1385, 1387, 1533, 1536, 1616, 1894], 40: [28, 77, 93, 122, 127, 170, 224, 266, 557, 832, 913, 984, 1045, 1180, 1294, 1303, 1500, 1517, 1622, 1850, 1899, 1900, 1973], 41: [184, 188, 499, 520, 600, 700, 702, 733, 748, 813, 983, 1020, 1091, 1124, 1231, 1232, 1448, 1534, 1569, 1619, 1648, 1720, 1914, 1975], 42: [36, 166, 590, 682, 695, 1327, 1334, 1529, 1597, 1823, 1950, 1953], 43: [66, 126, 150, 222, 281, 628, 636, 742, 869, 872, 942, 1041, 1139, 1280, 1354, 1413, 1452, 1530, 1766, 1817, 1818, 1840, 1844], 44: [136, 152, 524, 619, 803, 838, 1076, 1087, 1167, 1227, 1246, 1363, 1592, 1722, 1873], 45: [26, 76, 196, 317, 866, 947, 1022, 1066, 1069, 1305, 1339, 1342, 1628, 1646, 1709, 1957, 1971], 46: [22, 83, 182, 207, 215, 254, 364, 377, 589, 759, 1042, 1050, 1052, 1262, 1852, 1898, 1920, 1965], 47: [55, 71, 96, 130, 154, 194, 460, 468, 530, 571, 708, 904, 982, 1032, 1056, 1073, 1096, 1259, 1293, 1393, 1640, 1657, 1989], 48: [42, 85, 92, 98, 146, 208, 214, 293, 373, 453, 511, 529, 1319, 1358, 1394, 1494, 1556, 1588, 1719, 1954], 49: [34, 44, 50, 79, 101, 104, 117, 213, 585, 593, 649, 659, 660, 1039, 1256, 1439, 1468, 1647, 1746, 1773], 50: [46, 54, 89, 119, 164, 401, 752, 993, 1055, 1328, 1365, 1384, 1425, 1541, 1797], 51: [56, 118, 352, 406, 564, 835, 932, 940, 1134, 1411, 1675, 1689, 1693], 52: [18, 174, 261, 269, 282, 327, 370, 595, 613, 687, 727, 892, 909, 921, 1129, 1168, 1302, 1361, 1400, 1605, 1653, 1681, 1725, 1841, 1849, 1867, 1905, 1940, 1961, 1983], 53: [32, 59, 244, 519, 587, 661, 786, 901, 1060, 1095, 1097, 1260, 1264, 1366, 1423, 1495, 1615, 1631, 1739], 54: [24, 63, 107, 186, 316, 402, 445, 491, 565, 670, 684, 714, 747, 951, 1120, 1196, 1204, 1287, 1415, 1430, 1455, 1711, 1772, 1832, 1843, 1937, 1943, 1988], 55: [86, 238, 400, 616, 956, 1023, 1157, 1187, 1419, 1442, 1575, 1580, 1680, 1701, 1791, 1942, 1970], 56: [160, 310, 421, 464, 540, 542, 622, 707, 765, 771, 793, 919, 976, 1114, 1205, 1407, 1563, 1785], 57: [80, 140, 488, 537, 635, 646, 676, 868, 1135, 1142, 1176, 1571, 1691, 1880], 58: [12, 176, 346, 424, 447, 526, 620, 686, 766, 891, 1063, 1244, 1253, 1278, 1403, 1440, 1472, 1589, 1672, 1679, 1728, 1788, 1929, 1952], 59: [53, 74, 128, 178, 219, 255, 398, 434, 490, 638, 640, 667, 812, 965, 971, 975, 1195, 1234, 1444, 1484, 1573, 1630, 1909, 1956], 60: [30, 72, 73, 366, 486, 489, 715, 730, 814, 824, 987, 1028, 1037, 1209, 1257, 1447, 1465, 1535, 1774, 1838, 1976, 1977], 61: [307, 601, 639, 800, 808, 1006, 1175, 1300, 1397, 1546, 1758, 1964], 62: [204, 297, 419, 599, 701, 713, 802, 841, 851, 871, 1128, 1138, 1183, 1219, 1224, 1381, 1408, 1475, 1727, 1736, 1759, 1868, 1981], 63: [64, 116, 205, 260, 283, 306, 326, 588, 630, 836, 870, 888, 933, 962, 1062, 1150, 1265, 1446, 1453, 1486, 1502, 1505, 1519, 1764, 1778, 1871, 1884, 1987], 64: [8, 263, 452, 573, 699, 737, 762, 775, 858, 949, 1159, 1235, 1355, 1359, 1373, 1418, 1607, 1618, 1627, 1726, 1747, 1857, 1934, 1993], 65: [40, 110, 241, 305, 365, 405, 412, 570, 672, 818, 837, 948, 995, 1043, 1105, 1185, 1467, 1716, 1730, 1896, 1966], 66: [106, 109, 218, 295, 318, 487, 525, 641, 648, 848, 905, 978, 1632, 1745, 1770, 1819, 1859], 67: [10, 62, 82, 102, 232, 334, 643, 787, 804, 825, 829, 843, 890, 979, 1004, 1149, 1279, 1406, 1662, 1678, 1686, 1713, 1796], 68: [67, 90, 108, 279, 337, 425, 501, 533, 876, 935, 1220, 1295, 1350, 1389, 1611, 1780, 1812, 1839, 1870, 1882, 1885, 1893, 1906], 69: [57, 484, 560, 712, 735, 850, 1009, 1110, 1330, 1525, 1702, 1705, 1706, 1707, 1756, 1876, 1886], 70: [60, 70, 467, 508, 792, 924, 1101, 1179, 1221, 1237, 1240, 1245, 1255, 1263, 1697, 1795, 1928, 1960, 1962], 71: [583, 602, 674, 724, 1269, 1459, 1601, 1609, 1846, 1878, 1891, 1995], 72: [315, 358, 368, 371, 615, 809, 1053, 1057, 1140, 1273, 1357, 1376, 1450, 1478, 1499, 1585, 1798, 1930], 73: [287, 294, 379, 591, 898, 1182, 1344, 1382, 1422, 1527, 1566, 1634, 1637, 1888, 1958], 74: [278, 451, 612, 651, 694, 782, 1031, 1112, 1126, 1166, 1223, 1436, 1595], 75: [341, 394, 414, 592, 728, 798, 849, 889, 902, 1044, 1250, 1289, 1335, 1461, 1645, 1710, 1765, 1775, 1804, 1848, 1895], 76: [203, 227, 339, 437, 465, 482, 645, 840, 855, 914, 1014, 1507, 1799, 1938, 1939, 1968], 77: [243, 621, 647, 678, 773, 1301, 1318, 1390, 1776, 1887, 1927, 1998], 78: [225, 233, 252, 267, 275, 329, 345, 395, 418, 431, 517, 625, 770, 820, 1047, 1119, 1216, 1375, 1428, 1469, 1625, 1642, 1856, 1916], 79: [216, 257, 258, 296, 384, 404, 623, 864, 1072, 1082, 1309, 1531, 1548, 1596, 1733, 1750, 1806], 80: [209, 250, 413, 693, 749, 939, 972, 974, 1001, 1011, 1065, 1171, 1310, 1473, 1549, 1593, 1598, 1781, 1800], 81: [514, 551, 796, 801, 815, 950, 958, 1080, 1213, 1284, 1299, 1372, 1623, 1658, 1687, 1755, 1822, 1842], 82: [378, 477, 710, 847, 867, 930, 1061, 1106, 1172, 1197, 1332, 1343, 1386, 1577, 1650, 1664, 1768], 83: [217, 385, 410, 496, 579, 692, 723, 757, 774, 860, 1007, 1163, 1198, 1297, 1306, 1314, 1348, 1463, 1538, 1578, 1643, 1682, 1683, 1692], 84: [231, 242, 332, 340, 458, 539, 556, 741, 763, 779, 790, 895, 1068, 1089, 1132, 1192, 1285, 1402, 1449, 1458, 1509, 1559, 1831, 1854, 1967, 1978], 85: [286, 300, 374, 495, 516, 644, 816, 856, 881, 893, 994, 1012, 1017, 1070, 1121, 1123, 1420, 1477, 1503, 1903, 1959], 86: [212, 253, 285, 393, 416, 470, 681, 1102, 1143, 1217, 1329, 1464, 1504, 1513, 1561, 1783], 87: [396, 415, 534, 751, 959, 1085, 1092, 1152, 1199, 1226, 1247, 1352, 1516, 1574, 1610, 1685, 1769, 1814, 1821, 1933, 1997], 88: [349, 706, 739, 884, 1013, 1186, 1242, 1351, 1353, 1379, 1460, 1560, 1696, 1902, 1963], 89: [249, 322, 356, 420, 446, 536, 545, 555, 580, 679, 691, 745, 810, 964, 1099, 1147, 1153, 1155, 1201, 1230, 1431, 1708, 1802], 90: [304, 343, 360, 381, 428, 492, 839, 865, 918, 1081, 1151, 1537, 1542, 1638, 1684, 1834, 1837, 1931, 1999], 91: [236, 324, 471, 538, 569, 572, 574, 597, 603, 626, 633, 663, 696, 740, 772, 795, 817, 915, 961, 1079, 1148, 1404, 1547, 1591, 1734, 1826, 1836, 1948, 1996], 92: [240, 350, 666, 806, 887, 990, 1000, 1026, 1098, 1136, 1181, 1210, 1539, 1670, 1721, 1735, 1741, 1808, 1912], 93: [223, 277, 289, 367, 462, 531, 671, 861, 896, 1027, 1074, 1086, 1191, 1211, 1304, 1414, 1545, 1744], 94: [270, 604, 610, 657, 777, 859, 1291, 1315, 1474, 1490, 1570, 1621, 1717, 1737, 1810, 1904, 1924, 1992], 95: [221, 237, 442, 498, 783, 886, 926, 928, 1075, 1077, 1117, 1177, 1229, 1276, 1324, 1479, 1666, 1718, 1760, 1827, 1921], 96: [272, 411, 461, 548, 594, 607, 685, 1033, 1104, 1109, 1215, 1249, 1347, 1356, 1462, 1555, 1572, 1579, 1655, 1669, 1941, 1946], 97: [472, 513, 527, 624, 875, 963, 999, 1034, 1113, 1190, 1320, 1333, 1369, 1378, 1451, 1480, 1488, 1489, 1496, 1881, 1922, 1991], 98: [523, 755, 969, 1288, 1290, 1558, 1853, 1858, 1972], 99: [347, 351, 361, 546, 567, 937, 1016, 1019, 1103, 1133, 1188, 1322, 1401, 1524, 1629, 1668, 1771]}"
      ]
     },
     "execution_count": 50,
     "metadata": {},
     "output_type": "execute_result"
    }
   ],
   "source": [
    "df_age.groups"
   ]
  },
  {
   "cell_type": "markdown",
   "id": "34e42550",
   "metadata": {
    "papermill": {
     "duration": 0.088234,
     "end_time": "2023-10-25T14:10:59.633982",
     "exception": false,
     "start_time": "2023-10-25T14:10:59.545748",
     "status": "completed"
    },
    "tags": []
   },
   "source": [
    "2. **`get_group()` (method)**:\n",
    "   - Retrieves a specific group from the grouped data. For example, `grouped.get_group('GroupLabel')` returns a DataFrame with all rows belonging to 'GroupLabel'."
   ]
  },
  {
   "cell_type": "code",
   "execution_count": 51,
   "id": "586c1a74",
   "metadata": {
    "execution": {
     "iopub.execute_input": "2023-10-25T14:10:59.803945Z",
     "iopub.status.busy": "2023-10-25T14:10:59.803572Z",
     "iopub.status.idle": "2023-10-25T14:10:59.809911Z",
     "shell.execute_reply": "2023-10-25T14:10:59.808822Z"
    },
    "papermill": {
     "duration": 0.094125,
     "end_time": "2023-10-25T14:10:59.812071",
     "exception": false,
     "start_time": "2023-10-25T14:10:59.717946",
     "status": "completed"
    },
    "tags": []
   },
   "outputs": [
    {
     "data": {
      "text/plain": [
       "dict_keys([0, 1, 2, 3, 4, 5, 6, 7, 8, 9, 10, 11, 12, 13, 14, 15, 16, 17, 18, 19, 20, 21, 22, 23, 24, 25, 26, 27, 28, 29, 30, 31, 32, 33, 34, 35, 36, 37, 38, 39, 40, 41, 42, 43, 44, 45, 46, 47, 48, 49, 50, 51, 52, 53, 54, 55, 56, 57, 58, 59, 60, 61, 62, 63, 64, 65, 66, 67, 68, 69, 70, 71, 72, 73, 74, 75, 76, 77, 78, 79, 80, 81, 82, 83, 84, 85, 86, 87, 88, 89, 90, 91, 92, 93, 94, 95, 96, 97, 98, 99])"
      ]
     },
     "execution_count": 51,
     "metadata": {},
     "output_type": "execute_result"
    }
   ],
   "source": [
    "df_age.groups.keys()"
   ]
  },
  {
   "cell_type": "markdown",
   "id": "448701a1",
   "metadata": {
    "papermill": {
     "duration": 0.084256,
     "end_time": "2023-10-25T14:11:00.361458",
     "exception": false,
     "start_time": "2023-10-25T14:11:00.277202",
     "status": "completed"
    },
    "tags": []
   },
   "source": [
    "3. **`size()` (method)**:\n",
    "   - Returns a Series with the group sizes, indicating how many rows are in each group."
   ]
  },
  {
   "cell_type": "code",
   "execution_count": 57,
   "id": "3335d633",
   "metadata": {
    "execution": {
     "iopub.execute_input": "2023-10-25T14:11:00.533722Z",
     "iopub.status.busy": "2023-10-25T14:11:00.533335Z",
     "iopub.status.idle": "2023-10-25T14:11:00.541454Z",
     "shell.execute_reply": "2023-10-25T14:11:00.540357Z"
    },
    "papermill": {
     "duration": 0.095886,
     "end_time": "2023-10-25T14:11:00.543638",
     "exception": false,
     "start_time": "2023-10-25T14:11:00.447752",
     "status": "completed"
    },
    "tags": []
   },
   "outputs": [
    {
     "data": {
      "text/plain": [
       "<Axes: xlabel='Age'>"
      ]
     },
     "execution_count": 57,
     "metadata": {},
     "output_type": "execute_result"
    },
    {
     "data": {
      "image/png": "[encoded data removed]",
      "text/plain": [
       "<Figure size 640x480 with 1 Axes>"
      ]
     },
     "metadata": {},
     "output_type": "display_data"
    }
   ],
   "source": [
    "df_age.size().plot()"
   ]
  },
  {
   "cell_type": "markdown",
   "id": "123ef14f",
   "metadata": {
    "papermill": {
     "duration": 0.084242,
     "end_time": "2023-10-25T14:11:00.723037",
     "exception": false,
     "start_time": "2023-10-25T14:11:00.638795",
     "status": "completed"
    },
    "tags": []
   },
   "source": [
    "4. **`count()` (method)**:\n",
    "   - Returns the count of non-null values in each group."
   ]
  },
  {
   "cell_type": "code",
   "execution_count": 58,
   "id": "42876738",
   "metadata": {
    "execution": {
     "iopub.execute_input": "2023-10-25T14:11:00.907981Z",
     "iopub.status.busy": "2023-10-25T14:11:00.907378Z",
     "iopub.status.idle": "2023-10-25T14:11:00.927539Z",
     "shell.execute_reply": "2023-10-25T14:11:00.926381Z"
    },
    "papermill": {
     "duration": 0.115115,
     "end_time": "2023-10-25T14:11:00.929886",
     "exception": false,
     "start_time": "2023-10-25T14:11:00.814771",
     "status": "completed"
    },
    "tags": []
   },
   "outputs": [
    {
     "data": {
      "text/html": [
       "<div>\n",
       "<style scoped>\n",
       "    .dataframe tbody tr th:only-of-type {\n",
       "        vertical-align: middle;\n",
       "    }\n",
       "\n",
       "    .dataframe tbody tr th {\n",
       "        vertical-align: top;\n",
       "    }\n",
       "\n",
       "    .dataframe thead th {\n",
       "        text-align: right;\n",
       "    }\n",
       "</style>\n",
       "<table border=\"1\" class=\"dataframe\">\n",
       "  <thead>\n",
       "    <tr style=\"text-align: right;\">\n",
       "      <th></th>\n",
       "      <th>CustomerID</th>\n",
       "      <th>Gender</th>\n",
       "      <th>Annual Income ($)</th>\n",
       "      <th>Spending Score (1-100)</th>\n",
       "      <th>Profession</th>\n",
       "      <th>Work Experience</th>\n",
       "      <th>Family Size</th>\n",
       "    </tr>\n",
       "    <tr>\n",
       "      <th>Age</th>\n",
       "      <th></th>\n",
       "      <th></th>\n",
       "      <th></th>\n",
       "      <th></th>\n",
       "      <th></th>\n",
       "      <th></th>\n",
       "      <th></th>\n",
       "    </tr>\n",
       "  </thead>\n",
       "  <tbody>\n",
       "    <tr>\n",
       "      <th>0</th>\n",
       "      <td>24</td>\n",
       "      <td>24</td>\n",
       "      <td>24</td>\n",
       "      <td>24</td>\n",
       "      <td>23</td>\n",
       "      <td>24</td>\n",
       "      <td>24</td>\n",
       "    </tr>\n",
       "    <tr>\n",
       "      <th>1</th>\n",
       "      <td>26</td>\n",
       "      <td>26</td>\n",
       "      <td>26</td>\n",
       "      <td>26</td>\n",
       "      <td>25</td>\n",
       "      <td>26</td>\n",
       "      <td>26</td>\n",
       "    </tr>\n",
       "    <tr>\n",
       "      <th>2</th>\n",
       "      <td>15</td>\n",
       "      <td>15</td>\n",
       "      <td>15</td>\n",
       "      <td>15</td>\n",
       "      <td>15</td>\n",
       "      <td>15</td>\n",
       "      <td>15</td>\n",
       "    </tr>\n",
       "    <tr>\n",
       "      <th>3</th>\n",
       "      <td>18</td>\n",
       "      <td>18</td>\n",
       "      <td>18</td>\n",
       "      <td>18</td>\n",
       "      <td>18</td>\n",
       "      <td>18</td>\n",
       "      <td>18</td>\n",
       "    </tr>\n",
       "    <tr>\n",
       "      <th>4</th>\n",
       "      <td>15</td>\n",
       "      <td>15</td>\n",
       "      <td>15</td>\n",
       "      <td>15</td>\n",
       "      <td>15</td>\n",
       "      <td>15</td>\n",
       "      <td>15</td>\n",
       "    </tr>\n",
       "    <tr>\n",
       "      <th>...</th>\n",
       "      <td>...</td>\n",
       "      <td>...</td>\n",
       "      <td>...</td>\n",
       "      <td>...</td>\n",
       "      <td>...</td>\n",
       "      <td>...</td>\n",
       "      <td>...</td>\n",
       "    </tr>\n",
       "    <tr>\n",
       "      <th>95</th>\n",
       "      <td>21</td>\n",
       "      <td>21</td>\n",
       "      <td>21</td>\n",
       "      <td>21</td>\n",
       "      <td>19</td>\n",
       "      <td>21</td>\n",
       "      <td>21</td>\n",
       "    </tr>\n",
       "    <tr>\n",
       "      <th>96</th>\n",
       "      <td>22</td>\n",
       "      <td>22</td>\n",
       "      <td>22</td>\n",
       "      <td>22</td>\n",
       "      <td>22</td>\n",
       "      <td>22</td>\n",
       "      <td>22</td>\n",
       "    </tr>\n",
       "    <tr>\n",
       "      <th>97</th>\n",
       "      <td>22</td>\n",
       "      <td>22</td>\n",
       "      <td>22</td>\n",
       "      <td>22</td>\n",
       "      <td>22</td>\n",
       "      <td>22</td>\n",
       "      <td>22</td>\n",
       "    </tr>\n",
       "    <tr>\n",
       "      <th>98</th>\n",
       "      <td>9</td>\n",
       "      <td>9</td>\n",
       "      <td>9</td>\n",
       "      <td>9</td>\n",
       "      <td>9</td>\n",
       "      <td>9</td>\n",
       "      <td>9</td>\n",
       "    </tr>\n",
       "    <tr>\n",
       "      <th>99</th>\n",
       "      <td>17</td>\n",
       "      <td>17</td>\n",
       "      <td>17</td>\n",
       "      <td>17</td>\n",
       "      <td>16</td>\n",
       "      <td>17</td>\n",
       "      <td>17</td>\n",
       "    </tr>\n",
       "  </tbody>\n",
       "</table>\n",
       "<p>100 rows × 7 columns</p>\n",
       "</div>"
      ],
      "text/plain": [
       "     CustomerID  Gender  Annual Income ($)  Spending Score (1-100)  \\\n",
       "Age                                                                  \n",
       "0            24      24                 24                      24   \n",
       "1            26      26                 26                      26   \n",
       "2            15      15                 15                      15   \n",
       "3            18      18                 18                      18   \n",
       "4            15      15                 15                      15   \n",
       "..          ...     ...                ...                     ...   \n",
       "95           21      21                 21                      21   \n",
       "96           22      22                 22                      22   \n",
       "97           22      22                 22                      22   \n",
       "98            9       9                  9                       9   \n",
       "99           17      17                 17                      17   \n",
       "\n",
       "     Profession  Work Experience  Family Size  \n",
       "Age                                            \n",
       "0            23               24           24  \n",
       "1            25               26           26  \n",
       "2            15               15           15  \n",
       "3            18               18           18  \n",
       "4            15               15           15  \n",
       "..          ...              ...          ...  \n",
       "95           19               21           21  \n",
       "96           22               22           22  \n",
       "97           22               22           22  \n",
       "98            9                9            9  \n",
       "99           16               17           17  \n",
       "\n",
       "[100 rows x 7 columns]"
      ]
     },
     "execution_count": 58,
     "metadata": {},
     "output_type": "execute_result"
    }
   ],
   "source": [
    "df_age.count()"
   ]
  },
  {
   "cell_type": "markdown",
   "id": "b91cf0a2",
   "metadata": {
    "papermill": {
     "duration": 0.085066,
     "end_time": "2023-10-25T14:11:01.106231",
     "exception": false,
     "start_time": "2023-10-25T14:11:01.021165",
     "status": "completed"
    },
    "tags": []
   },
   "source": [
    "5. **`mean()` (method)**:\n",
    "   - Calculates the mean of each group."
   ]
  },
  {
   "cell_type": "code",
   "execution_count": 59,
   "id": "82af54b7",
   "metadata": {},
   "outputs": [
    {
     "data": {
      "text/plain": [
       "Age\n",
       "0     4.083333\n",
       "1     3.538462\n",
       "2     4.400000\n",
       "3     2.833333\n",
       "4     4.133333\n",
       "        ...   \n",
       "95    3.428571\n",
       "96    4.409091\n",
       "97    4.590909\n",
       "98    4.000000\n",
       "99    3.176471\n",
       "Name: Family Size, Length: 100, dtype: float64"
      ]
     },
     "execution_count": 59,
     "metadata": {},
     "output_type": "execute_result"
    }
   ],
   "source": [
    "df_age['Family Size'].mean() #min(), max(), sum()"
   ]
  },
  {
   "cell_type": "code",
   "execution_count": 60,
   "id": "b092bbde",
   "metadata": {
    "execution": {
     "iopub.execute_input": "2023-10-25T14:11:01.284330Z",
     "iopub.status.busy": "2023-10-25T14:11:01.283535Z",
     "iopub.status.idle": "2023-10-25T14:11:01.295234Z",
     "shell.execute_reply": "2023-10-25T14:11:01.294042Z"
    },
    "papermill": {
     "duration": 0.10401,
     "end_time": "2023-10-25T14:11:01.297647",
     "exception": false,
     "start_time": "2023-10-25T14:11:01.193637",
     "status": "completed"
    },
    "tags": []
   },
   "outputs": [
    {
     "data": {
      "text/plain": [
       "Age\n",
       "0     4.5\n",
       "1     3.0\n",
       "2     4.0\n",
       "3     2.0\n",
       "4     4.0\n",
       "     ... \n",
       "95    3.0\n",
       "96    5.0\n",
       "97    5.0\n",
       "98    4.0\n",
       "99    2.0\n",
       "Name: Family Size, Length: 100, dtype: float64"
      ]
     },
     "execution_count": 60,
     "metadata": {},
     "output_type": "execute_result"
    }
   ],
   "source": [
    "df_age['Family Size'].quantile(0.5) #min(), max(), sum()"
   ]
  },
  {
   "cell_type": "markdown",
   "id": "ecadc9f5",
   "metadata": {
    "papermill": {
     "duration": 0.086088,
     "end_time": "2023-10-25T14:11:02.903525",
     "exception": false,
     "start_time": "2023-10-25T14:11:02.817437",
     "status": "completed"
    },
    "tags": []
   },
   "source": [
    "9. **`agg()` (method)**:\n",
    "   - Applies one or more aggregation functions to each group. You can pass a dictionary specifying which functions to apply to which columns."
   ]
  },
  {
   "cell_type": "code",
   "execution_count": 61,
   "id": "91a64dc8",
   "metadata": {
    "execution": {
     "iopub.execute_input": "2023-10-25T14:11:03.078561Z",
     "iopub.status.busy": "2023-10-25T14:11:03.077868Z",
     "iopub.status.idle": "2023-10-25T14:11:03.093258Z",
     "shell.execute_reply": "2023-10-25T14:11:03.092377Z"
    },
    "papermill": {
     "duration": 0.103753,
     "end_time": "2023-10-25T14:11:03.095467",
     "exception": false,
     "start_time": "2023-10-25T14:11:02.991714",
     "status": "completed"
    },
    "tags": []
   },
   "outputs": [
    {
     "data": {
      "text/html": [
       "<div>\n",
       "<style scoped>\n",
       "    .dataframe tbody tr th:only-of-type {\n",
       "        vertical-align: middle;\n",
       "    }\n",
       "\n",
       "    .dataframe tbody tr th {\n",
       "        vertical-align: top;\n",
       "    }\n",
       "\n",
       "    .dataframe thead tr th {\n",
       "        text-align: left;\n",
       "    }\n",
       "\n",
       "    .dataframe thead tr:last-of-type th {\n",
       "        text-align: right;\n",
       "    }\n",
       "</style>\n",
       "<table border=\"1\" class=\"dataframe\">\n",
       "  <thead>\n",
       "    <tr>\n",
       "      <th></th>\n",
       "      <th colspan=\"5\" halign=\"left\">Annual Income ($)</th>\n",
       "    </tr>\n",
       "    <tr>\n",
       "      <th></th>\n",
       "      <th>sum</th>\n",
       "      <th>mean</th>\n",
       "      <th>min</th>\n",
       "      <th>max</th>\n",
       "      <th>std</th>\n",
       "    </tr>\n",
       "    <tr>\n",
       "      <th>Age</th>\n",
       "      <th></th>\n",
       "      <th></th>\n",
       "      <th></th>\n",
       "      <th></th>\n",
       "      <th></th>\n",
       "    </tr>\n",
       "  </thead>\n",
       "  <tbody>\n",
       "    <tr>\n",
       "      <th>0</th>\n",
       "      <td>2764807</td>\n",
       "      <td>115200.291667</td>\n",
       "      <td>22000</td>\n",
       "      <td>186002</td>\n",
       "      <td>43526.590200</td>\n",
       "    </tr>\n",
       "    <tr>\n",
       "      <th>1</th>\n",
       "      <td>2944421</td>\n",
       "      <td>113246.961538</td>\n",
       "      <td>12000</td>\n",
       "      <td>187297</td>\n",
       "      <td>43162.282253</td>\n",
       "    </tr>\n",
       "    <tr>\n",
       "      <th>2</th>\n",
       "      <td>1732464</td>\n",
       "      <td>115497.600000</td>\n",
       "      <td>52727</td>\n",
       "      <td>175208</td>\n",
       "      <td>36474.457652</td>\n",
       "    </tr>\n",
       "    <tr>\n",
       "      <th>3</th>\n",
       "      <td>2204109</td>\n",
       "      <td>122450.500000</td>\n",
       "      <td>55634</td>\n",
       "      <td>188557</td>\n",
       "      <td>43182.814714</td>\n",
       "    </tr>\n",
       "    <tr>\n",
       "      <th>4</th>\n",
       "      <td>1811149</td>\n",
       "      <td>120743.266667</td>\n",
       "      <td>53097</td>\n",
       "      <td>183282</td>\n",
       "      <td>44492.800825</td>\n",
       "    </tr>\n",
       "    <tr>\n",
       "      <th>...</th>\n",
       "      <td>...</td>\n",
       "      <td>...</td>\n",
       "      <td>...</td>\n",
       "      <td>...</td>\n",
       "      <td>...</td>\n",
       "    </tr>\n",
       "    <tr>\n",
       "      <th>95</th>\n",
       "      <td>2227008</td>\n",
       "      <td>106048.000000</td>\n",
       "      <td>36000</td>\n",
       "      <td>178228</td>\n",
       "      <td>44969.675858</td>\n",
       "    </tr>\n",
       "    <tr>\n",
       "      <th>96</th>\n",
       "      <td>2548134</td>\n",
       "      <td>115824.272727</td>\n",
       "      <td>1000</td>\n",
       "      <td>186882</td>\n",
       "      <td>43169.135795</td>\n",
       "    </tr>\n",
       "    <tr>\n",
       "      <th>97</th>\n",
       "      <td>2892922</td>\n",
       "      <td>131496.454545</td>\n",
       "      <td>66312</td>\n",
       "      <td>183783</td>\n",
       "      <td>35559.148677</td>\n",
       "    </tr>\n",
       "    <tr>\n",
       "      <th>98</th>\n",
       "      <td>926455</td>\n",
       "      <td>102939.444444</td>\n",
       "      <td>51866</td>\n",
       "      <td>167197</td>\n",
       "      <td>34981.644266</td>\n",
       "    </tr>\n",
       "    <tr>\n",
       "      <th>99</th>\n",
       "      <td>2157239</td>\n",
       "      <td>126896.411765</td>\n",
       "      <td>55972</td>\n",
       "      <td>184426</td>\n",
       "      <td>46830.757276</td>\n",
       "    </tr>\n",
       "  </tbody>\n",
       "</table>\n",
       "<p>100 rows × 5 columns</p>\n",
       "</div>"
      ],
      "text/plain": [
       "    Annual Income ($)                                            \n",
       "                  sum           mean    min     max           std\n",
       "Age                                                              \n",
       "0             2764807  115200.291667  22000  186002  43526.590200\n",
       "1             2944421  113246.961538  12000  187297  43162.282253\n",
       "2             1732464  115497.600000  52727  175208  36474.457652\n",
       "3             2204109  122450.500000  55634  188557  43182.814714\n",
       "4             1811149  120743.266667  53097  183282  44492.800825\n",
       "..                ...            ...    ...     ...           ...\n",
       "95            2227008  106048.000000  36000  178228  44969.675858\n",
       "96            2548134  115824.272727   1000  186882  43169.135795\n",
       "97            2892922  131496.454545  66312  183783  35559.148677\n",
       "98             926455  102939.444444  51866  167197  34981.644266\n",
       "99            2157239  126896.411765  55972  184426  46830.757276\n",
       "\n",
       "[100 rows x 5 columns]"
      ]
     },
     "execution_count": 61,
     "metadata": {},
     "output_type": "execute_result"
    }
   ],
   "source": [
    "df_age.agg({'Annual Income ($)': ['sum', 'mean', 'min','max', 'std']})"
   ]
  },
  {
   "cell_type": "markdown",
   "id": "1332ec21",
   "metadata": {
    "papermill": {
     "duration": 0.08424,
     "end_time": "2023-10-25T14:11:03.266305",
     "exception": false,
     "start_time": "2023-10-25T14:11:03.182065",
     "status": "completed"
    },
    "tags": []
   },
   "source": [
    "10. **`apply()` (method)**:\n",
    "    - Applies a custom function to each group."
   ]
  },
  {
   "cell_type": "code",
   "execution_count": 62,
   "id": "e95897f6",
   "metadata": {
    "execution": {
     "iopub.execute_input": "2023-10-25T14:11:03.439941Z",
     "iopub.status.busy": "2023-10-25T14:11:03.439232Z",
     "iopub.status.idle": "2023-10-25T14:11:03.457686Z",
     "shell.execute_reply": "2023-10-25T14:11:03.456588Z"
    },
    "papermill": {
     "duration": 0.108263,
     "end_time": "2023-10-25T14:11:03.459993",
     "exception": false,
     "start_time": "2023-10-25T14:11:03.351730",
     "status": "completed"
    },
    "tags": []
   },
   "outputs": [
    {
     "data": {
      "text/plain": [
       "Age      \n",
       "0    211      22.000\n",
       "     228      33.000\n",
       "     333     173.743\n",
       "     440      57.373\n",
       "     443      68.761\n",
       "              ...   \n",
       "99   1401    139.685\n",
       "     1524    150.782\n",
       "     1629    162.762\n",
       "     1668    174.275\n",
       "     1771     84.167\n",
       "Name: Annual Income ($), Length: 2000, dtype: float64"
      ]
     },
     "execution_count": 62,
     "metadata": {},
     "output_type": "execute_result"
    }
   ],
   "source": [
    "df_age['Annual Income ($)'].apply(lambda x : x/1000)"
   ]
  },
  {
   "cell_type": "markdown",
   "id": "1f695d84",
   "metadata": {
    "papermill": {
     "duration": 0.087923,
     "end_time": "2023-10-25T14:11:05.183513",
     "exception": false,
     "start_time": "2023-10-25T14:11:05.095590",
     "status": "completed"
    },
    "tags": []
   },
   "source": [
    "15. **`nth()` (method)**:\n",
    "    - Returns the nth row from each group."
   ]
  },
  {
   "cell_type": "code",
   "execution_count": 63,
   "id": "4dbdbf42",
   "metadata": {
    "execution": {
     "iopub.execute_input": "2023-10-25T14:11:05.363474Z",
     "iopub.status.busy": "2023-10-25T14:11:05.363091Z",
     "iopub.status.idle": "2023-10-25T14:11:05.375288Z",
     "shell.execute_reply": "2023-10-25T14:11:05.374482Z"
    },
    "papermill": {
     "duration": 0.104856,
     "end_time": "2023-10-25T14:11:05.377460",
     "exception": false,
     "start_time": "2023-10-25T14:11:05.272604",
     "status": "completed"
    },
    "tags": []
   },
   "outputs": [
    {
     "data": {
      "text/html": [
       "<div>\n",
       "<style scoped>\n",
       "    .dataframe tbody tr th:only-of-type {\n",
       "        vertical-align: middle;\n",
       "    }\n",
       "\n",
       "    .dataframe tbody tr th {\n",
       "        vertical-align: top;\n",
       "    }\n",
       "\n",
       "    .dataframe thead th {\n",
       "        text-align: right;\n",
       "    }\n",
       "</style>\n",
       "<table border=\"1\" class=\"dataframe\">\n",
       "  <thead>\n",
       "    <tr style=\"text-align: right;\">\n",
       "      <th></th>\n",
       "      <th>CustomerID</th>\n",
       "      <th>Gender</th>\n",
       "      <th>Age</th>\n",
       "      <th>Annual Income ($)</th>\n",
       "      <th>Spending Score (1-100)</th>\n",
       "      <th>Profession</th>\n",
       "      <th>Work Experience</th>\n",
       "      <th>Family Size</th>\n",
       "    </tr>\n",
       "  </thead>\n",
       "  <tbody>\n",
       "    <tr>\n",
       "      <th>19</th>\n",
       "      <td>20</td>\n",
       "      <td>Female</td>\n",
       "      <td>35</td>\n",
       "      <td>62000</td>\n",
       "      <td>98</td>\n",
       "      <td>Artist</td>\n",
       "      <td>0</td>\n",
       "      <td>1</td>\n",
       "    </tr>\n",
       "    <tr>\n",
       "      <th>49</th>\n",
       "      <td>50</td>\n",
       "      <td>Female</td>\n",
       "      <td>31</td>\n",
       "      <td>25000</td>\n",
       "      <td>42</td>\n",
       "      <td>Engineer</td>\n",
       "      <td>1</td>\n",
       "      <td>1</td>\n",
       "    </tr>\n",
       "    <tr>\n",
       "      <th>78</th>\n",
       "      <td>79</td>\n",
       "      <td>Female</td>\n",
       "      <td>23</td>\n",
       "      <td>97000</td>\n",
       "      <td>52</td>\n",
       "      <td>Engineer</td>\n",
       "      <td>2</td>\n",
       "      <td>2</td>\n",
       "    </tr>\n",
       "    <tr>\n",
       "      <th>79</th>\n",
       "      <td>80</td>\n",
       "      <td>Female</td>\n",
       "      <td>49</td>\n",
       "      <td>98000</td>\n",
       "      <td>42</td>\n",
       "      <td>NaN</td>\n",
       "      <td>1</td>\n",
       "      <td>1</td>\n",
       "    </tr>\n",
       "    <tr>\n",
       "      <th>84</th>\n",
       "      <td>85</td>\n",
       "      <td>Female</td>\n",
       "      <td>21</td>\n",
       "      <td>24000</td>\n",
       "      <td>57</td>\n",
       "      <td>Marketing</td>\n",
       "      <td>1</td>\n",
       "      <td>3</td>\n",
       "    </tr>\n",
       "    <tr>\n",
       "      <th>...</th>\n",
       "      <td>...</td>\n",
       "      <td>...</td>\n",
       "      <td>...</td>\n",
       "      <td>...</td>\n",
       "      <td>...</td>\n",
       "      <td>...</td>\n",
       "      <td>...</td>\n",
       "      <td>...</td>\n",
       "    </tr>\n",
       "    <tr>\n",
       "      <th>833</th>\n",
       "      <td>834</td>\n",
       "      <td>Female</td>\n",
       "      <td>6</td>\n",
       "      <td>146776</td>\n",
       "      <td>83</td>\n",
       "      <td>Lawyer</td>\n",
       "      <td>1</td>\n",
       "      <td>7</td>\n",
       "    </tr>\n",
       "    <tr>\n",
       "      <th>847</th>\n",
       "      <td>848</td>\n",
       "      <td>Female</td>\n",
       "      <td>82</td>\n",
       "      <td>109188</td>\n",
       "      <td>38</td>\n",
       "      <td>Lawyer</td>\n",
       "      <td>5</td>\n",
       "      <td>7</td>\n",
       "    </tr>\n",
       "    <tr>\n",
       "      <th>884</th>\n",
       "      <td>885</td>\n",
       "      <td>Female</td>\n",
       "      <td>88</td>\n",
       "      <td>171362</td>\n",
       "      <td>90</td>\n",
       "      <td>Executive</td>\n",
       "      <td>6</td>\n",
       "      <td>4</td>\n",
       "    </tr>\n",
       "    <tr>\n",
       "      <th>931</th>\n",
       "      <td>932</td>\n",
       "      <td>Female</td>\n",
       "      <td>2</td>\n",
       "      <td>145597</td>\n",
       "      <td>81</td>\n",
       "      <td>Artist</td>\n",
       "      <td>1</td>\n",
       "      <td>6</td>\n",
       "    </tr>\n",
       "    <tr>\n",
       "      <th>1288</th>\n",
       "      <td>1289</td>\n",
       "      <td>Female</td>\n",
       "      <td>98</td>\n",
       "      <td>51866</td>\n",
       "      <td>81</td>\n",
       "      <td>Artist</td>\n",
       "      <td>12</td>\n",
       "      <td>7</td>\n",
       "    </tr>\n",
       "  </tbody>\n",
       "</table>\n",
       "<p>100 rows × 8 columns</p>\n",
       "</div>"
      ],
      "text/plain": [
       "      CustomerID  Gender  Age  Annual Income ($)  Spending Score (1-100)  \\\n",
       "19            20  Female   35              62000                      98   \n",
       "49            50  Female   31              25000                      42   \n",
       "78            79  Female   23              97000                      52   \n",
       "79            80  Female   49              98000                      42   \n",
       "84            85  Female   21              24000                      57   \n",
       "...          ...     ...  ...                ...                     ...   \n",
       "833          834  Female    6             146776                      83   \n",
       "847          848  Female   82             109188                      38   \n",
       "884          885  Female   88             171362                      90   \n",
       "931          932  Female    2             145597                      81   \n",
       "1288        1289  Female   98              51866                      81   \n",
       "\n",
       "     Profession  Work Experience  Family Size  \n",
       "19       Artist                0            1  \n",
       "49     Engineer                1            1  \n",
       "78     Engineer                2            2  \n",
       "79          NaN                1            1  \n",
       "84    Marketing                1            3  \n",
       "...         ...              ...          ...  \n",
       "833      Lawyer                1            7  \n",
       "847      Lawyer                5            7  \n",
       "884   Executive                6            4  \n",
       "931      Artist                1            6  \n",
       "1288     Artist               12            7  \n",
       "\n",
       "[100 rows x 8 columns]"
      ]
     },
     "execution_count": 63,
     "metadata": {},
     "output_type": "execute_result"
    }
   ],
   "source": [
    "df_age.nth(3)"
   ]
  },
  {
   "cell_type": "markdown",
   "id": "a4f1bc0e",
   "metadata": {
    "papermill": {
     "duration": 0.094716,
     "end_time": "2023-10-25T14:11:05.562940",
     "exception": false,
     "start_time": "2023-10-25T14:11:05.468224",
     "status": "completed"
    },
    "tags": []
   },
   "source": [
    "16. **`first()` and `last()` (method)**:\n",
    "    - Returns the first or last row from each group."
   ]
  },
  {
   "cell_type": "code",
   "execution_count": null,
   "id": "0874c8ce",
   "metadata": {
    "execution": {
     "iopub.execute_input": "2023-10-25T14:11:05.757259Z",
     "iopub.status.busy": "2023-10-25T14:11:05.756866Z",
     "iopub.status.idle": "2023-10-25T14:11:05.771085Z",
     "shell.execute_reply": "2023-10-25T14:11:05.770065Z"
    },
    "papermill": {
     "duration": 0.111058,
     "end_time": "2023-10-25T14:11:05.773398",
     "exception": false,
     "start_time": "2023-10-25T14:11:05.662340",
     "status": "completed"
    },
    "tags": []
   },
   "outputs": [],
   "source": [
    "df_age.first()"
   ]
  },
  {
   "cell_type": "code",
   "execution_count": null,
   "id": "68c40702",
   "metadata": {
    "execution": {
     "iopub.execute_input": "2023-10-25T14:11:05.952354Z",
     "iopub.status.busy": "2023-10-25T14:11:05.951948Z",
     "iopub.status.idle": "2023-10-25T14:11:05.965919Z",
     "shell.execute_reply": "2023-10-25T14:11:05.964747Z"
    },
    "papermill": {
     "duration": 0.10521,
     "end_time": "2023-10-25T14:11:05.968063",
     "exception": false,
     "start_time": "2023-10-25T14:11:05.862853",
     "status": "completed"
    },
    "tags": []
   },
   "outputs": [],
   "source": [
    "df_age.last()"
   ]
  },
  {
   "cell_type": "markdown",
   "id": "809a5863",
   "metadata": {
    "papermill": {
     "duration": 0.089544,
     "end_time": "2023-10-25T14:11:08.304187",
     "exception": false,
     "start_time": "2023-10-25T14:11:08.214643",
     "status": "completed"
    },
    "tags": []
   },
   "source": [
    "The specific method you use will depend on your data analysis needs. These functions allow you to perform group-wise operations and calculations on your data, making groupby an essential tool for data analysis with Pandas."
   ]
  },
  {
   "cell_type": "markdown",
   "id": "fb1bd2a0",
   "metadata": {
    "papermill": {
     "duration": 0.088549,
     "end_time": "2023-10-25T14:11:08.482903",
     "exception": false,
     "start_time": "2023-10-25T14:11:08.394354",
     "status": "completed"
    },
    "tags": []
   },
   "source": [
    "#### 4. **Renaming and Reindexing**:\n",
    "\n",
    "   - `df.rename()`: Renames columns or indexes.\n",
    "   - `df.set_index()`: Sets a specific column as the DataFrame's index.\n",
    "   - `df.reset_index()`: Resets the index."
   ]
  },
  {
   "cell_type": "code",
   "execution_count": 64,
   "id": "41df425a",
   "metadata": {
    "execution": {
     "iopub.execute_input": "2023-10-25T14:11:08.663497Z",
     "iopub.status.busy": "2023-10-25T14:11:08.663107Z",
     "iopub.status.idle": "2023-10-25T14:11:08.669708Z",
     "shell.execute_reply": "2023-10-25T14:11:08.668624Z"
    },
    "papermill": {
     "duration": 0.099082,
     "end_time": "2023-10-25T14:11:08.671836",
     "exception": false,
     "start_time": "2023-10-25T14:11:08.572754",
     "status": "completed"
    },
    "tags": []
   },
   "outputs": [
    {
     "data": {
      "text/plain": [
       "Index(['CustomerID', 'Gender', 'Age', 'Annual Income ($)',\n",
       "       'Spending Score (1-100)', 'Profession', 'Work Experience',\n",
       "       'Family Size'],\n",
       "      dtype='object')"
      ]
     },
     "execution_count": 64,
     "metadata": {},
     "output_type": "execute_result"
    }
   ],
   "source": [
    "df.columns"
   ]
  },
  {
   "cell_type": "code",
   "execution_count": 66,
   "id": "3c60b9c3",
   "metadata": {
    "execution": {
     "iopub.execute_input": "2023-10-25T14:11:08.855906Z",
     "iopub.status.busy": "2023-10-25T14:11:08.855173Z",
     "iopub.status.idle": "2023-10-25T14:11:08.860576Z",
     "shell.execute_reply": "2023-10-25T14:11:08.859735Z"
    },
    "papermill": {
     "duration": 0.099494,
     "end_time": "2023-10-25T14:11:08.862681",
     "exception": false,
     "start_time": "2023-10-25T14:11:08.763187",
     "status": "completed"
    },
    "tags": []
   },
   "outputs": [],
   "source": [
    "df = df.rename(columns={'CustomerID': 'ID', 'Spending Score (1-100)': 'Spending Score'})"
   ]
  },
  {
   "cell_type": "code",
   "execution_count": null,
   "id": "ca75a390",
   "metadata": {},
   "outputs": [],
   "source": [
    "df"
   ]
  },
  {
   "cell_type": "code",
   "execution_count": 67,
   "id": "56af231e",
   "metadata": {
    "execution": {
     "iopub.execute_input": "2023-10-25T14:11:09.237021Z",
     "iopub.status.busy": "2023-10-25T14:11:09.236370Z",
     "iopub.status.idle": "2023-10-25T14:11:09.252512Z",
     "shell.execute_reply": "2023-10-25T14:11:09.251400Z"
    },
    "papermill": {
     "duration": 0.114848,
     "end_time": "2023-10-25T14:11:09.255914",
     "exception": false,
     "start_time": "2023-10-25T14:11:09.141066",
     "status": "completed"
    },
    "tags": []
   },
   "outputs": [
    {
     "data": {
      "text/html": [
       "<div>\n",
       "<style scoped>\n",
       "    .dataframe tbody tr th:only-of-type {\n",
       "        vertical-align: middle;\n",
       "    }\n",
       "\n",
       "    .dataframe tbody tr th {\n",
       "        vertical-align: top;\n",
       "    }\n",
       "\n",
       "    .dataframe thead th {\n",
       "        text-align: right;\n",
       "    }\n",
       "</style>\n",
       "<table border=\"1\" class=\"dataframe\">\n",
       "  <thead>\n",
       "    <tr style=\"text-align: right;\">\n",
       "      <th></th>\n",
       "      <th>Gender</th>\n",
       "      <th>Age</th>\n",
       "      <th>Annual Income ($)</th>\n",
       "      <th>Spending Score</th>\n",
       "      <th>Profession</th>\n",
       "      <th>Work Experience</th>\n",
       "      <th>Family Size</th>\n",
       "    </tr>\n",
       "    <tr>\n",
       "      <th>ID</th>\n",
       "      <th></th>\n",
       "      <th></th>\n",
       "      <th></th>\n",
       "      <th></th>\n",
       "      <th></th>\n",
       "      <th></th>\n",
       "      <th></th>\n",
       "    </tr>\n",
       "  </thead>\n",
       "  <tbody>\n",
       "    <tr>\n",
       "      <th>1</th>\n",
       "      <td>Male</td>\n",
       "      <td>19</td>\n",
       "      <td>15000</td>\n",
       "      <td>39</td>\n",
       "      <td>Healthcare</td>\n",
       "      <td>1</td>\n",
       "      <td>4</td>\n",
       "    </tr>\n",
       "    <tr>\n",
       "      <th>2</th>\n",
       "      <td>Male</td>\n",
       "      <td>21</td>\n",
       "      <td>35000</td>\n",
       "      <td>81</td>\n",
       "      <td>Engineer</td>\n",
       "      <td>3</td>\n",
       "      <td>3</td>\n",
       "    </tr>\n",
       "    <tr>\n",
       "      <th>3</th>\n",
       "      <td>Female</td>\n",
       "      <td>20</td>\n",
       "      <td>86000</td>\n",
       "      <td>6</td>\n",
       "      <td>Engineer</td>\n",
       "      <td>1</td>\n",
       "      <td>1</td>\n",
       "    </tr>\n",
       "    <tr>\n",
       "      <th>4</th>\n",
       "      <td>Female</td>\n",
       "      <td>23</td>\n",
       "      <td>59000</td>\n",
       "      <td>77</td>\n",
       "      <td>Lawyer</td>\n",
       "      <td>0</td>\n",
       "      <td>2</td>\n",
       "    </tr>\n",
       "    <tr>\n",
       "      <th>5</th>\n",
       "      <td>Female</td>\n",
       "      <td>31</td>\n",
       "      <td>38000</td>\n",
       "      <td>40</td>\n",
       "      <td>Entertainment</td>\n",
       "      <td>2</td>\n",
       "      <td>6</td>\n",
       "    </tr>\n",
       "    <tr>\n",
       "      <th>...</th>\n",
       "      <td>...</td>\n",
       "      <td>...</td>\n",
       "      <td>...</td>\n",
       "      <td>...</td>\n",
       "      <td>...</td>\n",
       "      <td>...</td>\n",
       "      <td>...</td>\n",
       "    </tr>\n",
       "    <tr>\n",
       "      <th>1996</th>\n",
       "      <td>Female</td>\n",
       "      <td>71</td>\n",
       "      <td>184387</td>\n",
       "      <td>40</td>\n",
       "      <td>Artist</td>\n",
       "      <td>8</td>\n",
       "      <td>7</td>\n",
       "    </tr>\n",
       "    <tr>\n",
       "      <th>1997</th>\n",
       "      <td>Female</td>\n",
       "      <td>91</td>\n",
       "      <td>73158</td>\n",
       "      <td>32</td>\n",
       "      <td>Doctor</td>\n",
       "      <td>7</td>\n",
       "      <td>7</td>\n",
       "    </tr>\n",
       "    <tr>\n",
       "      <th>1998</th>\n",
       "      <td>Male</td>\n",
       "      <td>87</td>\n",
       "      <td>90961</td>\n",
       "      <td>14</td>\n",
       "      <td>Healthcare</td>\n",
       "      <td>9</td>\n",
       "      <td>2</td>\n",
       "    </tr>\n",
       "    <tr>\n",
       "      <th>1999</th>\n",
       "      <td>Male</td>\n",
       "      <td>77</td>\n",
       "      <td>182109</td>\n",
       "      <td>4</td>\n",
       "      <td>Executive</td>\n",
       "      <td>7</td>\n",
       "      <td>2</td>\n",
       "    </tr>\n",
       "    <tr>\n",
       "      <th>2000</th>\n",
       "      <td>Male</td>\n",
       "      <td>90</td>\n",
       "      <td>110610</td>\n",
       "      <td>52</td>\n",
       "      <td>Entertainment</td>\n",
       "      <td>5</td>\n",
       "      <td>2</td>\n",
       "    </tr>\n",
       "  </tbody>\n",
       "</table>\n",
       "<p>2000 rows × 7 columns</p>\n",
       "</div>"
      ],
      "text/plain": [
       "      Gender  Age  Annual Income ($)  Spending Score     Profession  \\\n",
       "ID                                                                    \n",
       "1       Male   19              15000              39     Healthcare   \n",
       "2       Male   21              35000              81       Engineer   \n",
       "3     Female   20              86000               6       Engineer   \n",
       "4     Female   23              59000              77         Lawyer   \n",
       "5     Female   31              38000              40  Entertainment   \n",
       "...      ...  ...                ...             ...            ...   \n",
       "1996  Female   71             184387              40         Artist   \n",
       "1997  Female   91              73158              32         Doctor   \n",
       "1998    Male   87              90961              14     Healthcare   \n",
       "1999    Male   77             182109               4      Executive   \n",
       "2000    Male   90             110610              52  Entertainment   \n",
       "\n",
       "      Work Experience  Family Size  \n",
       "ID                                  \n",
       "1                   1            4  \n",
       "2                   3            3  \n",
       "3                   1            1  \n",
       "4                   0            2  \n",
       "5                   2            6  \n",
       "...               ...          ...  \n",
       "1996                8            7  \n",
       "1997                7            7  \n",
       "1998                9            2  \n",
       "1999                7            2  \n",
       "2000                5            2  \n",
       "\n",
       "[2000 rows x 7 columns]"
      ]
     },
     "execution_count": 67,
     "metadata": {},
     "output_type": "execute_result"
    }
   ],
   "source": [
    "df = df.set_index('ID')\n",
    "df"
   ]
  },
  {
   "cell_type": "code",
   "execution_count": 68,
   "id": "86c1d52c",
   "metadata": {
    "execution": {
     "iopub.execute_input": "2023-10-25T14:11:09.634013Z",
     "iopub.status.busy": "2023-10-25T14:11:09.633363Z",
     "iopub.status.idle": "2023-10-25T14:11:09.649927Z",
     "shell.execute_reply": "2023-10-25T14:11:09.648662Z"
    },
    "papermill": {
     "duration": 0.110297,
     "end_time": "2023-10-25T14:11:09.652254",
     "exception": false,
     "start_time": "2023-10-25T14:11:09.541957",
     "status": "completed"
    },
    "tags": []
   },
   "outputs": [
    {
     "data": {
      "text/html": [
       "<div>\n",
       "<style scoped>\n",
       "    .dataframe tbody tr th:only-of-type {\n",
       "        vertical-align: middle;\n",
       "    }\n",
       "\n",
       "    .dataframe tbody tr th {\n",
       "        vertical-align: top;\n",
       "    }\n",
       "\n",
       "    .dataframe thead th {\n",
       "        text-align: right;\n",
       "    }\n",
       "</style>\n",
       "<table border=\"1\" class=\"dataframe\">\n",
       "  <thead>\n",
       "    <tr style=\"text-align: right;\">\n",
       "      <th></th>\n",
       "      <th>Gender</th>\n",
       "      <th>Age</th>\n",
       "      <th>Annual Income ($)</th>\n",
       "      <th>Spending Score</th>\n",
       "      <th>Profession</th>\n",
       "      <th>Work Experience</th>\n",
       "      <th>Family Size</th>\n",
       "    </tr>\n",
       "    <tr>\n",
       "      <th>ID</th>\n",
       "      <th></th>\n",
       "      <th></th>\n",
       "      <th></th>\n",
       "      <th></th>\n",
       "      <th></th>\n",
       "      <th></th>\n",
       "      <th></th>\n",
       "    </tr>\n",
       "  </thead>\n",
       "  <tbody>\n",
       "    <tr>\n",
       "      <th>1</th>\n",
       "      <td>Male</td>\n",
       "      <td>19</td>\n",
       "      <td>15000</td>\n",
       "      <td>39</td>\n",
       "      <td>Healthcare</td>\n",
       "      <td>1</td>\n",
       "      <td>4</td>\n",
       "    </tr>\n",
       "    <tr>\n",
       "      <th>2</th>\n",
       "      <td>Male</td>\n",
       "      <td>21</td>\n",
       "      <td>35000</td>\n",
       "      <td>81</td>\n",
       "      <td>Engineer</td>\n",
       "      <td>3</td>\n",
       "      <td>3</td>\n",
       "    </tr>\n",
       "    <tr>\n",
       "      <th>3</th>\n",
       "      <td>Female</td>\n",
       "      <td>20</td>\n",
       "      <td>86000</td>\n",
       "      <td>6</td>\n",
       "      <td>Engineer</td>\n",
       "      <td>1</td>\n",
       "      <td>1</td>\n",
       "    </tr>\n",
       "    <tr>\n",
       "      <th>4</th>\n",
       "      <td>Female</td>\n",
       "      <td>23</td>\n",
       "      <td>59000</td>\n",
       "      <td>77</td>\n",
       "      <td>Lawyer</td>\n",
       "      <td>0</td>\n",
       "      <td>2</td>\n",
       "    </tr>\n",
       "    <tr>\n",
       "      <th>5</th>\n",
       "      <td>Female</td>\n",
       "      <td>31</td>\n",
       "      <td>38000</td>\n",
       "      <td>40</td>\n",
       "      <td>Entertainment</td>\n",
       "      <td>2</td>\n",
       "      <td>6</td>\n",
       "    </tr>\n",
       "    <tr>\n",
       "      <th>...</th>\n",
       "      <td>...</td>\n",
       "      <td>...</td>\n",
       "      <td>...</td>\n",
       "      <td>...</td>\n",
       "      <td>...</td>\n",
       "      <td>...</td>\n",
       "      <td>...</td>\n",
       "    </tr>\n",
       "    <tr>\n",
       "      <th>1996</th>\n",
       "      <td>Female</td>\n",
       "      <td>71</td>\n",
       "      <td>184387</td>\n",
       "      <td>40</td>\n",
       "      <td>Artist</td>\n",
       "      <td>8</td>\n",
       "      <td>7</td>\n",
       "    </tr>\n",
       "    <tr>\n",
       "      <th>1997</th>\n",
       "      <td>Female</td>\n",
       "      <td>91</td>\n",
       "      <td>73158</td>\n",
       "      <td>32</td>\n",
       "      <td>Doctor</td>\n",
       "      <td>7</td>\n",
       "      <td>7</td>\n",
       "    </tr>\n",
       "    <tr>\n",
       "      <th>1998</th>\n",
       "      <td>Male</td>\n",
       "      <td>87</td>\n",
       "      <td>90961</td>\n",
       "      <td>14</td>\n",
       "      <td>Healthcare</td>\n",
       "      <td>9</td>\n",
       "      <td>2</td>\n",
       "    </tr>\n",
       "    <tr>\n",
       "      <th>1999</th>\n",
       "      <td>Male</td>\n",
       "      <td>77</td>\n",
       "      <td>182109</td>\n",
       "      <td>4</td>\n",
       "      <td>Executive</td>\n",
       "      <td>7</td>\n",
       "      <td>2</td>\n",
       "    </tr>\n",
       "    <tr>\n",
       "      <th>2000</th>\n",
       "      <td>Male</td>\n",
       "      <td>90</td>\n",
       "      <td>110610</td>\n",
       "      <td>52</td>\n",
       "      <td>Entertainment</td>\n",
       "      <td>5</td>\n",
       "      <td>2</td>\n",
       "    </tr>\n",
       "  </tbody>\n",
       "</table>\n",
       "<p>2000 rows × 7 columns</p>\n",
       "</div>"
      ],
      "text/plain": [
       "      Gender  Age  Annual Income ($)  Spending Score     Profession  \\\n",
       "ID                                                                    \n",
       "1       Male   19              15000              39     Healthcare   \n",
       "2       Male   21              35000              81       Engineer   \n",
       "3     Female   20              86000               6       Engineer   \n",
       "4     Female   23              59000              77         Lawyer   \n",
       "5     Female   31              38000              40  Entertainment   \n",
       "...      ...  ...                ...             ...            ...   \n",
       "1996  Female   71             184387              40         Artist   \n",
       "1997  Female   91              73158              32         Doctor   \n",
       "1998    Male   87              90961              14     Healthcare   \n",
       "1999    Male   77             182109               4      Executive   \n",
       "2000    Male   90             110610              52  Entertainment   \n",
       "\n",
       "      Work Experience  Family Size  \n",
       "ID                                  \n",
       "1                   1            4  \n",
       "2                   3            3  \n",
       "3                   1            1  \n",
       "4                   0            2  \n",
       "5                   2            6  \n",
       "...               ...          ...  \n",
       "1996                8            7  \n",
       "1997                7            7  \n",
       "1998                9            2  \n",
       "1999                7            2  \n",
       "2000                5            2  \n",
       "\n",
       "[2000 rows x 7 columns]"
      ]
     },
     "execution_count": 68,
     "metadata": {},
     "output_type": "execute_result"
    }
   ],
   "source": [
    "#df.reset_index()\n",
    "df.reset_index(drop = True)\n",
    "df"
   ]
  },
  {
   "cell_type": "markdown",
   "id": "e4a2250e",
   "metadata": {
    "papermill": {
     "duration": 0.090654,
     "end_time": "2023-10-25T14:11:09.835233",
     "exception": false,
     "start_time": "2023-10-25T14:11:09.744579",
     "status": "completed"
    },
    "tags": []
   },
   "source": [
    "#### 5. **Удаление столбцов**:\n",
    "\n",
    "   - `df.drop(columns)`: Drops specified columns.\n",
    "   - `df.pop(column)`: Removes and returns a specific column."
   ]
  },
  {
   "cell_type": "code",
   "execution_count": 70,
   "id": "92c729d1",
   "metadata": {},
   "outputs": [
    {
     "data": {
      "text/html": [
       "<div>\n",
       "<style scoped>\n",
       "    .dataframe tbody tr th:only-of-type {\n",
       "        vertical-align: middle;\n",
       "    }\n",
       "\n",
       "    .dataframe tbody tr th {\n",
       "        vertical-align: top;\n",
       "    }\n",
       "\n",
       "    .dataframe thead th {\n",
       "        text-align: right;\n",
       "    }\n",
       "</style>\n",
       "<table border=\"1\" class=\"dataframe\">\n",
       "  <thead>\n",
       "    <tr style=\"text-align: right;\">\n",
       "      <th></th>\n",
       "      <th>Annual Income ($)</th>\n",
       "      <th>Spending Score (1-100)</th>\n",
       "    </tr>\n",
       "  </thead>\n",
       "  <tbody>\n",
       "    <tr>\n",
       "      <th>0</th>\n",
       "      <td>15000</td>\n",
       "      <td>39</td>\n",
       "    </tr>\n",
       "    <tr>\n",
       "      <th>1</th>\n",
       "      <td>35000</td>\n",
       "      <td>81</td>\n",
       "    </tr>\n",
       "    <tr>\n",
       "      <th>2</th>\n",
       "      <td>86000</td>\n",
       "      <td>6</td>\n",
       "    </tr>\n",
       "    <tr>\n",
       "      <th>3</th>\n",
       "      <td>59000</td>\n",
       "      <td>77</td>\n",
       "    </tr>\n",
       "    <tr>\n",
       "      <th>4</th>\n",
       "      <td>38000</td>\n",
       "      <td>40</td>\n",
       "    </tr>\n",
       "    <tr>\n",
       "      <th>...</th>\n",
       "      <td>...</td>\n",
       "      <td>...</td>\n",
       "    </tr>\n",
       "    <tr>\n",
       "      <th>1995</th>\n",
       "      <td>184387</td>\n",
       "      <td>40</td>\n",
       "    </tr>\n",
       "    <tr>\n",
       "      <th>1996</th>\n",
       "      <td>73158</td>\n",
       "      <td>32</td>\n",
       "    </tr>\n",
       "    <tr>\n",
       "      <th>1997</th>\n",
       "      <td>90961</td>\n",
       "      <td>14</td>\n",
       "    </tr>\n",
       "    <tr>\n",
       "      <th>1998</th>\n",
       "      <td>182109</td>\n",
       "      <td>4</td>\n",
       "    </tr>\n",
       "    <tr>\n",
       "      <th>1999</th>\n",
       "      <td>110610</td>\n",
       "      <td>52</td>\n",
       "    </tr>\n",
       "  </tbody>\n",
       "</table>\n",
       "<p>2000 rows × 2 columns</p>\n",
       "</div>"
      ],
      "text/plain": [
       "      Annual Income ($)  Spending Score (1-100)\n",
       "0                 15000                      39\n",
       "1                 35000                      81\n",
       "2                 86000                       6\n",
       "3                 59000                      77\n",
       "4                 38000                      40\n",
       "...                 ...                     ...\n",
       "1995             184387                      40\n",
       "1996              73158                      32\n",
       "1997              90961                      14\n",
       "1998             182109                       4\n",
       "1999             110610                      52\n",
       "\n",
       "[2000 rows x 2 columns]"
      ]
     },
     "execution_count": 70,
     "metadata": {},
     "output_type": "execute_result"
    }
   ],
   "source": [
    "df.iloc[:,3:5]"
   ]
  },
  {
   "cell_type": "code",
   "execution_count": null,
   "id": "60e44486",
   "metadata": {
    "execution": {
     "iopub.execute_input": "2023-10-25T14:11:10.214813Z",
     "iopub.status.busy": "2023-10-25T14:11:10.214440Z",
     "iopub.status.idle": "2023-10-25T14:11:10.231800Z",
     "shell.execute_reply": "2023-10-25T14:11:10.230648Z"
    },
    "papermill": {
     "duration": 0.112412,
     "end_time": "2023-10-25T14:11:10.234083",
     "exception": false,
     "start_time": "2023-10-25T14:11:10.121671",
     "status": "completed"
    },
    "tags": []
   },
   "outputs": [],
   "source": [
    "df.drop(columns='Profession')"
   ]
  },
  {
   "cell_type": "code",
   "execution_count": null,
   "id": "ca26dc8b",
   "metadata": {
    "execution": {
     "iopub.execute_input": "2023-10-25T14:11:10.418983Z",
     "iopub.status.busy": "2023-10-25T14:11:10.418629Z",
     "iopub.status.idle": "2023-10-25T14:11:10.432121Z",
     "shell.execute_reply": "2023-10-25T14:11:10.431322Z"
    },
    "papermill": {
     "duration": 0.108232,
     "end_time": "2023-10-25T14:11:10.433998",
     "exception": false,
     "start_time": "2023-10-25T14:11:10.325766",
     "status": "completed"
    },
    "tags": []
   },
   "outputs": [],
   "source": [
    "df.drop(columns=['Profession','Work Experience'])"
   ]
  },
  {
   "cell_type": "code",
   "execution_count": null,
   "id": "4cadd2fc",
   "metadata": {
    "execution": {
     "iopub.execute_input": "2023-10-25T14:11:10.618814Z",
     "iopub.status.busy": "2023-10-25T14:11:10.617807Z",
     "iopub.status.idle": "2023-10-25T14:11:10.626924Z",
     "shell.execute_reply": "2023-10-25T14:11:10.625885Z"
    },
    "papermill": {
     "duration": 0.103673,
     "end_time": "2023-10-25T14:11:10.629165",
     "exception": false,
     "start_time": "2023-10-25T14:11:10.525492",
     "status": "completed"
    },
    "tags": []
   },
   "outputs": [],
   "source": [
    "df.pop('Profession')"
   ]
  },
  {
   "cell_type": "markdown",
   "id": "cd2c00fd",
   "metadata": {
    "papermill": {
     "duration": 0.155337,
     "end_time": "2023-10-25T14:11:12.062527",
     "exception": false,
     "start_time": "2023-10-25T14:11:11.907190",
     "status": "completed"
    },
    "tags": []
   },
   "source": [
    "#### 7. **Дублированные данные**:\n",
    "\n",
    "   - `df.duplicated()`: Identifies duplicate rows.\n",
    "   - `df.drop_duplicates()`: Removes duplicate rows."
   ]
  },
  {
   "cell_type": "code",
   "execution_count": null,
   "id": "246c02e4",
   "metadata": {},
   "outputs": [],
   "source": [
    "df\n",
    "any(df.duplicated())\n"
   ]
  },
  {
   "cell_type": "code",
   "execution_count": null,
   "id": "259c9da7",
   "metadata": {
    "execution": {
     "iopub.execute_input": "2023-10-25T14:11:12.249763Z",
     "iopub.status.busy": "2023-10-25T14:11:12.249390Z",
     "iopub.status.idle": "2023-10-25T14:11:12.258675Z",
     "shell.execute_reply": "2023-10-25T14:11:12.257769Z"
    },
    "papermill": {
     "duration": 0.105956,
     "end_time": "2023-10-25T14:11:12.260640",
     "exception": false,
     "start_time": "2023-10-25T14:11:12.154684",
     "status": "completed"
    },
    "tags": []
   },
   "outputs": [],
   "source": [
    "df = pd.concat([df,df])\n",
    "df = df.reset_index(drop=True)\n",
    "df"
   ]
  },
  {
   "cell_type": "code",
   "execution_count": null,
   "id": "39ca902a",
   "metadata": {},
   "outputs": [],
   "source": [
    "df.duplicated().sum()"
   ]
  },
  {
   "cell_type": "code",
   "execution_count": null,
   "id": "02d35cc4",
   "metadata": {
    "execution": {
     "iopub.execute_input": "2023-10-25T14:11:12.447002Z",
     "iopub.status.busy": "2023-10-25T14:11:12.446539Z",
     "iopub.status.idle": "2023-10-25T14:11:12.466088Z",
     "shell.execute_reply": "2023-10-25T14:11:12.464980Z"
    },
    "papermill": {
     "duration": 0.115633,
     "end_time": "2023-10-25T14:11:12.468109",
     "exception": false,
     "start_time": "2023-10-25T14:11:12.352476",
     "status": "completed"
    },
    "tags": []
   },
   "outputs": [],
   "source": [
    "df[df.duplicated()]"
   ]
  },
  {
   "cell_type": "code",
   "execution_count": null,
   "id": "c12d0a20",
   "metadata": {
    "execution": {
     "iopub.execute_input": "2023-10-25T14:11:12.655761Z",
     "iopub.status.busy": "2023-10-25T14:11:12.655371Z",
     "iopub.status.idle": "2023-10-25T14:11:12.675345Z",
     "shell.execute_reply": "2023-10-25T14:11:12.674235Z"
    },
    "papermill": {
     "duration": 0.115901,
     "end_time": "2023-10-25T14:11:12.677388",
     "exception": false,
     "start_time": "2023-10-25T14:11:12.561487",
     "status": "completed"
    },
    "tags": []
   },
   "outputs": [],
   "source": [
    "df = df.drop_duplicates(keep='first')\n",
    "df.sum(numeric_only=True)"
   ]
  },
  {
   "cell_type": "markdown",
   "id": "a05b4b19",
   "metadata": {
    "papermill": {
     "duration": 0.095121,
     "end_time": "2023-10-25T14:11:13.070683",
     "exception": false,
     "start_time": "2023-10-25T14:11:12.975562",
     "status": "completed"
    },
    "tags": []
   },
   "source": [
    "#### 8. **Применение функций**:\n",
    "\n",
    "   - `apply(func)`, `applymap(func)`: Applies a custom function element-wise or row-wise.\n",
    "   - `transform(func)`: Applies a custom function element-wise and retains the DataFrame shape.\n",
    "   \n",
    "``` python \n",
    "df.apply(func, axis=0)  # Apply 'func' to each column\n",
    "df.apply(func, axis=1)  # Apply 'func' to each row\n",
    "\n",
    "df.applymap(func)  # Apply 'func' to each element in the DataFrame\n",
    "\n",
    "series.map(func)  # Apply 'func' to each element in the Series\n",
    "\n",
    "df.groupby('grouping_column').agg(func)  # Apply aggregation functions to groups\n",
    "df.groupby('grouping_column').transform(func)  # Apply a function to each group and broadcast the results\n",
    "df.groupby('grouping_column').filter(lambda x: condition(x))  # Filter groups based on a condition\n",
    "\n",
    "\n",
    "```\n"
   ]
  },
  {
   "cell_type": "code",
   "execution_count": 111,
   "id": "472a2877",
   "metadata": {
    "execution": {
     "iopub.execute_input": "2023-10-25T14:11:13.262568Z",
     "iopub.status.busy": "2023-10-25T14:11:13.261831Z",
     "iopub.status.idle": "2023-10-25T14:11:13.269609Z",
     "shell.execute_reply": "2023-10-25T14:11:13.268336Z"
    },
    "papermill": {
     "duration": 0.105496,
     "end_time": "2023-10-25T14:11:13.271648",
     "exception": false,
     "start_time": "2023-10-25T14:11:13.166152",
     "status": "completed"
    },
    "tags": []
   },
   "outputs": [],
   "source": [
    "# creating a custom function\n",
    "def big_family(number):\n",
    "    if int(number) < 3:\n",
    "        return 'ordinary'\n",
    "    else:\n",
    "        return 'huge'"
   ]
  },
  {
   "cell_type": "code",
   "execution_count": null,
   "id": "7dbd09d1",
   "metadata": {},
   "outputs": [],
   "source": [
    "df['Month_Age'] = df.Age * 12\n",
    "df['Family type'] = df['Family Size'].apply(big_family)\n",
    "df.loc[len(df)]  = df.iloc[1998] \n",
    "df"
   ]
  },
  {
   "cell_type": "markdown",
   "id": "6be5f6dc",
   "metadata": {
    "papermill": {
     "duration": 0.095839,
     "end_time": "2023-10-25T14:11:16.063903",
     "exception": false,
     "start_time": "2023-10-25T14:11:15.968064",
     "status": "completed"
    },
    "tags": []
   },
   "source": [
    "#### 9. **Merging and Joining Data**:\n",
    "\n",
    "    - `concat()`, `merge()`: Combines multiple DataFrames.\n",
    "    - `join()`: Joins DataFrames on a common column."
   ]
  },
  {
   "cell_type": "markdown",
   "id": "81e174a5",
   "metadata": {
    "papermill": {
     "duration": 0.09384,
     "end_time": "2023-10-25T14:11:16.252444",
     "exception": false,
     "start_time": "2023-10-25T14:11:16.158604",
     "status": "completed"
    },
    "tags": []
   },
   "source": [
    "Merging and joining data in Pandas is a crucial operation when working with multiple DataFrames. These operations allow you to combine or join data from different sources based on common columns or keys. Here's an overview of the key functions for merging and joining data in Pandas:\n",
    "\n",
    "1. **`pd.concat()`:**\n",
    "   - The `pd.concat()` function is used to concatenate or stack multiple DataFrames along a particular axis (either rows or columns). It is useful when you want to combine data from different DataFrames without regard to their indexes.\n",
    "   \n",
    "   ```python\n",
    "   concatenated = pd.concat([df1, df2], axis=0)  # Concatenate vertically (along rows)\n",
    "   concatenated = pd.concat([df1, df2], axis=1)  # Concatenate horizontally (along columns)\n",
    "   ```"
   ]
  },
  {
   "cell_type": "code",
   "execution_count": null,
   "id": "654253df",
   "metadata": {
    "execution": {
     "iopub.execute_input": "2023-10-25T14:11:16.442462Z",
     "iopub.status.busy": "2023-10-25T14:11:16.441891Z",
     "iopub.status.idle": "2023-10-25T14:11:16.448483Z",
     "shell.execute_reply": "2023-10-25T14:11:16.447733Z"
    },
    "papermill": {
     "duration": 0.103022,
     "end_time": "2023-10-25T14:11:16.450512",
     "exception": false,
     "start_time": "2023-10-25T14:11:16.347490",
     "status": "completed"
    },
    "tags": []
   },
   "outputs": [],
   "source": [
    "data1 = {'A': ['A0', 'A1'],\n",
    "         'B': ['B0', 'B1'],\n",
    "         'C': ['C0', 'C1']}\n",
    "data2 = {'A': ['A3', 'A4', 'A5'],\n",
    "         'B': ['B3', 'B4', 'B5'],\n",
    "         'D': ['C0', 'C1', 'C2']}\n",
    "df1 = pd.DataFrame(data1)\n",
    "df2 = pd.DataFrame(data2)\n",
    "\n",
    "# Concatenate vertically (along rows)\n"
   ]
  },
  {
   "cell_type": "code",
   "execution_count": null,
   "id": "42cd9a63",
   "metadata": {
    "execution": {
     "iopub.execute_input": "2023-10-25T14:11:16.641056Z",
     "iopub.status.busy": "2023-10-25T14:11:16.640471Z",
     "iopub.status.idle": "2023-10-25T14:11:16.648665Z",
     "shell.execute_reply": "2023-10-25T14:11:16.647568Z"
    },
    "papermill": {
     "duration": 0.106767,
     "end_time": "2023-10-25T14:11:16.650624",
     "exception": false,
     "start_time": "2023-10-25T14:11:16.543857",
     "status": "completed"
    },
    "tags": []
   },
   "outputs": [],
   "source": [
    "df1"
   ]
  },
  {
   "cell_type": "code",
   "execution_count": null,
   "id": "a1486abd",
   "metadata": {
    "execution": {
     "iopub.execute_input": "2023-10-25T14:11:16.842342Z",
     "iopub.status.busy": "2023-10-25T14:11:16.841768Z",
     "iopub.status.idle": "2023-10-25T14:11:16.849867Z",
     "shell.execute_reply": "2023-10-25T14:11:16.848944Z"
    },
    "papermill": {
     "duration": 0.104865,
     "end_time": "2023-10-25T14:11:16.851896",
     "exception": false,
     "start_time": "2023-10-25T14:11:16.747031",
     "status": "completed"
    },
    "tags": []
   },
   "outputs": [],
   "source": [
    "df2"
   ]
  },
  {
   "cell_type": "code",
   "execution_count": null,
   "id": "07153a45",
   "metadata": {},
   "outputs": [],
   "source": [
    "df1+df2"
   ]
  },
  {
   "cell_type": "code",
   "execution_count": null,
   "id": "493f01b1",
   "metadata": {},
   "outputs": [],
   "source": [
    "concatenated = pd.concat([df1, df2], axis=0)  # Concatenate vertically (along rows)\n",
    "concatenated"
   ]
  },
  {
   "cell_type": "code",
   "execution_count": null,
   "id": "0f45691a",
   "metadata": {},
   "outputs": [],
   "source": [
    "concatenated = pd.concat([df1, df2], axis=1)\n",
    "concatenated"
   ]
  },
  {
   "cell_type": "code",
   "execution_count": null,
   "id": "7c887a9e",
   "metadata": {},
   "outputs": [],
   "source": [
    "concatenated = pd.concat([df1, df2], axis=0)\n",
    "tmp = concatenated.loc[1]\n",
    "tmp"
   ]
  },
  {
   "cell_type": "markdown",
   "id": "0e5c82d3",
   "metadata": {
    "papermill": {
     "duration": 0.093568,
     "end_time": "2023-10-25T14:11:18.108908",
     "exception": false,
     "start_time": "2023-10-25T14:11:18.015340",
     "status": "completed"
    },
    "tags": []
   },
   "source": [
    "2. **`pd.merge()`:**\n",
    "   - The `pd.merge()` function is used to perform database-style joins on DataFrames. It allows you to combine DataFrames based on common columns or keys, similar to SQL joins. You can specify the type of join (inner, outer, left, or right) and the columns on which to join.\n",
    "   \n",
    "   ```python\n",
    "   merged = pd.merge(df1, df2, on='common_column', how='inner')  # Inner join\n",
    "   ```"
   ]
  },
  {
   "cell_type": "markdown",
   "id": "292e48c0",
   "metadata": {
    "papermill": {
     "duration": 0.094287,
     "end_time": "2023-10-25T14:11:18.297787",
     "exception": false,
     "start_time": "2023-10-25T14:11:18.203500",
     "status": "completed"
    },
    "tags": []
   },
   "source": [
    "The `pd.merge()` function in Pandas is used to combine two or more DataFrames based on common columns or keys, similar to how SQL joins work. Let's go through an example to demonstrate how to use `pd.merge()`:\n",
    "\n",
    "Suppose you have two DataFrames, `df1` and `df2`, and you want to merge them based on a common column called \"Key.\"\n",
    "\n",
    "**Example: Merging DataFrames with `pd.merge()`**"
   ]
  },
  {
   "cell_type": "code",
   "execution_count": null,
   "id": "4f51294c",
   "metadata": {
    "execution": {
     "iopub.execute_input": "2023-10-25T14:11:18.488764Z",
     "iopub.status.busy": "2023-10-25T14:11:18.488175Z",
     "iopub.status.idle": "2023-10-25T14:11:18.501452Z",
     "shell.execute_reply": "2023-10-25T14:11:18.500644Z"
    },
    "papermill": {
     "duration": 0.110943,
     "end_time": "2023-10-25T14:11:18.503681",
     "exception": false,
     "start_time": "2023-10-25T14:11:18.392738",
     "status": "completed"
    },
    "tags": []
   },
   "outputs": [],
   "source": [
    "\n",
    "data1 = {'Key': ['A', 'B', 'C', 'D'],         'Value11': [1, 2, 3, 4],\n",
    "         'Value12': [9,10,11,12]}\n",
    "df1 = pd.DataFrame(data1)\n",
    "\n",
    "data2 = {'Key': ['B', 'D', 'E', 'F'],\n",
    "         'Value21': [5, 6, 7, 8],\n",
    "         'Value22': [13,14,15,16]}\n",
    "df2 = pd.DataFrame(data2)\n"
   ]
  },
  {
   "cell_type": "code",
   "execution_count": null,
   "id": "933e8f12",
   "metadata": {
    "execution": {
     "iopub.execute_input": "2023-10-25T14:11:18.696554Z",
     "iopub.status.busy": "2023-10-25T14:11:18.695913Z",
     "iopub.status.idle": "2023-10-25T14:11:18.704924Z",
     "shell.execute_reply": "2023-10-25T14:11:18.703861Z"
    },
    "papermill": {
     "duration": 0.108262,
     "end_time": "2023-10-25T14:11:18.707028",
     "exception": false,
     "start_time": "2023-10-25T14:11:18.598766",
     "status": "completed"
    },
    "tags": []
   },
   "outputs": [],
   "source": [
    "df1"
   ]
  },
  {
   "cell_type": "code",
   "execution_count": null,
   "id": "ab4ad059",
   "metadata": {
    "execution": {
     "iopub.execute_input": "2023-10-25T14:11:18.901519Z",
     "iopub.status.busy": "2023-10-25T14:11:18.900861Z",
     "iopub.status.idle": "2023-10-25T14:11:18.910060Z",
     "shell.execute_reply": "2023-10-25T14:11:18.909349Z"
    },
    "papermill": {
     "duration": 0.106487,
     "end_time": "2023-10-25T14:11:18.912039",
     "exception": false,
     "start_time": "2023-10-25T14:11:18.805552",
     "status": "completed"
    },
    "tags": []
   },
   "outputs": [],
   "source": [
    "df2"
   ]
  },
  {
   "cell_type": "code",
   "execution_count": null,
   "id": "ddda5516",
   "metadata": {
    "execution": {
     "iopub.execute_input": "2023-10-25T14:11:19.106753Z",
     "iopub.status.busy": "2023-10-25T14:11:19.106091Z",
     "iopub.status.idle": "2023-10-25T14:11:19.114588Z",
     "shell.execute_reply": "2023-10-25T14:11:19.113852Z"
    },
    "papermill": {
     "duration": 0.107857,
     "end_time": "2023-10-25T14:11:19.116446",
     "exception": false,
     "start_time": "2023-10-25T14:11:19.008589",
     "status": "completed"
    },
    "tags": []
   },
   "outputs": [],
   "source": [
    "merged = pd.merge(df1, df2, on='Key', how='inner')\n",
    "merged"
   ]
  },
  {
   "cell_type": "code",
   "execution_count": null,
   "id": "81f82937",
   "metadata": {},
   "outputs": [],
   "source": [
    "merged = pd.merge(df1, df2, on='Key', how='outer')\n",
    "merged"
   ]
  },
  {
   "cell_type": "code",
   "execution_count": null,
   "id": "dfed3420",
   "metadata": {},
   "outputs": [],
   "source": [
    "merged = pd.merge(df1, df2, on='Key', how='left')\n",
    "merged"
   ]
  },
  {
   "cell_type": "code",
   "execution_count": null,
   "id": "ea5d61cd",
   "metadata": {},
   "outputs": [],
   "source": [
    "merged = pd.merge(df1, df2, on='Key', how='right')\n",
    "merged"
   ]
  },
  {
   "cell_type": "code",
   "execution_count": null,
   "id": "ad2bf4a6",
   "metadata": {},
   "outputs": [],
   "source": [
    "merged = pd.merge(df2, df1, on='Key', how='left')\n",
    "merged"
   ]
  },
  {
   "cell_type": "code",
   "execution_count": null,
   "id": "e3dbf0f9",
   "metadata": {},
   "outputs": [],
   "source": [
    "merged = pd.merge(df1, df2,how='cross')\n",
    "merged"
   ]
  },
  {
   "cell_type": "markdown",
   "id": "131601b2",
   "metadata": {
    "papermill": {
     "duration": 0.094799,
     "end_time": "2023-10-25T14:11:19.497645",
     "exception": false,
     "start_time": "2023-10-25T14:11:19.402846",
     "status": "completed"
    },
    "tags": []
   },
   "source": [
    "3. **`.join()`:**\n",
    "   - The `.join()` method is used to join two DataFrames based on a common column, typically the index column. It provides a convenient way to perform left or right joins.\n",
    "   \n",
    "   ```python\n",
    "   df1.join(df2, how='left')  # Left join\n",
    "   ```\n",
    "\n",
    "These functions and methods are powerful tools for combining data from different sources into a single DataFrame, either by stacking them (using `pd.concat()`) or by merging them (using `pd.merge()` or `.join()`).\n",
    "\n",
    "In addition to these, you can specify key columns, handle duplicate column names, and perform more complex merging and joining operations, including merging on multiple columns or keys.\n",
    "\n",
    "The choice of which method to use depends on the specific requirements of your data and the type of merge or join operation you want to perform. Understanding the different types of joins (inner, outer, left, right) and how to specify key columns is important when working with these functions."
   ]
  },
  {
   "cell_type": "markdown",
   "id": "93de03b7",
   "metadata": {
    "papermill": {
     "duration": 0.095335,
     "end_time": "2023-10-25T14:11:19.690364",
     "exception": false,
     "start_time": "2023-10-25T14:11:19.595029",
     "status": "completed"
    },
    "tags": []
   },
   "source": [
    "In Pandas, the `.join()` method is used to combine two DataFrames based on a common column or index. The `.join()` method is more commonly used when you want to join DataFrames on their indices. Let's go through an example to demonstrate how to use `.join()`:\n",
    "\n",
    "Suppose you have two DataFrames, `df1` and `df2`, and you want to join them based on their indices or a common column, such as \"Key.\"\n",
    "\n",
    "**Example: Joining DataFrames with `.join()`**"
   ]
  },
  {
   "cell_type": "code",
   "execution_count": null,
   "id": "d0cb36f0",
   "metadata": {
    "execution": {
     "iopub.execute_input": "2023-10-25T14:11:19.893853Z",
     "iopub.status.busy": "2023-10-25T14:11:19.893204Z",
     "iopub.status.idle": "2023-10-25T14:11:19.902037Z",
     "shell.execute_reply": "2023-10-25T14:11:19.900891Z"
    },
    "papermill": {
     "duration": 0.117317,
     "end_time": "2023-10-25T14:11:19.904337",
     "exception": false,
     "start_time": "2023-10-25T14:11:19.787020",
     "status": "completed"
    },
    "tags": []
   },
   "outputs": [],
   "source": [
    "data1 = {'Key': ['A', 'B', 'C', 'D'],\n",
    "         'Value1': [1, 2, 3, 4]}\n",
    "df1 = pd.DataFrame(data1)\n",
    "\n",
    "data2 = {'Value2': [5, 6, 7, 8]}\n",
    "df2 = pd.DataFrame(data2, index=['B', 'D', 'E', 'F'])\n"
   ]
  },
  {
   "cell_type": "code",
   "execution_count": null,
   "id": "25cbdd75",
   "metadata": {
    "execution": {
     "iopub.execute_input": "2023-10-25T14:11:20.098522Z",
     "iopub.status.busy": "2023-10-25T14:11:20.097410Z",
     "iopub.status.idle": "2023-10-25T14:11:20.106821Z",
     "shell.execute_reply": "2023-10-25T14:11:20.105675Z"
    },
    "papermill": {
     "duration": 0.108588,
     "end_time": "2023-10-25T14:11:20.109159",
     "exception": false,
     "start_time": "2023-10-25T14:11:20.000571",
     "status": "completed"
    },
    "tags": []
   },
   "outputs": [],
   "source": [
    "df1"
   ]
  },
  {
   "cell_type": "code",
   "execution_count": null,
   "id": "7720e80b",
   "metadata": {
    "execution": {
     "iopub.execute_input": "2023-10-25T14:11:20.302121Z",
     "iopub.status.busy": "2023-10-25T14:11:20.301746Z",
     "iopub.status.idle": "2023-10-25T14:11:20.310443Z",
     "shell.execute_reply": "2023-10-25T14:11:20.309344Z"
    },
    "papermill": {
     "duration": 0.107385,
     "end_time": "2023-10-25T14:11:20.312367",
     "exception": false,
     "start_time": "2023-10-25T14:11:20.204982",
     "status": "completed"
    },
    "tags": []
   },
   "outputs": [],
   "source": [
    "df2"
   ]
  },
  {
   "cell_type": "code",
   "execution_count": null,
   "id": "51f0a921",
   "metadata": {
    "execution": {
     "iopub.execute_input": "2023-10-25T14:11:20.504893Z",
     "iopub.status.busy": "2023-10-25T14:11:20.503960Z",
     "iopub.status.idle": "2023-10-25T14:11:20.513000Z",
     "shell.execute_reply": "2023-10-25T14:11:20.512182Z"
    },
    "papermill": {
     "duration": 0.107078,
     "end_time": "2023-10-25T14:11:20.514947",
     "exception": false,
     "start_time": "2023-10-25T14:11:20.407869",
     "status": "completed"
    },
    "tags": []
   },
   "outputs": [],
   "source": [
    "joined = df1.set_index('Key').join(df2, how='left')\n",
    "joined"
   ]
  },
  {
   "cell_type": "markdown",
   "id": "2bffe67d",
   "metadata": {
    "papermill": {
     "duration": 0.094951,
     "end_time": "2023-10-25T14:11:20.705125",
     "exception": false,
     "start_time": "2023-10-25T14:11:20.610174",
     "status": "completed"
    },
    "tags": []
   },
   "source": [
    "In this example, we:\n",
    "\n",
    "1. Import Pandas and create two DataFrames, `df1` and `df2`. `df1` has a 'Key' column, and `df2` has a 'Value2' column.\n",
    "\n",
    "2. Use `.set_index('Key')` to set the 'Key' column as the index in `df1`. This prepares `df1` for the join.\n",
    "\n",
    "3. Use the `.join()` method to join `df1` and `df2`. We specify `how='left'` to perform a left join, keeping all rows from `df1` and matching rows from `df2`.\n",
    "\n",
    "The resulting `joined` DataFrame will be based on the indices of `df1` and will contain values from both DataFrames, aligning them based on the common 'Key' values.\n",
    "\n",
    "Output of the `joined` DataFrame:\n",
    "\n",
    "```\n",
    "     Value1  Value2\n",
    "Key                \n",
    "A         1     NaN\n",
    "B         2     5.0\n",
    "C         3     NaN\n",
    "D         4     6.0\n",
    "```\n",
    "\n",
    "This demonstrates how to use the `.join()` method in Pandas to combine DataFrames based on common indices or columns. It's a convenient way to align and combine data from different sources."
   ]
  },
  {
   "cell_type": "markdown",
   "id": "8610421a",
   "metadata": {
    "papermill": {
     "duration": 0.096166,
     "end_time": "2023-10-25T14:11:20.897079",
     "exception": false,
     "start_time": "2023-10-25T14:11:20.800913",
     "status": "completed"
    },
    "tags": []
   },
   "source": [
    "12. **Reshaping Data**:\n",
    "\n",
    "    - `melt()`: Unpivots data from wide to long format.\n",
    "    - `pivot()`: Pivots data from long to wide format.\n",
    "    \n",
    "    In Pandas, the `melt()` and `pivot()` functions are used for transforming data between \"wide\" and \"long\" formats. These operations are commonly used for reshaping data for various analysis and visualization tasks.\n",
    "\n",
    "**`melt()`: Unpivoting Data (Wide to Long Format)**\n",
    "\n",
    "The `melt()` function is used to unpivot or melt data from a wide format to a long format. It reshapes the data by converting columns into rows. This can be helpful when you want to analyze data in a more structured or tabular way.\n",
    "\n",
    "Here's an example of how to use `melt()`:"
   ]
  },
  {
   "cell_type": "code",
   "execution_count": null,
   "id": "2a3d3626",
   "metadata": {
    "execution": {
     "iopub.execute_input": "2023-10-25T14:11:21.094512Z",
     "iopub.status.busy": "2023-10-25T14:11:21.093771Z",
     "iopub.status.idle": "2023-10-25T14:11:21.103021Z",
     "shell.execute_reply": "2023-10-25T14:11:21.101862Z"
    },
    "papermill": {
     "duration": 0.109174,
     "end_time": "2023-10-25T14:11:21.105404",
     "exception": false,
     "start_time": "2023-10-25T14:11:20.996230",
     "status": "completed"
    },
    "tags": []
   },
   "outputs": [],
   "source": [
    "# Sample data in wide format\n",
    "data = {'Date': ['2023-01-01', '2023-01-02'],\n",
    "        'Temperature_NY': [32, 35],\n",
    "        'Temperature_LA': [70, 72],\n",
    "        'Temperature_Moscow': [50, 82],\n",
    "        'Porocity': [60,70]}\n",
    "\n",
    "df_wide = pd.DataFrame(data)"
   ]
  },
  {
   "cell_type": "code",
   "execution_count": null,
   "id": "a52ec9d4",
   "metadata": {
    "execution": {
     "iopub.execute_input": "2023-10-25T14:11:21.299243Z",
     "iopub.status.busy": "2023-10-25T14:11:21.298835Z",
     "iopub.status.idle": "2023-10-25T14:11:21.308331Z",
     "shell.execute_reply": "2023-10-25T14:11:21.307253Z"
    },
    "papermill": {
     "duration": 0.107904,
     "end_time": "2023-10-25T14:11:21.310361",
     "exception": false,
     "start_time": "2023-10-25T14:11:21.202457",
     "status": "completed"
    },
    "tags": []
   },
   "outputs": [],
   "source": [
    "df_wide"
   ]
  },
  {
   "cell_type": "code",
   "execution_count": null,
   "id": "80e66266",
   "metadata": {},
   "outputs": [],
   "source": [
    "df_long = pd.melt(df_wide, id_vars=['Date','Porocity'], var_name='City', value_name='Temperature')\n",
    "df_long"
   ]
  },
  {
   "cell_type": "markdown",
   "id": "ef2c83be",
   "metadata": {
    "papermill": {
     "duration": 0.096582,
     "end_time": "2023-10-25T14:11:21.709665",
     "exception": false,
     "start_time": "2023-10-25T14:11:21.613083",
     "status": "completed"
    },
    "tags": []
   },
   "source": [
    "In this example, `melt()` is used to unpivot the data from a wide format where temperatures for different cities are in separate columns to a long format where temperatures are in rows.\n",
    "\n",
    "**`pivot()`: Pivoting Data (Long to Wide Format)**\n",
    "\n",
    "The `pivot()` function, on the other hand, is used to pivot data from a long format to a wide format. It reshapes the data by converting unique values in a column into new columns. This can be useful when you want to create a more structured summary of the data.\n",
    "\n",
    "Here's an example of how to use `pivot()`:"
   ]
  },
  {
   "cell_type": "code",
   "execution_count": null,
   "id": "da28af9d",
   "metadata": {
    "execution": {
     "iopub.execute_input": "2023-10-25T14:11:21.903842Z",
     "iopub.status.busy": "2023-10-25T14:11:21.903170Z",
     "iopub.status.idle": "2023-10-25T14:11:21.914696Z",
     "shell.execute_reply": "2023-10-25T14:11:21.913641Z"
    },
    "papermill": {
     "duration": 0.110617,
     "end_time": "2023-10-25T14:11:21.916904",
     "exception": false,
     "start_time": "2023-10-25T14:11:21.806287",
     "status": "completed"
    },
    "tags": []
   },
   "outputs": [],
   "source": [
    "import pandas as pd\n",
    "\n",
    "# Sample data in long format\n",
    "data = {'Date': ['2023-01-01', '2023-01-01', '2023-01-02', '2023-01-02'],\n",
    "        'City': ['NY', 'LA', 'NY', 'LA'],\n",
    "        'Temperature': [32, 70, 35, 72]}\n",
    "\n",
    "df_long = pd.DataFrame(data)"
   ]
  },
  {
   "cell_type": "code",
   "execution_count": null,
   "id": "464c30d7",
   "metadata": {
    "execution": {
     "iopub.execute_input": "2023-10-25T14:11:22.112690Z",
     "iopub.status.busy": "2023-10-25T14:11:22.111853Z",
     "iopub.status.idle": "2023-10-25T14:11:22.121606Z",
     "shell.execute_reply": "2023-10-25T14:11:22.120519Z"
    },
    "papermill": {
     "duration": 0.109447,
     "end_time": "2023-10-25T14:11:22.123930",
     "exception": false,
     "start_time": "2023-10-25T14:11:22.014483",
     "status": "completed"
    },
    "tags": []
   },
   "outputs": [],
   "source": [
    "df_long"
   ]
  },
  {
   "cell_type": "code",
   "execution_count": null,
   "id": "9c2fcb4c",
   "metadata": {
    "execution": {
     "iopub.execute_input": "2023-10-25T14:11:22.384378Z",
     "iopub.status.busy": "2023-10-25T14:11:22.383145Z",
     "iopub.status.idle": "2023-10-25T14:11:22.392925Z",
     "shell.execute_reply": "2023-10-25T14:11:22.391992Z"
    },
    "papermill": {
     "duration": 0.17326,
     "end_time": "2023-10-25T14:11:22.395157",
     "exception": false,
     "start_time": "2023-10-25T14:11:22.221897",
     "status": "completed"
    },
    "tags": []
   },
   "outputs": [],
   "source": [
    "df_wide = df_long.pivot(index='Date', columns='City', values='Temperature')\n",
    "df_wide"
   ]
  },
  {
   "cell_type": "markdown",
   "id": "2e5deac5",
   "metadata": {
    "papermill": {
     "duration": 0.097599,
     "end_time": "2023-10-25T14:11:22.590224",
     "exception": false,
     "start_time": "2023-10-25T14:11:22.492625",
     "status": "completed"
    },
    "tags": []
   },
   "source": [
    "In this example, `pivot()` is used to pivot the data from a long format where temperatures for different cities are in rows to a wide format where each city has its own column.\n",
    "\n",
    "These functions are valuable for data preprocessing and reshaping when the format of your data needs to change to suit your analysis or visualization requirements."
   ]
  },
  {
   "cell_type": "markdown",
   "id": "deec06fc",
   "metadata": {
    "papermill": {
     "duration": 0.09878,
     "end_time": "2023-10-25T14:11:22.786867",
     "exception": false,
     "start_time": "2023-10-25T14:11:22.688087",
     "status": "completed"
    },
    "tags": []
   },
   "source": [
    "#### 13. **Handling Datetime Data**:\n",
    "\n",
    "    - Extracting date, time, and other components from datetime columns.\n",
    "    \n",
    "    Pandas provides several functions to handle datetime data, allowing you to extract date, time, and other components from datetime columns. Here are some common operations you can perform:\n",
    "\n",
    "**1. Extracting Date and Time Components:**\n",
    "\n",
    "- To extract the year, month, day, hour, minute, or second from a datetime column, you can use the `.dt` accessor along with the specific component you want to extract. Here are some examples:"
   ]
  },
  {
   "cell_type": "code",
   "execution_count": 71,
   "id": "2e1be477",
   "metadata": {},
   "outputs": [],
   "source": [
    "data = []\n",
    "\n",
    "# Generate random data for 20 rows\n",
    "for _ in range(20):\n",
    "    # Generate random datetime\n",
    "    date = datetime(2023, random.randint(1, 12), random.randint(1, 28), random.randint(0, 23), random.randint(0, 59), random.randint(0, 59))\n",
    "    \n",
    "    # Generate random time\n",
    "    start_time = time(random.randint(0, 23), random.randint(0, 59), random.randint(0, 59))\n",
    "    \n",
    "    # Generate random integer\n",
    "    integer_value = random.randint(0, 100)\n",
    "    \n",
    "    # Generate random float\n",
    "    float_value = round(random.uniform(0, 100), 2)\n",
    "    \n",
    "    # Generate random string\n",
    "    string_value = ''.join(random.choice(string.ascii_letters) for _ in range(5))\n",
    "    \n",
    "    data.append([date, start_time, integer_value, float_value, string_value])\n",
    "\n",
    "# Create a DataFrame\n",
    "df3 = pd.DataFrame(data, columns=['Datetime', 'Time', 'Integer', 'Float', 'String'], dtype=object)"
   ]
  },
  {
   "cell_type": "code",
   "execution_count": 72,
   "id": "79aba023",
   "metadata": {},
   "outputs": [
    {
     "data": {
      "text/html": [
       "<div>\n",
       "<style scoped>\n",
       "    .dataframe tbody tr th:only-of-type {\n",
       "        vertical-align: middle;\n",
       "    }\n",
       "\n",
       "    .dataframe tbody tr th {\n",
       "        vertical-align: top;\n",
       "    }\n",
       "\n",
       "    .dataframe thead th {\n",
       "        text-align: right;\n",
       "    }\n",
       "</style>\n",
       "<table border=\"1\" class=\"dataframe\">\n",
       "  <thead>\n",
       "    <tr style=\"text-align: right;\">\n",
       "      <th></th>\n",
       "      <th>Datetime</th>\n",
       "      <th>Time</th>\n",
       "      <th>Integer</th>\n",
       "      <th>Float</th>\n",
       "      <th>String</th>\n",
       "    </tr>\n",
       "  </thead>\n",
       "  <tbody>\n",
       "    <tr>\n",
       "      <th>0</th>\n",
       "      <td>2023-11-10 05:21:34</td>\n",
       "      <td>14:13:18</td>\n",
       "      <td>63</td>\n",
       "      <td>99.19</td>\n",
       "      <td>GItos</td>\n",
       "    </tr>\n",
       "    <tr>\n",
       "      <th>1</th>\n",
       "      <td>2023-10-16 01:46:54</td>\n",
       "      <td>20:28:37</td>\n",
       "      <td>64</td>\n",
       "      <td>14.61</td>\n",
       "      <td>Nvpeq</td>\n",
       "    </tr>\n",
       "    <tr>\n",
       "      <th>2</th>\n",
       "      <td>2023-03-16 23:55:32</td>\n",
       "      <td>05:06:15</td>\n",
       "      <td>17</td>\n",
       "      <td>75.36</td>\n",
       "      <td>fycCA</td>\n",
       "    </tr>\n",
       "    <tr>\n",
       "      <th>3</th>\n",
       "      <td>2023-12-28 22:20:30</td>\n",
       "      <td>03:36:52</td>\n",
       "      <td>89</td>\n",
       "      <td>32.2</td>\n",
       "      <td>JTMPS</td>\n",
       "    </tr>\n",
       "    <tr>\n",
       "      <th>4</th>\n",
       "      <td>2023-06-12 11:20:18</td>\n",
       "      <td>04:40:18</td>\n",
       "      <td>87</td>\n",
       "      <td>94.47</td>\n",
       "      <td>gSbWU</td>\n",
       "    </tr>\n",
       "    <tr>\n",
       "      <th>5</th>\n",
       "      <td>2023-06-06 00:41:23</td>\n",
       "      <td>07:49:50</td>\n",
       "      <td>10</td>\n",
       "      <td>89.34</td>\n",
       "      <td>AhXzp</td>\n",
       "    </tr>\n",
       "    <tr>\n",
       "      <th>6</th>\n",
       "      <td>2023-04-04 19:19:48</td>\n",
       "      <td>09:35:49</td>\n",
       "      <td>81</td>\n",
       "      <td>71.94</td>\n",
       "      <td>ADdUs</td>\n",
       "    </tr>\n",
       "    <tr>\n",
       "      <th>7</th>\n",
       "      <td>2023-06-27 03:46:42</td>\n",
       "      <td>11:54:46</td>\n",
       "      <td>80</td>\n",
       "      <td>71.24</td>\n",
       "      <td>ArIwd</td>\n",
       "    </tr>\n",
       "    <tr>\n",
       "      <th>8</th>\n",
       "      <td>2023-09-16 14:32:38</td>\n",
       "      <td>23:52:09</td>\n",
       "      <td>10</td>\n",
       "      <td>11.74</td>\n",
       "      <td>FhwXo</td>\n",
       "    </tr>\n",
       "    <tr>\n",
       "      <th>9</th>\n",
       "      <td>2023-04-11 19:47:39</td>\n",
       "      <td>07:15:44</td>\n",
       "      <td>40</td>\n",
       "      <td>23.36</td>\n",
       "      <td>uDglC</td>\n",
       "    </tr>\n",
       "    <tr>\n",
       "      <th>10</th>\n",
       "      <td>2023-02-11 19:54:15</td>\n",
       "      <td>05:01:31</td>\n",
       "      <td>28</td>\n",
       "      <td>38.15</td>\n",
       "      <td>RfUKx</td>\n",
       "    </tr>\n",
       "    <tr>\n",
       "      <th>11</th>\n",
       "      <td>2023-02-20 04:13:50</td>\n",
       "      <td>15:42:09</td>\n",
       "      <td>82</td>\n",
       "      <td>22.13</td>\n",
       "      <td>mtJsW</td>\n",
       "    </tr>\n",
       "    <tr>\n",
       "      <th>12</th>\n",
       "      <td>2023-06-16 13:41:54</td>\n",
       "      <td>07:10:48</td>\n",
       "      <td>2</td>\n",
       "      <td>88.68</td>\n",
       "      <td>gwOfh</td>\n",
       "    </tr>\n",
       "    <tr>\n",
       "      <th>13</th>\n",
       "      <td>2023-11-01 07:07:58</td>\n",
       "      <td>10:58:40</td>\n",
       "      <td>34</td>\n",
       "      <td>23.81</td>\n",
       "      <td>qpzkM</td>\n",
       "    </tr>\n",
       "    <tr>\n",
       "      <th>14</th>\n",
       "      <td>2023-02-04 11:48:37</td>\n",
       "      <td>10:29:54</td>\n",
       "      <td>12</td>\n",
       "      <td>58.28</td>\n",
       "      <td>tmfeM</td>\n",
       "    </tr>\n",
       "    <tr>\n",
       "      <th>15</th>\n",
       "      <td>2023-11-26 11:48:40</td>\n",
       "      <td>10:26:14</td>\n",
       "      <td>47</td>\n",
       "      <td>69.01</td>\n",
       "      <td>QoMVA</td>\n",
       "    </tr>\n",
       "    <tr>\n",
       "      <th>16</th>\n",
       "      <td>2023-09-11 16:38:20</td>\n",
       "      <td>20:07:31</td>\n",
       "      <td>23</td>\n",
       "      <td>52.34</td>\n",
       "      <td>ByKwi</td>\n",
       "    </tr>\n",
       "    <tr>\n",
       "      <th>17</th>\n",
       "      <td>2023-02-08 03:45:09</td>\n",
       "      <td>11:45:07</td>\n",
       "      <td>75</td>\n",
       "      <td>10.49</td>\n",
       "      <td>LZCQA</td>\n",
       "    </tr>\n",
       "    <tr>\n",
       "      <th>18</th>\n",
       "      <td>2023-05-15 08:58:04</td>\n",
       "      <td>23:14:38</td>\n",
       "      <td>64</td>\n",
       "      <td>39.77</td>\n",
       "      <td>mZGKf</td>\n",
       "    </tr>\n",
       "    <tr>\n",
       "      <th>19</th>\n",
       "      <td>2023-08-14 08:19:21</td>\n",
       "      <td>12:59:40</td>\n",
       "      <td>38</td>\n",
       "      <td>6.32</td>\n",
       "      <td>pimPn</td>\n",
       "    </tr>\n",
       "  </tbody>\n",
       "</table>\n",
       "</div>"
      ],
      "text/plain": [
       "               Datetime      Time Integer  Float String\n",
       "0   2023-11-10 05:21:34  14:13:18      63  99.19  GItos\n",
       "1   2023-10-16 01:46:54  20:28:37      64  14.61  Nvpeq\n",
       "2   2023-03-16 23:55:32  05:06:15      17  75.36  fycCA\n",
       "3   2023-12-28 22:20:30  03:36:52      89   32.2  JTMPS\n",
       "4   2023-06-12 11:20:18  04:40:18      87  94.47  gSbWU\n",
       "5   2023-06-06 00:41:23  07:49:50      10  89.34  AhXzp\n",
       "6   2023-04-04 19:19:48  09:35:49      81  71.94  ADdUs\n",
       "7   2023-06-27 03:46:42  11:54:46      80  71.24  ArIwd\n",
       "8   2023-09-16 14:32:38  23:52:09      10  11.74  FhwXo\n",
       "9   2023-04-11 19:47:39  07:15:44      40  23.36  uDglC\n",
       "10  2023-02-11 19:54:15  05:01:31      28  38.15  RfUKx\n",
       "11  2023-02-20 04:13:50  15:42:09      82  22.13  mtJsW\n",
       "12  2023-06-16 13:41:54  07:10:48       2  88.68  gwOfh\n",
       "13  2023-11-01 07:07:58  10:58:40      34  23.81  qpzkM\n",
       "14  2023-02-04 11:48:37  10:29:54      12  58.28  tmfeM\n",
       "15  2023-11-26 11:48:40  10:26:14      47  69.01  QoMVA\n",
       "16  2023-09-11 16:38:20  20:07:31      23  52.34  ByKwi\n",
       "17  2023-02-08 03:45:09  11:45:07      75  10.49  LZCQA\n",
       "18  2023-05-15 08:58:04  23:14:38      64  39.77  mZGKf\n",
       "19  2023-08-14 08:19:21  12:59:40      38   6.32  pimPn"
      ]
     },
     "execution_count": 72,
     "metadata": {},
     "output_type": "execute_result"
    }
   ],
   "source": [
    "df3"
   ]
  },
  {
   "cell_type": "code",
   "execution_count": 73,
   "id": "0aacad27",
   "metadata": {},
   "outputs": [
    {
     "name": "stdout",
     "output_type": "stream",
     "text": [
      "<class 'pandas.core.frame.DataFrame'>\n",
      "RangeIndex: 20 entries, 0 to 19\n",
      "Data columns (total 5 columns):\n",
      " #   Column    Non-Null Count  Dtype \n",
      "---  ------    --------------  ----- \n",
      " 0   Datetime  20 non-null     object\n",
      " 1   Time      20 non-null     object\n",
      " 2   Integer   20 non-null     object\n",
      " 3   Float     20 non-null     object\n",
      " 4   String    20 non-null     object\n",
      "dtypes: object(5)\n",
      "memory usage: 932.0+ bytes\n"
     ]
    }
   ],
   "source": [
    "df3.info()"
   ]
  },
  {
   "cell_type": "code",
   "execution_count": 74,
   "id": "19815594",
   "metadata": {},
   "outputs": [
    {
     "data": {
      "text/plain": [
       "0    2023-11-10 05:21:34\n",
       "1    2023-10-16 01:46:54\n",
       "2    2023-03-16 23:55:32\n",
       "3    2023-12-28 22:20:30\n",
       "4    2023-06-12 11:20:18\n",
       "5    2023-06-06 00:41:23\n",
       "6    2023-04-04 19:19:48\n",
       "7    2023-06-27 03:46:42\n",
       "8    2023-09-16 14:32:38\n",
       "9    2023-04-11 19:47:39\n",
       "10   2023-02-11 19:54:15\n",
       "11   2023-02-20 04:13:50\n",
       "12   2023-06-16 13:41:54\n",
       "13   2023-11-01 07:07:58\n",
       "14   2023-02-04 11:48:37\n",
       "15   2023-11-26 11:48:40\n",
       "16   2023-09-11 16:38:20\n",
       "17   2023-02-08 03:45:09\n",
       "18   2023-05-15 08:58:04\n",
       "19   2023-08-14 08:19:21\n",
       "Name: Datetime, dtype: datetime64[ns]"
      ]
     },
     "execution_count": 74,
     "metadata": {},
     "output_type": "execute_result"
    }
   ],
   "source": [
    "# object to datetime\n",
    "pd.to_datetime(df3['Datetime'])"
   ]
  },
  {
   "cell_type": "code",
   "execution_count": 75,
   "id": "e3e41850",
   "metadata": {},
   "outputs": [
    {
     "data": {
      "text/plain": [
       "0     2023-11-10\n",
       "1     2023-10-16\n",
       "2     2023-03-16\n",
       "3     2023-12-28\n",
       "4     2023-06-12\n",
       "5     2023-06-06\n",
       "6     2023-04-04\n",
       "7     2023-06-27\n",
       "8     2023-09-16\n",
       "9     2023-04-11\n",
       "10    2023-02-11\n",
       "11    2023-02-20\n",
       "12    2023-06-16\n",
       "13    2023-11-01\n",
       "14    2023-02-04\n",
       "15    2023-11-26\n",
       "16    2023-09-11\n",
       "17    2023-02-08\n",
       "18    2023-05-15\n",
       "19    2023-08-14\n",
       "Name: Datetime, dtype: object"
      ]
     },
     "execution_count": 75,
     "metadata": {},
     "output_type": "execute_result"
    }
   ],
   "source": [
    "# extract date\n",
    "pd.to_datetime(df3['Datetime']).dt.date"
   ]
  },
  {
   "cell_type": "code",
   "execution_count": 76,
   "id": "be981286",
   "metadata": {},
   "outputs": [
    {
     "data": {
      "text/plain": [
       "0     2023\n",
       "1     2023\n",
       "2     2023\n",
       "3     2023\n",
       "4     2023\n",
       "5     2023\n",
       "6     2023\n",
       "7     2023\n",
       "8     2023\n",
       "9     2023\n",
       "10    2023\n",
       "11    2023\n",
       "12    2023\n",
       "13    2023\n",
       "14    2023\n",
       "15    2023\n",
       "16    2023\n",
       "17    2023\n",
       "18    2023\n",
       "19    2023\n",
       "Name: Datetime, dtype: int32"
      ]
     },
     "execution_count": 76,
     "metadata": {},
     "output_type": "execute_result"
    }
   ],
   "source": [
    "# get year\n",
    "pd.to_datetime(df3['Datetime']).dt.year"
   ]
  },
  {
   "cell_type": "code",
   "execution_count": 77,
   "id": "47b23547",
   "metadata": {},
   "outputs": [
    {
     "data": {
      "text/plain": [
       "0     11\n",
       "1     10\n",
       "2      3\n",
       "3     12\n",
       "4      6\n",
       "5      6\n",
       "6      4\n",
       "7      6\n",
       "8      9\n",
       "9      4\n",
       "10     2\n",
       "11     2\n",
       "12     6\n",
       "13    11\n",
       "14     2\n",
       "15    11\n",
       "16     9\n",
       "17     2\n",
       "18     5\n",
       "19     8\n",
       "Name: Datetime, dtype: int32"
      ]
     },
     "execution_count": 77,
     "metadata": {},
     "output_type": "execute_result"
    }
   ],
   "source": [
    "# get month\n",
    "pd.to_datetime(df3['Datetime']).dt.month"
   ]
  },
  {
   "cell_type": "code",
   "execution_count": 78,
   "id": "8bc2571e",
   "metadata": {},
   "outputs": [
    {
     "data": {
      "text/plain": [
       "0      November\n",
       "1       October\n",
       "2         March\n",
       "3      December\n",
       "4          June\n",
       "5          June\n",
       "6         April\n",
       "7          June\n",
       "8     September\n",
       "9         April\n",
       "10     February\n",
       "11     February\n",
       "12         June\n",
       "13     November\n",
       "14     February\n",
       "15     November\n",
       "16    September\n",
       "17     February\n",
       "18          May\n",
       "19       August\n",
       "Name: Datetime, dtype: object"
      ]
     },
     "execution_count": 78,
     "metadata": {},
     "output_type": "execute_result"
    }
   ],
   "source": [
    "# get month name\n",
    "pd.to_datetime(df3['Datetime']).dt.month_name()"
   ]
  },
  {
   "cell_type": "code",
   "execution_count": null,
   "id": "9a906fed",
   "metadata": {},
   "outputs": [],
   "source": [
    "# get day\n",
    "pd.to_datetime(df3['Datetime']).dt.day"
   ]
  },
  {
   "cell_type": "code",
   "execution_count": null,
   "id": "fc8478ae",
   "metadata": {},
   "outputs": [],
   "source": [
    "# get day name\n",
    "pd.to_datetime(df3['Datetime']).dt.day_name()"
   ]
  },
  {
   "cell_type": "code",
   "execution_count": null,
   "id": "4f157422",
   "metadata": {},
   "outputs": [],
   "source": [
    "# get week \n",
    "pd.to_datetime(df3['Datetime']).dt.weekday"
   ]
  },
  {
   "cell_type": "code",
   "execution_count": null,
   "id": "01fc0bde",
   "metadata": {},
   "outputs": [],
   "source": [
    "# get time from datetime\n",
    "pd.to_datetime(df3['Datetime']).dt.time"
   ]
  },
  {
   "cell_type": "code",
   "execution_count": null,
   "id": "578aac4f",
   "metadata": {},
   "outputs": [],
   "source": [
    "# get hour\n",
    "pd.to_datetime(df3['Datetime']).dt.hour"
   ]
  },
  {
   "cell_type": "code",
   "execution_count": null,
   "id": "14fafe39",
   "metadata": {},
   "outputs": [],
   "source": [
    "# get minute\n",
    "pd.to_datetime(df3['Datetime']).dt.minute"
   ]
  },
  {
   "cell_type": "code",
   "execution_count": 79,
   "id": "44f18438",
   "metadata": {},
   "outputs": [
    {
     "data": {
      "text/plain": [
       "0     34\n",
       "1     54\n",
       "2     32\n",
       "3     30\n",
       "4     18\n",
       "5     23\n",
       "6     48\n",
       "7     42\n",
       "8     38\n",
       "9     39\n",
       "10    15\n",
       "11    50\n",
       "12    54\n",
       "13    58\n",
       "14    37\n",
       "15    40\n",
       "16    20\n",
       "17     9\n",
       "18     4\n",
       "19    21\n",
       "Name: Datetime, dtype: int32"
      ]
     },
     "execution_count": 79,
     "metadata": {},
     "output_type": "execute_result"
    }
   ],
   "source": [
    "# get second\n",
    "pd.to_datetime(df3['Datetime']).dt.second"
   ]
  },
  {
   "cell_type": "markdown",
   "id": "f60dbcd6",
   "metadata": {
    "papermill": {
     "duration": 0.097369,
     "end_time": "2023-10-25T14:11:23.813492",
     "exception": false,
     "start_time": "2023-10-25T14:11:23.716123",
     "status": "completed"
    },
    "tags": []
   },
   "source": [
    "**3. Extracting Date Differences:**\n",
    "\n",
    "- You can calculate the difference between two datetime columns, such as days, using the subtraction operator."
   ]
  },
  {
   "cell_type": "code",
   "execution_count": null,
   "id": "97be4789",
   "metadata": {},
   "outputs": [],
   "source": [
    "import pandas as pd\n",
    "\n",
    "# Sample DataFrame with a datetime column\n",
    "data = {'Date': ['2025-01-24 08:30:00', '2025-01-22 14:45:00']}\n",
    "df = pd.DataFrame(data)\n",
    "df['Date'] = pd.to_datetime(df['Date'])\n",
    "\n",
    "# Extract year, month, and day\n",
    "df['Year'] = df['Date'].dt.year\n",
    "df['Month'] = df['Date'].dt.month\n",
    "df['Month_name'] = pd.to_datetime(df['Date']).dt.month_name()\n",
    "df['Day'] = df['Date'].dt.day_name()\n",
    "\n",
    "# Extract hour and minute\n",
    "df['Hour'] = df['Date'].dt.hour\n",
    "df['Minute'] = df['Date'].dt.minute"
   ]
  },
  {
   "cell_type": "code",
   "execution_count": null,
   "id": "590e8644",
   "metadata": {},
   "outputs": [],
   "source": [
    "df"
   ]
  },
  {
   "cell_type": "code",
   "execution_count": null,
   "id": "f2ed2c5b",
   "metadata": {
    "execution": {
     "iopub.execute_input": "2023-10-25T14:11:24.009138Z",
     "iopub.status.busy": "2023-10-25T14:11:24.008590Z",
     "iopub.status.idle": "2023-10-25T14:11:24.024457Z",
     "shell.execute_reply": "2023-10-25T14:11:24.023357Z"
    },
    "papermill": {
     "duration": 0.117147,
     "end_time": "2023-10-25T14:11:24.026873",
     "exception": false,
     "start_time": "2023-10-25T14:11:23.909726",
     "status": "completed"
    },
    "tags": []
   },
   "outputs": [],
   "source": [
    "# Calculate the date difference in days\n",
    "df['Date2'] = pd.to_datetime(['2025-01-25', '2024-01-26'])\n",
    "df['DateDifference'] = (df['Date2'] - df['Date'])\n",
    "df['DateDifference']"
   ]
  },
  {
   "cell_type": "markdown",
   "id": "3ef01190",
   "metadata": {
    "papermill": {
     "duration": 0.099374,
     "end_time": "2023-10-25T14:11:24.225129",
     "exception": false,
     "start_time": "2023-10-25T14:11:24.125755",
     "status": "completed"
    },
    "tags": []
   },
   "source": [
    "These are just a few examples of how to handle datetime data in Pandas. You can use various datetime-related attributes and methods to manipulate datetime columns to suit your specific analysis and reporting needs."
   ]
  },
  {
   "cell_type": "markdown",
   "id": "e42d5453",
   "metadata": {
    "papermill": {
     "duration": 0.096724,
     "end_time": "2023-10-25T14:11:28.392502",
     "exception": false,
     "start_time": "2023-10-25T14:11:28.295778",
     "status": "completed"
    },
    "tags": []
   },
   "source": [
    "15. **Mathematical and Statistical Transformations**:\n",
    "\n",
    "    - `df.apply()`: Apply mathematical or statistical functions row-wise or column-wise.\n",
    "    \n",
    "    \n",
    "    In Pandas, you can perform mathematical and statistical transformations using the `df.apply()` method. This method allows you to apply a custom function, a built-in NumPy function, or a statistical function row-wise or column-wise to a DataFrame. Here's how you can use `df.apply()` for such transformations:\n",
    "\n",
    "**1. Applying a Custom Function:**\n",
    "\n",
    "You can define your own custom function and use `df.apply()` to apply it to each row or column of the DataFrame. Here's an example that calculates the square of each element in a DataFrame:"
   ]
  },
  {
   "cell_type": "code",
   "execution_count": null,
   "id": "3fa84019",
   "metadata": {
    "execution": {
     "iopub.execute_input": "2023-10-25T14:11:28.589964Z",
     "iopub.status.busy": "2023-10-25T14:11:28.588743Z",
     "iopub.status.idle": "2023-10-25T14:11:28.600943Z",
     "shell.execute_reply": "2023-10-25T14:11:28.600066Z"
    },
    "papermill": {
     "duration": 0.113382,
     "end_time": "2023-10-25T14:11:28.602975",
     "exception": false,
     "start_time": "2023-10-25T14:11:28.489593",
     "status": "completed"
    },
    "tags": []
   },
   "outputs": [],
   "source": [
    "data = {'A': [1, 2, 3, 4],\n",
    "        'B': [5, 6, 7, 8]}\n",
    "df = pd.DataFrame(data)\n",
    "\n",
    "def square(x):\n",
    "    return x ** 2\n",
    "\n",
    "df_squared = df.apply(square)\n",
    "\n",
    "df_squared"
   ]
  },
  {
   "cell_type": "code",
   "execution_count": null,
   "id": "0555b555",
   "metadata": {},
   "outputs": [],
   "source": [
    "df**2"
   ]
  },
  {
   "cell_type": "markdown",
   "id": "a39b327b",
   "metadata": {
    "papermill": {
     "duration": 0.099059,
     "end_time": "2023-10-25T14:11:28.800834",
     "exception": false,
     "start_time": "2023-10-25T14:11:28.701775",
     "status": "completed"
    },
    "tags": []
   },
   "source": [
    "**2. Applying Built-in NumPy Functions:**\n",
    "\n",
    "You can apply NumPy functions using `df.apply()` as well. For example, to calculate the mean of each column:\n",
    "\n",
    "**3. Applying Statistical Functions:**\n",
    "\n",
    "You can use statistical functions like `mean()`, `sum()`, `min()`, `max()`, etc., directly with `df.apply()` to compute statistics row-wise or column-wise. For example, to calculate the sum of each row:"
   ]
  },
  {
   "cell_type": "code",
   "execution_count": null,
   "id": "8b748d79",
   "metadata": {
    "execution": {
     "iopub.execute_input": "2023-10-25T14:11:29.000567Z",
     "iopub.status.busy": "2023-10-25T14:11:28.999791Z",
     "iopub.status.idle": "2023-10-25T14:11:29.010377Z",
     "shell.execute_reply": "2023-10-25T14:11:29.009258Z"
    },
    "papermill": {
     "duration": 0.112771,
     "end_time": "2023-10-25T14:11:29.012647",
     "exception": false,
     "start_time": "2023-10-25T14:11:28.899876",
     "status": "completed"
    },
    "tags": []
   },
   "outputs": [],
   "source": [
    "import pandas as pd\n",
    "import numpy as np\n",
    "\n",
    "# Sample DataFrame\n",
    "data = {'A': [1, 2, 3, 4],\n",
    "        'B': [5, 6, 7, 8]}\n",
    "df = pd.DataFrame(data)\n",
    "\n",
    "# Apply NumPy's mean function to each column\n",
    "column_means = df.apply(np.mean, axis = 0)\n",
    "print(column_means)\n",
    "row_means = df.apply(np.mean, axis = 1)\n",
    "print(row_means)"
   ]
  },
  {
   "cell_type": "markdown",
   "id": "2cfc6be0",
   "metadata": {
    "papermill": {
     "duration": 0.096796,
     "end_time": "2023-10-25T14:11:30.097122",
     "exception": false,
     "start_time": "2023-10-25T14:11:30.000326",
     "status": "completed"
    },
    "tags": []
   },
   "source": [
    "The `axis` parameter specifies whether the function should be applied row-wise (axis=1) or column-wise (axis=0).\n",
    "\n",
    "`df.apply()` is a versatile method that allows you to perform a wide range of mathematical and statistical transformations on DataFrames, making it a valuable tool for data analysis and manipulation."
   ]
  },
  {
   "cell_type": "markdown",
   "id": "687bc1b5",
   "metadata": {
    "papermill": {
     "duration": 0.099244,
     "end_time": "2023-10-25T14:11:31.514670",
     "exception": false,
     "start_time": "2023-10-25T14:11:31.415426",
     "status": "completed"
    },
    "tags": []
   },
   "source": [
    "The `axis` parameter specifies whether the function should be applied row-wise (axis=1) or column-wise (axis=0).\n",
    "\n",
    "`df.apply()` is a versatile method that allows you to perform a wide range of mathematical and statistical transformations on DataFrames, making it a valuable tool for data analysis and manipulation."
   ]
  },
  {
   "cell_type": "markdown",
   "id": "ae6937ea",
   "metadata": {
    "papermill": {
     "duration": 0.102773,
     "end_time": "2023-10-25T14:11:36.212256",
     "exception": false,
     "start_time": "2023-10-25T14:11:36.109483",
     "status": "completed"
    },
    "tags": []
   },
   "source": [
    "# Graph and Chart Plot\n",
    "Pandas is a powerful data manipulation library in Python, and it can be used to create a variety of graphs and charts. To create different types of graphs and charts using Pandas, you'll typically use the `plot` method on a DataFrame or Series. Here are some common types of charts and graphs you can create with Pandas, along with examples:\n",
    "\n",
    "1. `Line Chart`:\n",
    "   A line chart is used to visualize data points over a continuous interval or time series."
   ]
  },
  {
   "cell_type": "code",
   "execution_count": null,
   "id": "962656ea",
   "metadata": {
    "execution": {
     "iopub.execute_input": "2023-10-25T14:11:36.419187Z",
     "iopub.status.busy": "2023-10-25T14:11:36.418599Z",
     "iopub.status.idle": "2023-10-25T14:11:36.743206Z",
     "shell.execute_reply": "2023-10-25T14:11:36.742087Z"
    },
    "papermill": {
     "duration": 0.428682,
     "end_time": "2023-10-25T14:11:36.745496",
     "exception": false,
     "start_time": "2023-10-25T14:11:36.316814",
     "status": "completed"
    },
    "tags": []
   },
   "outputs": [],
   "source": [
    "import pandas as pd\n",
    "import matplotlib.pyplot as plt\n",
    "\n",
    "data = {'x': [i/100 for i in range(-1000,1000)],\n",
    "        'y': [(i/100)**2 for i in range(-1000,1000)]}\n",
    "\n",
    "df = pd.DataFrame(data)\n",
    "\n",
    "df.plot(x='x', y='y', kind='line')\n",
    "plt.title('Yearly Sales')\n",
    "plt.show()"
   ]
  },
  {
   "cell_type": "markdown",
   "id": "5554209b",
   "metadata": {
    "papermill": {
     "duration": 0.103859,
     "end_time": "2023-10-25T14:11:36.956356",
     "exception": false,
     "start_time": "2023-10-25T14:11:36.852497",
     "status": "completed"
    },
    "tags": []
   },
   "source": [
    "2. Bar Chart:\n",
    "   Bar charts are used to compare different categories or values."
   ]
  },
  {
   "cell_type": "code",
   "execution_count": null,
   "id": "8ac5d0d8",
   "metadata": {
    "execution": {
     "iopub.execute_input": "2023-10-25T14:11:37.164472Z",
     "iopub.status.busy": "2023-10-25T14:11:37.163786Z",
     "iopub.status.idle": "2023-10-25T14:11:37.389051Z",
     "shell.execute_reply": "2023-10-25T14:11:37.387900Z"
    },
    "papermill": {
     "duration": 0.330169,
     "end_time": "2023-10-25T14:11:37.391315",
     "exception": false,
     "start_time": "2023-10-25T14:11:37.061146",
     "status": "completed"
    },
    "tags": []
   },
   "outputs": [],
   "source": [
    "data = {'Category': ['A', 'B', 'C', 'D'],\n",
    "        'Values': [15, 30, 25, 40]}\n",
    "\n",
    "df = pd.DataFrame(data)\n",
    "\n",
    "df.plot(x='Category', y='Values', kind='bar')\n",
    "plt.title('Category-wise Values')\n",
    "plt.show()"
   ]
  },
  {
   "cell_type": "markdown",
   "id": "dbc08a80",
   "metadata": {
    "papermill": {
     "duration": 0.106681,
     "end_time": "2023-10-25T14:11:37.603459",
     "exception": false,
     "start_time": "2023-10-25T14:11:37.496778",
     "status": "completed"
    },
    "tags": []
   },
   "source": [
    "3. Histogram:\n",
    "   Histograms are used to display the distribution of a single variable."
   ]
  },
  {
   "cell_type": "code",
   "execution_count": null,
   "id": "d3284e79",
   "metadata": {
    "execution": {
     "iopub.execute_input": "2023-10-25T14:11:37.814170Z",
     "iopub.status.busy": "2023-10-25T14:11:37.813573Z",
     "iopub.status.idle": "2023-10-25T14:11:38.067804Z",
     "shell.execute_reply": "2023-10-25T14:11:38.066580Z"
    },
    "papermill": {
     "duration": 0.362507,
     "end_time": "2023-10-25T14:11:38.070247",
     "exception": false,
     "start_time": "2023-10-25T14:11:37.707740",
     "status": "completed"
    },
    "tags": []
   },
   "outputs": [],
   "source": [
    "data = {'Scores': [85, 92, 78, 88, 95, 76, 89, 90, 82, 86]}\n",
    "\n",
    "df = pd.DataFrame(data)\n",
    "\n",
    "df.plot(y='Scores', kind='hist', bins=5)\n",
    "plt.title('Score Distribution')\n",
    "plt.show()"
   ]
  },
  {
   "cell_type": "markdown",
   "id": "6c6467f2",
   "metadata": {
    "papermill": {
     "duration": 0.101476,
     "end_time": "2023-10-25T14:11:38.275118",
     "exception": false,
     "start_time": "2023-10-25T14:11:38.173642",
     "status": "completed"
    },
    "tags": []
   },
   "source": [
    "4. Scatter Plot:\n",
    "   Scatter plots are used to visualize the relationship between two variables."
   ]
  },
  {
   "cell_type": "code",
   "execution_count": null,
   "id": "c5957d3a",
   "metadata": {
    "execution": {
     "iopub.execute_input": "2023-10-25T14:11:38.482211Z",
     "iopub.status.busy": "2023-10-25T14:11:38.481852Z",
     "iopub.status.idle": "2023-10-25T14:11:38.718344Z",
     "shell.execute_reply": "2023-10-25T14:11:38.717169Z"
    },
    "papermill": {
     "duration": 0.343294,
     "end_time": "2023-10-25T14:11:38.720603",
     "exception": false,
     "start_time": "2023-10-25T14:11:38.377309",
     "status": "completed"
    },
    "tags": []
   },
   "outputs": [],
   "source": [
    "data = {'X': [1, 2, 3, 4, 5],\n",
    "        'Y': [5, 8, 6, 9, 10]}\n",
    "\n",
    "df = pd.DataFrame(data)\n",
    "\n",
    "df.plot(x='X', y='Y', kind='scatter', xlim=(0,10),ylim=(0,10))\n",
    "plt.title('Scatter Plot')\n",
    "plt.show()"
   ]
  },
  {
   "cell_type": "markdown",
   "id": "54f2493a",
   "metadata": {
    "papermill": {
     "duration": 0.170598,
     "end_time": "2023-10-25T14:11:38.998240",
     "exception": false,
     "start_time": "2023-10-25T14:11:38.827642",
     "status": "completed"
    },
    "tags": []
   },
   "source": [
    "5. Pie Chart:\n",
    "   Pie charts are used to represent parts of a whole."
   ]
  },
  {
   "cell_type": "code",
   "execution_count": null,
   "id": "a416cdfc",
   "metadata": {
    "execution": {
     "iopub.execute_input": "2023-10-25T14:11:39.208238Z",
     "iopub.status.busy": "2023-10-25T14:11:39.207894Z",
     "iopub.status.idle": "2023-10-25T14:11:39.374688Z",
     "shell.execute_reply": "2023-10-25T14:11:39.373408Z"
    },
    "papermill": {
     "duration": 0.274664,
     "end_time": "2023-10-25T14:11:39.377663",
     "exception": false,
     "start_time": "2023-10-25T14:11:39.102999",
     "status": "completed"
    },
    "tags": []
   },
   "outputs": [],
   "source": [
    "data = {'Category': ['A', 'B', 'C', 'D'],\n",
    "        'Values': [15, 30, 25, 40]}\n",
    "\n",
    "df = pd.DataFrame(data)\n",
    "\n",
    "df.plot(y='Values', kind='pie', labels=df['Category'], autopct='%1.1f%%')\n",
    "plt.title('Category-wise Distribution')\n",
    "plt.show()"
   ]
  },
  {
   "cell_type": "markdown",
   "id": "32814837",
   "metadata": {
    "papermill": {
     "duration": 0.10519,
     "end_time": "2023-10-25T14:11:39.614679",
     "exception": false,
     "start_time": "2023-10-25T14:11:39.509489",
     "status": "completed"
    },
    "tags": []
   },
   "source": [
    "6. Box Plot:\n",
    "   Box plots are used to visualize the distribution of a dataset and identify outliers."
   ]
  },
  {
   "cell_type": "code",
   "execution_count": null,
   "id": "db37e1e0",
   "metadata": {
    "execution": {
     "iopub.execute_input": "2023-10-25T14:11:39.827980Z",
     "iopub.status.busy": "2023-10-25T14:11:39.827578Z",
     "iopub.status.idle": "2023-10-25T14:11:40.185501Z",
     "shell.execute_reply": "2023-10-25T14:11:40.184447Z"
    },
    "papermill": {
     "duration": 0.469758,
     "end_time": "2023-10-25T14:11:40.187765",
     "exception": false,
     "start_time": "2023-10-25T14:11:39.718007",
     "status": "completed"
    },
    "tags": []
   },
   "outputs": [],
   "source": [
    "data = {'Category': ['A', 'B', 'A', 'C', 'B', 'C'],\n",
    "        'Values': [15, 30, 22, 40, 33, 45]}\n",
    "\n",
    "df = pd.DataFrame(data)\n",
    "\n",
    "df.boxplot(by='Category', column='Values')\n",
    "plt.title('Box Plot by Category')\n",
    "plt.suptitle('')  # Remove the default title\n",
    "plt.show()"
   ]
  },
  {
   "cell_type": "markdown",
   "id": "9396c6ab",
   "metadata": {
    "papermill": {
     "duration": 0.110143,
     "end_time": "2023-10-25T14:11:40.403543",
     "exception": false,
     "start_time": "2023-10-25T14:11:40.293400",
     "status": "completed"
    },
    "tags": []
   },
   "source": [
    "These are some of the common types of charts and graphs you can create using Pandas. Depending on your data and analysis needs, you can customize these charts further and explore more advanced plotting options offered by libraries like Matplotlib and Seaborn in conjunction with Pandas."
   ]
  }
 ],
 "metadata": {
  "kernelspec": {
   "display_name": "stats",
   "language": "python",
   "name": "python3"
  },
  "language_info": {
   "codemirror_mode": {
    "name": "ipython",
    "version": 3
   },
   "file_extension": ".py",
   "mimetype": "text/x-python",
   "name": "python",
   "nbconvert_exporter": "python",
   "pygments_lexer": "ipython3",
   "version": "3.12.9"
  },
  "papermill": {
   "default_parameters": {},
   "duration": 75.629161,
   "end_time": "2023-10-25T14:11:41.338929",
   "environment_variables": {},
   "exception": null,
   "input_path": "__notebook__.ipynb",
   "output_path": "__notebook__.ipynb",
   "parameters": {},
   "start_time": "2023-10-25T14:10:25.709768",
   "version": "2.4.0"
  }
 },
 "nbformat": 4,
 "nbformat_minor": 5
}
