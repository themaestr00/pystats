{
 "cells": [
  {
   "cell_type": "markdown",
   "metadata": {},
   "source": [
    "# Вводная информация"
   ]
  },
  {
   "cell_type": "markdown",
   "metadata": {},
   "source": [
    "## План курса:\n",
    "1. Изучение основ библиотек Python: numpy, pandas, matplotlib + seaborn, scipy, statsmodels\n",
    "2. Методы генерации выборок\n",
    "3. Точечное и интервальное оценивание\n",
    "4. Проверка гипотез\n",
    "5. Корреляционный анализ\n",
    "6. Регрессионный анализ\n",
    "7. Работа с признаками\n",
    "8. Работа с пропусками в данных"
   ]
  },
  {
   "cell_type": "markdown",
   "metadata": {},
   "source": [
    "## Работа студента\n",
    "\n",
    "### Еженедельная:\n",
    "\n",
    "Будет некое тренировочное домашнее задание по мотивам лекции (ближе к следующей лекции будет выложен ноутбук с решениями задач), сдавать тренировочные ноутбуки не требуется. Вопросы по тренировочным заданиям можно и нужно задавать, например, в телеграм-канале в ветке комментариев к соответствующему посту.\n",
    "\n",
    "### Отчетность по курсу:\n",
    "\n",
    "Каждому студенту предлагается выбрать какой-нибудь из открытых наборов данных (ресурсы, где взять данные, указаны ниже) и исследовать его, применяя полученные на занятиях знания и используя соответствующие средства библиотек языка Python. По ходу изучения курса будут формироваться этапы статистического исследования набора данных, которые и надо будет продемонстрировать в качестве зачетного проекта."
   ]
  },
  {
   "cell_type": "markdown",
   "metadata": {},
   "source": [
    "## Источники данных:\n",
    "1. https://datasetsearch.research.google.com/\n",
    "2. https://www.kaggle.com/\n",
    "3. https://data.rcsi.science/\n",
    "4. https://rosstat.gov.ru/\n",
    "5. бесчисленное множество других сайтов"
   ]
  },
  {
   "cell_type": "markdown",
   "metadata": {
    "_uuid": "abffc6cf278e90c248be99650877c6e911ab7353",
    "colab_type": "text",
    "id": "fdQEgNQoV6ts"
   },
   "source": [
    "# Numpy\n",
    "\n",
    "Документация: https://numpy.org/doc/stable/\n",
    "\n",
    "Пакет numpy предоставляет n-мерные однородные массивы (все элементы одного типа); в них нельзя вставить или удалить элемент в произвольном месте. В numpy реализовано много операций над массивами в целом. Если задачу можно решить, произведя некоторую последовательность операций над массивами, то это будет столь же эффективно, как в C или matlab"
   ]
  },
  {
   "cell_type": "code",
   "execution_count": null,
   "metadata": {
    "_uuid": "18159677f325cd46b7c4df4af93ed86235c5d4ee",
    "colab": {},
    "colab_type": "code",
    "id": "vFKYjJbEV-q2"
   },
   "outputs": [],
   "source": [
    "import numpy as np"
   ]
  },
  {
   "cell_type": "code",
   "execution_count": null,
   "metadata": {},
   "outputs": [],
   "source": [
    "print(sum(range(5), -1))"
   ]
  },
  {
   "cell_type": "code",
   "execution_count": null,
   "metadata": {},
   "outputs": [],
   "source": [
    "#что выведет следующий скрипт?\n",
    "print(sum(range(5), -1))\n",
    "from numpy import *  # ТАК ДЕЛАТЬ НЕЛЬЗЯ\n",
    "print(sum(range(5),-1))"
   ]
  },
  {
   "cell_type": "markdown",
   "metadata": {
    "_uuid": "67b0e41d7942c8c878573e4b53d99690868b5f42",
    "colab_type": "text",
    "id": "eZQFOBmHhfr-"
   },
   "source": [
    "## Создание массивов"
   ]
  },
  {
   "cell_type": "code",
   "execution_count": null,
   "metadata": {
    "_uuid": "17c6123ec9763e09cdca61b9d45bbf6be4cb4bc2",
    "colab": {},
    "colab_type": "code",
    "id": "wr1tnx_7XUXI"
   },
   "outputs": [],
   "source": [
    "a = np.array([1,2,3])\n",
    "print(a)\n",
    "a.dtype"
   ]
  },
  {
   "cell_type": "markdown",
   "metadata": {},
   "source": [
    "## Типы данных"
   ]
  },
  {
   "cell_type": "code",
   "execution_count": null,
   "metadata": {},
   "outputs": [],
   "source": [
    "np.int64   #знаковые 8 байтные целые числа\n",
    "np.float32 #вещественные числа 4 байтные\n",
    "np.complex #комплексные числа (два вещественных)\n",
    "np.bool    #логический тип\n",
    "np.object \n",
    "np.string_ \n",
    "np.unicode_ #Fixed-length unicode type"
   ]
  },
  {
   "cell_type": "code",
   "execution_count": null,
   "metadata": {},
   "outputs": [],
   "source": [
    "for dtype in [np.int8, np.int32, np.int64]:\n",
    "    print(f'Тип: {dtype.__name__}, минимум: {np.iinfo(dtype).min}, максимум: {np.iinfo(dtype).max}')\n",
    "for dtype in [np.float16,np.float32, np.float64]:\n",
    "    print(f'Тип: {dtype.__name__}, минимум: {np.finfo(dtype).min}, максимум: {np.finfo(dtype).max}, и дельта: {np.finfo(dtype).eps}')"
   ]
  },
  {
   "cell_type": "code",
   "execution_count": null,
   "metadata": {},
   "outputs": [],
   "source": [
    "print(0 * np.nan)\n",
    "print(np.nan == np.nan)\n",
    "print(np.inf > np.nan)\n",
    "print(np.inf < np.nan)\n",
    "print(np.inf == np.nan)\n",
    "print(np.nan - np.nan)"
   ]
  },
  {
   "cell_type": "code",
   "execution_count": null,
   "metadata": {
    "_uuid": "c9f1902c1f1ca50f913c586c45ef4f6342e304a1",
    "colab": {},
    "colab_type": "code",
    "id": "bug3PR60nus5"
   },
   "outputs": [],
   "source": [
    "b = np.array([(1.5,2,3),\n",
    "              (4,5,6)],\n",
    "             dtype = np.float16)\n",
    "print(b)"
   ]
  },
  {
   "cell_type": "code",
   "execution_count": null,
   "metadata": {
    "_uuid": "12f66c1afb18519c495fb01bab2b9ca68e90b26c",
    "colab": {},
    "colab_type": "code",
    "id": "wZmKt2fknuok"
   },
   "outputs": [],
   "source": [
    "c = np.array([[(1.5,2,3), (4,5,6)],\n",
    "              [(3,2,1), (4,5,6)]],\n",
    "             dtype = float)\n",
    "print(c)\n",
    "print(c.dtype)\n",
    "print(c.shape)"
   ]
  },
  {
   "cell_type": "markdown",
   "metadata": {
    "_uuid": "319fe65ee327f0f922932deea5001c6a3a83635e",
    "colab_type": "text",
    "id": "cDkf6UJvhvZp"
   },
   "source": [
    "## Специальные массивы"
   ]
  },
  {
   "cell_type": "code",
   "execution_count": null,
   "metadata": {
    "_uuid": "a06d0e0dfc88b499ca3922bdddaf911fc0d30d73",
    "colab": {},
    "colab_type": "code",
    "id": "KS-A9t-QXhle"
   },
   "outputs": [],
   "source": [
    "np.zeros((3,4)) # из 0"
   ]
  },
  {
   "cell_type": "code",
   "execution_count": null,
   "metadata": {
    "_uuid": "759141855004c707c9ed7c09d4e454f2d6f53bad",
    "colab": {},
    "colab_type": "code",
    "id": "BWsqsL7VXm2M"
   },
   "outputs": [],
   "source": [
    "np.ones((2,3,4),dtype=np.float16)   # из 1"
   ]
  },
  {
   "cell_type": "code",
   "execution_count": null,
   "metadata": {
    "_uuid": "a086beb7c6c1e00177156284b1fba0e28fbb64b4",
    "colab": {},
    "colab_type": "code",
    "id": "4K9HEDFAXxEo"
   },
   "outputs": [],
   "source": [
    "d = np.arange(10,25,5)  #с заданным шагом\n",
    "print(d)\n",
    "d = np.arange(10,25,0.5)  #с заданным шагом\n",
    "print(d)"
   ]
  },
  {
   "cell_type": "code",
   "execution_count": null,
   "metadata": {
    "_uuid": "aec81c495a70bdabd7982478d71e873714812f01",
    "colab": {},
    "colab_type": "code",
    "id": "xDSxSPVuYwbq"
   },
   "outputs": [],
   "source": [
    "np.linspace(0,2,9)    # от и до с заданным количеством"
   ]
  },
  {
   "cell_type": "code",
   "execution_count": null,
   "metadata": {},
   "outputs": [],
   "source": [
    "for i in np.arange(0,1.1,0.1):\n",
    "    print(i, end = ' ')"
   ]
  },
  {
   "cell_type": "code",
   "execution_count": null,
   "metadata": {
    "_uuid": "d13b012d7792a717de9376bcd203791f8ace7505",
    "colab": {},
    "colab_type": "code",
    "id": "ZZqsiHwwY2Ib"
   },
   "outputs": [],
   "source": [
    "e = np.full((2,3,4),7)    # заполнение конкретным значением\n",
    "print(e)"
   ]
  },
  {
   "cell_type": "code",
   "execution_count": null,
   "metadata": {
    "_uuid": "5a798848132707c4da45bd580275d0d7898e3fb3",
    "colab": {},
    "colab_type": "code",
    "id": "134rxsnLY7q3"
   },
   "outputs": [],
   "source": [
    "f = np.eye(2)      #единичная матрица\n",
    "print(f)"
   ]
  },
  {
   "cell_type": "code",
   "execution_count": null,
   "metadata": {
    "_uuid": "c6a81eae1dd8ea7732ccda5ec5c13b4af34872f4",
    "colab": {},
    "colab_type": "code",
    "id": "12_moSZAY_jB"
   },
   "outputs": [],
   "source": [
    "np.random.random((5,2))    #случайными числами (U[0, 1])\n",
    "   "
   ]
  },
  {
   "cell_type": "code",
   "execution_count": null,
   "metadata": {
    "_uuid": "17592e67688d52af39c3009fbdba2e55282668fe",
    "colab": {},
    "colab_type": "code",
    "id": "sxiTzExyZDLk"
   },
   "outputs": [],
   "source": [
    "q = np.empty((3,2))       #пустой\n",
    "q"
   ]
  },
  {
   "cell_type": "markdown",
   "metadata": {
    "_uuid": "9af441768bae4da0b6dcbe35ef5fe48ba1283233",
    "colab_type": "text",
    "id": "aFZ81zQkh_Rd"
   },
   "source": [
    "## Методы для массивов"
   ]
  },
  {
   "cell_type": "code",
   "execution_count": null,
   "metadata": {
    "_uuid": "dd2fb390fe25213a8019c3451b8041a1629f6d4d",
    "colab": {},
    "colab_type": "code",
    "id": "a_PznGPcZ3fT"
   },
   "outputs": [],
   "source": [
    "a = np.array([[(1.5,2,3), (4,5,6)],\n",
    "              [(3,2,1), (4,5,6)],\n",
    "              [(3,2,1), (4,5,6)],\n",
    "              [(3,2,1), (4,5,6)]],\n",
    "             dtype = float)\n",
    "a.shape           #Размерности по каждой компоненте"
   ]
  },
  {
   "cell_type": "code",
   "execution_count": null,
   "metadata": {},
   "outputs": [],
   "source": [
    "print(a)"
   ]
  },
  {
   "cell_type": "code",
   "execution_count": null,
   "metadata": {},
   "outputs": [],
   "source": [
    "a.shape == (len(a), len(a[0]), len(a[0][0])) # Для тройной вложенности"
   ]
  },
  {
   "cell_type": "code",
   "execution_count": null,
   "metadata": {},
   "outputs": [],
   "source": [
    "a[0]"
   ]
  },
  {
   "cell_type": "code",
   "execution_count": null,
   "metadata": {
    "_uuid": "89ea3a5ab5fdb28478ba5444f62ec50a4bded530",
    "colab": {},
    "colab_type": "code",
    "id": "ASoWpYiLn0ax"
   },
   "outputs": [],
   "source": [
    "len(a[0][0])            #кол-во элементов"
   ]
  },
  {
   "cell_type": "code",
   "execution_count": null,
   "metadata": {
    "_uuid": "53ac110ba2b23dbe33005468e6d7aa488796ca9e",
    "colab": {},
    "colab_type": "code",
    "id": "Bsyx5UXzn0n_"
   },
   "outputs": [],
   "source": [
    "a.ndim            #количество размерностей"
   ]
  },
  {
   "cell_type": "code",
   "execution_count": null,
   "metadata": {
    "_uuid": "75daa56304cd196c21a7a2b6bada12f209cb6d88",
    "colab": {},
    "colab_type": "code",
    "id": "YrDUBRcpn0vD"
   },
   "outputs": [],
   "source": [
    "a.size            #количество элементов"
   ]
  },
  {
   "cell_type": "code",
   "execution_count": null,
   "metadata": {
    "_uuid": "0384ca9fec5d1ca8dd9c735f458a359f4f6e9e25",
    "colab": {},
    "colab_type": "code",
    "id": "X_nPZRdkn1BD"
   },
   "outputs": [],
   "source": [
    "a.dtype           #тип элементов"
   ]
  },
  {
   "cell_type": "code",
   "execution_count": null,
   "metadata": {
    "_uuid": "dc58d3a9a2d3ff1a9c598dfa1798c45d943a7eea",
    "colab": {},
    "colab_type": "code",
    "id": "Uy_N5fzHn0iS"
   },
   "outputs": [],
   "source": [
    "a.dtype.name      #название типа\n"
   ]
  },
  {
   "cell_type": "code",
   "execution_count": null,
   "metadata": {
    "_uuid": "db83405ad538e3bf82d524a9460bec8d803078a8",
    "colab": {},
    "colab_type": "code",
    "id": "gRdXRaE6n-Db"
   },
   "outputs": [],
   "source": [
    "a = a.astype(int)     #преобразование типов\n",
    "a"
   ]
  },
  {
   "cell_type": "markdown",
   "metadata": {
    "_uuid": "747137b08affdf3056d159576b6b335fc699fc0e",
    "colab_type": "text",
    "id": "Bvs14nwAiGl3"
   },
   "source": [
    "## Арифметические операции"
   ]
  },
  {
   "cell_type": "code",
   "execution_count": null,
   "metadata": {
    "_uuid": "867e1dc397f852ed8edc8d4b2cc2527dc7b86e6a",
    "colab": {},
    "colab_type": "code",
    "id": "_Lu0mN0WaIad"
   },
   "outputs": [],
   "source": [
    "a = np.array([4,5,6])\n",
    "b = np.array([1,2,6])\n",
    "g = a + b  \n",
    "print(g)\n",
    "g = a - b  \n",
    "print(g)\n",
    "g = a * b  \n",
    "print(g)\n",
    "g = a / b  \n",
    "print(g)\n",
    "g = a // b  \n",
    "print(g)\n",
    "g = a % b  \n",
    "print(g)"
   ]
  },
  {
   "cell_type": "code",
   "execution_count": null,
   "metadata": {},
   "outputs": [],
   "source": [
    "a = np.array([[24,35,46],\n",
    "              [24,35,46]])\n",
    "b = 10\n",
    "g = a + b  \n",
    "print(g)\n",
    "g = a - b  \n",
    "print(g)\n",
    "g = a * b  \n",
    "print(g)\n",
    "g = a / b  \n",
    "print(g)\n",
    "g = a // b  \n",
    "print(g)\n",
    "g = a % b  \n",
    "print(g)"
   ]
  },
  {
   "cell_type": "code",
   "execution_count": null,
   "metadata": {
    "_uuid": "bb2d3120d9eaa773c66a385d213880d4ee11c27d",
    "colab": {},
    "colab_type": "code",
    "id": "TCC7PaQPm5f5"
   },
   "outputs": [],
   "source": [
    "a = np.array([[4,5,6],\n",
    "              [-4,-5,-6]])\n",
    "np.exp(a) "
   ]
  },
  {
   "cell_type": "code",
   "execution_count": null,
   "metadata": {},
   "outputs": [],
   "source": [
    "a = np.array([[4,5,6],\n",
    "              [-4,-5,-6]])\n",
    "np.sqrt(a)"
   ]
  },
  {
   "cell_type": "code",
   "execution_count": null,
   "metadata": {
    "_uuid": "7199b48fe6a2a475135becc0c7b785323538f311",
    "colab": {},
    "colab_type": "code",
    "id": "6B5kY8LNm5sf"
   },
   "outputs": [],
   "source": [
    "np.emath.log(a) \n",
    "#emath - расширяем область применимости математических функций (корень/логарифм из отрицательных чисел)"
   ]
  },
  {
   "cell_type": "code",
   "execution_count": null,
   "metadata": {
    "_uuid": "09208b20a7979598d95d5a1c274b6295ffe43e50",
    "colab": {},
    "colab_type": "code",
    "id": "9utnDFOXm50v"
   },
   "outputs": [],
   "source": [
    "a = np.array([[30,45,60]])\n",
    "np.deg2rad(a)"
   ]
  },
  {
   "cell_type": "code",
   "execution_count": null,
   "metadata": {},
   "outputs": [],
   "source": [
    "np.sin(np.deg2rad(a))"
   ]
  },
  {
   "cell_type": "code",
   "execution_count": null,
   "metadata": {
    "_uuid": "d837e3572b4560d7d726066b4cb5c8db821131ac",
    "colab": {},
    "colab_type": "code",
    "id": "hHcnWQGgm6Kk"
   },
   "outputs": [],
   "source": [
    "np.log(a)"
   ]
  },
  {
   "cell_type": "code",
   "execution_count": null,
   "metadata": {
    "_uuid": "896feb131117b87212c57cfb1bc795cc4b0b8a2e",
    "colab": {},
    "colab_type": "code",
    "id": "ILHMT8HYm6T6"
   },
   "outputs": [],
   "source": [
    "e = np.array([1,2])\n",
    "f = np.array([-1,-2])\n",
    "e.dot(f) #либо скалярное произведение, либо произведение матриц"
   ]
  },
  {
   "cell_type": "code",
   "execution_count": null,
   "metadata": {},
   "outputs": [],
   "source": [
    "e = np.array([[1,5,7],\n",
    "              [-1,-3,2]])\n",
    "f = np.array([[4,1,7],\n",
    "              [0,5,-3],[1,-1,0]])\n",
    "e.dot(f) #либо скалярное произведение, либо произведение матриц"
   ]
  },
  {
   "cell_type": "code",
   "execution_count": null,
   "metadata": {},
   "outputs": [],
   "source": [
    "e = np.array([[1,5],\n",
    "              [-3,2],\n",
    "              [3, 4]])\n",
    "f = np.array([[4,1,7],\n",
    "              [0,5,-3],\n",
    "              [1,-1,0]])\n",
    "e.dot(f) #либо скалярное произведение, либо произведение матриц"
   ]
  },
  {
   "cell_type": "code",
   "execution_count": null,
   "metadata": {},
   "outputs": [],
   "source": [
    "f.dot(e) # подстраиваем размерности"
   ]
  },
  {
   "cell_type": "code",
   "execution_count": null,
   "metadata": {},
   "outputs": [],
   "source": [
    "f.dot(2) == f * 2 # можно и на числа"
   ]
  },
  {
   "cell_type": "markdown",
   "metadata": {
    "_uuid": "cb7f3d6608433c9fce156ac687fd8242ac4b802a",
    "colab_type": "text",
    "id": "fCTkyzVDiOLq"
   },
   "source": [
    "## Сравнение"
   ]
  },
  {
   "cell_type": "code",
   "execution_count": null,
   "metadata": {},
   "outputs": [],
   "source": [
    "a = np.array([[30, 45, 60]])\n",
    "a"
   ]
  },
  {
   "cell_type": "code",
   "execution_count": null,
   "metadata": {},
   "outputs": [],
   "source": [
    "b = np.array([[-30, -45, 60]])\n",
    "b"
   ]
  },
  {
   "cell_type": "code",
   "execution_count": null,
   "metadata": {
    "_uuid": "2b1a1fdc30e0976b1dc687b6b961719d4b4d796c",
    "colab": {},
    "colab_type": "code",
    "id": "xE-TkCzkapt_"
   },
   "outputs": [],
   "source": [
    "a == b   #поэлементное сравнение"
   ]
  },
  {
   "cell_type": "code",
   "execution_count": null,
   "metadata": {
    "_uuid": "d1229057565943123105d6b51fe027d2fa30eabd",
    "colab": {},
    "colab_type": "code",
    "id": "i2mSFUylmsO4"
   },
   "outputs": [],
   "source": [
    "a[np.array([[False, False,  True]])]    # Фильтрация"
   ]
  },
  {
   "cell_type": "code",
   "execution_count": null,
   "metadata": {},
   "outputs": [],
   "source": [
    "a[a==b] # Фильтрация"
   ]
  },
  {
   "cell_type": "code",
   "execution_count": null,
   "metadata": {
    "_uuid": "fbee3081059e03c6012579c47728f3520077ed00",
    "colab": {},
    "colab_type": "code",
    "id": "gXkKkbBPmsWu"
   },
   "outputs": [],
   "source": [
    "a = np.array([[1,1],[1,1]])\n",
    "b = np.array([1,1,1,1])\n",
    "print(np.array_equal(a, b)) #сравнение массивов\n",
    "print(a==b)"
   ]
  },
  {
   "cell_type": "markdown",
   "metadata": {
    "_uuid": "244ccf91401c80ae5f1bd305ecf266a5b23d0eba",
    "colab_type": "text",
    "id": "VzhOp8HyiQQf"
   },
   "source": [
    "## Функции"
   ]
  },
  {
   "cell_type": "code",
   "execution_count": null,
   "metadata": {},
   "outputs": [],
   "source": [
    "a = np.array([[10,20,30],\n",
    "              [50,60,70],\n",
    "              [1,2,3],\n",
    "              [5,6,7]])\n",
    "print(a)\n",
    "print(a.shape)"
   ]
  },
  {
   "cell_type": "code",
   "execution_count": null,
   "metadata": {},
   "outputs": [],
   "source": [
    "for i in [0,1]:\n",
    "    print(i, a.sum(axis = i), end = '\\n' + '-'*50 + '\\n')\n",
    "print(a.sum())\n",
    "#axis = 0 (*,y) - сумма по столбцам\n",
    "#axis = 1 (x,*) - сумма по строкам"
   ]
  },
  {
   "cell_type": "code",
   "execution_count": null,
   "metadata": {},
   "outputs": [],
   "source": [
    "a = np.array([[[10,20,-30,40],[50,60,70,80]],\n",
    "              [[1,2,3,4],[5,6,7,8]],\n",
    "              [[100,200,300,400],[500,600,700,800]]])\n",
    "print(a)\n",
    "print(a.shape)"
   ]
  },
  {
   "cell_type": "code",
   "execution_count": null,
   "metadata": {
    "_uuid": "81ce7c7c675e2e4a85f0c9ae3eb8be65031de5d7",
    "colab": {},
    "colab_type": "code",
    "id": "mNNDWkK2mDwA"
   },
   "outputs": [],
   "source": [
    "for i in [0,1,2]:\n",
    "    print(i, a.min(axis = i), end = '\\n' + '-'*50 + '\\n')\n",
    "print(a.min())\n",
    "#axis = 0 (*,y,z)\n",
    "#axis = 1 (x,*,z)\n",
    "#axis = 2 (x,y,*)"
   ]
  },
  {
   "cell_type": "code",
   "execution_count": null,
   "metadata": {
    "_uuid": "45dd37fc3c5536a159ee649f056c0e07084ffe0f",
    "colab": {},
    "colab_type": "code",
    "id": "etlsfn1Ia2l6"
   },
   "outputs": [],
   "source": [
    "for i in [0,1,2]:\n",
    "    print(i, a.sum(axis = i))\n",
    "print(a.sum())"
   ]
  },
  {
   "cell_type": "code",
   "execution_count": null,
   "metadata": {
    "_uuid": "e079389c94468cb07e538ba8950d6f8bf6aa195e",
    "colab": {},
    "colab_type": "code",
    "id": "KdoWSkACmD41"
   },
   "outputs": [],
   "source": [
    "a.max(axis=0) # по столбцу"
   ]
  },
  {
   "cell_type": "code",
   "execution_count": null,
   "metadata": {
    "_uuid": "ec5c841d32e682772b0229f9e3c743c6d5187415",
    "colab": {},
    "colab_type": "code",
    "id": "tXEi8RkkmEGn"
   },
   "outputs": [],
   "source": [
    "a = np.array([[ 11,  19,  -8, 5], [ -2, -18,   2, 10]])\n",
    "print(a)\n",
    "print(a.cumsum(axis=0)) # кумулятивная сумма по столбцу"
   ]
  },
  {
   "cell_type": "code",
   "execution_count": null,
   "metadata": {
    "_uuid": "fc64be0dd2a6dd54e9209eaa6beb4b29fa5ba700",
    "colab": {},
    "colab_type": "code",
    "id": "ExVK98HcmERM"
   },
   "outputs": [],
   "source": [
    "a.mean() # аналогично можно по столбцам и строкам (axis=0|1)"
   ]
  },
  {
   "cell_type": "code",
   "execution_count": null,
   "metadata": {
    "_uuid": "b2236301261d1f49ba4a84ff6a287add80084ae5",
    "colab": {},
    "colab_type": "code",
    "id": "OpTPlmA9mEbV"
   },
   "outputs": [],
   "source": [
    "np.median(a) # аналогично можно по столбцам и строкам np.median(a, axis=0)"
   ]
  },
  {
   "cell_type": "code",
   "execution_count": null,
   "metadata": {
    "_uuid": "41e3f14e13078ec0bf8a4448050fe2bd71b082fa",
    "colab": {},
    "colab_type": "code",
    "id": "CGQXDX4qmEtd"
   },
   "outputs": [],
   "source": [
    "np.std(a) # аналогично можно по столбцам и строкам np.std(a, axis=0)"
   ]
  },
  {
   "cell_type": "code",
   "execution_count": null,
   "metadata": {},
   "outputs": [],
   "source": [
    "print(a)\n",
    "np.quantile(a,q= 0.2,method='nearest')\n",
    "# аналогично можно по столбцам и строкам np.quantile(a,q= 0.2,method='nearest', axis=1)"
   ]
  },
  {
   "cell_type": "markdown",
   "metadata": {
    "_uuid": "bcc5ee41e319ceddac4bc953bad1b68a2e093505",
    "colab_type": "text",
    "id": "3sf-G0ODiTCU"
   },
   "source": [
    "## Копирование"
   ]
  },
  {
   "cell_type": "code",
   "execution_count": null,
   "metadata": {
    "_uuid": "5d6da87280b238eacc9a93f52ac21b794ec6b471",
    "colab": {},
    "colab_type": "code",
    "collapsed": true,
    "id": "P_PCAB_SbEPS"
   },
   "outputs": [],
   "source": [
    "h = a   #по ссылке\n",
    "h"
   ]
  },
  {
   "cell_type": "code",
   "execution_count": null,
   "metadata": {
    "_uuid": "5d2eea8c6645b7d7a9b6883fcac59e632b67b9a0",
    "colab": {},
    "colab_type": "code",
    "collapsed": true,
    "id": "8bBBIhtjlRGS"
   },
   "outputs": [],
   "source": [
    "h = a.copy() #по значению\n",
    "h"
   ]
  },
  {
   "cell_type": "markdown",
   "metadata": {
    "_uuid": "827a69909be0d0f32d06cc40583b36b7799e63da",
    "colab_type": "text",
    "id": "Z_PMWuEriW8F"
   },
   "source": [
    "## Сортировка"
   ]
  },
  {
   "cell_type": "code",
   "execution_count": null,
   "metadata": {
    "_uuid": "16de7a79c7323f77e7a6b99a6899f10c3e4c9f4a",
    "colab": {},
    "colab_type": "code",
    "id": "jGZfpJOdbMA6"
   },
   "outputs": [],
   "source": [
    "a = np.array([[(11.5,2,3), (4,15,6)],\n",
    "              [(3,12,1), (14,15,6)]],\n",
    "             dtype = float)\n",
    "print(a)\n",
    "print('-'*50)\n",
    "a.sort(axis=0) #логика работы с axis сохраняется для всех методов (в данном случае сортировка по строкам)\n",
    "print(a)"
   ]
  },
  {
   "cell_type": "code",
   "execution_count": null,
   "metadata": {},
   "outputs": [],
   "source": [
    "a = np.array([[(11.5,2,3), (4,15,6)],\n",
    "              [(3,12,1), (14,15,6)]],\n",
    "             dtype = float)\n",
    "print(a)\n",
    "print('-'*50)\n",
    "a.sort() \n",
    "print(a)"
   ]
  },
  {
   "cell_type": "markdown",
   "metadata": {
    "_uuid": "fd1de3812efb1cf14d9746708a057035e729f0a1",
    "colab_type": "text",
    "id": "bG28hLlIiiZR"
   },
   "source": [
    "## Срезы"
   ]
  },
  {
   "cell_type": "code",
   "execution_count": null,
   "metadata": {},
   "outputs": [],
   "source": [
    "a = np.array([[[10,20,30,40],[50,60,70,80]],\n",
    "              [[1,2,3,4],[5,6,7,8]], \n",
    "              [[100,200,300,400],[500,600,700,800]]])\n",
    "a"
   ]
  },
  {
   "cell_type": "code",
   "execution_count": null,
   "metadata": {},
   "outputs": [],
   "source": [
    "a.shape"
   ]
  },
  {
   "cell_type": "code",
   "execution_count": null,
   "metadata": {
    "_uuid": "0987d3cf03443906f41522e3b221f4b4447b00ce",
    "colab": {},
    "colab_type": "code",
    "id": "s0iaH0lgihR_"
   },
   "outputs": [],
   "source": [
    "a[1:2]"
   ]
  },
  {
   "cell_type": "code",
   "execution_count": null,
   "metadata": {},
   "outputs": [],
   "source": [
    "a[:,:,1] "
   ]
  },
  {
   "cell_type": "code",
   "execution_count": null,
   "metadata": {},
   "outputs": [],
   "source": [
    "b = a.copy()"
   ]
  },
  {
   "cell_type": "code",
   "execution_count": null,
   "metadata": {
    "_uuid": "8be2e03e4d58105cd2f83e17488f9fe799cbc890",
    "colab": {},
    "colab_type": "code",
    "id": "-Wg9EDo-kjSm"
   },
   "outputs": [],
   "source": [
    "b[0:2,1]"
   ]
  },
  {
   "cell_type": "code",
   "execution_count": null,
   "metadata": {
    "_uuid": "2a3ee2d16d55c5f5ca2a8e6e7ce644bae80ffcea",
    "colab": {},
    "colab_type": "code",
    "id": "POX1PGbhkjaE"
   },
   "outputs": [],
   "source": [
    "b[:1] "
   ]
  },
  {
   "cell_type": "code",
   "execution_count": null,
   "metadata": {},
   "outputs": [],
   "source": [
    "a = np.array([[[10,20,30,40],[50,60,70,80]],\n",
    "              [[1,2,3,4],[5,6,7,8]], \n",
    "              [[100,200,300,400],[500,600,700,800]]])\n",
    "a"
   ]
  },
  {
   "cell_type": "code",
   "execution_count": null,
   "metadata": {
    "_uuid": "5fd19a9fb3aad67266e843950b2386ff573e4996",
    "colab": {},
    "colab_type": "code",
    "id": "Up9KwtCRkjvc"
   },
   "outputs": [],
   "source": [
    "a[:, :,: :-1]"
   ]
  },
  {
   "cell_type": "code",
   "execution_count": null,
   "metadata": {
    "_uuid": "949116c41ae09f5622a89f86fb4fafdfe9aa516e",
    "colab": {},
    "colab_type": "code",
    "id": "frIQu1voisoO"
   },
   "outputs": [],
   "source": [
    "# Сложная индексация\n",
    "a[[1, 0, 1, 0],[0, 1, 1, 0]] #(1,0),(0,1),(1,1) и (0,0)"
   ]
  },
  {
   "cell_type": "markdown",
   "metadata": {},
   "source": [
    "## Выбор по условию"
   ]
  },
  {
   "cell_type": "code",
   "execution_count": null,
   "metadata": {},
   "outputs": [],
   "source": [
    "a = np.array([[[10,20,30,40],[50,60,70,80]],\n",
    "              [[1,2,3,4],[5,6,7,8]], \n",
    "              [[100,200,300,400],[500,600,700,800]]])\n",
    "a"
   ]
  },
  {
   "cell_type": "code",
   "execution_count": null,
   "metadata": {},
   "outputs": [],
   "source": [
    "a[a<50]"
   ]
  },
  {
   "cell_type": "code",
   "execution_count": null,
   "metadata": {},
   "outputs": [],
   "source": [
    "np.where(a<50,-a,a*2)"
   ]
  },
  {
   "cell_type": "markdown",
   "metadata": {
    "_uuid": "179357453c140114742ad1e041e53eb730127982",
    "colab_type": "text",
    "id": "QoxVqQYCi7jM"
   },
   "source": [
    "## Изменение размерности"
   ]
  },
  {
   "cell_type": "code",
   "execution_count": null,
   "metadata": {
    "_uuid": "a45ab84e2c157eb266162f40c9f66246146c537f",
    "colab": {},
    "colab_type": "code",
    "id": "LHGzCL-Yi7vW"
   },
   "outputs": [],
   "source": [
    "a.ravel()                    #трансформация в одномерный массив"
   ]
  },
  {
   "cell_type": "code",
   "execution_count": null,
   "metadata": {},
   "outputs": [],
   "source": [
    "a[a==a]"
   ]
  },
  {
   "cell_type": "code",
   "execution_count": null,
   "metadata": {},
   "outputs": [],
   "source": [
    "a.size #количество элементов"
   ]
  },
  {
   "cell_type": "code",
   "execution_count": null,
   "metadata": {
    "_uuid": "74261ad2b5bfc175270b35ae9846beb09041d7cf",
    "colab": {},
    "colab_type": "code",
    "id": "A_8QviPhj9Z2"
   },
   "outputs": [],
   "source": [
    "a = np.array([[(11.5,2,3), (4,15,6)],\n",
    "              [(3,12,1), (14,15,6)]],\n",
    "             dtype = float)\n",
    "print(a, end = '\\n' + '-'*50 + '\\n')\n",
    "a = a.ravel() #вектор-столбец\n",
    "print(a, end = '\\n' + '-'*50 + '\\n')\n",
    "a = a.reshape(4,3)            #в конкретную размерность\n",
    "print(a, end = '\\n' + '-'*50 + '\\n')\n",
    "a = a.reshape(1,12)            #вектор-строка\n",
    "print(a, end = '\\n' + '-'*50 + '\\n')"
   ]
  },
  {
   "cell_type": "code",
   "execution_count": null,
   "metadata": {},
   "outputs": [],
   "source": [
    "a = np.array([[(11.5,2,3), (4,15,6)],\n",
    "              [(3,12,1), (14,15,6)]],\n",
    "             dtype = float)\n",
    "b = a.reshape(1,12)  @ a.reshape(12,1) \n",
    "print(b, end = '\\n' + '-'*50 + '\\n')\n",
    "c = a.reshape(12,1)  @ a.reshape(1,12) \n",
    "print(c, end = '\\n' + '-'*50 + '\\n')"
   ]
  },
  {
   "cell_type": "markdown",
   "metadata": {
    "_uuid": "6cf94052c7d14e1d76724cc87293b9f808dd72f0",
    "colab_type": "text",
    "id": "kqKG6i2_i75_"
   },
   "source": [
    "## Добавление/удаление элементов"
   ]
  },
  {
   "cell_type": "code",
   "execution_count": null,
   "metadata": {},
   "outputs": [],
   "source": [
    "a = np.array([10,20,30])\n",
    "b = np.array([1,2,3,4,5,6])"
   ]
  },
  {
   "cell_type": "code",
   "execution_count": null,
   "metadata": {
    "_uuid": "fc5a7f67fb5d7d98465fb287d7ac5d735cb9e7f5",
    "colab": {},
    "colab_type": "code",
    "id": "zwceqRUdjrTg"
   },
   "outputs": [],
   "source": [
    "np.append(a,b)               #классическое добавление в конце"
   ]
  },
  {
   "cell_type": "code",
   "execution_count": null,
   "metadata": {
    "_uuid": "63197eeebac5cd326737a14122ee95b6517ea431",
    "colab": {},
    "colab_type": "code",
    "id": "XUfM6dQJjrbE"
   },
   "outputs": [],
   "source": [
    "np.insert(a, 1, 5)           #вставка в нужную позицию числа"
   ]
  },
  {
   "cell_type": "code",
   "execution_count": null,
   "metadata": {},
   "outputs": [],
   "source": [
    "np.insert(a, 1, b)           #вставка в нужную позицию, вектора"
   ]
  },
  {
   "cell_type": "code",
   "execution_count": null,
   "metadata": {
    "_uuid": "25de3920cd84a7a34b6496eb600c3dd51523b324",
    "colab": {},
    "colab_type": "code",
    "id": "1vnz7qJ7jrjt"
   },
   "outputs": [],
   "source": [
    "np.delete(a,[1])             #удаление конкретных элементов по индексу"
   ]
  },
  {
   "cell_type": "markdown",
   "metadata": {
    "_uuid": "f872e6c3d0f19477ac52ca9e253cdc27f24daa5b",
    "colab_type": "text",
    "id": "aRX-vtiZi8UX"
   },
   "source": [
    "## Соединение массивов"
   ]
  },
  {
   "cell_type": "code",
   "execution_count": null,
   "metadata": {},
   "outputs": [],
   "source": [
    "a = np.array([10,20,30,40,50,60])\n",
    "b = np.array([1,2,3,4,5,6])"
   ]
  },
  {
   "cell_type": "code",
   "execution_count": null,
   "metadata": {
    "_uuid": "be9cecb3c92bb822e851b530a99e9884420385c4",
    "colab": {},
    "colab_type": "code",
    "id": "jlv0ao8fi8fe"
   },
   "outputs": [],
   "source": [
    "np.concatenate((a,b),axis=0) #для векторов аналогично append"
   ]
  },
  {
   "cell_type": "code",
   "execution_count": null,
   "metadata": {
    "_uuid": "7914b33a5aa3655d25b340a822c394bba9f79ea6",
    "colab": {},
    "colab_type": "code",
    "id": "rgMtd1AKjhC1"
   },
   "outputs": [],
   "source": [
    "np.vstack((a,b))             #соединяет в новую матрицу дописывая как следующую строку"
   ]
  },
  {
   "cell_type": "code",
   "execution_count": null,
   "metadata": {
    "_uuid": "b19984ce578ccdf8be63fa0e224f304529deb99c",
    "colab": {},
    "colab_type": "code",
    "id": "Y5ZBBtFljhYd"
   },
   "outputs": [],
   "source": [
    "np.hstack((a,b))             #соединяет в новую матрицу дописывая горизонтально"
   ]
  },
  {
   "cell_type": "code",
   "execution_count": null,
   "metadata": {
    "_uuid": "9d6abb3a65b970b72bb95f351f77f4362eebe538",
    "colab": {},
    "colab_type": "code",
    "id": "7_CJ74iAjhje"
   },
   "outputs": [],
   "source": [
    "np.column_stack((a,b))       #соединяет в новую матрицу как вектор столбцы"
   ]
  },
  {
   "cell_type": "code",
   "execution_count": null,
   "metadata": {
    "_uuid": "470da700fb9e3fa2b6470eb602c8d9ef573ee667",
    "colab": {},
    "colab_type": "code",
    "id": "LsDgc5fHjhwd"
   },
   "outputs": [],
   "source": [
    "#укороченные версии названий\n",
    "print(np.c_[a,b], end = '\\n' + '-'*50 + '\\n')                   #соединяет в новую матрицу как вектор столбцы\n",
    "print(np.r_[a,b], end = '\\n' + '-'*50 + '\\n')                   #соединяет в новую матрицу как вектор строки"
   ]
  },
  {
   "cell_type": "code",
   "execution_count": null,
   "metadata": {},
   "outputs": [],
   "source": [
    "a = np.array([[10,20,30],[40,50,60]])\n",
    "b = np.array([[1,2,3],[4,5,6]])"
   ]
  },
  {
   "cell_type": "code",
   "execution_count": null,
   "metadata": {},
   "outputs": [],
   "source": [
    "np.concatenate((a,b),axis=0) "
   ]
  },
  {
   "cell_type": "code",
   "execution_count": null,
   "metadata": {},
   "outputs": [],
   "source": [
    "np.concatenate((a,b),axis=1) "
   ]
  },
  {
   "cell_type": "code",
   "execution_count": null,
   "metadata": {},
   "outputs": [],
   "source": [
    "np.vstack((a,b))             #соединяет в новую матрицу дописывая как следующую строку"
   ]
  },
  {
   "cell_type": "code",
   "execution_count": null,
   "metadata": {},
   "outputs": [],
   "source": [
    "np.hstack((a,b))             #соединяет в новую матрицу дописывая горизонтально"
   ]
  },
  {
   "cell_type": "code",
   "execution_count": null,
   "metadata": {},
   "outputs": [],
   "source": [
    "np.column_stack((a,b))       #соединяет в новую матрицу как вектор столбцы"
   ]
  },
  {
   "cell_type": "markdown",
   "metadata": {
    "_uuid": "3125407febfc7ce240712fe16efdf92439f752dd",
    "colab_type": "text",
    "id": "8TMEQaA3jTVT"
   },
   "source": [
    "## Разделение массивов"
   ]
  },
  {
   "cell_type": "code",
   "execution_count": null,
   "metadata": {},
   "outputs": [],
   "source": [
    "a = np.array([[10,20,30],\n",
    "              [40,50,60],\n",
    "              [70,80,80]])\n",
    "a"
   ]
  },
  {
   "cell_type": "code",
   "execution_count": null,
   "metadata": {
    "_uuid": "a686664d09cc8615df3022434d9d52a9f2f44756",
    "colab": {},
    "colab_type": "code",
    "id": "OyYkOaAlb4dR"
   },
   "outputs": [],
   "source": [
    "np.hsplit(a,3)               #разделяет горизонтально"
   ]
  },
  {
   "cell_type": "code",
   "execution_count": null,
   "metadata": {
    "_uuid": "7d8db59f17dc4018dc7e62e9a6c66213b016feaa",
    "colab": {},
    "colab_type": "code",
    "id": "4imbnQxHjex_"
   },
   "outputs": [],
   "source": [
    "np.vsplit(a,3)               #разделяет вертикально"
   ]
  },
  {
   "cell_type": "code",
   "execution_count": null,
   "metadata": {},
   "outputs": [],
   "source": [
    "# Найдите индексы ненулевых элементов из вектора \\[1,2,0,0,4,0\\]\n",
    "a = np.array([0,1,2,0,4,0])\n",
    "nz = np.nonzero(a)\n",
    "nz"
   ]
  },
  {
   "cell_type": "code",
   "execution_count": null,
   "metadata": {},
   "outputs": [],
   "source": [
    "# Рассмотрим массив размеров (5,6), каков индекс (x, y, z) 10-го элемента?\n",
    "x = np.arange(start=1,stop=30*2+1,step=2).reshape(5, 6)\n",
    "print(x, end = '\\n' + '-'*50 + '\\n')\n",
    "N = 10  # номер индекса (предполагаем, что счет элемментов начинается с 1 (единицы))\n",
    "tuple_coordinate_of_index = np.unravel_index(indices=N-1,shape=x.shape)  # координаты заданного индекса\n",
    "index_of_row = tuple_coordinate_of_index[0]\n",
    "index_of_col = tuple_coordinate_of_index[1]\n",
    "elem = x[index_of_row,index_of_col]\n",
    "print(f'Индекс элемента равного {elem}, (десятого) по порядку в векторе x: {tuple_coordinate_of_index}')"
   ]
  },
  {
   "cell_type": "markdown",
   "metadata": {},
   "source": [
    "***[np.unravel_index](https://numpy.org/doc/stable/reference/generated/numpy.unravel_index.html)*** - Преобразует привычный плоский индекс вектора или массив плоских индексов в кортеж массивов координат.  \n",
    "shape = размерность массива.  \n",
    "indices = индекс плоского массива или массив плоских индексов.  "
   ]
  },
  {
   "cell_type": "markdown",
   "metadata": {},
   "source": [
    "# Немного работы с random в  numpy"
   ]
  },
  {
   "cell_type": "code",
   "execution_count": null,
   "metadata": {},
   "outputs": [],
   "source": [
    "np.random.choice(10, 5)\n",
    "#Функция np.random.choice генерирует случайную выборку из заданного одномерного массива"
   ]
  },
  {
   "cell_type": "code",
   "execution_count": null,
   "metadata": {},
   "outputs": [],
   "source": [
    "prob = [0, 0, 0.1, 0.1, 0.3, 0.3, 0.1, 0.1, 0, 0]\n",
    "np.random.choice(10, 50, p = prob)"
   ]
  },
  {
   "cell_type": "code",
   "execution_count": null,
   "metadata": {},
   "outputs": [],
   "source": [
    "prob = [0, 0, 0.1, 0.1, 0.3, 0.3, 0.1, 0.1, 0, 0]\n",
    "np.random.choice(10, 50, p = prob)"
   ]
  },
  {
   "cell_type": "code",
   "execution_count": null,
   "metadata": {},
   "outputs": [],
   "source": [
    "np.random.choice(10, 5, replace = False)"
   ]
  },
  {
   "cell_type": "code",
   "execution_count": null,
   "metadata": {},
   "outputs": [],
   "source": [
    "np.random.choice([-5,10,'15',20], 10, p = [0.1,0.4,0.3,0.2], replace = True)"
   ]
  },
  {
   "cell_type": "markdown",
   "metadata": {},
   "source": [
    "## Линейная алгебра\n",
    "https://numpy.org/doc/2.2/reference/routines.linalg.html#module-numpy.linalg"
   ]
  },
  {
   "cell_type": "code",
   "execution_count": null,
   "metadata": {},
   "outputs": [],
   "source": [
    "%%timeit\n",
    "a = np.array([[ 11,  19,  -8, 5], \n",
    "              [ -2, -18,   2, 10]])\n",
    "a.T  # Транспонирование матрицы"
   ]
  },
  {
   "cell_type": "code",
   "execution_count": null,
   "metadata": {},
   "outputs": [],
   "source": [
    "%%timeit\n",
    "a = np.array([[ 11,  19,  -8, 5], \n",
    "              [ -2, -18,   2, 10]])\n",
    "np.transpose(a) # Транспонирование матрицы"
   ]
  },
  {
   "cell_type": "code",
   "execution_count": null,
   "metadata": {},
   "outputs": [],
   "source": [
    "a = np.array([[1, 2],\n",
    "              [-1, 2]])\n",
    "print(np.linalg.det(a)) #определитель"
   ]
  },
  {
   "cell_type": "code",
   "execution_count": null,
   "metadata": {},
   "outputs": [],
   "source": [
    "a1 = np.linalg.inv(a) #обратная матрица\n",
    "print(a1)"
   ]
  },
  {
   "cell_type": "code",
   "execution_count": null,
   "metadata": {},
   "outputs": [],
   "source": [
    "#решение Ax = b\n",
    "b = [3,-1]\n",
    "x = np.linalg.solve(a, b)\n",
    "print(x)\n",
    "print(a1 @ b)"
   ]
  },
  {
   "cell_type": "code",
   "execution_count": null,
   "metadata": {},
   "outputs": [],
   "source": [
    "#собственные значения и собственные векторы\n",
    "l, u = np.linalg.eig(a)\n",
    "print(l)\n",
    "print(u)"
   ]
  }
 ],
 "metadata": {
  "colab": {
   "name": "Untitled20.ipynb",
   "provenance": [],
   "version": "0.3.2"
  },
  "kernelspec": {
   "display_name": "stats",
   "language": "python",
   "name": "python3"
  },
  "language_info": {
   "codemirror_mode": {
    "name": "ipython",
    "version": 3
   },
   "file_extension": ".py",
   "mimetype": "text/x-python",
   "name": "python",
   "nbconvert_exporter": "python",
   "pygments_lexer": "ipython3",
   "version": "3.12.9"
  }
 },
 "nbformat": 4,
 "nbformat_minor": 1
}
