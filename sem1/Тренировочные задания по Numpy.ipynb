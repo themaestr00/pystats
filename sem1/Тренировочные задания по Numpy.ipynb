{
 "cells": [
  {
   "cell_type": "code",
   "execution_count": 2,
   "id": "d206e28e",
   "metadata": {},
   "outputs": [],
   "source": [
    "import numpy as np"
   ]
  },
  {
   "cell_type": "markdown",
   "id": "4b7e6e89",
   "metadata": {
    "papermill": {
     "duration": 0.058021,
     "end_time": "2022-09-15T16:38:07.360498",
     "exception": false,
     "start_time": "2022-09-15T16:38:07.302477",
     "status": "completed"
    },
    "tags": []
   },
   "source": [
    "#### 1. Как найти размер памяти занимаемый вектором"
   ]
  },
  {
   "cell_type": "code",
   "execution_count": null,
   "id": "31ef28f5",
   "metadata": {},
   "outputs": [],
   "source": [
    "a = np.array([1, 2, 3, 4])\n",
    "print(a.size * a.itemsize)"
   ]
  },
  {
   "cell_type": "markdown",
   "id": "1d8a8687",
   "metadata": {
    "papermill": {
     "duration": 0.061202,
     "end_time": "2022-09-15T16:38:08.982740",
     "exception": false,
     "start_time": "2022-09-15T16:38:08.921538",
     "status": "completed"
    },
    "tags": []
   },
   "source": [
    "#### 2. Создайте вектор со значениями от 1995 до 2025"
   ]
  },
  {
   "cell_type": "code",
   "execution_count": null,
   "id": "9396cf62",
   "metadata": {},
   "outputs": [],
   "source": [
    "a = np.arange(1995, 2026)\n",
    "print(a)"
   ]
  },
  {
   "cell_type": "markdown",
   "id": "f40af305",
   "metadata": {
    "papermill": {
     "duration": 0.061825,
     "end_time": "2022-09-15T16:38:09.363822",
     "exception": false,
     "start_time": "2022-09-15T16:38:09.301997",
     "status": "completed"
    },
    "tags": []
   },
   "source": [
    "#### 3. Инвертировать вектор (первый элемент становится последним)"
   ]
  },
  {
   "cell_type": "code",
   "execution_count": null,
   "id": "4c3d92b2",
   "metadata": {},
   "outputs": [],
   "source": [
    "a = np.array([1, 2, 3, 4])\n",
    "a = a[::-1]\n",
    "print(a)"
   ]
  },
  {
   "cell_type": "markdown",
   "id": "820f4679",
   "metadata": {
    "papermill": {
     "duration": 0.060822,
     "end_time": "2022-09-15T16:38:09.736253",
     "exception": false,
     "start_time": "2022-09-15T16:38:09.675431",
     "status": "completed"
    },
    "tags": []
   },
   "source": [
    "#### 4. Создайте матрицу 3x3 со значениями от 0 до 8\n"
   ]
  },
  {
   "cell_type": "code",
   "execution_count": null,
   "id": "3bbdd0fe",
   "metadata": {},
   "outputs": [],
   "source": [
    "a = np.arange(0, 9).reshape(3, 3)\n",
    "print(a)"
   ]
  },
  {
   "cell_type": "markdown",
   "id": "970430a4",
   "metadata": {
    "papermill": {
     "duration": 0.059825,
     "end_time": "2022-09-15T16:38:10.108187",
     "exception": false,
     "start_time": "2022-09-15T16:38:10.048362",
     "status": "completed"
    },
    "tags": []
   },
   "source": [
    "#### 5. Найдите индексы ненулевых элементов из вектора"
   ]
  },
  {
   "cell_type": "code",
   "execution_count": 153,
   "id": "0015d4e9",
   "metadata": {},
   "outputs": [
    {
     "name": "stdout",
     "output_type": "stream",
     "text": [
      "[0 1 2 3]\n"
     ]
    }
   ],
   "source": [
    "a = np.array([1, 2, 3, 4])\n",
    "print(np.nonzero(a)[0])"
   ]
  },
  {
   "cell_type": "markdown",
   "id": "f841e5cc",
   "metadata": {
    "papermill": {
     "duration": 0.058771,
     "end_time": "2022-09-15T16:38:10.859212",
     "exception": false,
     "start_time": "2022-09-15T16:38:10.800441",
     "status": "completed"
    },
    "tags": []
   },
   "source": [
    "#### 6. Создайте массив 3 на 3 на 3 со случайными значениями"
   ]
  },
  {
   "cell_type": "code",
   "execution_count": null,
   "id": "f3f23c96",
   "metadata": {},
   "outputs": [],
   "source": [
    "a = np.random.random((3, 3, 3))\n",
    "print(a)"
   ]
  },
  {
   "cell_type": "markdown",
   "id": "696fd5d4",
   "metadata": {
    "papermill": {
     "duration": 0.115007,
     "end_time": "2022-09-15T16:38:11.285794",
     "exception": false,
     "start_time": "2022-09-15T16:38:11.170787",
     "status": "completed"
    },
    "tags": []
   },
   "source": [
    "#### 7. Создайте массив 10x10 со случайными значениями и найдите минимальное и максимальное значения"
   ]
  },
  {
   "cell_type": "code",
   "execution_count": null,
   "id": "085e32d6",
   "metadata": {},
   "outputs": [],
   "source": [
    "a = np.random.random((10, 10))\n",
    "print(a)\n",
    "print(f'min = {a.min()}; max = {a.max()}')"
   ]
  },
  {
   "cell_type": "markdown",
   "id": "0ba49f10",
   "metadata": {
    "papermill": {
     "duration": 0.059659,
     "end_time": "2022-09-15T16:38:11.670603",
     "exception": false,
     "start_time": "2022-09-15T16:38:11.610944",
     "status": "completed"
    },
    "tags": []
   },
   "source": [
    "#### 8. Создайте случайный вектор размером 100 и найдите среднее значение"
   ]
  },
  {
   "cell_type": "code",
   "execution_count": 68,
   "id": "8cf1ef61",
   "metadata": {},
   "outputs": [
    {
     "name": "stdout",
     "output_type": "stream",
     "text": [
      "0.5122381518010216\n"
     ]
    }
   ],
   "source": [
    "a = np.random.random(100)\n",
    "print(a.mean())"
   ]
  },
  {
   "cell_type": "markdown",
   "id": "3dba4ae0",
   "metadata": {
    "papermill": {
     "duration": 0.062051,
     "end_time": "2022-09-15T16:38:12.046107",
     "exception": false,
     "start_time": "2022-09-15T16:38:11.984056",
     "status": "completed"
    },
    "tags": []
   },
   "source": [
    "#### 9. Создайте двумерный-массив с 1(единицами) на границе и 0(нулями) внутри"
   ]
  },
  {
   "cell_type": "code",
   "execution_count": null,
   "id": "d7a92ae8",
   "metadata": {},
   "outputs": [
    {
     "data": {
      "text/plain": [
       "array([[1, 1, 1, 1, 1, 1, 1, 1, 1, 1],\n",
       "       [1, 0, 0, 0, 0, 0, 0, 0, 0, 1],\n",
       "       [1, 0, 0, 0, 0, 0, 0, 0, 0, 1],\n",
       "       [1, 0, 0, 0, 0, 0, 0, 0, 0, 1],\n",
       "       [1, 0, 0, 0, 0, 0, 0, 0, 0, 1],\n",
       "       [1, 0, 0, 0, 0, 0, 0, 0, 0, 1],\n",
       "       [1, 0, 0, 0, 0, 0, 0, 0, 0, 1],\n",
       "       [1, 0, 0, 0, 0, 0, 0, 0, 0, 1],\n",
       "       [1, 0, 0, 0, 0, 0, 0, 0, 0, 1],\n",
       "       [1, 1, 1, 1, 1, 1, 1, 1, 1, 1]])"
      ]
     },
     "execution_count": 57,
     "metadata": {},
     "output_type": "execute_result"
    }
   ],
   "source": [
    "a = np.ones((10, 10), dtype=np.int64)\n",
    "a[1:len(a) - 1, 1:len(a) - 1] = 0\n",
    "print(a)"
   ]
  },
  {
   "cell_type": "markdown",
   "id": "3d97f4c0",
   "metadata": {
    "papermill": {
     "duration": 0.059811,
     "end_time": "2022-09-15T16:38:13.548734",
     "exception": false,
     "start_time": "2022-09-15T16:38:13.488923",
     "status": "completed"
    },
    "tags": []
   },
   "source": [
    "#### 10. Создайте матрицу 8x8 и залейте ее шахматным узором\n",
    "\n",
    "[1., 0., 1., 0., 1., 0., 1., 0.],\n",
    "\n",
    "[0., 1., 0., 1., 0., 1., 0., 1.],\n",
    "\n",
    "[1., 0., 1., 0., 1., 0., 1., 0.],\n",
    "\n",
    "[0., 1., 0., 1., 0., 1., 0., 1.],\n",
    "\n",
    "[1., 0., 1., 0., 1., 0., 1., 0.],\n",
    "\n",
    "[0., 1., 0., 1., 0., 1., 0., 1.],\n",
    "\n",
    "[1., 0., 1., 0., 1., 0., 1., 0.],\n",
    "\n",
    "[0., 1., 0., 1., 0., 1., 0., 1.]"
   ]
  },
  {
   "cell_type": "code",
   "execution_count": 69,
   "id": "fafcf152",
   "metadata": {},
   "outputs": [
    {
     "name": "stdout",
     "output_type": "stream",
     "text": [
      "[[1 0 1 0 1 0 1 0]\n",
      " [0 1 0 1 0 1 0 1]\n",
      " [1 0 1 0 1 0 1 0]\n",
      " [0 1 0 1 0 1 0 1]\n",
      " [1 0 1 0 1 0 1 0]\n",
      " [0 1 0 1 0 1 0 1]\n",
      " [1 0 1 0 1 0 1 0]\n",
      " [0 1 0 1 0 1 0 1]]\n"
     ]
    }
   ],
   "source": [
    "a = np.ones((8, 8), dtype=np.int64)\n",
    "a[::2, 1::2] = 0\n",
    "a[1::2, ::2] = 0\n",
    "print(a)"
   ]
  },
  {
   "cell_type": "markdown",
   "id": "9e398b8d",
   "metadata": {
    "papermill": {
     "duration": 0.060402,
     "end_time": "2022-09-15T16:38:13.919259",
     "exception": false,
     "start_time": "2022-09-15T16:38:13.858857",
     "status": "completed"
    },
    "tags": []
   },
   "source": [
    "#### 11. Рассмотрим массив формы (5,6), каков индекс (x, y) 10-го элемента?"
   ]
  },
  {
   "cell_type": "code",
   "execution_count": 82,
   "id": "880dfae5",
   "metadata": {},
   "outputs": [
    {
     "name": "stdout",
     "output_type": "stream",
     "text": [
      "(1, 3)\n"
     ]
    }
   ],
   "source": [
    "a = np.random.random((5, 6))\n",
    "x, y = np.unravel_index(9, a.shape)\n",
    "print(f'({x}, {y})')"
   ]
  },
  {
   "cell_type": "markdown",
   "id": "78eb7874",
   "metadata": {
    "papermill": {
     "duration": 0.058941,
     "end_time": "2022-09-15T16:38:14.286579",
     "exception": false,
     "start_time": "2022-09-15T16:38:14.227638",
     "status": "completed"
    },
    "tags": []
   },
   "source": [
    "#### 12. Рассмотрим массив размеров (6,7,8), каков индекс (x, y, z) 100-го элемента?"
   ]
  },
  {
   "cell_type": "code",
   "execution_count": 83,
   "id": "b44d187f",
   "metadata": {},
   "outputs": [
    {
     "name": "stdout",
     "output_type": "stream",
     "text": [
      "(1, 5, 3)\n"
     ]
    }
   ],
   "source": [
    "a = np.random.random((6, 7, 8))\n",
    "x, y, z = np.unravel_index(99, a.shape)\n",
    "print(f'({x}, {y}, {z})')"
   ]
  },
  {
   "cell_type": "markdown",
   "id": "b40e0207",
   "metadata": {
    "papermill": {
     "duration": 0.061325,
     "end_time": "2022-09-15T16:38:16.640317",
     "exception": false,
     "start_time": "2022-09-15T16:38:16.578992",
     "status": "completed"
    },
    "tags": []
   },
   "source": [
    "#### 13. Умножьте матрицу 5x3 на матрицу 3x2 (матричное произведение)"
   ]
  },
  {
   "cell_type": "code",
   "execution_count": 85,
   "id": "a2211bde",
   "metadata": {},
   "outputs": [
    {
     "name": "stdout",
     "output_type": "stream",
     "text": [
      "[[ 22  28]\n",
      " [ 49  64]\n",
      " [ 76 100]\n",
      " [103 136]\n",
      " [130 172]]\n"
     ]
    }
   ],
   "source": [
    "a = np.arange(1, 16).reshape((5, 3))\n",
    "b = np.arange(1, 7).reshape((3, 2))\n",
    "print(a @ b)"
   ]
  },
  {
   "cell_type": "markdown",
   "id": "2fd070b3",
   "metadata": {
    "papermill": {
     "duration": 0.064351,
     "end_time": "2022-09-15T16:38:17.169126",
     "exception": false,
     "start_time": "2022-09-15T16:38:17.104775",
     "status": "completed"
    },
    "tags": []
   },
   "source": [
    "#### 14. Задан одномерный массив, инвертируйте (поменяйте знак) у всех элементов массива, которые находятся в диапазоне от 3 до 8, прямо в нем самом."
   ]
  },
  {
   "cell_type": "code",
   "execution_count": 88,
   "id": "f9892172",
   "metadata": {},
   "outputs": [
    {
     "name": "stdout",
     "output_type": "stream",
     "text": [
      "[ 1  2  3 -4 -5 -6 -7 -8 -9 10 11]\n"
     ]
    }
   ],
   "source": [
    "a = np.arange(1, 12)\n",
    "a[3:9] *= -1\n",
    "print(a)"
   ]
  },
  {
   "cell_type": "markdown",
   "id": "f52efd66",
   "metadata": {
    "papermill": {
     "duration": 0.061965,
     "end_time": "2022-09-15T16:38:18.567798",
     "exception": false,
     "start_time": "2022-09-15T16:38:18.505833",
     "status": "completed"
    },
    "tags": []
   },
   "source": [
    "#### 15. Каковы результаты следующих выражений?\n",
    "```python\n",
    "np.array(0) / np.array(0)\n",
    "np.array(0) // np.array(0)\n",
    "np.array([np.nan]).astype(int)\n",
    "np.array([np.nan]).astype(int).astype(float)\n",
    "np.array([np.nan]).astype(float)\n",
    "```"
   ]
  },
  {
   "cell_type": "code",
   "execution_count": 90,
   "id": "6bebf7b6",
   "metadata": {},
   "outputs": [
    {
     "name": "stderr",
     "output_type": "stream",
     "text": [
      "/tmp/ipykernel_14145/873513115.py:1: RuntimeWarning: invalid value encountered in divide\n",
      "  np.array(0) / np.array(0)\n"
     ]
    },
    {
     "data": {
      "text/plain": [
       "np.float64(nan)"
      ]
     },
     "execution_count": 90,
     "metadata": {},
     "output_type": "execute_result"
    }
   ],
   "source": [
    "np.array(0) / np.array(0)"
   ]
  },
  {
   "cell_type": "code",
   "execution_count": 91,
   "id": "6df279c0",
   "metadata": {},
   "outputs": [
    {
     "name": "stderr",
     "output_type": "stream",
     "text": [
      "/tmp/ipykernel_14145/2018018105.py:1: RuntimeWarning: divide by zero encountered in floor_divide\n",
      "  np.array(0) // np.array(0)\n"
     ]
    },
    {
     "data": {
      "text/plain": [
       "np.int64(0)"
      ]
     },
     "execution_count": 91,
     "metadata": {},
     "output_type": "execute_result"
    }
   ],
   "source": [
    "np.array(0) // np.array(0)"
   ]
  },
  {
   "cell_type": "code",
   "execution_count": 92,
   "id": "ddb568ce",
   "metadata": {},
   "outputs": [
    {
     "name": "stderr",
     "output_type": "stream",
     "text": [
      "/tmp/ipykernel_14145/3091100680.py:1: RuntimeWarning: invalid value encountered in cast\n",
      "  np.array([np.nan]).astype(int)\n"
     ]
    },
    {
     "data": {
      "text/plain": [
       "array([-9223372036854775808])"
      ]
     },
     "execution_count": 92,
     "metadata": {},
     "output_type": "execute_result"
    }
   ],
   "source": [
    "np.array([np.nan]).astype(int)"
   ]
  },
  {
   "cell_type": "code",
   "execution_count": 93,
   "id": "9a97f25b",
   "metadata": {},
   "outputs": [
    {
     "name": "stderr",
     "output_type": "stream",
     "text": [
      "/tmp/ipykernel_14145/699728972.py:1: RuntimeWarning: invalid value encountered in cast\n",
      "  np.array([np.nan]).astype(int).astype(float)\n"
     ]
    },
    {
     "data": {
      "text/plain": [
       "array([-9.22337204e+18])"
      ]
     },
     "execution_count": 93,
     "metadata": {},
     "output_type": "execute_result"
    }
   ],
   "source": [
    "np.array([np.nan]).astype(int).astype(float)"
   ]
  },
  {
   "cell_type": "code",
   "execution_count": 94,
   "id": "13e1ca5d",
   "metadata": {},
   "outputs": [
    {
     "data": {
      "text/plain": [
       "array([nan])"
      ]
     },
     "execution_count": 94,
     "metadata": {},
     "output_type": "execute_result"
    }
   ],
   "source": [
    "np.array([np.nan]).astype(float)"
   ]
  },
  {
   "cell_type": "markdown",
   "id": "3442cb00",
   "metadata": {
    "papermill": {
     "duration": 0.062595,
     "end_time": "2022-09-15T16:38:19.281797",
     "exception": false,
     "start_time": "2022-09-15T16:38:19.219202",
     "status": "completed"
    },
    "tags": []
   },
   "source": [
    "#### 16. Округлить массив с плавающей запятой?  "
   ]
  },
  {
   "cell_type": "code",
   "execution_count": 100,
   "id": "bac2b500",
   "metadata": {},
   "outputs": [
    {
     "name": "stdout",
     "output_type": "stream",
     "text": [
      "[[0.78310063 0.96564674 0.63778106 0.73720128 0.57237777]\n",
      " [0.29851752 0.1601369  0.58523519 0.94492828 0.81405416]\n",
      " [0.08770592 0.26921448 0.38762839 0.74646578 0.42889265]\n",
      " [0.61286193 0.34710953 0.0229784  0.79593152 0.87491017]\n",
      " [0.85487752 0.97270061 0.62888338 0.1296894  0.52182507]]\n",
      "[[1 1 1 1 1]\n",
      " [0 0 1 1 1]\n",
      " [0 0 0 1 0]\n",
      " [1 0 0 1 1]\n",
      " [1 1 1 0 1]]\n"
     ]
    }
   ],
   "source": [
    "a = np.random.random((5, 5))\n",
    "print(a)\n",
    "a = np.round(a).astype(int)\n",
    "print(a)"
   ]
  },
  {
   "cell_type": "markdown",
   "id": "1fc36dae",
   "metadata": {
    "papermill": {
     "duration": 0.062128,
     "end_time": "2022-09-15T16:38:20.082401",
     "exception": false,
     "start_time": "2022-09-15T16:38:20.020273",
     "status": "completed"
    },
    "tags": []
   },
   "source": [
    "#### 17. Как найти общие значения между двумя массивами"
   ]
  },
  {
   "cell_type": "code",
   "execution_count": 119,
   "id": "9ca77cb4",
   "metadata": {},
   "outputs": [
    {
     "name": "stdout",
     "output_type": "stream",
     "text": [
      "[[1 2 3]\n",
      " [4 5 6]\n",
      " [7 8 9]]\n",
      "[[ 5  6  7]\n",
      " [ 8  9 10]\n",
      " [11 12 13]]\n",
      "[5 6 7 8 9]\n"
     ]
    }
   ],
   "source": [
    "a = np.arange(1, 10).reshape((3, 3))\n",
    "b = np.arange(5, 14).reshape((3, 3))\n",
    "print(a)\n",
    "print(b)\n",
    "print(a[np.isin(a, b)])"
   ]
  },
  {
   "cell_type": "markdown",
   "id": "67a4e986",
   "metadata": {
    "papermill": {
     "duration": 0.057023,
     "end_time": "2022-09-15T16:38:21.109679",
     "exception": false,
     "start_time": "2022-09-15T16:38:21.052656",
     "status": "completed"
    },
    "tags": []
   },
   "source": [
    "#### 18. Как вычислить корень из отрицательного числа?"
   ]
  },
  {
   "cell_type": "code",
   "execution_count": 127,
   "id": "323060f5",
   "metadata": {},
   "outputs": [
    {
     "name": "stdout",
     "output_type": "stream",
     "text": [
      "1j\n"
     ]
    }
   ],
   "source": [
    "print(np.emath.sqrt(-1))"
   ]
  },
  {
   "cell_type": "markdown",
   "id": "bc10fe34",
   "metadata": {
    "papermill": {
     "duration": 0.065131,
     "end_time": "2022-09-15T16:38:24.254618",
     "exception": false,
     "start_time": "2022-09-15T16:38:24.189487",
     "status": "completed"
    },
    "tags": []
   },
   "source": [
    "#### 19. Создайте случайный вектор размером 10 и отсортируйте его"
   ]
  },
  {
   "cell_type": "code",
   "execution_count": 136,
   "id": "71857c15",
   "metadata": {},
   "outputs": [
    {
     "name": "stdout",
     "output_type": "stream",
     "text": [
      "[0.1474712  0.17207047 0.24421651 0.27954042 0.29353872 0.47878411\n",
      " 0.61692426 0.71553038 0.78571266 0.90941708]\n"
     ]
    }
   ],
   "source": [
    "a = np.random.random(10)\n",
    "a.sort()\n",
    "print(a)"
   ]
  },
  {
   "cell_type": "markdown",
   "id": "314eb539",
   "metadata": {},
   "source": [
    "#### 20. Создайте случайную матрицу размером 10 на 10 найдите максимуму по строкам и столбцам по отдельности"
   ]
  },
  {
   "cell_type": "code",
   "execution_count": 138,
   "id": "e30e6a9e",
   "metadata": {},
   "outputs": [
    {
     "name": "stdout",
     "output_type": "stream",
     "text": [
      "[0.83353228 0.88831409 0.97504062 0.99556763 0.9922792  0.98234718\n",
      " 0.89335799 0.64839136 0.97630048 0.98979358]\n",
      "[0.96796729 0.75099902 0.97630048 0.77974125 0.99556763 0.97504062\n",
      " 0.90643053 0.98979358 0.9922792  0.98234718]\n"
     ]
    }
   ],
   "source": [
    "a = np.random.random((10, 10))\n",
    "print(a.max(axis=1))\n",
    "print(a.max(axis=0))"
   ]
  },
  {
   "cell_type": "markdown",
   "id": "1849a054",
   "metadata": {
    "papermill": {
     "duration": 0.062598,
     "end_time": "2022-09-15T16:38:25.329247",
     "exception": false,
     "start_time": "2022-09-15T16:38:25.266649",
     "status": "completed"
    },
    "tags": []
   },
   "source": [
    "#### 21. Рассмотрим два случайных массива A и B, проверьте, равны ли они"
   ]
  },
  {
   "cell_type": "code",
   "execution_count": 140,
   "id": "2bdf9c3a",
   "metadata": {},
   "outputs": [
    {
     "name": "stdout",
     "output_type": "stream",
     "text": [
      "False\n"
     ]
    }
   ],
   "source": [
    "a = np.random.random((5, 5))\n",
    "b = np.random.random((5, 5))\n",
    "print(np.array_equal(a, b))"
   ]
  },
  {
   "cell_type": "markdown",
   "id": "2121ea40",
   "metadata": {
    "papermill": {
     "duration": 0.064483,
     "end_time": "2022-09-15T16:38:26.989349",
     "exception": false,
     "start_time": "2022-09-15T16:38:26.924866",
     "status": "completed"
    },
    "tags": []
   },
   "source": [
    "#### 22. Создайте случайный вектор размером 10 и замените все максимальные значения на 0"
   ]
  },
  {
   "cell_type": "code",
   "execution_count": 152,
   "id": "2a658b64",
   "metadata": {},
   "outputs": [
    {
     "name": "stdout",
     "output_type": "stream",
     "text": [
      "[0.45929859 0.29283488 0.47517121 0.16386521 0.40253665 0.51621842\n",
      " 0.         0.59876201 0.44250879 0.19989558]\n"
     ]
    }
   ],
   "source": [
    "a = np.random.random(10)\n",
    "a[a == a.max()] = 0\n",
    "print(a)"
   ]
  },
  {
   "cell_type": "markdown",
   "id": "3d199270",
   "metadata": {},
   "source": [
    "#### 23. Создайте случайный вектор размером 10 и найдите индексы всех минимальных элементов"
   ]
  },
  {
   "cell_type": "code",
   "execution_count": 155,
   "id": "bbbd5a62",
   "metadata": {},
   "outputs": [
    {
     "name": "stdout",
     "output_type": "stream",
     "text": [
      "[0.23908451 0.22018902 0.98373184 0.18207451 0.42731271 0.50201931\n",
      " 0.23193013 0.32736258 0.62579274 0.98875785]\n",
      "[3]\n"
     ]
    }
   ],
   "source": [
    "a = np.random.random(10)\n",
    "print(a)\n",
    "print(np.where(a == a.min())[0])"
   ]
  },
  {
   "cell_type": "markdown",
   "id": "dca28dd8",
   "metadata": {
    "papermill": {
     "duration": 0.065539,
     "end_time": "2022-09-15T16:38:27.836181",
     "exception": false,
     "start_time": "2022-09-15T16:38:27.770642",
     "status": "completed"
    },
    "tags": []
   },
   "source": [
    "#### 24.Для двух массивов, X и Y, построить матрицу Коши C (Cij = 1 / (xi - yj))"
   ]
  },
  {
   "cell_type": "code",
   "execution_count": 158,
   "id": "7263f28c",
   "metadata": {},
   "outputs": [
    {
     "name": "stdout",
     "output_type": "stream",
     "text": [
      "[[-24.03097377  -6.93443063  -3.0678515    3.17156396   3.41832807]\n",
      " [ -2.3741195   -4.88047185 -83.26921159 215.35238516  25.58351809]\n",
      " [  5.66613848  11.20869888   1.50947924  -1.17320702  12.37435854]\n",
      " [  1.41915354   2.19292625  -2.81349264 -29.37109669   1.83064236]\n",
      " [ -1.13646413   2.20134891  -2.39782245  -9.13940668  -2.43995271]]\n"
     ]
    }
   ],
   "source": [
    "x = np.random.random((5, 5))\n",
    "y = np.random.random((5, 5))\n",
    "c = 1 / (x - y)\n",
    "print(c)"
   ]
  },
  {
   "cell_type": "markdown",
   "id": "358e3a09",
   "metadata": {
    "papermill": {
     "duration": 0.063438,
     "end_time": "2022-09-15T16:38:29.177555",
     "exception": false,
     "start_time": "2022-09-15T16:38:29.114117",
     "status": "completed"
    },
    "tags": []
   },
   "source": [
    "#### 25. Как найти ближайшее значение (к заданному(числу)) в векторе?"
   ]
  },
  {
   "cell_type": "code",
   "execution_count": null,
   "id": "b0789999",
   "metadata": {},
   "outputs": [
    {
     "name": "stdout",
     "output_type": "stream",
     "text": [
      "[0.827148   0.74858145 0.18433024 0.46656972 0.06430316 0.61436618\n",
      " 0.67296911 0.32669424 0.4589288  0.74487657]\n",
      "0.8271479983623192\n"
     ]
    }
   ],
   "source": [
    "a = np.random.random(10)\n",
    "print(a)\n",
    "print(a[np.argmin(np.abs(a - 1))])"
   ]
  },
  {
   "cell_type": "markdown",
   "id": "2a474627",
   "metadata": {
    "papermill": {
     "duration": 0.064416,
     "end_time": "2022-09-15T16:38:32.893327",
     "exception": false,
     "start_time": "2022-09-15T16:38:32.828911",
     "status": "completed"
    },
    "tags": []
   },
   "source": [
    "#### 26. Вычтите среднее значение каждой строки матрицы.  Необходимо вычислить среднее значение каждой строки матрицы и вычесть его из элементов соответствующей строки  "
   ]
  },
  {
   "cell_type": "code",
   "execution_count": 170,
   "id": "58f11f35",
   "metadata": {},
   "outputs": [
    {
     "name": "stdout",
     "output_type": "stream",
     "text": [
      "[[-0.45147734 -0.308213    0.21981568 -0.36164865 -0.47697728  0.0915057\n",
      "   0.28769183  0.42472497  0.1559325   0.4186456 ]\n",
      " [-0.28113735  0.17608532 -0.49976539  0.38582452  0.14677834 -0.3343188\n",
      "  -0.24929598  0.39417773  0.14239275  0.11925886]\n",
      " [ 0.36090161 -0.3569166   0.38793726 -0.06785218  0.28379201 -0.09112612\n",
      "   0.20742305 -0.14149186 -0.25079145 -0.33187572]\n",
      " [-0.432573    0.29374056  0.16418952  0.26836279 -0.36560817  0.19579943\n",
      "   0.01229263 -0.35722877  0.21667053  0.00435449]\n",
      " [-0.22715559 -0.00534117 -0.30011605  0.28712486 -0.10857138  0.36899525\n",
      "   0.02656232  0.10683901  0.27019665 -0.4185339 ]\n",
      " [ 0.30458211 -0.46483358 -0.19755708 -0.07580205  0.02882489  0.20751334\n",
      "   0.35852576  0.02233829  0.3088905  -0.49248216]\n",
      " [ 0.26158681 -0.52481272 -0.14684213  0.17716313  0.26978887  0.12179436\n",
      "   0.32221419 -0.46607891 -0.11786829  0.10305468]\n",
      " [-0.20715795 -0.17032733  0.08940269 -0.34661392  0.37936425  0.27856527\n",
      "  -0.33487236  0.2207381  -0.11554614  0.20644739]\n",
      " [-0.28797065  0.52874459 -0.41004045  0.09252649  0.42314854 -0.24218531\n",
      "   0.01854446 -0.3057219   0.10158625  0.08136798]\n",
      " [ 0.5041735   0.35347962  0.0078862  -0.22418933  0.2508615  -0.03784843\n",
      "  -0.39476     0.35541555 -0.38934962 -0.425669  ]]\n"
     ]
    }
   ],
   "source": [
    "a = np.random.random((10, 10))\n",
    "print(a - a.mean(axis=1).reshape(10, 1))"
   ]
  },
  {
   "cell_type": "markdown",
   "id": "2decc138",
   "metadata": {
    "papermill": {
     "duration": 0.066238,
     "end_time": "2022-09-15T16:38:33.291432",
     "exception": false,
     "start_time": "2022-09-15T16:38:33.225194",
     "status": "completed"
    },
    "tags": []
   },
   "source": [
    "#### 27. Отсортировать двумерную матрицу по n-му столбцу?"
   ]
  },
  {
   "cell_type": "code",
   "execution_count": 181,
   "id": "8ebf47d7",
   "metadata": {},
   "outputs": [
    {
     "name": "stdout",
     "output_type": "stream",
     "text": [
      "[[0.68360261 0.54777414 0.45545829 0.40365851]\n",
      " [0.55622524 0.19797268 0.10926438 0.22107792]\n",
      " [0.826362   0.11083389 0.74031083 0.48057926]\n",
      " [0.08650603 0.82327438 0.84310439 0.65645653]]\n",
      "[[0.55622524 0.19797268 0.10926438 0.22107792]\n",
      " [0.68360261 0.54777414 0.45545829 0.40365851]\n",
      " [0.826362   0.11083389 0.74031083 0.48057926]\n",
      " [0.08650603 0.82327438 0.84310439 0.65645653]]\n"
     ]
    }
   ],
   "source": [
    "a = np.random.random((4, 4))\n",
    "print(a)\n",
    "a = a[np.argsort(a[:, 2])]\n",
    "print(a)"
   ]
  },
  {
   "cell_type": "markdown",
   "id": "6a150590",
   "metadata": {
    "papermill": {
     "duration": 0.065672,
     "end_time": "2022-09-15T16:38:33.691626",
     "exception": false,
     "start_time": "2022-09-15T16:38:33.625954",
     "status": "completed"
    },
    "tags": []
   },
   "source": [
    "#### 28. Определить, есть ли в данной двумерной матрицы нулевые столбцы? Как найти индексы нулевых столбцов в матрице?"
   ]
  },
  {
   "cell_type": "code",
   "execution_count": null,
   "id": "f4dadcd6",
   "metadata": {},
   "outputs": [
    {
     "name": "stdout",
     "output_type": "stream",
     "text": [
      "[0 1]\n"
     ]
    }
   ],
   "source": [
    "a = np.array([[0, 0, 1],\n",
    "              [0, 0, 1]])\n",
    "print(np.where(np.all(a == 0, axis=0))[0])"
   ]
  },
  {
   "cell_type": "markdown",
   "id": "fb5deb0f",
   "metadata": {
    "papermill": {
     "duration": 0.068197,
     "end_time": "2022-09-15T16:41:10.140912",
     "exception": false,
     "start_time": "2022-09-15T16:41:10.072715",
     "status": "completed"
    },
    "tags": []
   },
   "source": [
    "#### 29. Как найти наиболее часто встречающееся значение в массиве"
   ]
  },
  {
   "cell_type": "code",
   "execution_count": null,
   "id": "334d181d",
   "metadata": {},
   "outputs": [
    {
     "name": "stdout",
     "output_type": "stream",
     "text": [
      "[[1 2 3]\n",
      " [1 2 2]]\n",
      "2\n"
     ]
    }
   ],
   "source": [
    "a = np.array([[1, 2, 3],\n",
    "              [1, 2, 2]])\n",
    "u, c = np.unique(a, return_counts=True)\n",
    "print(u[np.argmax(c)])"
   ]
  }
 ],
 "metadata": {
  "kernelspec": {
   "display_name": "stats",
   "language": "python",
   "name": "python3"
  },
  "language_info": {
   "codemirror_mode": {
    "name": "ipython",
    "version": 3
   },
   "file_extension": ".py",
   "mimetype": "text/x-python",
   "name": "python",
   "nbconvert_exporter": "python",
   "pygments_lexer": "ipython3",
   "version": "3.12.9"
  },
  "papermill": {
   "default_parameters": {},
   "duration": 384.550018,
   "end_time": "2022-09-15T16:44:22.530415",
   "environment_variables": {},
   "exception": null,
   "input_path": "__notebook__.ipynb",
   "output_path": "__notebook__.ipynb",
   "parameters": {},
   "start_time": "2022-09-15T16:37:57.980397",
   "version": "2.3.4"
  }
 },
 "nbformat": 4,
 "nbformat_minor": 5
}
