{
 "cells": [
  {
   "cell_type": "code",
   "execution_count": null,
   "id": "d206e28e",
   "metadata": {},
   "outputs": [],
   "source": [
    "import numpy as np"
   ]
  },
  {
   "cell_type": "markdown",
   "id": "4b7e6e89",
   "metadata": {
    "papermill": {
     "duration": 0.058021,
     "end_time": "2022-09-15T16:38:07.360498",
     "exception": false,
     "start_time": "2022-09-15T16:38:07.302477",
     "status": "completed"
    },
    "tags": []
   },
   "source": [
    "#### 1. Как найти размер памяти занимаемый вектором"
   ]
  },
  {
   "cell_type": "code",
   "execution_count": null,
   "id": "31ef28f5",
   "metadata": {},
   "outputs": [],
   "source": [
    "a = np.array([1, 2, 3, 4])\n",
    "print(a.size * a.itemsize)"
   ]
  },
  {
   "cell_type": "markdown",
   "id": "1d8a8687",
   "metadata": {
    "papermill": {
     "duration": 0.061202,
     "end_time": "2022-09-15T16:38:08.982740",
     "exception": false,
     "start_time": "2022-09-15T16:38:08.921538",
     "status": "completed"
    },
    "tags": []
   },
   "source": [
    "#### 2. Создайте вектор со значениями от 1995 до 2025"
   ]
  },
  {
   "cell_type": "code",
   "execution_count": null,
   "id": "9396cf62",
   "metadata": {},
   "outputs": [],
   "source": [
    "a = np.arange(1995, 2026)\n",
    "print(a)"
   ]
  },
  {
   "cell_type": "markdown",
   "id": "f40af305",
   "metadata": {
    "papermill": {
     "duration": 0.061825,
     "end_time": "2022-09-15T16:38:09.363822",
     "exception": false,
     "start_time": "2022-09-15T16:38:09.301997",
     "status": "completed"
    },
    "tags": []
   },
   "source": [
    "#### 3. Инвертировать вектор (первый элемент становится последним)"
   ]
  },
  {
   "cell_type": "code",
   "execution_count": null,
   "id": "4c3d92b2",
   "metadata": {},
   "outputs": [],
   "source": [
    "a = np.array([1, 2, 3, 4])\n",
    "a = a[::-1]\n",
    "print(a)"
   ]
  },
  {
   "cell_type": "markdown",
   "id": "820f4679",
   "metadata": {
    "papermill": {
     "duration": 0.060822,
     "end_time": "2022-09-15T16:38:09.736253",
     "exception": false,
     "start_time": "2022-09-15T16:38:09.675431",
     "status": "completed"
    },
    "tags": []
   },
   "source": [
    "#### 4. Создайте матрицу 3x3 со значениями от 0 до 8\n"
   ]
  },
  {
   "cell_type": "code",
   "execution_count": null,
   "id": "3bbdd0fe",
   "metadata": {},
   "outputs": [],
   "source": [
    "a = np.arange(0, 9).reshape(3, 3)\n",
    "print(a)"
   ]
  },
  {
   "cell_type": "markdown",
   "id": "970430a4",
   "metadata": {
    "papermill": {
     "duration": 0.059825,
     "end_time": "2022-09-15T16:38:10.108187",
     "exception": false,
     "start_time": "2022-09-15T16:38:10.048362",
     "status": "completed"
    },
    "tags": []
   },
   "source": [
    "#### 5. Найдите индексы ненулевых элементов из вектора"
   ]
  },
  {
   "cell_type": "code",
   "execution_count": null,
   "id": "0015d4e9",
   "metadata": {},
   "outputs": [],
   "source": [
    "a = np.array([1, 2, 3, 4])\n",
    "print(np.nonzero(a)[0])"
   ]
  },
  {
   "cell_type": "markdown",
   "id": "f841e5cc",
   "metadata": {
    "papermill": {
     "duration": 0.058771,
     "end_time": "2022-09-15T16:38:10.859212",
     "exception": false,
     "start_time": "2022-09-15T16:38:10.800441",
     "status": "completed"
    },
    "tags": []
   },
   "source": [
    "#### 6. Создайте массив 3 на 3 на 3 со случайными значениями"
   ]
  },
  {
   "cell_type": "code",
   "execution_count": null,
   "id": "f3f23c96",
   "metadata": {},
   "outputs": [],
   "source": [
    "a = np.random.random((3, 3, 3))\n",
    "print(a)"
   ]
  },
  {
   "cell_type": "markdown",
   "id": "696fd5d4",
   "metadata": {
    "papermill": {
     "duration": 0.115007,
     "end_time": "2022-09-15T16:38:11.285794",
     "exception": false,
     "start_time": "2022-09-15T16:38:11.170787",
     "status": "completed"
    },
    "tags": []
   },
   "source": [
    "#### 7. Создайте массив 10x10 со случайными значениями и найдите минимальное и максимальное значения"
   ]
  },
  {
   "cell_type": "code",
   "execution_count": null,
   "id": "085e32d6",
   "metadata": {},
   "outputs": [],
   "source": [
    "a = np.random.random((10, 10))\n",
    "print(a)\n",
    "print(f'min = {a.min()}; max = {a.max()}')"
   ]
  },
  {
   "cell_type": "markdown",
   "id": "0ba49f10",
   "metadata": {
    "papermill": {
     "duration": 0.059659,
     "end_time": "2022-09-15T16:38:11.670603",
     "exception": false,
     "start_time": "2022-09-15T16:38:11.610944",
     "status": "completed"
    },
    "tags": []
   },
   "source": [
    "#### 8. Создайте случайный вектор размером 100 и найдите среднее значение"
   ]
  },
  {
   "cell_type": "code",
   "execution_count": null,
   "id": "8cf1ef61",
   "metadata": {},
   "outputs": [],
   "source": [
    "a = np.random.random(100)\n",
    "print(a.mean())"
   ]
  },
  {
   "cell_type": "markdown",
   "id": "3dba4ae0",
   "metadata": {
    "papermill": {
     "duration": 0.062051,
     "end_time": "2022-09-15T16:38:12.046107",
     "exception": false,
     "start_time": "2022-09-15T16:38:11.984056",
     "status": "completed"
    },
    "tags": []
   },
   "source": [
    "#### 9. Создайте двумерный-массив с 1(единицами) на границе и 0(нулями) внутри"
   ]
  },
  {
   "cell_type": "code",
   "execution_count": null,
   "id": "d7a92ae8",
   "metadata": {},
   "outputs": [],
   "source": [
    "a = np.ones((10, 10), dtype=np.int64)\n",
    "a[1:len(a) - 1, 1:len(a) - 1] = 0\n",
    "print(a)"
   ]
  },
  {
   "cell_type": "markdown",
   "id": "3d97f4c0",
   "metadata": {
    "papermill": {
     "duration": 0.059811,
     "end_time": "2022-09-15T16:38:13.548734",
     "exception": false,
     "start_time": "2022-09-15T16:38:13.488923",
     "status": "completed"
    },
    "tags": []
   },
   "source": [
    "#### 10. Создайте матрицу 8x8 и залейте ее шахматным узором\n",
    "\n",
    "[1., 0., 1., 0., 1., 0., 1., 0.],\n",
    "\n",
    "[0., 1., 0., 1., 0., 1., 0., 1.],\n",
    "\n",
    "[1., 0., 1., 0., 1., 0., 1., 0.],\n",
    "\n",
    "[0., 1., 0., 1., 0., 1., 0., 1.],\n",
    "\n",
    "[1., 0., 1., 0., 1., 0., 1., 0.],\n",
    "\n",
    "[0., 1., 0., 1., 0., 1., 0., 1.],\n",
    "\n",
    "[1., 0., 1., 0., 1., 0., 1., 0.],\n",
    "\n",
    "[0., 1., 0., 1., 0., 1., 0., 1.]"
   ]
  },
  {
   "cell_type": "code",
   "execution_count": null,
   "id": "fafcf152",
   "metadata": {},
   "outputs": [],
   "source": [
    "a = np.ones((8, 8), dtype=np.int64)\n",
    "a[::2, 1::2] = 0\n",
    "a[1::2, ::2] = 0\n",
    "print(a)"
   ]
  },
  {
   "cell_type": "markdown",
   "id": "9e398b8d",
   "metadata": {
    "papermill": {
     "duration": 0.060402,
     "end_time": "2022-09-15T16:38:13.919259",
     "exception": false,
     "start_time": "2022-09-15T16:38:13.858857",
     "status": "completed"
    },
    "tags": []
   },
   "source": [
    "#### 11. Рассмотрим массив формы (5,6), каков индекс (x, y) 10-го элемента?"
   ]
  },
  {
   "cell_type": "code",
   "execution_count": null,
   "id": "880dfae5",
   "metadata": {},
   "outputs": [],
   "source": [
    "a = np.random.random((5, 6))\n",
    "x, y = np.unravel_index(9, a.shape)\n",
    "print(f'({x}, {y})')"
   ]
  },
  {
   "cell_type": "markdown",
   "id": "78eb7874",
   "metadata": {
    "papermill": {
     "duration": 0.058941,
     "end_time": "2022-09-15T16:38:14.286579",
     "exception": false,
     "start_time": "2022-09-15T16:38:14.227638",
     "status": "completed"
    },
    "tags": []
   },
   "source": [
    "#### 12. Рассмотрим массив размеров (6,7,8), каков индекс (x, y, z) 100-го элемента?"
   ]
  },
  {
   "cell_type": "code",
   "execution_count": null,
   "id": "b44d187f",
   "metadata": {},
   "outputs": [],
   "source": [
    "a = np.random.random((6, 7, 8))\n",
    "x, y, z = np.unravel_index(99, a.shape)\n",
    "print(f'({x}, {y}, {z})')"
   ]
  },
  {
   "cell_type": "markdown",
   "id": "b40e0207",
   "metadata": {
    "papermill": {
     "duration": 0.061325,
     "end_time": "2022-09-15T16:38:16.640317",
     "exception": false,
     "start_time": "2022-09-15T16:38:16.578992",
     "status": "completed"
    },
    "tags": []
   },
   "source": [
    "#### 13. Умножьте матрицу 5x3 на матрицу 3x2 (матричное произведение)"
   ]
  },
  {
   "cell_type": "code",
   "execution_count": null,
   "id": "a2211bde",
   "metadata": {},
   "outputs": [],
   "source": [
    "a = np.arange(1, 16).reshape((5, 3))\n",
    "b = np.arange(1, 7).reshape((3, 2))\n",
    "print(a @ b)"
   ]
  },
  {
   "cell_type": "markdown",
   "id": "2fd070b3",
   "metadata": {
    "papermill": {
     "duration": 0.064351,
     "end_time": "2022-09-15T16:38:17.169126",
     "exception": false,
     "start_time": "2022-09-15T16:38:17.104775",
     "status": "completed"
    },
    "tags": []
   },
   "source": [
    "#### 14. Задан одномерный массив, инвертируйте (поменяйте знак) у всех элементов массива, которые находятся в диапазоне от 3 до 8, прямо в нем самом."
   ]
  },
  {
   "cell_type": "code",
   "execution_count": null,
   "id": "f9892172",
   "metadata": {},
   "outputs": [],
   "source": [
    "a = np.arange(1, 12)\n",
    "a[3:9] *= -1\n",
    "print(a)"
   ]
  },
  {
   "cell_type": "markdown",
   "id": "f52efd66",
   "metadata": {
    "papermill": {
     "duration": 0.061965,
     "end_time": "2022-09-15T16:38:18.567798",
     "exception": false,
     "start_time": "2022-09-15T16:38:18.505833",
     "status": "completed"
    },
    "tags": []
   },
   "source": [
    "#### 15. Каковы результаты следующих выражений?\n",
    "```python\n",
    "np.array(0) / np.array(0)\n",
    "np.array(0) // np.array(0)\n",
    "np.array([np.nan]).astype(int)\n",
    "np.array([np.nan]).astype(int).astype(float)\n",
    "np.array([np.nan]).astype(float)\n",
    "```"
   ]
  },
  {
   "cell_type": "code",
   "execution_count": null,
   "id": "6bebf7b6",
   "metadata": {},
   "outputs": [],
   "source": [
    "np.array(0) / np.array(0)"
   ]
  },
  {
   "cell_type": "code",
   "execution_count": null,
   "id": "6df279c0",
   "metadata": {},
   "outputs": [],
   "source": [
    "np.array(0) // np.array(0)"
   ]
  },
  {
   "cell_type": "code",
   "execution_count": null,
   "id": "ddb568ce",
   "metadata": {},
   "outputs": [],
   "source": [
    "np.array([np.nan]).astype(int)"
   ]
  },
  {
   "cell_type": "code",
   "execution_count": null,
   "id": "9a97f25b",
   "metadata": {},
   "outputs": [],
   "source": [
    "np.array([np.nan]).astype(int).astype(float)"
   ]
  },
  {
   "cell_type": "code",
   "execution_count": null,
   "id": "13e1ca5d",
   "metadata": {},
   "outputs": [],
   "source": [
    "np.array([np.nan]).astype(float)"
   ]
  },
  {
   "cell_type": "markdown",
   "id": "3442cb00",
   "metadata": {
    "papermill": {
     "duration": 0.062595,
     "end_time": "2022-09-15T16:38:19.281797",
     "exception": false,
     "start_time": "2022-09-15T16:38:19.219202",
     "status": "completed"
    },
    "tags": []
   },
   "source": [
    "#### 16. Округлить массив с плавающей запятой?  "
   ]
  },
  {
   "cell_type": "code",
   "execution_count": null,
   "id": "bac2b500",
   "metadata": {},
   "outputs": [],
   "source": [
    "a = np.random.random((5, 5))\n",
    "print(a)\n",
    "a = np.round(a).astype(int)\n",
    "print(a)"
   ]
  },
  {
   "cell_type": "markdown",
   "id": "1fc36dae",
   "metadata": {
    "papermill": {
     "duration": 0.062128,
     "end_time": "2022-09-15T16:38:20.082401",
     "exception": false,
     "start_time": "2022-09-15T16:38:20.020273",
     "status": "completed"
    },
    "tags": []
   },
   "source": [
    "#### 17. Как найти общие значения между двумя массивами"
   ]
  },
  {
   "cell_type": "code",
   "execution_count": null,
   "id": "9ca77cb4",
   "metadata": {},
   "outputs": [],
   "source": [
    "a = np.arange(1, 10).reshape((3, 3))\n",
    "b = np.arange(5, 14).reshape((3, 3))\n",
    "print(a)\n",
    "print(b)\n",
    "print(a[np.isin(a, b)])"
   ]
  },
  {
   "cell_type": "markdown",
   "id": "67a4e986",
   "metadata": {
    "papermill": {
     "duration": 0.057023,
     "end_time": "2022-09-15T16:38:21.109679",
     "exception": false,
     "start_time": "2022-09-15T16:38:21.052656",
     "status": "completed"
    },
    "tags": []
   },
   "source": [
    "#### 18. Как вычислить корень из отрицательного числа?"
   ]
  },
  {
   "cell_type": "code",
   "execution_count": null,
   "id": "323060f5",
   "metadata": {},
   "outputs": [],
   "source": [
    "print(np.emath.sqrt(-1))"
   ]
  },
  {
   "cell_type": "markdown",
   "id": "bc10fe34",
   "metadata": {
    "papermill": {
     "duration": 0.065131,
     "end_time": "2022-09-15T16:38:24.254618",
     "exception": false,
     "start_time": "2022-09-15T16:38:24.189487",
     "status": "completed"
    },
    "tags": []
   },
   "source": [
    "#### 19. Создайте случайный вектор размером 10 и отсортируйте его"
   ]
  },
  {
   "cell_type": "code",
   "execution_count": null,
   "id": "71857c15",
   "metadata": {},
   "outputs": [],
   "source": [
    "a = np.random.random(10)\n",
    "a.sort()\n",
    "print(a)"
   ]
  },
  {
   "cell_type": "markdown",
   "id": "314eb539",
   "metadata": {},
   "source": [
    "#### 20. Создайте случайную матрицу размером 10 на 10 найдите максимуму по строкам и столбцам по отдельности"
   ]
  },
  {
   "cell_type": "code",
   "execution_count": null,
   "id": "e30e6a9e",
   "metadata": {},
   "outputs": [],
   "source": [
    "a = np.random.random((10, 10))\n",
    "print(a.max(axis=1))\n",
    "print(a.max(axis=0))"
   ]
  },
  {
   "cell_type": "markdown",
   "id": "1849a054",
   "metadata": {
    "papermill": {
     "duration": 0.062598,
     "end_time": "2022-09-15T16:38:25.329247",
     "exception": false,
     "start_time": "2022-09-15T16:38:25.266649",
     "status": "completed"
    },
    "tags": []
   },
   "source": [
    "#### 21. Рассмотрим два случайных массива A и B, проверьте, равны ли они"
   ]
  },
  {
   "cell_type": "code",
   "execution_count": null,
   "id": "2bdf9c3a",
   "metadata": {},
   "outputs": [],
   "source": [
    "a = np.random.random((5, 5))\n",
    "b = np.random.random((5, 5))\n",
    "print(np.array_equal(a, b))"
   ]
  },
  {
   "cell_type": "markdown",
   "id": "2121ea40",
   "metadata": {
    "papermill": {
     "duration": 0.064483,
     "end_time": "2022-09-15T16:38:26.989349",
     "exception": false,
     "start_time": "2022-09-15T16:38:26.924866",
     "status": "completed"
    },
    "tags": []
   },
   "source": [
    "#### 22. Создайте случайный вектор размером 10 и замените все максимальные значения на 0"
   ]
  },
  {
   "cell_type": "code",
   "execution_count": null,
   "id": "2a658b64",
   "metadata": {},
   "outputs": [],
   "source": [
    "a = np.random.random(10)\n",
    "a[a == a.max()] = 0\n",
    "print(a)"
   ]
  },
  {
   "cell_type": "markdown",
   "id": "3d199270",
   "metadata": {},
   "source": [
    "#### 23. Создайте случайный вектор размером 10 и найдите индексы всех минимальных элементов"
   ]
  },
  {
   "cell_type": "code",
   "execution_count": null,
   "id": "bbbd5a62",
   "metadata": {},
   "outputs": [],
   "source": [
    "a = np.random.random(10)\n",
    "print(a)\n",
    "print(np.where(a == a.min())[0])"
   ]
  },
  {
   "cell_type": "markdown",
   "id": "dca28dd8",
   "metadata": {
    "papermill": {
     "duration": 0.065539,
     "end_time": "2022-09-15T16:38:27.836181",
     "exception": false,
     "start_time": "2022-09-15T16:38:27.770642",
     "status": "completed"
    },
    "tags": []
   },
   "source": [
    "#### 24.Для двух массивов, X и Y, построить матрицу Коши C (Cij = 1 / (xi - yj))"
   ]
  },
  {
   "cell_type": "code",
   "execution_count": null,
   "id": "7263f28c",
   "metadata": {},
   "outputs": [],
   "source": [
    "x = np.random.random((5, 5))\n",
    "y = np.random.random((5, 5))\n",
    "c = 1 / (x - y)\n",
    "print(c)"
   ]
  },
  {
   "cell_type": "markdown",
   "id": "358e3a09",
   "metadata": {
    "papermill": {
     "duration": 0.063438,
     "end_time": "2022-09-15T16:38:29.177555",
     "exception": false,
     "start_time": "2022-09-15T16:38:29.114117",
     "status": "completed"
    },
    "tags": []
   },
   "source": [
    "#### 25. Как найти ближайшее значение (к заданному(числу)) в векторе?"
   ]
  },
  {
   "cell_type": "code",
   "execution_count": null,
   "id": "b0789999",
   "metadata": {},
   "outputs": [],
   "source": [
    "a = np.random.random(10)\n",
    "print(a)\n",
    "print(a[np.argmin(np.abs(a - 1))])"
   ]
  },
  {
   "cell_type": "markdown",
   "id": "2a474627",
   "metadata": {
    "papermill": {
     "duration": 0.064416,
     "end_time": "2022-09-15T16:38:32.893327",
     "exception": false,
     "start_time": "2022-09-15T16:38:32.828911",
     "status": "completed"
    },
    "tags": []
   },
   "source": [
    "#### 26. Вычтите среднее значение каждой строки матрицы.  Необходимо вычислить среднее значение каждой строки матрицы и вычесть его из элементов соответствующей строки  "
   ]
  },
  {
   "cell_type": "code",
   "execution_count": null,
   "id": "58f11f35",
   "metadata": {},
   "outputs": [],
   "source": [
    "a = np.random.random((10, 10))\n",
    "print(a - a.mean(axis=1).reshape(10, 1))"
   ]
  },
  {
   "cell_type": "markdown",
   "id": "2decc138",
   "metadata": {
    "papermill": {
     "duration": 0.066238,
     "end_time": "2022-09-15T16:38:33.291432",
     "exception": false,
     "start_time": "2022-09-15T16:38:33.225194",
     "status": "completed"
    },
    "tags": []
   },
   "source": [
    "#### 27. Отсортировать двумерную матрицу по n-му столбцу?"
   ]
  },
  {
   "cell_type": "code",
   "execution_count": null,
   "id": "8ebf47d7",
   "metadata": {},
   "outputs": [],
   "source": [
    "a = np.random.random((4, 4))\n",
    "print(a)\n",
    "a = a[np.argsort(a[:, 2])]\n",
    "print(a)"
   ]
  },
  {
   "cell_type": "markdown",
   "id": "6a150590",
   "metadata": {
    "papermill": {
     "duration": 0.065672,
     "end_time": "2022-09-15T16:38:33.691626",
     "exception": false,
     "start_time": "2022-09-15T16:38:33.625954",
     "status": "completed"
    },
    "tags": []
   },
   "source": [
    "#### 28. Определить, есть ли в данной двумерной матрицы нулевые столбцы? Как найти индексы нулевых столбцов в матрице?"
   ]
  },
  {
   "cell_type": "code",
   "execution_count": null,
   "id": "f4dadcd6",
   "metadata": {},
   "outputs": [],
   "source": [
    "a = np.array([[0, 0, 1],\n",
    "              [0, 0, 1]])\n",
    "print(np.where(np.all(a == 0, axis=0))[0])"
   ]
  },
  {
   "cell_type": "markdown",
   "id": "fb5deb0f",
   "metadata": {
    "papermill": {
     "duration": 0.068197,
     "end_time": "2022-09-15T16:41:10.140912",
     "exception": false,
     "start_time": "2022-09-15T16:41:10.072715",
     "status": "completed"
    },
    "tags": []
   },
   "source": [
    "#### 29. Как найти наиболее часто встречающееся значение в массиве"
   ]
  },
  {
   "cell_type": "code",
   "execution_count": null,
   "id": "334d181d",
   "metadata": {},
   "outputs": [],
   "source": [
    "a = np.array([[1, 2, 3],\n",
    "              [1, 2, 2]])\n",
    "u, c = np.unique(a, return_counts=True)\n",
    "print(u[np.argmax(c)])"
   ]
  }
 ],
 "metadata": {
  "kernelspec": {
   "display_name": "stats",
   "language": "python",
   "name": "python3"
  },
  "language_info": {
   "codemirror_mode": {
    "name": "ipython",
    "version": 3
   },
   "file_extension": ".py",
   "mimetype": "text/x-python",
   "name": "python",
   "nbconvert_exporter": "python",
   "pygments_lexer": "ipython3",
   "version": "3.12.9"
  },
  "papermill": {
   "default_parameters": {},
   "duration": 384.550018,
   "end_time": "2022-09-15T16:44:22.530415",
   "environment_variables": {},
   "exception": null,
   "input_path": "__notebook__.ipynb",
   "output_path": "__notebook__.ipynb",
   "parameters": {},
   "start_time": "2022-09-15T16:37:57.980397",
   "version": "2.3.4"
  }
 },
 "nbformat": 4,
 "nbformat_minor": 5
}
